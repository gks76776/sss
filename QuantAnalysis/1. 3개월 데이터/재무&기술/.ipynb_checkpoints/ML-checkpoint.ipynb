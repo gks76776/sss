{
 "cells": [
  {
   "cell_type": "code",
   "execution_count": 1,
   "metadata": {},
   "outputs": [],
   "source": [
    "import pandas as pd\n",
    "import numpy as np\n",
    "import seaborn as sns\n",
    "import matplotlib.pyplot as plt"
   ]
  },
  {
   "cell_type": "code",
   "execution_count": 2,
   "metadata": {},
   "outputs": [],
   "source": [
    "import matplotlib.pyplot as plt\n",
    "import seaborn as sns\n",
    "import platform\n",
    "from matplotlib import font_manager, rc\n",
    "\n",
    "plt.rcParams['axes.unicode_minus'] = False\n",
    "if platform.system() == 'Darwin':    # 맥\n",
    "    rc( 'font', family='AppleGothic' )\n",
    "elif platform.system() == 'Windows': # 윈도우\n",
    "    fontPath = 'c:/Windows/Fonts/malgun.ttf'\n",
    "    fontName = font_manager.FontProperties( fname=fontPath ).get_name()\n",
    "    rc( 'font', family=fontName )\n",
    "else:\n",
    "    print('알수없는 시스템. 미적용')\n",
    "    \n",
    "pd.set_option('display.expand_frame_repr', False)\n",
    "import warnings\n",
    "warnings.filterwarnings(action='ignore')"
   ]
  },
  {
   "cell_type": "code",
   "execution_count": 3,
   "metadata": {},
   "outputs": [],
   "source": [
    "kospi_200_items = pd.read_excel('./null_deleted_dataset.xlsx')"
   ]
  },
  {
   "cell_type": "code",
   "execution_count": 4,
   "metadata": {},
   "outputs": [],
   "source": [
    "def data_sp(data):\n",
    "    com_name_set = list(set(data.Name))\n",
    "    \n",
    "    ## 18년도 3,6월 이전 이후로 나누기\n",
    "    train_set = pd.DataFrame()\n",
    "    test_set = pd.DataFrame()\n",
    "    for i in range(len(com_name_set)):\n",
    "        sub_set = data[ data.Name == com_name_set[i]]\n",
    "        train_set = train_set.append(sub_set[:-3])\n",
    "        test_set = test_set.append(sub_set[-3:])\n",
    "    return train_set , test_set"
   ]
  },
  {
   "cell_type": "code",
   "execution_count": 5,
   "metadata": {},
   "outputs": [],
   "source": [
    "train,test = data_sp(kospi_200_items)"
   ]
  },
  {
   "cell_type": "code",
   "execution_count": 6,
   "metadata": {},
   "outputs": [
    {
     "name": "stdout",
     "output_type": "stream",
     "text": [
      "(1331, 34) (444, 34)\n"
     ]
    }
   ],
   "source": [
    "print(train.shape,test.shape)"
   ]
  },
  {
   "cell_type": "code",
   "execution_count": 7,
   "metadata": {
    "scrolled": true
   },
   "outputs": [
    {
     "data": {
      "text/plain": [
       "Index(['부채비율(%)', '매출액증가율(전년동기)(%)', '매출총이익증가율(전년동기)(%)', '영업이익증가율(전년동기)(%)',\n",
       "       '당기순이익증가율(전년동기)(%)', '총포괄이익증가율(전년동기)(%)', 'EBITDA증가율(전년동기)(%)',\n",
       "       '총자산증가율(전년동기)(%)', '총부채증가율(전년동기)(%)', '총자본증가율(전년동기)(%)',\n",
       "       'EPS증가율(전년동기)(%)', 'BPS증가율(전년동기)(%)', 'ROA(총포괄이익)(%)', 'ROE(당기순이익)(%)',\n",
       "       '총자산회전율(회)', '현금및현금성자산구성비율(%)', '차입부채/EBITDA(배)', 'EBITDA(천원)',\n",
       "       'CFPS(원)', 'P/EBITDAPS(배)', '변동성 (20일)', '거래량 (20일 평균)(주)',\n",
       "       '외국인보유비중(보통+우선)(%)', '공매도거래량 (20일)(주)', '순매수수량(개인)(20일합산)(주)',\n",
       "       '순매수수량(기관계)(20일합산)(주)', '순매수수량(외국인계)(20일합산)(주)', 'PER(IFRS-연결)',\n",
       "       'PBR(IFRS-연결)', 'PSR(IFRS-연결)', 'Name', '수익률 (3개월)(%)', '3개월 수익률(4)',\n",
       "       '3개월 수익률(2)'],\n",
       "      dtype='object')"
      ]
     },
     "execution_count": 7,
     "metadata": {},
     "output_type": "execute_result"
    }
   ],
   "source": [
    "kospi_200_items.columns"
   ]
  },
  {
   "cell_type": "code",
   "execution_count": 8,
   "metadata": {},
   "outputs": [],
   "source": [
    "cols = ['부채비율(%)', '매출액증가율(전년동기)(%)', '매출총이익증가율(전년동기)(%)', '영업이익증가율(전년동기)(%)',\n",
    "       '당기순이익증가율(전년동기)(%)', '총포괄이익증가율(전년동기)(%)', 'EBITDA증가율(전년동기)(%)',\n",
    "       '총자산증가율(전년동기)(%)', '총부채증가율(전년동기)(%)', '총자본증가율(전년동기)(%)',\n",
    "       'EPS증가율(전년동기)(%)', 'BPS증가율(전년동기)(%)', 'ROA(총포괄이익)(%)', 'ROE(당기순이익)(%)',\n",
    "       '총자산회전율(회)', '현금및현금성자산구성비율(%)', '차입부채/EBITDA(배)', 'EBITDA(천원)',\n",
    "       'CFPS(원)', 'P/EBITDAPS(배)', '변동성 (20일)', '거래량 (20일 평균)(주)',\n",
    "       '외국인보유비중(보통+우선)(%)', '공매도거래량 (20일)(주)', '순매수수량(개인)(20일합산)(주)',\n",
    "       '순매수수량(기관계)(20일합산)(주)', '순매수수량(외국인계)(20일합산)(주)', 'PER(IFRS-연결)',\n",
    "       'PBR(IFRS-연결)', 'PSR(IFRS-연결)']"
   ]
  },
  {
   "cell_type": "code",
   "execution_count": 72,
   "metadata": {},
   "outputs": [],
   "source": [
    "cols = ['부채비율(%)', '매출액증가율(전년동기)(%)', '매출총이익증가율(전년동기)(%)', '영업이익증가율(전년동기)(%)',\n",
    "       '당기순이익증가율(전년동기)(%)', '총포괄이익증가율(전년동기)(%)', 'EBITDA증가율(전년동기)(%)',\n",
    "       '총자산증가율(전년동기)(%)', '총부채증가율(전년동기)(%)', '총자본증가율(전년동기)(%)',\n",
    "       'EPS증가율(전년동기)(%)', 'BPS증가율(전년동기)(%)', 'ROA(총포괄이익)(%)', 'ROE(당기순이익)(%)',\n",
    "       '총자산회전율(회)', '현금및현금성자산구성비율(%)', '차입부채/EBITDA(배)', 'EBITDA(천원)',\n",
    "       'CFPS(원)', 'P/EBITDAPS(배)']"
   ]
  },
  {
   "cell_type": "code",
   "execution_count": 9,
   "metadata": {},
   "outputs": [],
   "source": [
    "## train test를 X,Y 나누기\n",
    "X_train = train[cols]\n",
    "\n",
    "X_test = test[cols]\n",
    "\n",
    "Y_train = train['3개월 수익률(4)']\n",
    "Y_test = test['3개월 수익률(4)']"
   ]
  },
  {
   "cell_type": "markdown",
   "metadata": {},
   "source": [
    " Modeling"
   ]
  },
  {
   "cell_type": "code",
   "execution_count": 10,
   "metadata": {},
   "outputs": [],
   "source": [
    "from sklearn.ensemble import RandomForestClassifier, AdaBoostClassifier, GradientBoostingClassifier, ExtraTreesClassifier, VotingClassifier\n",
    "from sklearn.discriminant_analysis import LinearDiscriminantAnalysis\n",
    "from sklearn.linear_model import LogisticRegression\n",
    "from sklearn.neighbors import KNeighborsClassifier\n",
    "from sklearn.tree import DecisionTreeClassifier\n",
    "from sklearn.neural_network import MLPClassifier\n",
    "from sklearn.svm import SVC\n",
    "from sklearn.model_selection import GridSearchCV, cross_val_score, StratifiedKFold, learning_curve\n",
    "from sklearn.naive_bayes import GaussianNB\n",
    "from sklearn import metrics"
   ]
  },
  {
   "cell_type": "code",
   "execution_count": 38,
   "metadata": {
    "scrolled": true
   },
   "outputs": [
    {
     "data": {
      "image/png": "[encoded data removed]",
      "text/plain": [
       "<Figure size 432x288 with 1 Axes>"
      ]
     },
     "metadata": {},
     "output_type": "display_data"
    }
   ],
   "source": [
    "# Modeling step Test differents algorithms \n",
    "random_state = 2\n",
    "classifiers = []\n",
    "classifiers.append(SVC(random_state=random_state))\n",
    "classifiers.append(DecisionTreeClassifier(random_state=random_state))\n",
    "classifiers.append(AdaBoostClassifier(DecisionTreeClassifier(random_state=random_state),random_state=random_state,learning_rate=0.1))\n",
    "classifiers.append(RandomForestClassifier(random_state=random_state))\n",
    "classifiers.append(ExtraTreesClassifier(random_state=random_state))\n",
    "classifiers.append(GradientBoostingClassifier(random_state=random_state))\n",
    "classifiers.append(MLPClassifier(random_state=random_state))\n",
    "classifiers.append(KNeighborsClassifier())\n",
    "classifiers.append(LogisticRegression(random_state = random_state))\n",
    "classifiers.append(LinearDiscriminantAnalysis())\n",
    "classifiers.append(GaussianNB())\n",
    "\n",
    "cv_results = []\n",
    "for classifier in classifiers :\n",
    "    cv_results.append(cross_val_score(classifier, X_train, y = Y_train, scoring = \"accuracy\", cv = kfold, n_jobs=4))\n",
    "\n",
    "cv_means = []\n",
    "cv_std = []\n",
    "for cv_result in cv_results:\n",
    "    cv_means.append(cv_result.mean())\n",
    "    cv_std.append(cv_result.std())\n",
    "\n",
    "cv_res = pd.DataFrame({\"CrossValMeans\":cv_means,\"CrossValerrors\": cv_std,\"Algorithm\":[\"SVC\",\"DecisionTree\",\"AdaBoost\",\n",
    "\"RandomForest\",\"ExtraTrees\",\"GradientBoosting\",\"MultipleLayerPerceptron\",\"KNeighboors\",\"LogisticRegression\",\"LinearDiscriminantAnalysis\",'GaussianNB']})\n",
    "\n",
    "g = sns.barplot(\"CrossValMeans\",\"Algorithm\",data = cv_res, palette=\"Set3\",orient = \"h\",**{'xerr':cv_std})\n",
    "g.set_xlabel(\"Mean Accuracy\")\n",
    "g = g.set_title(\"Cross validation scores\")\n"
   ]
  },
  {
   "cell_type": "code",
   "execution_count": 39,
   "metadata": {},
   "outputs": [
    {
     "name": "stdout",
     "output_type": "stream",
     "text": [
      "The accuracy for ensembled model is: 0.5698198198198198\n",
      "The cross validated score is 0.5131798867126395\n"
     ]
    }
   ],
   "source": [
    "from sklearn.ensemble import VotingClassifier\n",
    "ensemble_lin_rbf=VotingClassifier(estimators=[('LR',LogisticRegression(C=0.05)),\n",
    "                                              ('RFor',RandomForestClassifier(n_estimators=2000,random_state=0)),\n",
    "                                              ('ExtC',ExtraTreesClassifier()),\n",
    "                                              ('LDA', LinearDiscriminantAnalysis()),\n",
    "                                              ('GBC',GradientBoostingClassifier())], \n",
    "                       voting='soft').fit(X_train,Y_train)\n",
    "print('The accuracy for ensembled model is:',ensemble_lin_rbf.score(X_test,Y_test))\n",
    "cross=cross_val_score(ensemble_lin_rbf,X_train,Y_train, cv = 3 ,scoring = \"accuracy\")\n",
    "print('The cross validated score is',cross.mean())"
   ]
  },
  {
   "cell_type": "markdown",
   "metadata": {},
   "source": [
    "개선의 여지 x"
   ]
  }
 ],
 "metadata": {
  "kernelspec": {
   "display_name": "Python 3",
   "language": "python",
   "name": "python3"
  },
  "language_info": {
   "codemirror_mode": {
    "name": "ipython",
    "version": 3
   },
   "file_extension": ".py",
   "mimetype": "text/x-python",
   "name": "python",
   "nbconvert_exporter": "python",
   "pygments_lexer": "ipython3",
   "version": "3.7.1"
  }
 },
 "nbformat": 4,
 "nbformat_minor": 2
}
