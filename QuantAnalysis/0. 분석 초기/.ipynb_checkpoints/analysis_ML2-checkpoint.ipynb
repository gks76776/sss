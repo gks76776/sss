{
 "cells": [
  {
   "cell_type": "code",
   "execution_count": 2,
   "metadata": {},
   "outputs": [],
   "source": [
    "import pandas as pd\n",
    "import numpy as np\n",
    "import matplotlib.pyplot as plt\n",
    "import seaborn as sns\n",
    "%matplotlib inline\n",
    "\n",
    "from collections import Counter\n",
    "\n",
    "from sklearn.ensemble import RandomForestClassifier, AdaBoostClassifier, GradientBoostingClassifier, ExtraTreesClassifier, VotingClassifier\n",
    "from sklearn.discriminant_analysis import LinearDiscriminantAnalysis\n",
    "from sklearn.linear_model import LogisticRegression\n",
    "from sklearn.neighbors import KNeighborsClassifier\n",
    "from sklearn.tree import DecisionTreeClassifier\n",
    "from sklearn.neural_network import MLPClassifier\n",
    "from sklearn.svm import SVC\n",
    "from sklearn.model_selection import GridSearchCV, cross_val_score, StratifiedKFold, learning_curve\n",
    "\n",
    "sns.set(style='white', context='notebook', palette='deep')"
   ]
  },
  {
   "cell_type": "code",
   "execution_count": 3,
   "metadata": {},
   "outputs": [],
   "source": [
    "data = pd.read_excel('./data/dataset.xlsx')\n",
    "kospi_200_items1 = data.dropna(axis=0)\n",
    "\n",
    "kospi_200_items = pd.DataFrame()\n",
    "for i in ['우리은행','기업은행','KB금융','하나금융지주','신한지주','BNK금융지주']:\n",
    "    a = pd.DataFrame(kospi_200_items1[kospi_200_items1.Name == i])\n",
    "    kospi_200_items = kospi_200_items.append(a)"
   ]
  },
  {
   "cell_type": "code",
   "execution_count": 4,
   "metadata": {},
   "outputs": [],
   "source": [
    "col = kospi_200_items.columns"
   ]
  },
  {
   "cell_type": "code",
   "execution_count": 5,
   "metadata": {},
   "outputs": [],
   "source": [
    "def data_sp(data):\n",
    "    com_name_set = list(set(data.Name))\n",
    "    \n",
    "    ## 18년도 3,6월 이전 이후로 나누기\n",
    "    train_set = pd.DataFrame()\n",
    "    test_set = pd.DataFrame()\n",
    "    for i in range(len(com_name_set)):\n",
    "        sub_set = data[ data.Name == com_name_set[i]]\n",
    "        train_set = train_set.append(sub_set[:-2])\n",
    "        test_set = test_set.append(sub_set[-2:])\n",
    "    return train_set , test_set"
   ]
  },
  {
   "cell_type": "code",
   "execution_count": 6,
   "metadata": {},
   "outputs": [],
   "source": [
    "train,test = data_sp(kospi_200_items)"
   ]
  },
  {
   "cell_type": "code",
   "execution_count": 8,
   "metadata": {},
   "outputs": [],
   "source": [
    "## train test를 X,Y 나누기\n",
    "X_train = train[['부채비율(%)','매출액증가율(전년동기)(%)', '매출액증가율(전분기)(%)',\n",
    "       '당기순이익증가율(전년동기)(%)', '당기순이익증가율(전분기)(%)',\n",
    "       '총포괄이익증가율(전년동기)(%)', 'EBITDA증가율(전년동기)(%)',\n",
    "       'EBITDA증가율(전분기)(%)', '총자산증가율(전년동기)(%)', '총자산증가율(전분기)(%)',\n",
    "       '총자본증가율(전년동기)(%)','총자본증가율(전분기)(%)',\n",
    "       'BPS증가율(전년동기)(%)', 'BPS증가율(전분기)(%)', 'ROA(총포괄이익)(%)', \n",
    "       '총자산회전율(회)', '현금및현금성자산구성비율(%)',\n",
    "       '차입부채/EBITDA(배)', '변동성 (20일)', '거래량 (20일 평균)(주)', '외국인보유비중(티커)(%)',\n",
    "       '공매도거래량 (20일)(주)', '순매수수량(개인)(20일합산)(주)', '순매수수량(기관계)(20일합산)(주)',\n",
    "       '순매수수량(외국인계)(20일합산)(주)', 'PER(IFRS-연결)', 'PSR(IFRS-연결)', 'PBR(IFRS-연결)',\n",
    "       '수익률 (1개월)(%)']]\n",
    "\n",
    "X_test = test[['부채비율(%)','매출액증가율(전년동기)(%)', '매출액증가율(전분기)(%)',\n",
    "       '당기순이익증가율(전년동기)(%)', '당기순이익증가율(전분기)(%)',\n",
    "       '총포괄이익증가율(전년동기)(%)', 'EBITDA증가율(전년동기)(%)',\n",
    "       'EBITDA증가율(전분기)(%)', '총자산증가율(전년동기)(%)', '총자산증가율(전분기)(%)',\n",
    "       '총자본증가율(전년동기)(%)','총자본증가율(전분기)(%)',\n",
    "       'BPS증가율(전년동기)(%)', 'BPS증가율(전분기)(%)', 'ROA(총포괄이익)(%)', \n",
    "       '총자산회전율(회)', '현금및현금성자산구성비율(%)',\n",
    "       '차입부채/EBITDA(배)', '변동성 (20일)', '거래량 (20일 평균)(주)', '외국인보유비중(티커)(%)',\n",
    "       '공매도거래량 (20일)(주)', '순매수수량(개인)(20일합산)(주)', '순매수수량(기관계)(20일합산)(주)',\n",
    "       '순매수수량(외국인계)(20일합산)(주)', 'PER(IFRS-연결)', 'PSR(IFRS-연결)', 'PBR(IFRS-연결)',\n",
    "       '수익률 (1개월)(%)']]\n",
    "\n",
    "Y_train = train['수익률 (3개월)(%)']\n",
    "Y_test = test['수익률 (3개월)(%)']"
   ]
  },
  {
   "cell_type": "markdown",
   "metadata": {},
   "source": [
    "6.1 Simple modeling"
   ]
  },
  {
   "cell_type": "code",
   "execution_count": 9,
   "metadata": {},
   "outputs": [],
   "source": [
    "# Cross validate model with Kfold stratified cross val\n",
    "kfold = StratifiedKFold(n_splits=10)"
   ]
  },
  {
   "cell_type": "code",
   "execution_count": 10,
   "metadata": {},
   "outputs": [
    {
     "name": "stderr",
     "output_type": "stream",
     "text": [
      "C:\\ProgramData\\Anaconda3\\lib\\site-packages\\sklearn\\model_selection\\_split.py:626: Warning: The least populated class in y has only 5 members, which is too few. The minimum number of members in any class cannot be less than n_splits=10.\n",
      "  % (min_groups, self.n_splits)), Warning)\n",
      "C:\\ProgramData\\Anaconda3\\lib\\site-packages\\sklearn\\model_selection\\_split.py:626: Warning: The least populated class in y has only 5 members, which is too few. The minimum number of members in any class cannot be less than n_splits=10.\n",
      "  % (min_groups, self.n_splits)), Warning)\n",
      "C:\\ProgramData\\Anaconda3\\lib\\site-packages\\sklearn\\model_selection\\_split.py:626: Warning: The least populated class in y has only 5 members, which is too few. The minimum number of members in any class cannot be less than n_splits=10.\n",
      "  % (min_groups, self.n_splits)), Warning)\n",
      "C:\\ProgramData\\Anaconda3\\lib\\site-packages\\sklearn\\model_selection\\_split.py:626: Warning: The least populated class in y has only 5 members, which is too few. The minimum number of members in any class cannot be less than n_splits=10.\n",
      "  % (min_groups, self.n_splits)), Warning)\n",
      "C:\\ProgramData\\Anaconda3\\lib\\site-packages\\sklearn\\model_selection\\_split.py:626: Warning: The least populated class in y has only 5 members, which is too few. The minimum number of members in any class cannot be less than n_splits=10.\n",
      "  % (min_groups, self.n_splits)), Warning)\n",
      "C:\\ProgramData\\Anaconda3\\lib\\site-packages\\sklearn\\model_selection\\_split.py:626: Warning: The least populated class in y has only 5 members, which is too few. The minimum number of members in any class cannot be less than n_splits=10.\n",
      "  % (min_groups, self.n_splits)), Warning)\n",
      "C:\\ProgramData\\Anaconda3\\lib\\site-packages\\sklearn\\model_selection\\_split.py:626: Warning: The least populated class in y has only 5 members, which is too few. The minimum number of members in any class cannot be less than n_splits=10.\n",
      "  % (min_groups, self.n_splits)), Warning)\n",
      "C:\\ProgramData\\Anaconda3\\lib\\site-packages\\sklearn\\model_selection\\_split.py:626: Warning: The least populated class in y has only 5 members, which is too few. The minimum number of members in any class cannot be less than n_splits=10.\n",
      "  % (min_groups, self.n_splits)), Warning)\n",
      "C:\\ProgramData\\Anaconda3\\lib\\site-packages\\sklearn\\model_selection\\_split.py:626: Warning: The least populated class in y has only 5 members, which is too few. The minimum number of members in any class cannot be less than n_splits=10.\n",
      "  % (min_groups, self.n_splits)), Warning)\n",
      "C:\\ProgramData\\Anaconda3\\lib\\site-packages\\sklearn\\model_selection\\_split.py:626: Warning: The least populated class in y has only 5 members, which is too few. The minimum number of members in any class cannot be less than n_splits=10.\n",
      "  % (min_groups, self.n_splits)), Warning)\n"
     ]
    },
    {
     "data": {
      "image/png": "[encoded data removed]",
      "text/plain": [
       "<Figure size 432x288 with 1 Axes>"
      ]
     },
     "metadata": {},
     "output_type": "display_data"
    }
   ],
   "source": [
    "# Modeling step Test differents algorithms \n",
    "random_state = 2\n",
    "classifiers = []\n",
    "classifiers.append(SVC(random_state=random_state))\n",
    "classifiers.append(DecisionTreeClassifier(random_state=random_state))\n",
    "classifiers.append(AdaBoostClassifier(DecisionTreeClassifier(random_state=random_state),random_state=random_state,learning_rate=0.1))\n",
    "classifiers.append(RandomForestClassifier(random_state=random_state))\n",
    "classifiers.append(ExtraTreesClassifier(random_state=random_state))\n",
    "classifiers.append(GradientBoostingClassifier(random_state=random_state))\n",
    "classifiers.append(MLPClassifier(random_state=random_state))\n",
    "classifiers.append(KNeighborsClassifier())\n",
    "classifiers.append(LogisticRegression(random_state = random_state))\n",
    "classifiers.append(LinearDiscriminantAnalysis())\n",
    "\n",
    "cv_results = []\n",
    "for classifier in classifiers :\n",
    "    cv_results.append(cross_val_score(classifier, X_train, y = Y_train, scoring = \"accuracy\", cv = kfold, n_jobs=4))\n",
    "\n",
    "cv_means = []\n",
    "cv_std = []\n",
    "for cv_result in cv_results:\n",
    "    cv_means.append(cv_result.mean())\n",
    "    cv_std.append(cv_result.std())\n",
    "\n",
    "cv_res = pd.DataFrame({\"CrossValMeans\":cv_means,\"CrossValerrors\": cv_std,\"Algorithm\":[\"SVC\",\"DecisionTree\",\"AdaBoost\",\n",
    "\"RandomForest\",\"ExtraTrees\",\"GradientBoosting\",\"MultipleLayerPerceptron\",\"KNeighboors\",\"LogisticRegression\",\"LinearDiscriminantAnalysis\"]})\n",
    "\n",
    "g = sns.barplot(\"CrossValMeans\",\"Algorithm\",data = cv_res, palette=\"Set3\",orient = \"h\",**{'xerr':cv_std})\n",
    "g.set_xlabel(\"Mean Accuracy\")\n",
    "g = g.set_title(\"Cross validation scores\")"
   ]
  },
  {
   "cell_type": "code",
   "execution_count": 11,
   "metadata": {},
   "outputs": [
    {
     "name": "stdout",
     "output_type": "stream",
     "text": [
      "Fitting 10 folds for each of 112 candidates, totalling 1120 fits\n"
     ]
    },
    {
     "name": "stderr",
     "output_type": "stream",
     "text": [
      "C:\\ProgramData\\Anaconda3\\lib\\site-packages\\sklearn\\model_selection\\_split.py:626: Warning: The least populated class in y has only 5 members, which is too few. The minimum number of members in any class cannot be less than n_splits=10.\n",
      "  % (min_groups, self.n_splits)), Warning)\n",
      "[Parallel(n_jobs=4)]: Using backend LokyBackend with 4 concurrent workers.\n",
      "[Parallel(n_jobs=4)]: Done 1120 out of 1120 | elapsed:    1.4s finished\n",
      "C:\\ProgramData\\Anaconda3\\lib\\site-packages\\sklearn\\model_selection\\_search.py:841: DeprecationWarning: The default of the `iid` parameter will change from True to False in version 0.22 and will be removed in 0.24. This will change numeric results when test-set sizes are unequal.\n",
      "  DeprecationWarning)\n"
     ]
    }
   ],
   "source": [
    "### META MODELING  WITH ADABOOST, RF, EXTRATREES and GRADIENTBOOSTING\n",
    "\n",
    "# Adaboost\n",
    "DTC = DecisionTreeClassifier()\n",
    "\n",
    "adaDTC = AdaBoostClassifier(DTC, random_state=7)\n",
    "\n",
    "ada_param_grid = {\"base_estimator__criterion\" : [\"gini\", \"entropy\"],\n",
    "              \"base_estimator__splitter\" :   [\"best\", \"random\"],\n",
    "              \"algorithm\" : [\"SAMME\",\"SAMME.R\"],\n",
    "              \"n_estimators\" :[1,2],\n",
    "              \"learning_rate\":  [0.0001, 0.001, 0.01, 0.1, 0.2, 0.3,1.5]}\n",
    "\n",
    "gsadaDTC = GridSearchCV(adaDTC,param_grid = ada_param_grid, cv=kfold, scoring=\"accuracy\", n_jobs= 4, verbose = 1)\n",
    "\n",
    "gsadaDTC.fit(X_train,Y_train)\n",
    "\n",
    "ada_best = gsadaDTC.best_estimator_"
   ]
  },
  {
   "cell_type": "code",
   "execution_count": 12,
   "metadata": {},
   "outputs": [
    {
     "data": {
      "text/plain": [
       "0.3684210526315789"
      ]
     },
     "execution_count": 12,
     "metadata": {},
     "output_type": "execute_result"
    }
   ],
   "source": [
    "gsadaDTC.best_score_\n"
   ]
  },
  {
   "cell_type": "code",
   "execution_count": null,
   "metadata": {},
   "outputs": [
    {
     "name": "stdout",
     "output_type": "stream",
     "text": [
      "Fitting 10 folds for each of 5760 candidates, totalling 57600 fits\n"
     ]
    },
    {
     "name": "stderr",
     "output_type": "stream",
     "text": [
      "C:\\ProgramData\\Anaconda3\\lib\\site-packages\\sklearn\\model_selection\\_split.py:626: Warning: The least populated class in y has only 5 members, which is too few. The minimum number of members in any class cannot be less than n_splits=10.\n",
      "  % (min_groups, self.n_splits)), Warning)\n",
      "[Parallel(n_jobs=4)]: Using backend LokyBackend with 4 concurrent workers.\n",
      "[Parallel(n_jobs=4)]: Done  42 tasks      | elapsed:   36.4s\n",
      "[Parallel(n_jobs=4)]: Done 192 tasks      | elapsed:  2.3min\n",
      "[Parallel(n_jobs=4)]: Done 442 tasks      | elapsed:  5.1min\n",
      "[Parallel(n_jobs=4)]: Done 792 tasks      | elapsed:  9.0min\n",
      "[Parallel(n_jobs=4)]: Done 1242 tasks      | elapsed: 14.1min\n",
      "[Parallel(n_jobs=4)]: Done 1792 tasks      | elapsed: 20.3min\n",
      "[Parallel(n_jobs=4)]: Done 2442 tasks      | elapsed: 27.7min\n",
      "[Parallel(n_jobs=4)]: Done 3192 tasks      | elapsed: 36.3min\n",
      "[Parallel(n_jobs=4)]: Done 4042 tasks      | elapsed: 46.1min\n",
      "[Parallel(n_jobs=4)]: Done 4992 tasks      | elapsed: 56.7min\n",
      "[Parallel(n_jobs=4)]: Done 6042 tasks      | elapsed: 68.7min\n",
      "[Parallel(n_jobs=4)]: Done 7192 tasks      | elapsed: 80.9min\n",
      "[Parallel(n_jobs=4)]: Done 8442 tasks      | elapsed: 92.5min\n",
      "[Parallel(n_jobs=4)]: Done 9792 tasks      | elapsed: 104.2min\n",
      "[Parallel(n_jobs=4)]: Done 11242 tasks      | elapsed: 116.4min\n",
      "[Parallel(n_jobs=4)]: Done 12792 tasks      | elapsed: 130.1min\n"
     ]
    }
   ],
   "source": [
    "#ExtraTrees \n",
    "ExtC = ExtraTreesClassifier()\n",
    "\n",
    "\n",
    "## Search grid for optimal parameters\n",
    "ex_param_grid = {\"max_depth\": [10,11,12,13,14,15],\n",
    "              \"max_features\": list(range(20))[5:],\n",
    "              \"min_samples_split\": list(range(10))[2:],\n",
    "              \"min_samples_leaf\": [2,3,4,5,6,7,8,10],\n",
    "              \"bootstrap\": [False],\n",
    "              \"n_estimators\" :[1000],\n",
    "              \"criterion\": [\"gini\"]}\n",
    "\n",
    "\n",
    "gsExtC = GridSearchCV(ExtC,param_grid = ex_param_grid, cv=kfold, scoring=\"accuracy\", n_jobs= 4, verbose = 1)\n",
    "\n",
    "gsExtC.fit(X_train,Y_train)\n",
    "\n",
    "ExtC_best = gsExtC.best_estimator_\n",
    "\n",
    "# Best score\n",
    "gsExtC.best_score_"
   ]
  }
 ],
 "metadata": {
  "kernelspec": {
   "display_name": "Python 3",
   "language": "python",
   "name": "python3"
  },
  "language_info": {
   "codemirror_mode": {
    "name": "ipython",
    "version": 3
   },
   "file_extension": ".py",
   "mimetype": "text/x-python",
   "name": "python",
   "nbconvert_exporter": "python",
   "pygments_lexer": "ipython3",
   "version": "3.7.1"
  }
 },
 "nbformat": 4,
 "nbformat_minor": 2
}
