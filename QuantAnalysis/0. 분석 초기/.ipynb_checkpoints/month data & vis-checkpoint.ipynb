{
 "cells": [
  {
   "cell_type": "code",
   "execution_count": null,
   "metadata": {},
   "outputs": [],
   "source": [
    "import pandas as pd\n",
    "import numpy as np\n",
    "from sklearn.preprocessing import scale\n",
    "from sklearn.preprocessing import RobustScaler"
   ]
  },
  {
   "cell_type": "code",
   "execution_count": null,
   "metadata": {},
   "outputs": [],
   "source": [
    "data = pd.read_excel('./data/fin_tech_1개월.xlsx')"
   ]
  },
  {
   "cell_type": "code",
   "execution_count": null,
   "metadata": {},
   "outputs": [],
   "source": [
    "# 회사별로 reshape  20\n",
    "def reshape_fin_dataset(data):\n",
    "    ##  쓸데없는 칼럼 제거\n",
    "    company_name = list((data.iloc[8]))\n",
    "    col_name = list(data.iloc[11])\n",
    "    data = data.iloc[13:-1]\n",
    "    data.columns = col_name\n",
    "    col_num = len(list(set(col_name)))\n",
    "    \n",
    "    # 더미 데이터셋 생성\n",
    "    sets = pd.DataFrame()    \n",
    "    for i in range(len(set(company_name))):\n",
    "        ## 회사 별로 뽑아오기\n",
    "        sub_dataset = data.iloc[:,i*col_num : (i+1)*col_num]\n",
    "        sub_dataset['Name'] = company_name[i*col_num]\n",
    "        sets = sets.append(sub_dataset)\n",
    "    return sets"
   ]
  },
  {
   "cell_type": "code",
   "execution_count": null,
   "metadata": {},
   "outputs": [],
   "source": [
    "re_data = reshape_fin_dataset(data)"
   ]
  },
  {
   "cell_type": "code",
   "execution_count": null,
   "metadata": {},
   "outputs": [],
   "source": [
    "re_data.columns"
   ]
  },
  {
   "cell_type": "code",
   "execution_count": null,
   "metadata": {},
   "outputs": [],
   "source": [
    "for i in re_data.columns:\n",
    "    print(i , \"  \", re_data[i].isna().sum())"
   ]
  },
  {
   "cell_type": "code",
   "execution_count": null,
   "metadata": {},
   "outputs": [],
   "source": [
    "def scaling_data(sub_set):\n",
    "    scaled_data = pd.DataFrame()\n",
    "\n",
    "    sub_set = sub_set.iloc[1:]\n",
    "    sub_set_y = sub_set.index\n",
    "    \n",
    "    scale_col = ['변동성 (20일)', '거래량 (20일 평균)(주)', '외국인보유비중(보통+우선)(%)', '공매도거래량 (20일)(주)',\n",
    "       '순매수수량(개인)(20일합산)(주)', '순매수수량(기관계)(20일합산)(주)', '순매수수량(외국인계)(20일합산)(주)',\n",
    "       'PER(IFRS-연결)', 'PBR(IFRS-연결)', 'PSR(IFRS-연결)','부채비율(%)', '매출액증가율(전년동기)(%)',\n",
    "       '매출총이익증가율(전년동기)(%)', '영업이익증가율(전년동기)(%)','당기순이익증가율(전년동기)(%)',\n",
    "       '총포괄이익증가율(전년동기)(%)','EBITDA증가율(전년동기)(%)', '총자산증가율(전년동기)(%)','총부채증가율(전년동기)(%)',\n",
    "       '총자본증가율(전년동기)(%)','EPS증가율(전년동기)(%)','BPS증가율(전년동기)(%)', 'ROA(총포괄이익)(%)',\n",
    "       'ROE(당기순이익)(%)','총자산회전율(회)','현금및현금성자산구성비율(%)']\n",
    "    \n",
    "    unscale_col = ['Name','수익률 (1개월)(%)']\n",
    "    \n",
    "    sub_set_x = sub_set[scale_col]\n",
    "    sub_set_no = sub_set[unscale_col]\n",
    "    \n",
    "    robust = RobustScaler()\n",
    "    ## 스케일 부분\n",
    "    \n",
    "    scaled_sub_set_x = pd.DataFrame(scale(sub_set_x),index = sub_set_y ,columns = scale_col)\n",
    "    x = pd.concat([scaled_sub_set_x,sub_set_no],axis = 1)\n",
    "    \n",
    "    return x"
   ]
  },
  {
   "cell_type": "code",
   "execution_count": null,
   "metadata": {},
   "outputs": [],
   "source": [
    "def making_rate_of_change(data,col):\n",
    "    # 변화율 칼럼 삽입 / 기존 칼럼 삭제*********************************************************************\n",
    "    for colname in col:\n",
    "        \n",
    "        # 변화율 백터 생성\n",
    "        a = data[colname]\n",
    "        g = list(a.pct_change())\n",
    "\n",
    "        ## 분보가 - 일때 방향성이 달라져서 -1 곱하기\n",
    "        for i in list(range(len(a)))[:-1]:\n",
    "            if list(a)[i] < 0:\n",
    "                g[i+1] = g[i+1] * (-1)\n",
    "                \n",
    "            elif list(a)[i] == 0:\n",
    "                g[i+1] = np.nan\n",
    "                    \n",
    "        data[colname] = g\n",
    "        \n",
    "    return data[1:]"
   ]
  },
  {
   "cell_type": "code",
   "execution_count": null,
   "metadata": {},
   "outputs": [],
   "source": [
    "def making_rate_of_change_fin(data,col):\n",
    "    # 변화율 칼럼 삽입 / 기존 칼럼 삭제*********************************************************************\n",
    "    for colname in col:\n",
    "        \n",
    "        # 변화율 백터 생성\n",
    "        a = data[colname]\n",
    "        g = list(a.pct_change())\n",
    "\n",
    "        ## 분보가 - 일때 방향성이 달라져서 -1 곱하기\n",
    "        for i in list(range(len(a)))[:-1]:\n",
    "            if list(a)[i] < 0:\n",
    "                g[i+1] = g[i+1] * (-1)\n",
    "                \n",
    "            elif list(a)[i] == 0:\n",
    "                g[i+1] = np.nan\n",
    "                    \n",
    "        data[colname] = g\n",
    "        \n",
    "    return data[1:]"
   ]
  },
  {
   "cell_type": "code",
   "execution_count": null,
   "metadata": {},
   "outputs": [],
   "source": [
    "def making_Data_set(data):\n",
    "    com_name = list(set(data.Name))\n",
    "    dummy = pd.DataFrame([np.nan])\n",
    "    dataset = pd.DataFrame()\n",
    "    \n",
    "    for i in com_name:\n",
    "        sub_data = data[data.Name == i]\n",
    "        sub_revenue = sub_data['수익률 (1개월)(%)'][1:]\n",
    "        sub_revenue = sub_revenue.append(dummy)\n",
    "        sub_revenue.index =  sub_data.index\n",
    "        \n",
    "        sub_data['수익률 (1개월)(%)'] = sub_revenue\n",
    "        \n",
    "         #거래정지구분에서 null 값있는 row 제거(상장 전 기간 제거)\n",
    "        sub_data_notNan = sub_data['거래정지구분'].dropna()\n",
    "        sub_data = sub_data.loc[sub_data_notNan.index]\n",
    "\n",
    "        # 거래정지 로우 & 칼럼 제거\n",
    "        sub_data = sub_data[sub_data['거래정지구분'] !='거래정지']\n",
    "        sub_data.drop(['거래정지구분'],inplace=True,axis=1)\n",
    "        \n",
    "        ## 수익률 없는 칼럼 삭제\n",
    "        sub_data = sub_data[sub_data['수익률 (1개월)(%)'].isna() == False]\n",
    "        \n",
    "        # per, psr, pbr => null은 칼럼 평균으로 대체 \n",
    "        sub_data['PER(IFRS-연결)'].fillna(sub_data['PER(IFRS-연결)'].mean(),inplace = True)\n",
    "        sub_data['PSR(IFRS-연결)'].fillna(sub_data['PSR(IFRS-연결)'].mean(),inplace = True)\n",
    "        sub_data['PBR(IFRS-연결)'].fillna(sub_data['PBR(IFRS-연결)'].mean(),inplace = True)\n",
    "        \n",
    "        # 수익률 칼럼 데이터 타입 변경\n",
    "        for i in ['변동성 (20일)', '거래량 (20일 평균)(주)', '외국인보유비중(보통+우선)(%)', '공매도거래량 (20일)(주)',\n",
    "           '순매수수량(개인)(20일합산)(주)', '순매수수량(기관계)(20일합산)(주)', '순매수수량(외국인계)(20일합산)(주)',\n",
    "           'PER(IFRS-연결)', 'PBR(IFRS-연결)', 'PSR(IFRS-연결)','수익률 (1개월)(%)',\n",
    "           '부채비율(%)', '매출액증가율(전년동기)(%)','매출총이익증가율(전년동기)(%)', '영업이익증가율(전년동기)(%)',\n",
    "           '당기순이익증가율(전년동기)(%)','총포괄이익증가율(전년동기)(%)','EBITDA증가율(전년동기)(%)', '총자산증가율(전년동기)(%)',\n",
    "           '총부채증가율(전년동기)(%)','총자본증가율(전년동기)(%)','EPS증가율(전년동기)(%)',\n",
    "           'BPS증가율(전년동기)(%)', 'ROA(총포괄이익)(%)', 'ROE(당기순이익)(%)','총자산회전율(회)','현금및현금성자산구성비율(%)']:\n",
    "            sub_data[i] = sub_data[i].astype('float64')\n",
    "        \n",
    "        # 변화율로 만들기\n",
    "        sub_data = making_rate_of_change(sub_data,['변동성 (20일)','외국인보유비중(보통+우선)(%)','PER(IFRS-연결)', 'PBR(IFRS-연결)',\n",
    "                 'PSR(IFRS-연결)','부채비율(%)','ROA(총포괄이익)(%)', 'ROE(당기순이익)(%)','총자산회전율(회)','현금및현금성자산구성비율(%)'])\n",
    "        \n",
    "        # 표준정규화\n",
    "        sub_data = scaling_data(sub_data)\n",
    "        \n",
    "        dataset = dataset.append(sub_data)\n",
    "        \n",
    "    dataset = dataset[dataset['수익률 (1개월)(%)'] < 60]\n",
    "    dataset = dataset[dataset['수익률 (1개월)(%)'] > -60 ]\n",
    "    \n",
    "    final_dataset = dataset[['변동성 (20일)', '거래량 (20일 평균)(주)', '외국인보유비중(보통+우선)(%)', '공매도거래량 (20일)(주)',\n",
    "       '순매수수량(개인)(20일합산)(주)', '순매수수량(기관계)(20일합산)(주)', '순매수수량(외국인계)(20일합산)(주)',\n",
    "       'PER(IFRS-연결)', 'PBR(IFRS-연결)', 'PSR(IFRS-연결)','부채비율(%)', '매출액증가율(전년동기)(%)',\n",
    "       '매출총이익증가율(전년동기)(%)', '영업이익증가율(전년동기)(%)','당기순이익증가율(전년동기)(%)',\n",
    "       '총포괄이익증가율(전년동기)(%)','EBITDA증가율(전년동기)(%)', '총자산증가율(전년동기)(%)','총부채증가율(전년동기)(%)',\n",
    "       '총자본증가율(전년동기)(%)','EPS증가율(전년동기)(%)','BPS증가율(전년동기)(%)', 'ROA(총포괄이익)(%)',\n",
    "       'ROE(당기순이익)(%)','총자산회전율(회)','현금및현금성자산구성비율(%)','수익률 (1개월)(%)','Name']]\n",
    "    \n",
    "    ## 결측치 있는 행 삭제\n",
    "    final_dataset.dropna(axis=0,inplace=True)\n",
    "        \n",
    "    return final_dataset\n"
   ]
  },
  {
   "cell_type": "code",
   "execution_count": null,
   "metadata": {},
   "outputs": [],
   "source": [
    "data2 = making_Data_set(re_data)"
   ]
  },
  {
   "cell_type": "code",
   "execution_count": null,
   "metadata": {
    "scrolled": true
   },
   "outputs": [],
   "source": [
    "for i in data2.columns:\n",
    "    print(i , \"  \", data2[i].isna().sum())"
   ]
  },
  {
   "cell_type": "code",
   "execution_count": null,
   "metadata": {},
   "outputs": [],
   "source": [
    "import matplotlib.pyplot as plt\n",
    "import seaborn as sns\n",
    "import platform\n",
    "from matplotlib import font_manager, rc\n",
    "\n",
    "plt.rcParams['axes.unicode_minus'] = False\n",
    "if platform.system() == 'Darwin':    # 맥\n",
    "    rc( 'font', family='AppleGothic' )\n",
    "elif platform.system() == 'Windows': # 윈도우\n",
    "    fontPath = 'c:/Windows/Fonts/malgun.ttf'\n",
    "    fontName = font_manager.FontProperties( fname=fontPath ).get_name()\n",
    "    rc( 'font', family=fontName )\n",
    "else:\n",
    "    print('알수없는 시스템. 미적용')\n",
    "    \n",
    "pd.set_option('display.expand_frame_repr', False)\n",
    "import warnings\n",
    "warnings.filterwarnings(action='ignore')"
   ]
  },
  {
   "cell_type": "code",
   "execution_count": null,
   "metadata": {},
   "outputs": [],
   "source": [
    "cols = ['변동성 (20일)', '거래량 (20일 평균)(주)', '외국인보유비중(보통+우선)(%)', '공매도거래량 (20일)(주)',\n",
    "       '순매수수량(개인)(20일합산)(주)', '순매수수량(기관계)(20일합산)(주)', '순매수수량(외국인계)(20일합산)(주)',\n",
    "       'PER(IFRS-연결)', 'PBR(IFRS-연결)', 'PSR(IFRS-연결)','부채비율(%)', '매출액증가율(전년동기)(%)',\n",
    "       '매출총이익증가율(전년동기)(%)', '영업이익증가율(전년동기)(%)','당기순이익증가율(전년동기)(%)',\n",
    "       '총포괄이익증가율(전년동기)(%)','EBITDA증가율(전년동기)(%)', '총자산증가율(전년동기)(%)','총부채증가율(전년동기)(%)',\n",
    "       '총자본증가율(전년동기)(%)','EPS증가율(전년동기)(%)','BPS증가율(전년동기)(%)', 'ROA(총포괄이익)(%)',\n",
    "       'ROE(당기순이익)(%)','총자산회전율(회)','현금및현금성자산구성비율(%)']\n",
    "revenue = data2['수익률 (1개월)(%)']"
   ]
  },
  {
   "cell_type": "code",
   "execution_count": null,
   "metadata": {
    "scrolled": true
   },
   "outputs": [],
   "source": [
    "sns.kdeplot(revenue)\n",
    "plt.show()"
   ]
  },
  {
   "cell_type": "code",
   "execution_count": null,
   "metadata": {},
   "outputs": [],
   "source": [
    "com_name = list(set(data2.Name))"
   ]
  },
  {
   "cell_type": "code",
   "execution_count": null,
   "metadata": {},
   "outputs": [],
   "source": [
    "len(data2.columns)"
   ]
  },
  {
   "cell_type": "code",
   "execution_count": null,
   "metadata": {
    "scrolled": false
   },
   "outputs": [],
   "source": [
    "for k in range(len(com_name))[:10]:\n",
    "    com = com_name[k]\n",
    "    print('******************** {} *******************************************'.format(com))\n",
    "    for i in cols:\n",
    "        plt.scatter(x = data2[data2.Name == com][i], y = data2[data2.Name == com]['수익률 (1개월)(%)'])\n",
    "        plt.title(i)\n",
    "        plt.show()"
   ]
  },
  {
   "cell_type": "code",
   "execution_count": null,
   "metadata": {},
   "outputs": [],
   "source": []
  }
 ],
 "metadata": {
  "kernelspec": {
   "display_name": "Python 3",
   "language": "python",
   "name": "python3"
  },
  "language_info": {
   "codemirror_mode": {
    "name": "ipython",
    "version": 3
   },
   "file_extension": ".py",
   "mimetype": "text/x-python",
   "name": "python",
   "nbconvert_exporter": "python",
   "pygments_lexer": "ipython3",
   "version": "3.7.1"
  }
 },
 "nbformat": 4,
 "nbformat_minor": 2
}
