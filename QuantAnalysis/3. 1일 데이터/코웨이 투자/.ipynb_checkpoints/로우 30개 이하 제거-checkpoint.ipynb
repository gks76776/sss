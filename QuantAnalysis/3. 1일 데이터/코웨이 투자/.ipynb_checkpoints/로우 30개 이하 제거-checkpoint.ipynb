{
 "cells": [
  {
   "cell_type": "code",
   "execution_count": 1,
   "metadata": {},
   "outputs": [],
   "source": [
    "import pandas as pd\n",
    "import numpy as np\n",
    "import seaborn as sns\n",
    "import matplotlib.pyplot as plt"
   ]
  },
  {
   "cell_type": "code",
   "execution_count": 2,
   "metadata": {},
   "outputs": [],
   "source": [
    "import matplotlib.pyplot as plt\n",
    "import platform\n",
    "from matplotlib import font_manager, rc\n",
    "\n",
    "plt.rcParams['axes.unicode_minus'] = False\n",
    "if platform.system() == 'Darwin':    # 맥\n",
    "    rc( 'font', family='AppleGothic' )\n",
    "elif platform.system() == 'Windows': # 윈도우\n",
    "    fontPath = 'c:/Windows/Fonts/malgun.ttf'\n",
    "    fontName = font_manager.FontProperties( fname=fontPath ).get_name()\n",
    "    rc( 'font', family=fontName )\n",
    "else:\n",
    "    print('알수없는 시스템. 미적용')\n",
    "    \n",
    "pd.set_option('display.expand_frame_repr', False)\n",
    "import warnings\n",
    "warnings.filterwarnings(action='ignore')"
   ]
  },
  {
   "cell_type": "code",
   "execution_count": 3,
   "metadata": {},
   "outputs": [],
   "source": [
    "non_out_kospi_200_items = pd.read_excel('./non_out_data.xlsx')"
   ]
  },
  {
   "cell_type": "code",
   "execution_count": 4,
   "metadata": {},
   "outputs": [],
   "source": [
    "def data_sp(data):\n",
    "    com_name_set = list(set(data.Name))\n",
    "    \n",
    "    ## 18년도 3,6월 이전 이후로 나누기\n",
    "    train_set = pd.DataFrame()\n",
    "    test_set = pd.DataFrame()\n",
    "    for i in range(len(com_name_set)):\n",
    "        sub_set = data[ data.Name == com_name_set[i]]\n",
    "        train_set = train_set.append(sub_set[:-3])\n",
    "        test_set = test_set.append(sub_set[-3:])\n",
    "    return train_set , test_set"
   ]
  },
  {
   "cell_type": "code",
   "execution_count": 5,
   "metadata": {},
   "outputs": [],
   "source": [
    "ls = []\n",
    "for i in list(set(non_out_kospi_200_items.Name)):\n",
    "    if len(kospi_200_items[kospi_200_items.Name == i]) < 50:\n",
    "        ls.append(i)\n",
    "        \n",
    "        "
   ]
  },
  {
   "cell_type": "code",
   "execution_count": 6,
   "metadata": {},
   "outputs": [],
   "source": [
    "for i in ls:\n",
    "    non_out_kospi_200_items2 = non_out_kospi_200_items[non_out_kospi_200_items.Name != i]"
   ]
  },
  {
   "cell_type": "code",
   "execution_count": 7,
   "metadata": {},
   "outputs": [],
   "source": [
    "train,test = data_sp(non_out_kospi_200_items2)"
   ]
  },
  {
   "cell_type": "code",
   "execution_count": 8,
   "metadata": {},
   "outputs": [
    {
     "name": "stdout",
     "output_type": "stream",
     "text": [
      "(8776, 19) (537, 19)\n"
     ]
    }
   ],
   "source": [
    "print(train.shape,test.shape)"
   ]
  },
  {
   "cell_type": "code",
   "execution_count": 9,
   "metadata": {},
   "outputs": [],
   "source": [
    "cols = ['변동성 (20일)', '거래량 (20일 평균)(주)', '외국인보유비중(보통+우선)(%)', '공매도거래량 (20일)(주)',\n",
    "       '순매수수량(개인)(20일합산)(주)', '순매수수량(기관계)(20일합산)(주)', '순매수수량(외국인계)(20일합산)(주)',\n",
    "       'PER(IFRS-연결)', 'PBR(IFRS-연결)', 'PSR(IFRS-연결)', '변동성 (20일)변화율','외국인보유비중(보통+우선)(%)변화율',\n",
    "        'PER(IFRS-연결)변화율', 'PBR(IFRS-연결)변화율','PSR(IFRS-연결)변화율']"
   ]
  },
  {
   "cell_type": "code",
   "execution_count": 11,
   "metadata": {},
   "outputs": [],
   "source": [
    "## train test를 X,Y 나누기\n",
    "X_train = train[cols]\n",
    "\n",
    "X_test = test[cols]\n",
    "\n",
    "Y_train = train['1개월 수익률(2)']\n",
    "Y_test = test['1개월 수익률(2)']"
   ]
  },
  {
   "cell_type": "code",
   "execution_count": null,
   "metadata": {},
   "outputs": [],
   "source": []
  },
  {
   "cell_type": "code",
   "execution_count": null,
   "metadata": {},
   "outputs": [],
   "source": []
  },
  {
   "cell_type": "code",
   "execution_count": null,
   "metadata": {},
   "outputs": [],
   "source": []
  },
  {
   "cell_type": "code",
   "execution_count": null,
   "metadata": {},
   "outputs": [],
   "source": []
  },
  {
   "cell_type": "code",
   "execution_count": null,
   "metadata": {},
   "outputs": [],
   "source": []
  },
  {
   "cell_type": "code",
   "execution_count": null,
   "metadata": {},
   "outputs": [],
   "source": []
  },
  {
   "cell_type": "code",
   "execution_count": null,
   "metadata": {},
   "outputs": [],
   "source": []
  },
  {
   "cell_type": "code",
   "execution_count": null,
   "metadata": {},
   "outputs": [],
   "source": []
  }
 ],
 "metadata": {
  "kernelspec": {
   "display_name": "Python 3",
   "language": "python",
   "name": "python3"
  },
  "language_info": {
   "codemirror_mode": {
    "name": "ipython",
    "version": 3
   },
   "file_extension": ".py",
   "mimetype": "text/x-python",
   "name": "python",
   "nbconvert_exporter": "python",
   "pygments_lexer": "ipython3",
   "version": "3.6.5"
  }
 },
 "nbformat": 4,
 "nbformat_minor": 2
}
