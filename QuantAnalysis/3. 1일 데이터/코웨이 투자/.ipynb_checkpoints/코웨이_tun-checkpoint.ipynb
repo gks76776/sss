{
 "cells": [
  {
   "cell_type": "code",
   "execution_count": 1,
   "metadata": {},
   "outputs": [],
   "source": [
    "import pandas as pd\n",
    "import numpy as np\n",
    "import seaborn as sns\n",
    "import matplotlib.pyplot as plt\n",
    "from numpy import loadtxt\n",
    "from xgboost import  XGBClassifier\n",
    "from xgboost import plot_importance\n",
    "import xgboost\n",
    "from sklearn import metrics\n",
    "import matplotlib.pyplot as plt\n",
    "import platform\n",
    "from matplotlib import font_manager, rc\n",
    "\n",
    "plt.rcParams['axes.unicode_minus'] = False\n",
    "if platform.system() == 'Darwin':    # 맥\n",
    "    rc( 'font', family='AppleGothic' )\n",
    "elif platform.system() == 'Windows': # 윈도우\n",
    "    fontPath = 'c:/Windows/Fonts/malgun.ttf'\n",
    "    fontName = font_manager.FontProperties( fname=fontPath ).get_name()\n",
    "    rc( 'font', family=fontName )\n",
    "else:\n",
    "    print('알수없는 시스템. 미적용')\n",
    "    \n",
    "pd.set_option('display.expand_frame_repr', False)\n",
    "import warnings\n",
    "warnings.filterwarnings(action='ignore')"
   ]
  },
  {
   "cell_type": "markdown",
   "metadata": {},
   "source": [
    "# Selection\n"
   ]
  },
  {
   "cell_type": "code",
   "execution_count": 2,
   "metadata": {},
   "outputs": [],
   "source": [
    "final_dataset = pd.read_excel('./true.xlsx')\n",
    "\n",
    "col = ['종가 (5일 평균)(원)_1일변화율',\n",
    "       '변동성 (5일)_1일변화율', '순매수수량(외국인계)(20일합산)(주)_1일변화율', 'PER(IFRS-연결)_1일변화율',\n",
    "       '순매수수량(개인)(20일합산)(주)_1일변화율', '종가 (60일 평균)(원)_1일변화율',\n",
    "       '거래량 (20일 평균)(주)_1일변화율', '순매수수량(외국인계)(60일합산)(주)_1일변화율',\n",
    "       '순매수수량(기관/외국인계)(60일합산)(주)_1일변화율', '순매수수량(외국인계)(주)_1일변화율',\n",
    "       '순매수수량(기관계)(주)_1일변화율', '순매수수량(기관계)(60일합산)(주)_1일변화율',\n",
    "       '순매수수량(개인)(주)_1일변화율', '외국인보유비중(티커)(%)_1일변화율', 'PSR(IFRS-연결)_1일변화율',\n",
    "       '종가 (120일 평균)(원)_1일변화율', '종가 (20일 평균)(원)_1일변화율',\n",
    "       '순매수수량(개인)(60일합산)(주)_1일변화율', '거래량 (60일 평균)(주)_1일변화율',\n",
    "       'PCR(IFRS-연결)_1일변화율', '순매수수량(기관/외국인계)(20일합산)(주)_1일변화율',\n",
    "       '순매수수량(기관계)(20일합산)(주)_1일변화율', '수익률 (1주)(%)_1일변화율', 'PBR(IFRS-연결)_1일변화율',\n",
    "       '거래량 (5일 평균)(주)_1일변화율', '순매수수량(기관/외국인계)(주)_1일변화율',\n",
    "       '종가 (5일 평균)(원)_2일변화율', '변동성 (5일)_2일변화율', '순매수수량(외국인계)(20일합산)(주)_2일변화율',\n",
    "       'PER(IFRS-연결)_2일변화율', '순매수수량(개인)(20일합산)(주)_2일변화율',\n",
    "       '종가 (60일 평균)(원)_2일변화율', '거래량 (20일 평균)(주)_2일변화율',\n",
    "       '순매수수량(외국인계)(60일합산)(주)_2일변화율', '순매수수량(기관/외국인계)(60일합산)(주)_2일변화율',\n",
    "       '순매수수량(외국인계)(주)_2일변화율', '순매수수량(기관계)(주)_2일변화율',\n",
    "       '순매수수량(기관계)(60일합산)(주)_2일변화율', '순매수수량(개인)(주)_2일변화율',\n",
    "       '외국인보유비중(티커)(%)_2일변화율', 'PSR(IFRS-연결)_2일변화율', '종가 (120일 평균)(원)_2일변화율',\n",
    "       '종가 (20일 평균)(원)_2일변화율', '순매수수량(개인)(60일합산)(주)_2일변화율',\n",
    "       '거래량 (60일 평균)(주)_2일변화율', 'PCR(IFRS-연결)_2일변화율',\n",
    "       '순매수수량(기관/외국인계)(20일합산)(주)_2일변화율', '순매수수량(기관계)(20일합산)(주)_2일변화율',\n",
    "       '수익률 (1주)(%)_2일변화율', 'PBR(IFRS-연결)_2일변화율', '거래량 (5일 평균)(주)_2일변화율',\n",
    "       '순매수수량(기관/외국인계)(주)_2일변화율','수익률(%)(2)','Name']\n",
    "data =  final_dataset[col]"
   ]
  },
  {
   "cell_type": "code",
   "execution_count": 99,
   "metadata": {},
   "outputs": [
    {
     "data": {
      "text/plain": [
       "54"
      ]
     },
     "execution_count": 99,
     "metadata": {},
     "output_type": "execute_result"
    }
   ],
   "source": [
    "len(col)"
   ]
  },
  {
   "cell_type": "code",
   "execution_count": 3,
   "metadata": {},
   "outputs": [],
   "source": [
    "def data_sp(data):\n",
    "    com_name_set = list(set(data.Name))\n",
    "    \n",
    "    train_set = pd.DataFrame()\n",
    "    test_set = pd.DataFrame()\n",
    "    \n",
    "    for i in range(len(com_name_set)):\n",
    "        sub_set = data[ data.Name == com_name_set[i]]\n",
    "        train_set = train_set.append(sub_set[:-60])\n",
    "        test_set = test_set.append(sub_set[-60:])\n",
    "    return train_set , test_set"
   ]
  },
  {
   "cell_type": "code",
   "execution_count": 4,
   "metadata": {
    "scrolled": false
   },
   "outputs": [],
   "source": [
    "train, test = data_sp(data)"
   ]
  },
  {
   "cell_type": "code",
   "execution_count": 5,
   "metadata": {},
   "outputs": [
    {
     "name": "stdout",
     "output_type": "stream",
     "text": [
      "(1305, 54) (60, 54)\n"
     ]
    }
   ],
   "source": [
    "print(train.shape,test.shape)"
   ]
  },
  {
   "cell_type": "markdown",
   "metadata": {},
   "source": [
    "### 2진화한 데이터셋 분석\n",
    "## xgboost"
   ]
  },
  {
   "cell_type": "code",
   "execution_count": 105,
   "metadata": {},
   "outputs": [],
   "source": [
    "col = ['변동성 (5일)_1일변화율',\n",
    " '순매수수량(외국인계)(20일합산)(주)_1일변화율',\n",
    " '순매수수량(기관계)(주)_1일변화율',\n",
    " '외국인보유비중(티커)(%)_1일변화율',\n",
    " '종가 (120일 평균)(원)_1일변화율',\n",
    " '거래량 (60일 평균)(주)_1일변화율',\n",
    " '순매수수량(기관/외국인계)(20일합산)(주)_1일변화율',\n",
    " '거래량 (5일 평균)(주)_1일변화율',\n",
    " '변동성 (5일)_2일변화율',\n",
    " '순매수수량(개인)(20일합산)(주)_2일변화율',\n",
    " '종가 (60일 평균)(원)_2일변화율',\n",
    " '거래량 (20일 평균)(주)_2일변화율',\n",
    " '순매수수량(외국인계)(60일합산)(주)_2일변화율',\n",
    " '외국인보유비중(티커)(%)_2일변화율',\n",
    " '순매수수량(개인)(60일합산)(주)_2일변화율',\n",
    " '순매수수량(기관계)(20일합산)(주)_2일변화율',\n",
    " '수익률 (1주)(%)_2일변화율',\n",
    " '순매수수량(기관/외국인계)(주)_2일변화율']\n",
    "X_train = train[col]\n",
    "X_test = test[col]\n",
    "\n",
    "Y_train = train['수익률(%)(2)']\n",
    "Y_test = test['수익률(%)(2)']"
   ]
  },
  {
   "cell_type": "code",
   "execution_count": 11,
   "metadata": {},
   "outputs": [],
   "source": [
    "from sklearn import metrics"
   ]
  },
  {
   "cell_type": "code",
   "execution_count": 12,
   "metadata": {},
   "outputs": [],
   "source": [
    "backtestdata = pd.read_excel('./act.xlsx')"
   ]
  },
  {
   "cell_type": "code",
   "execution_count": 81,
   "metadata": {},
   "outputs": [
    {
     "name": "stdout",
     "output_type": "stream",
     "text": [
      "4\n",
      "5\n"
     ]
    }
   ],
   "source": [
    "acc = []\n",
    "pre= []\n",
    "param = []\n",
    "for i in [4,5]:\n",
    "    print(i)\n",
    "    for b in [0.01,0.05, 0.1]:\n",
    "        for c in [0,1,2]:\n",
    "            for d in [1,2,3]:\n",
    "                for f in [0.8,0.9,1]:\n",
    "                    for g in [1500, 5000]:\n",
    "                        model = XGBClassifier(max_depth=i, \n",
    "                                              learning_rate=b,\n",
    "                                              n_estimators = g,\n",
    "                                              gamma = c,\n",
    "                                              min_child_weight=d,\n",
    "                                              colsample_bytree= f,\n",
    "                                              n_jobs=-1)\n",
    "\n",
    "                        model.fit(X_train ,Y_train)\n",
    "                        a = model.predict(X_test)\n",
    "                        t = metrics.confusion_matrix(Y_test,a)\n",
    "\n",
    "                        acc3.append(metrics.accuracy_score(a,Y_test))\n",
    "                        pre3.append(t[1,1]/t[:,1].sum())\n",
    "                        param3.append(model)\n",
    "\n",
    "result = pd.concat([pd.DataFrame(acc),pd.DataFrame(pre),pd.DataFrame(param)],axis=1)\n",
    "result.columns = ['acc','pre','paremeter']"
   ]
  },
  {
   "cell_type": "code",
   "execution_count": 88,
   "metadata": {},
   "outputs": [],
   "source": [
    "result.to_excel('./tuning_result1111.xlsx',encoding = 'utf-8')"
   ]
  },
  {
   "cell_type": "markdown",
   "metadata": {},
   "source": [
    "## Back testing"
   ]
  },
  {
   "cell_type": "code",
   "execution_count": 22,
   "metadata": {},
   "outputs": [],
   "source": [
    "backtestdata = pd.read_excel('./act.xlsx')"
   ]
  },
  {
   "cell_type": "code",
   "execution_count": 107,
   "metadata": {},
   "outputs": [
    {
     "name": "stdout",
     "output_type": "stream",
     "text": [
      "val: 0.73333, acc: 0.65217, pre:0.66667 \n",
      " [[ 5  5]\n",
      " [ 3 10]]\n"
     ]
    }
   ],
   "source": [
    "## keep\n",
    "X_train = train[col]\n",
    "X_test = test[col]\n",
    "X_backtestdata = backtestdata[col]\n",
    "\n",
    "Y_train = train['수익률(%)(2)']\n",
    "Y_test = test['수익률(%)(2)']\n",
    "Y_backtestdata = backtestdata['수익률(%)(2)']\n",
    "\n",
    "model =XGBClassifier(base_score=0.5, booster='gbtree', colsample_bylevel=1,\n",
    "       colsample_bytree=0.8, gamma=1, learning_rate=0.01, max_delta_step=0,\n",
    "       max_depth=5, min_child_weight=2, missing=None, n_estimators=5000,\n",
    "       n_jobs=-1, nthread=None, objective='binary:logistic',\n",
    "       random_state=0, reg_alpha=0, reg_lambda=1, scale_pos_weight=1,\n",
    "       seed=None, silent=True, subsample=1)\n",
    "\n",
    "model.fit(X_train[col] ,Y_train)\n",
    "a = model.predict(X_test[col])\n",
    "b = model.predict(X_backtestdata[col])\n",
    "t = metrics.confusion_matrix(Y_backtestdata,b)\n",
    "print('val: {x:.5}, acc: {y:.5}, pre:{g:.5}'.format(x = metrics.accuracy_score(a,Y_test), y = metrics.accuracy_score(b,Y_backtestdata),\n",
    "                                                     g = t[1,1]/t[:,1].sum() ),'\\n', metrics.confusion_matrix(Y_backtestdata,b))"
   ]
  },
  {
   "cell_type": "code",
   "execution_count": 108,
   "metadata": {},
   "outputs": [
    {
     "data": {
      "text/plain": [
       "array([1, 1, 0, 1, 0, 1, 1, 0, 1, 1, 1, 0, 1, 1, 1, 0, 0, 1, 1, 0, 0, 1,\n",
       "       1], dtype=int64)"
      ]
     },
     "execution_count": 108,
     "metadata": {},
     "output_type": "execute_result"
    }
   ],
   "source": [
    "b"
   ]
  },
  {
   "cell_type": "code",
   "execution_count": 127,
   "metadata": {},
   "outputs": [
    {
     "data": {
      "text/plain": [
       "array([ 0.67,  2.94, -0.  ,  0.67,  0.  , -1.05,  1.99,  0.  , -0.65,\n",
       "       -0.26,  2.63,  0.  ,  1.01, -0.25,  3.14, -0.  , -0.  ,  3.11,\n",
       "        0.24,  0.  , -0.  , -0.84,  1.45])"
      ]
     },
     "execution_count": 127,
     "metadata": {},
     "output_type": "execute_result"
    }
   ],
   "source": [
    "np.array(backtestdata['수익률(%)']*b)"
   ]
  },
  {
   "cell_type": "code",
   "execution_count": 129,
   "metadata": {},
   "outputs": [
    {
     "data": {
      "text/plain": [
       "array([1.0067, 1.0294, 1.    , 1.0067, 1.    , 0.9895, 1.0199, 1.    ,\n",
       "       0.9935, 0.9974, 1.0263, 1.    , 1.0101, 0.9975, 1.0314, 1.    ,\n",
       "       1.    , 1.0311, 1.0024, 1.    , 1.    , 0.9916, 1.0145])"
      ]
     },
     "execution_count": 129,
     "metadata": {},
     "output_type": "execute_result"
    }
   ],
   "source": [
    "(np.array(backtestdata['수익률(%)']*b)+100)/100"
   ]
  },
  {
   "cell_type": "code",
   "execution_count": 138,
   "metadata": {},
   "outputs": [],
   "source": [
    "tt = np.array(backtestdata['수익률(%)']*b)\n"
   ]
  },
  {
   "cell_type": "code",
   "execution_count": 142,
   "metadata": {},
   "outputs": [],
   "source": [
    "ttt = (tt/100)+1"
   ]
  },
  {
   "cell_type": "code",
   "execution_count": 143,
   "metadata": {},
   "outputs": [],
   "source": [
    "tttt = ttt[ttt!=1]"
   ]
  },
  {
   "cell_type": "code",
   "execution_count": 144,
   "metadata": {},
   "outputs": [
    {
     "data": {
      "text/plain": [
       "array([1.0067, 1.0294, 1.0067, 0.9895, 1.0199, 0.9935, 0.9974, 1.0263,\n",
       "       1.0101, 0.9975, 1.0314, 1.0311, 1.0024, 0.9916, 1.0145])"
      ]
     },
     "execution_count": 144,
     "metadata": {},
     "output_type": "execute_result"
    }
   ],
   "source": [
    "tttt"
   ]
  },
  {
   "cell_type": "code",
   "execution_count": 148,
   "metadata": {},
   "outputs": [
    {
     "data": {
      "text/plain": [
       "1.1569219809709768"
      ]
     },
     "execution_count": 148,
     "metadata": {},
     "output_type": "execute_result"
    }
   ],
   "source": [
    "1.0067 * 1.0294 * 1.0067 * 0.9895 * 1.0199* 0.9935* 0.9974* 1.0263* 1.0101* 0.9975* 1.0314* 1.0311* 1.0024*0.9916*1.0145"
   ]
  },
  {
   "cell_type": "code",
   "execution_count": null,
   "metadata": {},
   "outputs": [],
   "source": []
  },
  {
   "cell_type": "code",
   "execution_count": null,
   "metadata": {},
   "outputs": [],
   "source": []
  }
 ],
 "metadata": {
  "kernelspec": {
   "display_name": "Python 3",
   "language": "python",
   "name": "python3"
  },
  "language_info": {
   "codemirror_mode": {
    "name": "ipython",
    "version": 3
   },
   "file_extension": ".py",
   "mimetype": "text/x-python",
   "name": "python",
   "nbconvert_exporter": "python",
   "pygments_lexer": "ipython3",
   "version": "3.6.5"
  }
 },
 "nbformat": 4,
 "nbformat_minor": 2
}
