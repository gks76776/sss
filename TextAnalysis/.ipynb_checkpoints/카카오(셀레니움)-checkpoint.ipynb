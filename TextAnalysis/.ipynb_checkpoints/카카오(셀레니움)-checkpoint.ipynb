{
 "cells": [
  {
   "cell_type": "code",
   "execution_count": 11,
   "metadata": {},
   "outputs": [],
   "source": [
    "### 고민해봐야할 사항\n",
    "# 로그인하여서 최근 기록을 바탕으로 가져오는게 빠를것인가\n",
    "# 코드를 돌려가면서 검색하는게 나을것인가 -> 다른 크롤러와 함께 실행시킨다면 이쪽이 맞는 방안\n",
    "# 카카오스탁은 페이지 로딩속도가 느린편에 속한다. -> 타임슬립을 자주 넣어주어야 한다.\n",
    "# 댓글 내용을 가져오기 위해서는 첫번째 글에 댓글표시 버튼을 눌러 해당 글로 화면이 전환되어야 한다.\n",
    "# 네이버 크롤링과 비슷한 원리로 작동시킨다.\n",
    "# rngdrngd@dreamwiz.com"
   ]
  },
  {
   "cell_type": "code",
   "execution_count": 177,
   "metadata": {},
   "outputs": [],
   "source": [
    "import selenium\n",
    "from selenium import webdriver as wd\n",
    "from urllib.request import urlopen\n",
    "\n",
    "import time\n",
    "from selenium.webdriver.common.by import By\n",
    "# WebDriverWait는 Selenium 2.4.0 이후 부터 사용 가능합니다.\n",
    "from selenium.webdriver.support.ui import WebDriverWait\n",
    "# expected_conditions는 Selenium 2.26.0 이후 부터 사용 가능합니다.\n",
    "from selenium.webdriver.support import expected_conditions as EC\n",
    "from tqdm import tqdm_notebook\n",
    "from datetime import datetime as dt\n",
    "import datetime\n",
    "import pandas as pd"
   ]
  },
  {
   "cell_type": "code",
   "execution_count": 189,
   "metadata": {},
   "outputs": [],
   "source": [
    "def save_csv(idx, jungbo):\n",
    "    if idx % 5000 == 0:         \n",
    "        frame = pd.DataFrame(jungbo)\n",
    "        with open('./kakao.csv', 'a') as f:\n",
    "            frame.to_csv(f, header=False)            \n",
    "        jungbo.clear()"
   ]
  },
  {
   "cell_type": "code",
   "execution_count": 190,
   "metadata": {},
   "outputs": [
    {
     "name": "stderr",
     "output_type": "stream",
     "text": [
      "D:\\anaconda\\lib\\site-packages\\ipykernel_launcher.py:9: DeprecationWarning: use driver.switch_to.window instead\n",
      "  if __name__ == '__main__':\n",
      "D:\\anaconda\\lib\\site-packages\\ipykernel_launcher.py:15: DeprecationWarning: use driver.switch_to.window instead\n",
      "  from ipykernel import kernelapp as app\n"
     ]
    }
   ],
   "source": [
    "driver = wd.Chrome('./data/chromedriver.exe')\n",
    "driver.get( 'http://stock.kakao.com/m' )\n",
    "data = []\n",
    "login=driver.find_element_by_css_selector('body > div:nth-child(1) > div > div:nth-child(1) > footer > div > div.btnB > a:nth-child(1)')\n",
    "if login.text=='로그인':\n",
    "    login.click()\n",
    "time.sleep(1)\n",
    "# alert = driver.switch_to_alert()   \n",
    "driver.switch_to_window(driver.window_handles[1])  #attitude addictive  \n",
    "idea = driver.find_element_by_css_selector('#loginEmail')\n",
    "idea.send_keys('rngdrngd@dreamwiz.com')\n",
    "password = driver.find_element_by_css_selector('#loginPw')\n",
    "password.send_keys('d8cfd8cf')\n",
    "driver.find_element_by_css_selector('#login-form > fieldset > button').click()\n",
    "driver.switch_to_window(driver.window_handles[0])\n",
    "\n",
    "# driver.get( 'https://accounts.kakao.com/login?continue=https://kauth.kakao.com/oauth/authorize?redirect_uri%3Dkakaojs%26response_type%3Dcode%26state%3Da1r1jp91qsrzitx7anvlu%26proxy%3DeasyXDM_Kakao_l9ushw50j0e_provider%26client_id%3D27ee4e26698e2f85d7983bd25de9b0aa' )\n",
    "# idea = driver.find_element_by_css_selector('#loginEmail')\n",
    "# idea.send_keys('wjdrbaus12@naver.com')\n",
    "# password = driver.find_element_by_css_selector('#loginPw')\n",
    "# password.send_keys('wjd4162598')\n",
    "# login_button = driver.find_element_by_css_selector('#login-form > fieldset > button')\n",
    "# login_button.click()\n",
    "\n",
    "\n",
    "\n",
    "# data의 정의는 다시 내려야 하나 여기에서는 목록값을 \n",
    "# 임시 저장하기 위한 리스트로 정의한다.\n",
    "#driver.get('https://accounts.kakao.com/login?continue=https://kauth.kakao.com/oauth/authorize?redirect_uri%3Dkakaojs%26response_type%3Dcode%26state%3D0pbvllhoky62aj8d4nz90b%26proxy%3DeasyXDM_Kakao_uotbea0iu4_provider%26client_id%3D27ee4e26698e2f85d7983bd25de9b0aa')\n",
    "#data = []\n",
    "#wjdrbaus12@naver.com\n",
    "#wjd4162598"
   ]
  },
  {
   "cell_type": "code",
   "execution_count": 191,
   "metadata": {},
   "outputs": [],
   "source": [
    "def collecting(input_date):\n",
    "    stime=time.time()\n",
    "    idx = 0\n",
    "    while True:\n",
    "    # 여기부터 본문 내용 크롤링\n",
    "        date = WebDriverWait(driver, 60).until(EC.presence_of_element_located((By.CSS_SELECTOR, 'body > div:nth-child(1) > div > div:nth-child(1) > main > main > article > div.viewB > div.f_clear > div.nickname > em')))\n",
    "        # 오늘 날짜\n",
    "        if date.text.find('시간')>=0 or date.text.find('분')>=0 or date.text.find('초')>=0:\n",
    "            pass\n",
    "        else:\n",
    "            # 해당 요일을 넘어가면 종료\n",
    "            if (dt.strptime('20'+date.text,\"%Y.%m.%d\").date() - dt.strptime(input_date,\"%Y.%m.%d\").date()).days < 0 :\n",
    "                break           \n",
    "        #본문내용\n",
    "        text = driver.find_element_by_css_selector('body > div:nth-child(1) > div > div:nth-child(1) > main > main > article > div.viewB > p')\n",
    "        try:#답글이 있냐 없냐\n",
    "            reply = driver.find_element_by_class_name('noReply')\n",
    "        except Exception as e:\n",
    "            #답글이 있다.\n",
    "            try:\n",
    "                #댓글작성자\n",
    "                comment_1 = WebDriverWait(driver, 30).until(EC.presence_of_element_located((By.CSS_SELECTOR,'body > div:nth-child(1) > div > div:nth-child(1) > main > main > article > div:nth-child(3) > div:nth-child(2) > ul > li > div')))\n",
    "                #comment_1 = driver.find_element_by_css_selector('body > div:nth-child(1) > div > div:nth-child(1) > main > main > article > div:nth-child(3) > div:nth-child(2) > ul > li > div')        \n",
    "                comment_2 = driver.find_element_by_css_selector('body > div:nth-child(1) > div > div:nth-child(1) > main > main > article > div:nth-child(3) > div:nth-child(2) > ul > li > p')\n",
    "            except Exception as e:\n",
    "                idx+=1\n",
    "                inner_mord = (date.text,text.text,'','')                \n",
    "                data.append(inner_mord)    \n",
    "                save_csv(idx, data)\n",
    "                driver.find_element_by_css_selector('body > div:nth-child(1) > div > div:nth-child(1) > main > main > article > ul > li.ty02 > a > span').click()\n",
    "                continue \n",
    "        #답글이 없다.\n",
    "        else:\n",
    "            mord = (date.text,text.text,'','')\n",
    "            data.append(mord)\n",
    "            idx+=1\n",
    "            save_csv(idx, data)\n",
    "            driver.find_element_by_css_selector('body > div:nth-child(1) > div > div:nth-child(1) > main > main > article > ul > li.ty02 > a > span').click()\n",
    "            \n",
    "            continue\n",
    "        #print('작성일 : %s, 내용 : % s, 댓글작성자 : %s, 댓글내용: %s'%(date.text,text.text,comment_1.text,comment_2.text))\n",
    "        mord = (date.text,text.text,comment_1.text,comment_2.text)\n",
    "        \n",
    "        data.append(mord)    \n",
    "        save_csv(idx, data)\n",
    "        idx+=1\n",
    "        print(idx)\n",
    "        driver.find_element_by_css_selector('body > div:nth-child(1) > div > div:nth-child(1) > main > main > article > ul > li.ty02 > a > span').click()       \n",
    "    \n",
    "    dtime=time.time()\n",
    "    print('걸린시간:',dtime-stime)"
   ]
  },
  {
   "cell_type": "markdown",
   "metadata": {},
   "source": [
    "### 로그인을 시키고 작업을 계속진행해야 합니다."
   ]
  },
  {
   "cell_type": "code",
   "execution_count": 192,
   "metadata": {
    "scrolled": true
   },
   "outputs": [
    {
     "name": "stdout",
     "output_type": "stream",
     "text": [
      "걸린시간: 21.19606852531433\n"
     ]
    }
   ],
   "source": [
    "# 검색창으로 커서를 올리기 위한 명령어\n",
    "elem = driver.find_element_by_class_name(\"maintxt\")\n",
    "# 검색창에 입력한 값이 있을수도 있음으로 클리어처리 한다.\n",
    "elem.clear()\n",
    "# 종목코드를 입력한다. 이부분은 차후 함수에 변수명이 들어갈 자리이다.\n",
    "# 객체화를 시키기 위한 부분은 위에서부터 처리하도록 한다.\n",
    "# 여기에서는 sk 하이닉스(000660)로 사용한다.\n",
    "elem.send_keys(\"000660\")\n",
    "# 검색을 실행한다\n",
    "# elem.submit ()\n",
    "# 동적 페이지이라 submit이 사용되지 않았음..\n",
    "# 클릭방식으로 검색을 실행하기로 한다.\n",
    "WebDriverWait(driver, 30).until(EC.presence_of_element_located((By.CSS_SELECTOR, 'body > div:nth-child(1) > div > div:nth-child(1) > header > div.mainSearch > em > div > button'))).click()\n",
    "#driver.find_element_by_css_selector('body > div:nth-child(1) > div > div:nth-child(1) > header > div.mainSearch > em > div > button').click()\n",
    "# 두번째 클릭이 필요한 화면이 발생 다시한번더 클릭\n",
    "#time.sleep(1)\n",
    "WebDriverWait(driver, 30).until(EC.presence_of_element_located((By.CSS_SELECTOR, 'body > div:nth-child(1) > div > div:nth-child(1) > main > article > div > div.contW01.pb0 > div.myStkB > div > ul > li > a.addFavW'))).click()\n",
    "#driver.find_element_by_css_selector('body > div:nth-child(1) > div > div:nth-child(1) > main > article > div > div.contW01.pb0 > div.myStkB > div > ul > li > a.addFavW').click()\n",
    "# 토론방으로 이동\n",
    "time.sleep(1)\n",
    "WebDriverWait(driver, 30).until(EC.presence_of_element_located((By.CSS_SELECTOR,'body > div:nth-child(1) > div > div:nth-child(1) > header > div:nth-child(4) > div > div > nav > ul > li:nth-child(2) > a'))).click()\n",
    "#driver.find_element_by_css_selector('body > div:nth-child(1) > div > div:nth-child(1) > header > div:nth-child(4) > div > div > nav > ul > li:nth-child(2) > a').click()\n",
    "# 첫번째 글로 이동하기\n",
    "time.sleep(1)\n",
    "WebDriverWait(driver, 30).until(EC.presence_of_element_located((By.CSS_SELECTOR,'body > div:nth-child(1) > div > div:nth-child(1) > main > article > div.discussW > div > ul > span > li:nth-child(1) > ul > li.ty03'))).click()\n",
    "#driver.find_element_by_css_selector('body > div:nth-child(1) > div > div:nth-child(1) > main > article > div.discussW > div > ul > span > li:nth-child(1) > ul > li.ty03').click()\n",
    "collecting('2018.12.05')"
   ]
  },
  {
   "cell_type": "code",
   "execution_count": null,
   "metadata": {},
   "outputs": [],
   "source": [
    "a = [1,2]\n",
    "a.clear()\n",
    "print(a)"
   ]
  },
  {
   "cell_type": "code",
   "execution_count": 159,
   "metadata": {},
   "outputs": [
    {
     "name": "stdout",
     "output_type": "stream",
     "text": [
      "데이터크기: 77\n"
     ]
    }
   ],
   "source": [
    "print('데이터크기:',len(data))"
   ]
  },
  {
   "cell_type": "code",
   "execution_count": 116,
   "metadata": {},
   "outputs": [],
   "source": [
    "\n",
    "    \n",
    "    \n",
    "\n",
    "\n",
    "\n",
    "    "
   ]
  },
  {
   "cell_type": "code",
   "execution_count": null,
   "metadata": {},
   "outputs": [],
   "source": [
    "# import datetime\n",
    "# year = '20'\n",
    "# b1 = '18.10.24'\n",
    "# a = year+b\n",
    "# print(a)\n",
    "# #a = '2018-01-01'\n",
    "# datetime.datetime.strptime(a,\"%Y.%m.%d\").date()\n",
    "# str(datetime.datetime.today().strptime(a,\"%Y.%m.%d\").date())"
   ]
  },
  {
   "cell_type": "code",
   "execution_count": 142,
   "metadata": {},
   "outputs": [],
   "source": [
    "import pandas as pd\n",
    "# for date in pd.date_range('2018-6-1',periods=133, freq='D'):\n",
    "#     print(date.date())\n",
    "frame = pd.DataFrame(data)\n",
    "frame.head(10)\n",
    "frame.to_csv('./kakao.csv',index=False, header=False, encoding='utf-8')\n"
   ]
  },
  {
   "cell_type": "code",
   "execution_count": null,
   "metadata": {},
   "outputs": [],
   "source": [
    "# 기간을 입력하면 해당 기간에 해당되는 날짜를 구한다. 그 날짜와 크롤링의 date와 일치한다면 break\n",
    "\n",
    "# [str(date.date()) for date in pd.date_range('2018-6-1',periods=133, freq='D')]"
   ]
  },
  {
   "cell_type": "code",
   "execution_count": 43,
   "metadata": {},
   "outputs": [],
   "source": [
    "frame_csv = pd.read_csv('./kakao.csv',encoding='utf-8',names=['date','textarea','reply_id','reply'])"
   ]
  },
  {
   "cell_type": "code",
   "execution_count": 44,
   "metadata": {},
   "outputs": [
    {
     "data": {
      "text/html": [
       "<div>\n",
       "<style scoped>\n",
       "    .dataframe tbody tr th:only-of-type {\n",
       "        vertical-align: middle;\n",
       "    }\n",
       "\n",
       "    .dataframe tbody tr th {\n",
       "        vertical-align: top;\n",
       "    }\n",
       "\n",
       "    .dataframe thead th {\n",
       "        text-align: right;\n",
       "    }\n",
       "</style>\n",
       "<table border=\"1\" class=\"dataframe\">\n",
       "  <thead>\n",
       "    <tr style=\"text-align: right;\">\n",
       "      <th></th>\n",
       "      <th>date</th>\n",
       "      <th>textarea</th>\n",
       "      <th>reply_id</th>\n",
       "      <th>reply</th>\n",
       "    </tr>\n",
       "  </thead>\n",
       "  <tbody>\n",
       "    <tr>\n",
       "      <th>1248</th>\n",
       "      <td>18.02.20</td>\n",
       "      <td>올라랑</td>\n",
       "      <td>NaN</td>\n",
       "      <td>NaN</td>\n",
       "    </tr>\n",
       "    <tr>\n",
       "      <th>1249</th>\n",
       "      <td>18.02.19</td>\n",
       "      <td>9만원선이 적정가 같음..\\r\\n8만7천에서 9만3천까지</td>\n",
       "      <td>뭐니%뭐니%뭐니\\r\\n18.02.19</td>\n",
       "      <td>내일시작가로매수들어갑니다</td>\n",
       "    </tr>\n",
       "    <tr>\n",
       "      <th>1250</th>\n",
       "      <td>18.02.19</td>\n",
       "      <td>금일 눌림목. 강력매수!! 안전하게 10%수익챙길수있는 구간\\r\\n\\r\\nps. 남...</td>\n",
       "      <td>뭐니%뭐니%뭐니\\r\\n18.02.19</td>\n",
       "      <td>내일시작가로매수들어갑니다\\r\\n하이닉스우상향내일무조건매수</td>\n",
       "    </tr>\n",
       "    <tr>\n",
       "      <th>1251</th>\n",
       "      <td>18.02.19</td>\n",
       "      <td>장기투자시 10만대 예상</td>\n",
       "      <td>NaN</td>\n",
       "      <td>NaN</td>\n",
       "    </tr>\n",
       "    <tr>\n",
       "      <th>1252</th>\n",
       "      <td>18.02.19</td>\n",
       "      <td>꺄 고점탈출</td>\n",
       "      <td>NaN</td>\n",
       "      <td>NaN</td>\n",
       "    </tr>\n",
       "  </tbody>\n",
       "</table>\n",
       "</div>"
      ],
      "text/plain": [
       "          date                                           textarea  \\\n",
       "1248  18.02.20                                                올라랑   \n",
       "1249  18.02.19                    9만원선이 적정가 같음..\\r\\n8만7천에서 9만3천까지   \n",
       "1250  18.02.19  금일 눌림목. 강력매수!! 안전하게 10%수익챙길수있는 구간\\r\\n\\r\\nps. 남...   \n",
       "1251  18.02.19                                      장기투자시 10만대 예상   \n",
       "1252  18.02.19                                             꺄 고점탈출   \n",
       "\n",
       "                  reply_id                            reply  \n",
       "1248                   NaN                              NaN  \n",
       "1249  뭐니%뭐니%뭐니\\r\\n18.02.19                    내일시작가로매수들어갑니다  \n",
       "1250  뭐니%뭐니%뭐니\\r\\n18.02.19  내일시작가로매수들어갑니다\\r\\n하이닉스우상향내일무조건매수  \n",
       "1251                   NaN                              NaN  \n",
       "1252                   NaN                              NaN  "
      ]
     },
     "execution_count": 44,
     "metadata": {},
     "output_type": "execute_result"
    }
   ],
   "source": [
    "frame_csv.tail()"
   ]
  },
  {
   "cell_type": "code",
   "execution_count": null,
   "metadata": {},
   "outputs": [],
   "source": []
  },
  {
   "cell_type": "code",
   "execution_count": null,
   "metadata": {},
   "outputs": [],
   "source": []
  },
  {
   "cell_type": "code",
   "execution_count": null,
   "metadata": {},
   "outputs": [],
   "source": []
  },
  {
   "cell_type": "code",
   "execution_count": null,
   "metadata": {},
   "outputs": [],
   "source": []
  },
  {
   "cell_type": "code",
   "execution_count": null,
   "metadata": {},
   "outputs": [],
   "source": []
  },
  {
   "cell_type": "code",
   "execution_count": null,
   "metadata": {},
   "outputs": [],
   "source": []
  },
  {
   "cell_type": "code",
   "execution_count": null,
   "metadata": {},
   "outputs": [],
   "source": []
  },
  {
   "cell_type": "code",
   "execution_count": null,
   "metadata": {},
   "outputs": [],
   "source": []
  }
 ],
 "metadata": {
  "kernelspec": {
   "display_name": "Python 3",
   "language": "python",
   "name": "python3"
  },
  "language_info": {
   "codemirror_mode": {
    "name": "ipython",
    "version": 3
   },
   "file_extension": ".py",
   "mimetype": "text/x-python",
   "name": "python",
   "nbconvert_exporter": "python",
   "pygments_lexer": "ipython3",
   "version": "3.6.5"
  }
 },
 "nbformat": 4,
 "nbformat_minor": 2
}
