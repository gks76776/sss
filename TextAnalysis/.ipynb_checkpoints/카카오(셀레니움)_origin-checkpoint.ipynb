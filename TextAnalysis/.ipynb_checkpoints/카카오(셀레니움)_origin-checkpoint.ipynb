{
 "cells": [
  {
   "cell_type": "code",
   "execution_count": null,
   "metadata": {},
   "outputs": [],
   "source": [
    "### 고민해봐야할 사항\n",
    "# 로그인하여서 최근 기록을 바탕으로 가져오는게 빠를것인가\n",
    "# 코드를 돌려가면서 검색하는게 나을것인가 -> 다른 크롤러와 함께 실행시킨다면 이쪽이 맞는 방안\n",
    "# 카카오스탁은 페이지 로딩속도가 느린편에 속한다. -> 타임슬립을 자주 넣어주어야 한다.\n",
    "# 댓글 내용을 가져오기 위해서는 첫번째 글에 댓글표시 버튼을 눌러 해당 글로 화면이 전환되어야 한다.\n",
    "# 네이버 크롤링과 비슷한 원리로 작동시킨다."
   ]
  },
  {
   "cell_type": "code",
   "execution_count": 124,
   "metadata": {},
   "outputs": [],
   "source": [
    "from selenium import webdriver as wd\n",
    "from urllib.request import urlopen\n",
    "import time"
   ]
  },
  {
   "cell_type": "code",
   "execution_count": 170,
   "metadata": {},
   "outputs": [],
   "source": [
    "driver = wd.Chrome('./data/chromedriver.exe')\n",
    "driver.get( 'http://stock.kakao.com/m' )\n",
    "# data의 정의는 다시 내려야 하나 여기에서는 목록값을 \n",
    "# 임시 저장하기 위한 리스트로 정의한다.\n",
    "data = []"
   ]
  },
  {
   "cell_type": "markdown",
   "metadata": {},
   "source": [
    "### 로그인을 시키고 작업을 계속진행해야 합니다."
   ]
  },
  {
   "cell_type": "code",
   "execution_count": 171,
   "metadata": {},
   "outputs": [],
   "source": [
    "# 검색창으로 커서를 올리기 위한 명령어\n",
    "elem = driver.find_element_by_class_name(\"maintxt\")\n",
    "# 검색창에 입력한 값이 있을수도 있음으로 클리어처리 한다.\n",
    "elem.clear()\n",
    "# 종목코드를 입력한다. 이부분은 차후 함수에 변수명이 들어갈 자리이다.\n",
    "# 객체화를 시키기 위한 부분은 위에서부터 처리하도록 한다.\n",
    "# 여기에서는 sk 하이닉스(000660)로 사용한다.\n",
    "elem.send_keys(\"000660\")\n",
    "# 검색을 실행한다\n",
    "# elem.submit ()\n",
    "# 동적 페이지이라 submit이 사용되지 않았음..\n",
    "# 클릭방식으로 검색을 실행하기로 한다.\n",
    "driver.find_element_by_css_selector('body > div:nth-child(1) > div > div:nth-child(1) > header > div.mainSearch > em > div > button').click()\n",
    "# 두번째 클릭이 필요한 화면이 발생 다시한번더 클릭\n",
    "time.sleep(1)\n",
    "driver.find_element_by_css_selector('body > div:nth-child(1) > div > div:nth-child(1) > main > article > div > div.contW01.pb0 > div.myStkB > div > ul > li > a.addFavW').click()\n",
    "# 토론방으로 이동\n",
    "time.sleep(1)\n",
    "driver.find_element_by_css_selector('body > div:nth-child(1) > div > div:nth-child(1) > header > div:nth-child(4) > div > div > nav > ul > li:nth-child(2) > a').click()\n",
    "# 첫번째 글로 이동하기\n",
    "time.sleep(1)\n",
    "driver.find_element_by_css_selector('body > div:nth-child(1) > div > div:nth-child(1) > main > article > div.discussW > div > ul > span > li:nth-child(1) > ul > li.ty03').click()"
   ]
  },
  {
   "cell_type": "code",
   "execution_count": 172,
   "metadata": {},
   "outputs": [],
   "source": [
    "for its in range(10):\n",
    "# 여기부터 본문 내용 크롤링\n",
    "    time.sleep(1)\n",
    "  \n",
    "    date    = driver.find_element_by_css_selector('body > div:nth-child(1) > div > div:nth-child(1) > main > main > article > div.viewB > div.f_clear > div.nickname > em')\n",
    "    text    = driver.find_element_by_css_selector('body > div:nth-child(1) > div > div:nth-child(1) > main > main > article > div.viewB > p')\n",
    "    try:\n",
    "        reply = driver.find_element_by_class_name('noReply')\n",
    "    except Exception as e:\n",
    "        comment_1 = driver.find_element_by_css_selector('body > div:nth-child(1) > div > div:nth-child(1) > main > main > article > div:nth-child(3) > div:nth-child(2) > ul > li > div')\n",
    "        comment_2 = driver.find_element_by_css_selector('body > div:nth-child(1) > div > div:nth-child(1) > main > main > article > div:nth-child(3) > div:nth-child(2) > ul > li > p')\n",
    "    else:\n",
    "        mord = (date.text,text.text,'','')\n",
    "        data.append(mord)\n",
    "        driver.find_element_by_css_selector('body > div:nth-child(1) > div > div:nth-child(1) > main > main > article > ul > li.ty02 > a > span').click()\n",
    "        continue\n",
    "#     print('작성일 : %s, 내용 : % s, 댓글작성자 : %s, 댓글내용: %s'%(date.text,text.text,comment_1.text,comment_2.text))\n",
    "    mord = (date.text,text.text,comment_1.text,comment_2.text)\n",
    "    data.append(mord)\n",
    "    time.sleep(3)\n",
    "    driver.find_element_by_css_selector('body > div:nth-child(1) > div > div:nth-child(1) > main > main > article > ul > li.ty02 > a > span').click()\n",
    "\n",
    "    "
   ]
  },
  {
   "cell_type": "code",
   "execution_count": 173,
   "metadata": {},
   "outputs": [
    {
     "data": {
      "text/plain": [
       "[('1시간 전', '내일은 올라요~7마넌 제자리', '', ''),\n",
       " ('1시간 전',\n",
       "  '요즘 시장은 방향성을 찾기가 힘들다\\n그때 그때 대응하기 바쁘다\\n\\nsk하이닉스와 삼성전자가 생각보다 많이 빠진다\\n일단 매수하고 지켜보자',\n",
       "  '',\n",
       "  ''),\n",
       " ('2시간 전', '걍 묵혀둡니다~', '', ''),\n",
       " ('4시간 전', '6.9 고정인가', '', ''),\n",
       " ('4시간 전', '왜이러니', '', ''),\n",
       " ('5시간 전', '빌ㅡ기네잉 ~', '', ''),\n",
       " ('18.12.03', '거지같네 이런날 안오르면 뭐하냐?\\n\\n삼성에 더 오르네.. 떨어질땐 두세배 떨구고 ㅎ ㅉㅉ', '', ''),\n",
       " ('18.12.03', '재무상태는 괜찮은거 같은데 왜 이리더디게 오를까요', '', ''),\n",
       " ('18.11.30',\n",
       "  '장막판에 삼성전자와 sk하이닉스를 매집했다\\n특히 삼성전자는 동시호가가 심하게 출렁거리다\\n1%더 빠지고 마무리됬다\\n무슨악재로 그런지는 몰라도 물타면서 버텨봐야 겠다\\n\\n삼성생명은 금리인상을 오를줄알고 그동안 좀 매집했는데 오늘 결과가 실망스럽다',\n",
       "  '미스터Sung\\n18.11.30',\n",
       "  '삼성생명이 삼전 지분 보유하고 있어서 그런 듯\\n떡상 가즈아'),\n",
       " ('18.11.30', '힘내세요.', '', '')]"
      ]
     },
     "execution_count": 173,
     "metadata": {},
     "output_type": "execute_result"
    }
   ],
   "source": [
    "data"
   ]
  },
  {
   "cell_type": "code",
   "execution_count": null,
   "metadata": {},
   "outputs": [],
   "source": []
  },
  {
   "cell_type": "code",
   "execution_count": null,
   "metadata": {},
   "outputs": [],
   "source": []
  },
  {
   "cell_type": "code",
   "execution_count": null,
   "metadata": {},
   "outputs": [],
   "source": []
  },
  {
   "cell_type": "code",
   "execution_count": null,
   "metadata": {},
   "outputs": [],
   "source": []
  },
  {
   "cell_type": "code",
   "execution_count": null,
   "metadata": {},
   "outputs": [],
   "source": []
  },
  {
   "cell_type": "code",
   "execution_count": null,
   "metadata": {},
   "outputs": [],
   "source": []
  },
  {
   "cell_type": "code",
   "execution_count": null,
   "metadata": {},
   "outputs": [],
   "source": []
  },
  {
   "cell_type": "code",
   "execution_count": null,
   "metadata": {},
   "outputs": [],
   "source": []
  },
  {
   "cell_type": "code",
   "execution_count": null,
   "metadata": {},
   "outputs": [],
   "source": []
  },
  {
   "cell_type": "code",
   "execution_count": null,
   "metadata": {},
   "outputs": [],
   "source": []
  },
  {
   "cell_type": "code",
   "execution_count": null,
   "metadata": {},
   "outputs": [],
   "source": []
  },
  {
   "cell_type": "code",
   "execution_count": null,
   "metadata": {},
   "outputs": [],
   "source": []
  },
  {
   "cell_type": "code",
   "execution_count": null,
   "metadata": {},
   "outputs": [],
   "source": []
  },
  {
   "cell_type": "code",
   "execution_count": null,
   "metadata": {},
   "outputs": [],
   "source": []
  }
 ],
 "metadata": {
  "kernelspec": {
   "display_name": "Python 3",
   "language": "python",
   "name": "python3"
  },
  "language_info": {
   "codemirror_mode": {
    "name": "ipython",
    "version": 3
   },
   "file_extension": ".py",
   "mimetype": "text/x-python",
   "name": "python",
   "nbconvert_exporter": "python",
   "pygments_lexer": "ipython3",
   "version": "3.6.5"
  }
 },
 "nbformat": 4,
 "nbformat_minor": 2
}
