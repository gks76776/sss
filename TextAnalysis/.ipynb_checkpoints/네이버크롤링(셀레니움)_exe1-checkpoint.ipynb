{
 "cells": [
  {
   "cell_type": "code",
   "execution_count": 1,
   "metadata": {},
   "outputs": [],
   "source": [
    "from selenium import webdriver as wd\n",
    "from urllib.request import urlopen\n",
    "import time\n",
    "from selenium.webdriver.common.by import By\n",
    "# WebDriverWait는 Selenium 2.4.0 이후 부터 사용 가능합니다.\n",
    "from selenium.webdriver.support.ui import WebDriverWait\n",
    "# expected_conditions는 Selenium 2.26.0 이후 부터 사용 가능합니다.\n",
    "from selenium.webdriver.support import expected_conditions as EC\n",
    "from tqdm import tqdm_notebook\n",
    "from datetime import datetime as dt\n",
    "import datetime\n",
    "import pandas as pd"
   ]
  },
  {
   "cell_type": "code",
   "execution_count": 2,
   "metadata": {},
   "outputs": [],
   "source": [
    "def click_next_title():\n",
    "    # 다음 글로 넘어 가기 위한 제목 목록 \n",
    "    tr = driver.find_elements_by_css_selector('#content > div.section.inner_sub > div:nth-child(5) > table > tbody > tr ')       \n",
    "    for idx, element in enumerate(tr):\n",
    "        # 첫번째는 빈칸이다.\n",
    "        if idx==0:\n",
    "            continue        \n",
    "        try:\n",
    "            #현재 글의 위치를 찾기 위해 strong을 검색\n",
    "            td = element.find_elements_by_css_selector('td')[1].find_element_by_css_selector('strong')            \n",
    "        except Exception as e:            \n",
    "            continue\n",
    "        else:           \n",
    "            driver.find_element_by_css_selector('#content > div.section.inner_sub > div:nth-child(5) > table > tbody > tr:nth-child({0}) > td:nth-child(2) > a'.format(2+idx)).click()\n",
    "            break"
   ]
  },
  {
   "cell_type": "code",
   "execution_count": 3,
   "metadata": {},
   "outputs": [],
   "source": [
    "def minus_days(days):\n",
    "#     date_target_prior = dt.strptime(date,\"%Y.%m.%d\").date()\n",
    "        \n",
    "    return str(dt.now - datetime.timedelta(days=1))"
   ]
  },
  {
   "cell_type": "code",
   "execution_count": 4,
   "metadata": {},
   "outputs": [],
   "source": [
    "def save_csv(idx, jungbo, stock_code):\n",
    "    if idx % 100== 0:         \n",
    "        frame = pd.DataFrame(jungbo)\n",
    "        with open('./naver_{0}.csv'.format(stock_code), 'a',encoding='utf-8') as f:\n",
    "            frame.to_csv(f, header=False, encoding='utf-8')            \n",
    "        jungbo.clear()"
   ]
  },
  {
   "cell_type": "code",
   "execution_count": 5,
   "metadata": {},
   "outputs": [],
   "source": [
    "# 위에 코드와 동일하지만 따로 다시 사용하는 이유는\n",
    "# 다음 페이지로 넘기는 코드가 상이해서 다시 실행시켜서 코드를 바꿔줘야만 반복이 원활하게 이루어짐\n",
    "#for its in tqdm_notebook(range(1000)):\n",
    "def collecting(input_date,collected_date):\n",
    "    stime = time.time()\n",
    "    idx = 0\n",
    "    while True:\n",
    "    # 게시글에 제목, 작성일, 조회수, 공감수, 비공감수. 내용을 크롤링\n",
    "        date = WebDriverWait(driver, 30).until(EC.presence_of_element_located((By.CSS_SELECTOR,'#content > div.section.inner_sub > table.view > tbody > tr:nth-child(2) > th.gray03.p9.tah')))\n",
    "        #date        = driver.find_element_by_css_selector('#content > div.section.inner_sub > table.view > tbody > tr:nth-child(2) > th.gray03.p9.tah')\n",
    "        if (dt.strptime(date.text.split(' ')[0],\"%Y.%m.%d\").date() - dt.strptime(input_date,\"%Y.%m.%d\").date()).days < 0 :\n",
    "            break\n",
    "        title = WebDriverWait(driver, 30).until(EC.presence_of_element_located((By.CSS_SELECTOR,'#content > div.section.inner_sub > table.view > tbody > tr:nth-child(1) > th:nth-child(1) > strong')))\n",
    "        # title       = driver.find_element_by_css_selector('#content > div.section.inner_sub > table.view > tbody > tr:nth-child(1) > th:nth-child(1) > strong')\n",
    "        collected_date.add(date.text.split(' ')[0])\n",
    "        #print(date.text.split(' ')[0],len(date.text.split(' ')[0]))\n",
    "        # 작성자\n",
    "        # writer = driver.find_element_by_css_selector('#content > div.section.inner_sub > table.view > tbody > tr:nth-child(2) > th.info > span.gray03 > strong')\n",
    "        # 작성자 ip\n",
    "        writer_chunck = driver.find_element_by_css_selector('#content > div.section.inner_sub > table.view > tbody > tr:nth-child(2) > th.info > span.gray03 ').text\n",
    "        writer = writer_chunck.split(' ')[0]\n",
    "        writer_ip = writer_chunck.split(' ')[1]\n",
    "        # name 은 정보를 가진 덩어리 - \n",
    "        name        = driver.find_element_by_css_selector('#content > div.section.inner_sub > table.view > tbody > tr:nth-child(1) > th:nth-child(2)')\n",
    "        views       = name.find_element_by_tag_name('span')\n",
    "        Sympathy    = name.find_elements_by_tag_name('strong')\n",
    "        text = driver.find_element_by_css_selector('#body')\n",
    "        reply_list = []\n",
    "        mord = [date.text, views.text,writer,writer_ip,Sympathy[0].text,Sympathy[1].text,text.text]   \n",
    "        # 댓글 창 정보에 대한 태그\n",
    "        reply = driver.find_element_by_css_selector('#ncomment')    \n",
    "        # 댓글 창 정보가 있으면\n",
    "        if reply != None:        \n",
    "            reply_url = reply.get_attribute('src')\n",
    "            driver.get(reply_url)\n",
    "            replies = driver.find_elements_by_class_name('cbox_desc')\n",
    "            reply_list=[reply.text for reply in replies]          \n",
    "            driver.back()            \n",
    "            # 다음 페이지로 넘긴다.\n",
    "        mord.append(reply_list)\n",
    "        mord = tuple(mord)        \n",
    "        data.append(mord)\n",
    "        save_csv(idx,data,stock_code)\n",
    "        idx+=1\n",
    "        \n",
    "        # dict가 update를 쓴다.\n",
    "        click_next_title()\n",
    "\n",
    "    dtime = time.time()\n",
    "    print('걸린시간:',dtime-stime)\n",
    "\n"
   ]
  },
  {
   "cell_type": "code",
   "execution_count": null,
   "metadata": {},
   "outputs": [],
   "source": []
  },
  {
   "cell_type": "code",
   "execution_count": 6,
   "metadata": {},
   "outputs": [],
   "source": [
    "driver = wd.Chrome('./data/chromedriver.exe')\n",
    "driver.get( 'https://finance.naver.com/' )\n",
    "data = []"
   ]
  },
  {
   "cell_type": "markdown",
   "metadata": {},
   "source": [
    "# 종목코드 stock_code를 변경해준다."
   ]
  },
  {
   "cell_type": "code",
   "execution_count": 7,
   "metadata": {},
   "outputs": [],
   "source": [
    "# 검색창에 코드를 넣고 검색하는 기능\n",
    "#############################################################################################\n",
    "stock_code='000660'\n",
    "#############################################################################################\n",
    "tag_name = driver.find_element_by_css_selector('#stock_items')\n",
    "\n",
    "tag_name.send_keys(stock_code)\n",
    "#tag_name.send_keys('119610')\n",
    "driver.find_element_by_css_selector('#header > div.snb_area > div > div.sta > form > fieldset > div > button').click()\n",
    "time.sleep(3)\n",
    "# 분석게시판으로 들어가는 기능 \n",
    "driver.find_element_by_css_selector('#content > ul > li:nth-child(7) > a > span').click()\n",
    "# 첫번째 게시글로 진입\n",
    "driver.find_element_by_css_selector('#content > div.section.inner_sub > table.type2 > tbody > tr:nth-child(3) > td.title > a').click()"
   ]
  },
  {
   "cell_type": "markdown",
   "metadata": {},
   "source": [
    "# deadline_date를 변경해준다."
   ]
  },
  {
   "cell_type": "code",
   "execution_count": 8,
   "metadata": {},
   "outputs": [
    {
     "name": "stdout",
     "output_type": "stream",
     "text": [
      "작성일 : 2018.12.14 18:14 제목: 오! 마이ㅣㅣㅣㅣ 미치겠다------- 조회수 : 22 공감 : 0 비공감 : 0 내용 : 다 죽자!!!\n"
     ]
    },
    {
     "ename": "WebDriverException",
     "evalue": "Message: chrome not reachable\n  (Session info: chrome=71.0.3578.98)\n  (Driver info: chromedriver=2.42.591088 (7b2b2dca23cca0862f674758c9a3933e685c27d5),platform=Windows NT 6.3.9600 x86_64)\n",
     "output_type": "error",
     "traceback": [
      "\u001b[1;31m---------------------------------------------------------------------------\u001b[0m",
      "\u001b[1;31mWebDriverException\u001b[0m                        Traceback (most recent call last)",
      "\u001b[1;32m<ipython-input-8-66dad600e746>\u001b[0m in \u001b[0;36m<module>\u001b[1;34m()\u001b[0m\n\u001b[0;32m     23\u001b[0m \u001b[0mcollected_date\u001b[0m \u001b[1;33m=\u001b[0m \u001b[0mset\u001b[0m\u001b[1;33m(\u001b[0m\u001b[1;33m)\u001b[0m\u001b[1;33m\u001b[0m\u001b[0m\n\u001b[0;32m     24\u001b[0m \u001b[1;33m\u001b[0m\u001b[0m\n\u001b[1;32m---> 25\u001b[1;33m \u001b[0mcollecting\u001b[0m\u001b[1;33m(\u001b[0m\u001b[0mdeadline_date\u001b[0m\u001b[1;33m,\u001b[0m \u001b[0mcollected_date\u001b[0m\u001b[1;33m)\u001b[0m\u001b[1;33m\u001b[0m\u001b[0m\n\u001b[0m",
      "\u001b[1;32m<ipython-input-5-7b464fedfbd5>\u001b[0m in \u001b[0;36mcollecting\u001b[1;34m(input_date, collected_date)\u001b[0m\n\u001b[0;32m      7\u001b[0m     \u001b[1;32mwhile\u001b[0m \u001b[1;32mTrue\u001b[0m\u001b[1;33m:\u001b[0m\u001b[1;33m\u001b[0m\u001b[0m\n\u001b[0;32m      8\u001b[0m     \u001b[1;31m# 게시글에 제목, 작성일, 조회수, 공감수, 비공감수. 내용을 크롤링\u001b[0m\u001b[1;33m\u001b[0m\u001b[1;33m\u001b[0m\u001b[0m\n\u001b[1;32m----> 9\u001b[1;33m         \u001b[0mdate\u001b[0m \u001b[1;33m=\u001b[0m \u001b[0mWebDriverWait\u001b[0m\u001b[1;33m(\u001b[0m\u001b[0mdriver\u001b[0m\u001b[1;33m,\u001b[0m \u001b[1;36m30\u001b[0m\u001b[1;33m)\u001b[0m\u001b[1;33m.\u001b[0m\u001b[0muntil\u001b[0m\u001b[1;33m(\u001b[0m\u001b[0mEC\u001b[0m\u001b[1;33m.\u001b[0m\u001b[0mpresence_of_element_located\u001b[0m\u001b[1;33m(\u001b[0m\u001b[1;33m(\u001b[0m\u001b[0mBy\u001b[0m\u001b[1;33m.\u001b[0m\u001b[0mCSS_SELECTOR\u001b[0m\u001b[1;33m,\u001b[0m\u001b[1;34m'#content > div.section.inner_sub > table.view > tbody > tr:nth-child(2) > th.gray03.p9.tah'\u001b[0m\u001b[1;33m)\u001b[0m\u001b[1;33m)\u001b[0m\u001b[1;33m)\u001b[0m\u001b[1;33m\u001b[0m\u001b[0m\n\u001b[0m\u001b[0;32m     10\u001b[0m         \u001b[1;31m#date        = driver.find_element_by_css_selector('#content > div.section.inner_sub > table.view > tbody > tr:nth-child(2) > th.gray03.p9.tah')\u001b[0m\u001b[1;33m\u001b[0m\u001b[1;33m\u001b[0m\u001b[0m\n\u001b[0;32m     11\u001b[0m         \u001b[1;32mif\u001b[0m \u001b[1;33m(\u001b[0m\u001b[0mdt\u001b[0m\u001b[1;33m.\u001b[0m\u001b[0mstrptime\u001b[0m\u001b[1;33m(\u001b[0m\u001b[0mdate\u001b[0m\u001b[1;33m.\u001b[0m\u001b[0mtext\u001b[0m\u001b[1;33m.\u001b[0m\u001b[0msplit\u001b[0m\u001b[1;33m(\u001b[0m\u001b[1;34m' '\u001b[0m\u001b[1;33m)\u001b[0m\u001b[1;33m[\u001b[0m\u001b[1;36m0\u001b[0m\u001b[1;33m]\u001b[0m\u001b[1;33m,\u001b[0m\u001b[1;34m\"%Y.%m.%d\"\u001b[0m\u001b[1;33m)\u001b[0m\u001b[1;33m.\u001b[0m\u001b[0mdate\u001b[0m\u001b[1;33m(\u001b[0m\u001b[1;33m)\u001b[0m \u001b[1;33m-\u001b[0m \u001b[0mdt\u001b[0m\u001b[1;33m.\u001b[0m\u001b[0mstrptime\u001b[0m\u001b[1;33m(\u001b[0m\u001b[0minput_date\u001b[0m\u001b[1;33m,\u001b[0m\u001b[1;34m\"%Y.%m.%d\"\u001b[0m\u001b[1;33m)\u001b[0m\u001b[1;33m.\u001b[0m\u001b[0mdate\u001b[0m\u001b[1;33m(\u001b[0m\u001b[1;33m)\u001b[0m\u001b[1;33m)\u001b[0m\u001b[1;33m.\u001b[0m\u001b[0mdays\u001b[0m \u001b[1;33m<\u001b[0m \u001b[1;36m0\u001b[0m \u001b[1;33m:\u001b[0m\u001b[1;33m\u001b[0m\u001b[0m\n",
      "\u001b[1;32mD:\\anaconda\\lib\\site-packages\\selenium\\webdriver\\support\\wait.py\u001b[0m in \u001b[0;36muntil\u001b[1;34m(self, method, message)\u001b[0m\n\u001b[0;32m     69\u001b[0m         \u001b[1;32mwhile\u001b[0m \u001b[1;32mTrue\u001b[0m\u001b[1;33m:\u001b[0m\u001b[1;33m\u001b[0m\u001b[0m\n\u001b[0;32m     70\u001b[0m             \u001b[1;32mtry\u001b[0m\u001b[1;33m:\u001b[0m\u001b[1;33m\u001b[0m\u001b[0m\n\u001b[1;32m---> 71\u001b[1;33m                 \u001b[0mvalue\u001b[0m \u001b[1;33m=\u001b[0m \u001b[0mmethod\u001b[0m\u001b[1;33m(\u001b[0m\u001b[0mself\u001b[0m\u001b[1;33m.\u001b[0m\u001b[0m_driver\u001b[0m\u001b[1;33m)\u001b[0m\u001b[1;33m\u001b[0m\u001b[0m\n\u001b[0m\u001b[0;32m     72\u001b[0m                 \u001b[1;32mif\u001b[0m \u001b[0mvalue\u001b[0m\u001b[1;33m:\u001b[0m\u001b[1;33m\u001b[0m\u001b[0m\n\u001b[0;32m     73\u001b[0m                     \u001b[1;32mreturn\u001b[0m \u001b[0mvalue\u001b[0m\u001b[1;33m\u001b[0m\u001b[0m\n",
      "\u001b[1;32mD:\\anaconda\\lib\\site-packages\\selenium\\webdriver\\support\\expected_conditions.py\u001b[0m in \u001b[0;36m__call__\u001b[1;34m(self, driver)\u001b[0m\n\u001b[0;32m     62\u001b[0m \u001b[1;33m\u001b[0m\u001b[0m\n\u001b[0;32m     63\u001b[0m     \u001b[1;32mdef\u001b[0m \u001b[0m__call__\u001b[0m\u001b[1;33m(\u001b[0m\u001b[0mself\u001b[0m\u001b[1;33m,\u001b[0m \u001b[0mdriver\u001b[0m\u001b[1;33m)\u001b[0m\u001b[1;33m:\u001b[0m\u001b[1;33m\u001b[0m\u001b[0m\n\u001b[1;32m---> 64\u001b[1;33m         \u001b[1;32mreturn\u001b[0m \u001b[0m_find_element\u001b[0m\u001b[1;33m(\u001b[0m\u001b[0mdriver\u001b[0m\u001b[1;33m,\u001b[0m \u001b[0mself\u001b[0m\u001b[1;33m.\u001b[0m\u001b[0mlocator\u001b[0m\u001b[1;33m)\u001b[0m\u001b[1;33m\u001b[0m\u001b[0m\n\u001b[0m\u001b[0;32m     65\u001b[0m \u001b[1;33m\u001b[0m\u001b[0m\n\u001b[0;32m     66\u001b[0m \u001b[1;33m\u001b[0m\u001b[0m\n",
      "\u001b[1;32mD:\\anaconda\\lib\\site-packages\\selenium\\webdriver\\support\\expected_conditions.py\u001b[0m in \u001b[0;36m_find_element\u001b[1;34m(driver, by)\u001b[0m\n\u001b[0;32m    413\u001b[0m         \u001b[1;32mraise\u001b[0m \u001b[0me\u001b[0m\u001b[1;33m\u001b[0m\u001b[0m\n\u001b[0;32m    414\u001b[0m     \u001b[1;32mexcept\u001b[0m \u001b[0mWebDriverException\u001b[0m \u001b[1;32mas\u001b[0m \u001b[0me\u001b[0m\u001b[1;33m:\u001b[0m\u001b[1;33m\u001b[0m\u001b[0m\n\u001b[1;32m--> 415\u001b[1;33m         \u001b[1;32mraise\u001b[0m \u001b[0me\u001b[0m\u001b[1;33m\u001b[0m\u001b[0m\n\u001b[0m\u001b[0;32m    416\u001b[0m \u001b[1;33m\u001b[0m\u001b[0m\n\u001b[0;32m    417\u001b[0m \u001b[1;33m\u001b[0m\u001b[0m\n",
      "\u001b[1;32mD:\\anaconda\\lib\\site-packages\\selenium\\webdriver\\support\\expected_conditions.py\u001b[0m in \u001b[0;36m_find_element\u001b[1;34m(driver, by)\u001b[0m\n\u001b[0;32m    409\u001b[0m     if thrown.\"\"\"\n\u001b[0;32m    410\u001b[0m     \u001b[1;32mtry\u001b[0m\u001b[1;33m:\u001b[0m\u001b[1;33m\u001b[0m\u001b[0m\n\u001b[1;32m--> 411\u001b[1;33m         \u001b[1;32mreturn\u001b[0m \u001b[0mdriver\u001b[0m\u001b[1;33m.\u001b[0m\u001b[0mfind_element\u001b[0m\u001b[1;33m(\u001b[0m\u001b[1;33m*\u001b[0m\u001b[0mby\u001b[0m\u001b[1;33m)\u001b[0m\u001b[1;33m\u001b[0m\u001b[0m\n\u001b[0m\u001b[0;32m    412\u001b[0m     \u001b[1;32mexcept\u001b[0m \u001b[0mNoSuchElementException\u001b[0m \u001b[1;32mas\u001b[0m \u001b[0me\u001b[0m\u001b[1;33m:\u001b[0m\u001b[1;33m\u001b[0m\u001b[0m\n\u001b[0;32m    413\u001b[0m         \u001b[1;32mraise\u001b[0m \u001b[0me\u001b[0m\u001b[1;33m\u001b[0m\u001b[0m\n",
      "\u001b[1;32mD:\\anaconda\\lib\\site-packages\\selenium\\webdriver\\remote\\webdriver.py\u001b[0m in \u001b[0;36mfind_element\u001b[1;34m(self, by, value)\u001b[0m\n\u001b[0;32m    976\u001b[0m         return self.execute(Command.FIND_ELEMENT, {\n\u001b[0;32m    977\u001b[0m             \u001b[1;34m'using'\u001b[0m\u001b[1;33m:\u001b[0m \u001b[0mby\u001b[0m\u001b[1;33m,\u001b[0m\u001b[1;33m\u001b[0m\u001b[0m\n\u001b[1;32m--> 978\u001b[1;33m             'value': value})['value']\n\u001b[0m\u001b[0;32m    979\u001b[0m \u001b[1;33m\u001b[0m\u001b[0m\n\u001b[0;32m    980\u001b[0m     \u001b[1;32mdef\u001b[0m \u001b[0mfind_elements\u001b[0m\u001b[1;33m(\u001b[0m\u001b[0mself\u001b[0m\u001b[1;33m,\u001b[0m \u001b[0mby\u001b[0m\u001b[1;33m=\u001b[0m\u001b[0mBy\u001b[0m\u001b[1;33m.\u001b[0m\u001b[0mID\u001b[0m\u001b[1;33m,\u001b[0m \u001b[0mvalue\u001b[0m\u001b[1;33m=\u001b[0m\u001b[1;32mNone\u001b[0m\u001b[1;33m)\u001b[0m\u001b[1;33m:\u001b[0m\u001b[1;33m\u001b[0m\u001b[0m\n",
      "\u001b[1;32mD:\\anaconda\\lib\\site-packages\\selenium\\webdriver\\remote\\webdriver.py\u001b[0m in \u001b[0;36mexecute\u001b[1;34m(self, driver_command, params)\u001b[0m\n\u001b[0;32m    319\u001b[0m         \u001b[0mresponse\u001b[0m \u001b[1;33m=\u001b[0m \u001b[0mself\u001b[0m\u001b[1;33m.\u001b[0m\u001b[0mcommand_executor\u001b[0m\u001b[1;33m.\u001b[0m\u001b[0mexecute\u001b[0m\u001b[1;33m(\u001b[0m\u001b[0mdriver_command\u001b[0m\u001b[1;33m,\u001b[0m \u001b[0mparams\u001b[0m\u001b[1;33m)\u001b[0m\u001b[1;33m\u001b[0m\u001b[0m\n\u001b[0;32m    320\u001b[0m         \u001b[1;32mif\u001b[0m \u001b[0mresponse\u001b[0m\u001b[1;33m:\u001b[0m\u001b[1;33m\u001b[0m\u001b[0m\n\u001b[1;32m--> 321\u001b[1;33m             \u001b[0mself\u001b[0m\u001b[1;33m.\u001b[0m\u001b[0merror_handler\u001b[0m\u001b[1;33m.\u001b[0m\u001b[0mcheck_response\u001b[0m\u001b[1;33m(\u001b[0m\u001b[0mresponse\u001b[0m\u001b[1;33m)\u001b[0m\u001b[1;33m\u001b[0m\u001b[0m\n\u001b[0m\u001b[0;32m    322\u001b[0m             response['value'] = self._unwrap_value(\n\u001b[0;32m    323\u001b[0m                 response.get('value', None))\n",
      "\u001b[1;32mD:\\anaconda\\lib\\site-packages\\selenium\\webdriver\\remote\\errorhandler.py\u001b[0m in \u001b[0;36mcheck_response\u001b[1;34m(self, response)\u001b[0m\n\u001b[0;32m    240\u001b[0m                 \u001b[0malert_text\u001b[0m \u001b[1;33m=\u001b[0m \u001b[0mvalue\u001b[0m\u001b[1;33m[\u001b[0m\u001b[1;34m'alert'\u001b[0m\u001b[1;33m]\u001b[0m\u001b[1;33m.\u001b[0m\u001b[0mget\u001b[0m\u001b[1;33m(\u001b[0m\u001b[1;34m'text'\u001b[0m\u001b[1;33m)\u001b[0m\u001b[1;33m\u001b[0m\u001b[0m\n\u001b[0;32m    241\u001b[0m             \u001b[1;32mraise\u001b[0m \u001b[0mexception_class\u001b[0m\u001b[1;33m(\u001b[0m\u001b[0mmessage\u001b[0m\u001b[1;33m,\u001b[0m \u001b[0mscreen\u001b[0m\u001b[1;33m,\u001b[0m \u001b[0mstacktrace\u001b[0m\u001b[1;33m,\u001b[0m \u001b[0malert_text\u001b[0m\u001b[1;33m)\u001b[0m\u001b[1;33m\u001b[0m\u001b[0m\n\u001b[1;32m--> 242\u001b[1;33m         \u001b[1;32mraise\u001b[0m \u001b[0mexception_class\u001b[0m\u001b[1;33m(\u001b[0m\u001b[0mmessage\u001b[0m\u001b[1;33m,\u001b[0m \u001b[0mscreen\u001b[0m\u001b[1;33m,\u001b[0m \u001b[0mstacktrace\u001b[0m\u001b[1;33m)\u001b[0m\u001b[1;33m\u001b[0m\u001b[0m\n\u001b[0m\u001b[0;32m    243\u001b[0m \u001b[1;33m\u001b[0m\u001b[0m\n\u001b[0;32m    244\u001b[0m     \u001b[1;32mdef\u001b[0m \u001b[0m_value_or_default\u001b[0m\u001b[1;33m(\u001b[0m\u001b[0mself\u001b[0m\u001b[1;33m,\u001b[0m \u001b[0mobj\u001b[0m\u001b[1;33m,\u001b[0m \u001b[0mkey\u001b[0m\u001b[1;33m,\u001b[0m \u001b[0mdefault\u001b[0m\u001b[1;33m)\u001b[0m\u001b[1;33m:\u001b[0m\u001b[1;33m\u001b[0m\u001b[0m\n",
      "\u001b[1;31mWebDriverException\u001b[0m: Message: chrome not reachable\n  (Session info: chrome=71.0.3578.98)\n  (Driver info: chromedriver=2.42.591088 (7b2b2dca23cca0862f674758c9a3933e685c27d5),platform=Windows NT 6.3.9600 x86_64)\n"
     ]
    }
   ],
   "source": [
    "# 게시글에 제목, 작성일, 조회수, 공감수, 비공감수. 내용을 크롤링\n",
    "title       = driver.find_element_by_css_selector('#content > div.section.inner_sub > table.view > tbody > tr:nth-child(1) > th:nth-child(1) > strong')\n",
    "date        = driver.find_element_by_css_selector('#content > div.section.inner_sub > table.view > tbody > tr:nth-child(2) > th.gray03.p9.tah')\n",
    "# name 은 정보를 가진 덩어리\n",
    "name        = driver.find_element_by_css_selector('#content > div.section.inner_sub > table.view > tbody > tr:nth-child(1) > th:nth-child(2)')\n",
    "views       = name.find_element_by_tag_name('span')\n",
    "Sympathy    = name.find_elements_by_tag_name('strong')\n",
    "text = driver.find_element_by_css_selector('#body')\n",
    "writer_chunck = driver.find_element_by_css_selector('#content > div.section.inner_sub > table.view > tbody > tr:nth-child(2) > th.info > span.gray03 ').text\n",
    "writer = writer_chunck.split(' ')[0]\n",
    "writer_ip = writer_chunck.split(' ')[1]\n",
    "print('작성일 : %s 제목: %s 조회수 : %s 공감 : %s 비공감 : %s 내용 : %s' %(date.text,title.text, views.text, Sympathy[0].text,Sympathy[1].text,text.text))\n",
    "# 데이터 객체에 집어넣기 위한 장치와 데이터에 추가\n",
    "mord = (date.text, views.text, Sympathy[0].text,Sympathy[1].text,text.text)\n",
    "data.append(mord)\n",
    "time.sleep(1)\n",
    "# 다음 페이지로 넘긴다.\n",
    "driver.find_element_by_css_selector('#content > div.section.inner_sub > div:nth-child(5) > table > tbody > tr:nth-child(3) > td:nth-child(2) > a').click()\n",
    "#############################################################################################\n",
    "deadline_date = '2015.12.14'#YYYY.MM.DD\n",
    "#############################################################################################\n",
    "# 수집 시작\n",
    "collected_date = set()\n",
    "\n",
    "collecting(deadline_date, collected_date)\n"
   ]
  },
  {
   "cell_type": "markdown",
   "metadata": {},
   "source": [
    "# 에러 발생, 다시 수집"
   ]
  },
  {
   "cell_type": "code",
   "execution_count": null,
   "metadata": {},
   "outputs": [],
   "source": [
    "collecting(deadline_date, collected_date)"
   ]
  },
  {
   "cell_type": "markdown",
   "metadata": {
    "scrolled": true
   },
   "source": [
    "# 확인"
   ]
  },
  {
   "cell_type": "code",
   "execution_count": null,
   "metadata": {},
   "outputs": [],
   "source": [
    "print(collected_date)"
   ]
  },
  {
   "cell_type": "code",
   "execution_count": null,
   "metadata": {},
   "outputs": [],
   "source": [
    "# # 끝낼 날짜를 입력 받는다.\n",
    "# a = '2017.10.24'\n",
    "# # 해당 날짜 전날을 계산한다.\n",
    "# # 해당 날짜 전날이면 break 한다.\n",
    "# from datetime import datetime as dt\n",
    "# import datetime\n",
    "# # print(a)\n",
    "# #a = '2018-01-01'\n",
    "# # datetime.\n",
    "# date_target_prior = dt.strptime(a,\"%Y.%m.%d\").date()\n",
    "\n",
    "# b = dt.strptime('2018.10.20',\"%Y.%m.%d\").date()\n",
    "# date_target = date_target_prior - datetime.timedelta(days=1)\n",
    "# c = date_target - b\n",
    "# print(type(c.days))\n",
    "# # import pandas as pd\n",
    "# # for element in  pd.date_range(a,periods=2, freq='D'):\n",
    "# #     print(element)\n",
    "# #     datetime.timedelta(days=1)\n"
   ]
  },
  {
   "cell_type": "code",
   "execution_count": null,
   "metadata": {},
   "outputs": [],
   "source": [
    "#import pandas as pd\n",
    "#naver_data = pd.DataFrame(data)\n",
    "#naver_data.head()\n",
    "#print(naver_data[5][3])\n"
   ]
  },
  {
   "cell_type": "code",
   "execution_count": null,
   "metadata": {},
   "outputs": [],
   "source": [
    "# # driver.switch_to_frame(driver.find_element_by_tag_name(\"iframe\"))을 이용한 iframe 접근\n",
    "# stime = time.time()\n",
    "# for its in tqdm_notebook(range(10)):\n",
    "# # 게시글에 제목, 작성일, 조회수, 공감수, 비공감수. 내용을 크롤링\n",
    "#     title = WebDriverWait(driver, 30).until(EC.presence_of_element_located((By.CSS_SELECTOR,'#content > div.section.inner_sub > table.view > tbody > tr:nth-child(1) > th:nth-child(1) > strong')))\n",
    "#     # title       = driver.find_element_by_css_selector('#content > div.section.inner_sub > table.view > tbody > tr:nth-child(1) > th:nth-child(1) > strong')\n",
    "#     date        = driver.find_element_by_css_selector('#content > div.section.inner_sub > table.view > tbody > tr:nth-child(2) > th.gray03.p9.tah')\n",
    "#     # name 은 정보를 가진 덩어리\n",
    "#     name        = driver.find_element_by_css_selector('#content > div.section.inner_sub > table.view > tbody > tr:nth-child(1) > th:nth-child(2)')\n",
    "#     views       = name.find_element_by_tag_name('span')\n",
    "#     Sympathy    = name.find_elements_by_tag_name('strong')\n",
    "#     text = driver.find_element_by_css_selector('#body')\n",
    "#     reply_list = []\n",
    "#     mord = [date.text, views.text, Sympathy[0].text,Sympathy[1].text,text.text]\n",
    "#     #print('작성일 : %s 제목: %s 조회수 : %s 공감 : %s 비공감 : %s 내용 : %s' %(date.text,title.text, views.text, Sympathy[0].text,Sympathy[1].text,text.text))\n",
    "#     # 데이터 객체에 집어넣기 위한 장치와 데이터에 추가   \n",
    "#     #if int(driver.find_element_by_css_selector('body > div > div.cbox_list_info > h5 > span > strong').text)>0:\n",
    "#     reply = driver.find_element_by_css_selector('#ncomment')\n",
    "#     #print(date.text)\n",
    "#     if reply != None:        \n",
    "#         reply_url = reply.get_attribute('src')\n",
    "#         driver.switch_to.frame(driver.find_element_by_tag_name(\"iframe\"))\n",
    "#         print(driver.page_source)\n",
    "#         replies = driver.find_elements_by_class_name('cbox_desc')\n",
    "#         reply_list=[repl.text for repl in replies]\n",
    "        \n",
    "#         driver.switch_to.default_content()  \n",
    "#         #driver.find_element_by_css_selector('#content > div.section.inner_sub > div:nth-child(5) > table > tbody > tr:nth-child(4) > td:nth-child(2) > a').click()\n",
    "#         # 다음 페이지로 넘긴다.\n",
    "#     mord.append(reply_list)\n",
    "#     mord = tuple(mord)\n",
    "#     #, reply_list)\n",
    "#     data.append(mord)\n",
    "#     click_next_title()\n",
    "# dtime = time.time()\n",
    "# print('걸린시간:',dtime-stime)"
   ]
  },
  {
   "cell_type": "code",
   "execution_count": null,
   "metadata": {},
   "outputs": [],
   "source": [
    "# 태그 네임검색시 ul, li, p 다 안됐음 \n",
    "# css_selecter ('body > div')\n",
    "#  by_tag_name 안된 목록\n",
    "# 'p' , ''\n",
    "# 클래스 검색 cbox_desc\n",
    "# print(li_text.text)"
   ]
  },
  {
   "cell_type": "code",
   "execution_count": null,
   "metadata": {},
   "outputs": [],
   "source": [
    "#print(reply.find_element_by_css_selector('src'))\n",
    "# driver.get(reply_url)\n",
    "\n",
    "#reply = driver.find_elements_by_css_selector('body > div > div.cbox_list_comment > ul > li.cbox_thumb_off.comment_no_109245898 > div > div.cbox_desc_comment > p')\n",
    "#reply = driver.find_elements_by_css_selector('body > div > div.cbox_list_comment > ul > li.cbox_thumb_off.comment_no_109245898 > div > div.cbox_desc_comment')\n",
    "\n",
    "\n",
    "# li_text = driver.find_elements_by_class_name('p')\n",
    "# class_name 을 이용한 'p'  \n"
   ]
  },
  {
   "cell_type": "code",
   "execution_count": null,
   "metadata": {},
   "outputs": [],
   "source": [
    "# 시작일 마지막일을 입력한다.\n",
    "#  \n",
    "\n",
    "# 시작일보다 작은 날짜가 나오면 break\n",
    "\n"
   ]
  },
  {
   "cell_type": "code",
   "execution_count": null,
   "metadata": {},
   "outputs": [],
   "source": [
    "# # 원하는 기간의 날짜를 계산한다.\n",
    "\n",
    "# year=0\n",
    "# month=0\n",
    "# days=0\n",
    "# #datetime.timedelta(days=0, seconds=0, microseconds=0, milliseconds=0, minutes=0, hours=0, weeks=0)\n",
    "# date_days = dt.now() - datetime.timedelta(days=1)\n",
    "# str(date_days.date())"
   ]
  }
 ],
 "metadata": {
  "kernelspec": {
   "display_name": "Python 3",
   "language": "python",
   "name": "python3"
  },
  "language_info": {
   "codemirror_mode": {
    "name": "ipython",
    "version": 3
   },
   "file_extension": ".py",
   "mimetype": "text/x-python",
   "name": "python",
   "nbconvert_exporter": "python",
   "pygments_lexer": "ipython3",
   "version": "3.6.5"
  }
 },
 "nbformat": 4,
 "nbformat_minor": 2
}
