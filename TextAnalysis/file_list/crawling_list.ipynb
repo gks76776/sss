{
 "cells": [
  {
   "cell_type": "code",
   "execution_count": 34,
   "metadata": {},
   "outputs": [],
   "source": [
    "from glob import glob"
   ]
  },
  {
   "cell_type": "code",
   "execution_count": 35,
   "metadata": {},
   "outputs": [],
   "source": [
    "old_files = glob('./crawl_data/*.csv')"
   ]
  },
  {
   "cell_type": "code",
   "execution_count": 36,
   "metadata": {},
   "outputs": [
    {
     "data": {
      "text/plain": [
       "['./crawl_data\\\\naver_000100.csv',\n",
       " './crawl_data\\\\naver_000120.csv',\n",
       " './crawl_data\\\\naver_000150.csv',\n",
       " './crawl_data\\\\naver_000640.csv',\n",
       " './crawl_data\\\\naver_000660.csv',\n",
       " './crawl_data\\\\naver_000670.csv',\n",
       " './crawl_data\\\\naver_005300.csv',\n",
       " './crawl_data\\\\naver_005380.csv',\n",
       " './crawl_data\\\\naver_005440.csv',\n",
       " './crawl_data\\\\naver_005490.csv',\n",
       " './crawl_data\\\\naver_005610.csv',\n",
       " './crawl_data\\\\naver_005830.csv',\n",
       " './crawl_data\\\\naver_005850.csv',\n",
       " './crawl_data\\\\naver_005940.csv',\n",
       " './crawl_data\\\\naver_006120.csv',\n",
       " './crawl_data\\\\naver_006260.csv',\n",
       " './crawl_data\\\\naver_006280.csv',\n",
       " './crawl_data\\\\naver_006360.csv',\n",
       " './crawl_data\\\\naver_006400.csv',\n",
       " './crawl_data\\\\naver_006650.csv',\n",
       " './crawl_data\\\\naver_006800.csv',\n",
       " './crawl_data\\\\naver_006840.csv',\n",
       " './crawl_data\\\\naver_007070.csv',\n",
       " './crawl_data\\\\naver_007310.csv',\n",
       " './crawl_data\\\\naver_007570.csv',\n",
       " './crawl_data\\\\naver_008060.csv',\n",
       " './crawl_data\\\\naver_008560.csv',\n",
       " './crawl_data\\\\naver_008770.csv',\n",
       " './crawl_data\\\\naver_008930.csv',\n",
       " './crawl_data\\\\naver_009150.csv',\n",
       " './crawl_data\\\\naver_009420.csv',\n",
       " './crawl_data\\\\naver_009540.csv',\n",
       " './crawl_data\\\\naver_009830.csv',\n",
       " './crawl_data\\\\naver_010060.csv',\n",
       " './crawl_data\\\\naver_010120.csv',\n",
       " './crawl_data\\\\naver_010130.csv',\n",
       " './crawl_data\\\\naver_010140.csv',\n",
       " './crawl_data\\\\naver_010620.csv',\n",
       " './crawl_data\\\\naver_010780.csv',\n",
       " './crawl_data\\\\naver_010950.csv',\n",
       " './crawl_data\\\\naver_011070.csv',\n",
       " './crawl_data\\\\naver_011170.csv',\n",
       " './crawl_data\\\\naver_011210.csv',\n",
       " './crawl_data\\\\naver_011780.csv',\n",
       " './crawl_data\\\\naver_011790.csv',\n",
       " './crawl_data\\\\naver_012330.csv',\n",
       " './crawl_data\\\\naver_012450.csv',\n",
       " './crawl_data\\\\naver_012630.csv',\n",
       " './crawl_data\\\\naver_012750.csv',\n",
       " './crawl_data\\\\naver_014680.csv',\n",
       " './crawl_data\\\\naver_014820.csv',\n",
       " './crawl_data\\\\naver_014830.csv',\n",
       " './crawl_data\\\\naver_015760.csv',\n",
       " './crawl_data\\\\naver_016360.csv',\n",
       " './crawl_data\\\\naver_019680.csv',\n",
       " './crawl_data\\\\naver_020000.csv',\n",
       " './crawl_data\\\\naver_020150.csv',\n",
       " './crawl_data\\\\naver_021240.csv',\n",
       " './crawl_data\\\\naver_023530.csv',\n",
       " './crawl_data\\\\naver_024110.csv',\n",
       " './crawl_data\\\\naver_025540.csv',\n",
       " './crawl_data\\\\naver_025860.csv',\n",
       " './crawl_data\\\\naver_026960.csv',\n",
       " './crawl_data\\\\naver_027410.csv',\n",
       " './crawl_data\\\\naver_028050.csv',\n",
       " './crawl_data\\\\naver_028260.csv',\n",
       " './crawl_data\\\\naver_028670.csv',\n",
       " './crawl_data\\\\naver_029780.csv',\n",
       " './crawl_data\\\\naver_032830.csv',\n",
       " './crawl_data\\\\naver_033780.csv',\n",
       " './crawl_data\\\\naver_033920.csv',\n",
       " './crawl_data\\\\naver_034020.csv',\n",
       " './crawl_data\\\\naver_034220.csv',\n",
       " './crawl_data\\\\naver_034730.csv',\n",
       " './crawl_data\\\\naver_035250.csv',\n",
       " './crawl_data\\\\naver_036460.csv',\n",
       " './crawl_data\\\\naver_036580.csv',\n",
       " './crawl_data\\\\naver_042660.csv',\n",
       " './crawl_data\\\\naver_042670.csv',\n",
       " './crawl_data\\\\naver_047040.csv',\n",
       " './crawl_data\\\\naver_047050.csv',\n",
       " './crawl_data\\\\naver_049770.csv',\n",
       " './crawl_data\\\\naver_051600.csv',\n",
       " './crawl_data\\\\naver_051900.csv',\n",
       " './crawl_data\\\\naver_051910.csv',\n",
       " './crawl_data\\\\naver_052690.csv',\n",
       " './crawl_data\\\\naver_055550.csv',\n",
       " './crawl_data\\\\naver_057050.csv',\n",
       " './crawl_data\\\\naver_060980.csv',\n",
       " './crawl_data\\\\naver_064960.csv',\n",
       " './crawl_data\\\\naver_066570.csv',\n",
       " './crawl_data\\\\naver_069260.csv',\n",
       " './crawl_data\\\\naver_069620.csv',\n",
       " './crawl_data\\\\naver_069960.csv',\n",
       " './crawl_data\\\\naver_071050.csv',\n",
       " './crawl_data\\\\naver_071840.csv',\n",
       " './crawl_data\\\\naver_078930.csv',\n",
       " './crawl_data\\\\naver_079430.csv',\n",
       " './crawl_data\\\\naver_079550.csv',\n",
       " './crawl_data\\\\naver_086280.csv',\n",
       " './crawl_data\\\\naver_086790.csv',\n",
       " './crawl_data\\\\naver_088350.csv',\n",
       " './crawl_data\\\\naver_090430.csv',\n",
       " './crawl_data\\\\naver_093050.csv',\n",
       " './crawl_data\\\\naver_093370.csv',\n",
       " './crawl_data\\\\naver_096760.csv',\n",
       " './crawl_data\\\\naver_096770.csv',\n",
       " './crawl_data\\\\naver_097230.csv',\n",
       " './crawl_data\\\\naver_097950.csv',\n",
       " './crawl_data\\\\naver_103140.csv',\n",
       " './crawl_data\\\\naver_105560.csv',\n",
       " './crawl_data\\\\naver_105630.csv',\n",
       " './crawl_data\\\\naver_108670.csv',\n",
       " './crawl_data\\\\naver_111770.csv',\n",
       " './crawl_data\\\\naver_114090.csv',\n",
       " './crawl_data\\\\naver_115390.csv',\n",
       " './crawl_data\\\\naver_120110.csv',\n",
       " './crawl_data\\\\naver_128940.csv',\n",
       " './crawl_data\\\\naver_138930.csv',\n",
       " './crawl_data\\\\naver_139480.csv',\n",
       " './crawl_data\\\\naver_145990.csv',\n",
       " './crawl_data\\\\naver_161390.csv',\n",
       " './crawl_data\\\\naver_161890.csv',\n",
       " './crawl_data\\\\naver_170900.csv',\n",
       " './crawl_data\\\\naver_185750.csv',\n",
       " './crawl_data\\\\naver_192400.csv',\n",
       " './crawl_data\\\\naver_192820.csv',\n",
       " './crawl_data\\\\naver_204320.csv',\n",
       " './crawl_data\\\\naver_207940.csv',\n",
       " './crawl_data\\\\naver_241560.csv',\n",
       " './crawl_data\\\\naver_267250.csv',\n",
       " './crawl_data\\\\naver_271560.csv',\n",
       " './crawl_data\\\\naver_282330.csv',\n",
       " './crawl_data\\\\naver_285130.csv',\n",
       " './crawl_data\\\\naver_294870.csv',\n",
       " './crawl_data\\\\naver_298040.csv']"
      ]
     },
     "execution_count": 36,
     "metadata": {},
     "output_type": "execute_result"
    }
   ],
   "source": [
    "old_files"
   ]
  },
  {
   "cell_type": "code",
   "execution_count": 37,
   "metadata": {},
   "outputs": [],
   "source": [
    "old_code_list=[]\n",
    "for old_file in old_files:\n",
    "    csv = old_file.split('\\\\')[1]\n",
    "    old_code_list.append(csv[csv.find('_')+1:csv.find('.')])"
   ]
  },
  {
   "cell_type": "code",
   "execution_count": 64,
   "metadata": {},
   "outputs": [],
   "source": [
    "crawled_list = ['000070', \n",
    " '001230', \n",
    " '001430',\n",
    " '005250',\n",
    " '001740',\n",
    " '003240',\n",
    " '002380',\n",
    " '001040',   \n",
    " '000030',\n",
    " '003000',\n",
    " '000270',\n",
    " '003550',\n",
    " '000240',\n",
    " '001060',\n",
    " '002240', \n",
    " '000210',\n",
    " '003920',\n",
    " '005930',\n",
    " '004800',\n",
    " '000720',\n",
    " '001680',\n",
    " '004370',\n",
    " '002960', \n",
    " '003850',\n",
    " '003620',\n",
    " '003520',\n",
    " '002790',\n",
    " '004020',\n",
    " '002350',\n",
    " '000990',\n",
    " '000080',\n",
    " '002270', \n",
    " '004170',\n",
    " '003410',\n",
    " '004990',\n",
    " '001120',\n",
    " '004490',\n",
    " '000880',\n",
    " '004000']\n",
    "cralwing_list=['018260',\n",
    " '009240',\n",
    " '001520',\n",
    " '018880',\n",
    " '000810',\n",
    " '003490',\n",
    " '005180',\n",
    " '001800',\n",
    " '001450',\n",
    " '003300']\n",
    " \n",
    "# 073240 금호타이어 \n",
    "# 047810 한국항공우주\n",
    "# 064350 현대로템\n",
    "remove_list=[\n",
    "#셀트리온\n",
    "'068270',\n",
    "#현대그린푸드\n",
    "'005440',\n",
    "#현대엘리베\n",
    "'017800'\n",
    "]\n"
   ]
  },
  {
   "cell_type": "code",
   "execution_count": 65,
   "metadata": {},
   "outputs": [
    {
     "data": {
      "text/plain": [
       "['018260',\n",
       " '009240',\n",
       " '001520',\n",
       " '018880',\n",
       " '000810',\n",
       " '003490',\n",
       " '005180',\n",
       " '001800',\n",
       " '001450',\n",
       " '003300']"
      ]
     },
     "execution_count": 65,
     "metadata": {},
     "output_type": "execute_result"
    }
   ],
   "source": [
    "cralwing_list"
   ]
  },
  {
   "cell_type": "code",
   "execution_count": 57,
   "metadata": {},
   "outputs": [],
   "source": [
    "old_code_set = set(old_code_list+cralwing_list)"
   ]
  },
  {
   "cell_type": "code",
   "execution_count": 40,
   "metadata": {},
   "outputs": [],
   "source": [
    "import pandas as pd"
   ]
  },
  {
   "cell_type": "code",
   "execution_count": 41,
   "metadata": {},
   "outputs": [],
   "source": [
    "new_excel = pd.read_excel('./new_data.xlsx',sheet_name='기업리스트',header=None)"
   ]
  },
  {
   "cell_type": "code",
   "execution_count": 42,
   "metadata": {},
   "outputs": [],
   "source": [
    "new_excel.columns=['code', 'stock']"
   ]
  },
  {
   "cell_type": "code",
   "execution_count": 43,
   "metadata": {},
   "outputs": [
    {
     "data": {
      "text/html": [
       "<div>\n",
       "<style scoped>\n",
       "    .dataframe tbody tr th:only-of-type {\n",
       "        vertical-align: middle;\n",
       "    }\n",
       "\n",
       "    .dataframe tbody tr th {\n",
       "        vertical-align: top;\n",
       "    }\n",
       "\n",
       "    .dataframe thead th {\n",
       "        text-align: right;\n",
       "    }\n",
       "</style>\n",
       "<table border=\"1\" class=\"dataframe\">\n",
       "  <thead>\n",
       "    <tr style=\"text-align: right;\">\n",
       "      <th></th>\n",
       "      <th>code</th>\n",
       "      <th>stock</th>\n",
       "    </tr>\n",
       "  </thead>\n",
       "  <tbody>\n",
       "    <tr>\n",
       "      <th>0</th>\n",
       "      <td>A005930</td>\n",
       "      <td>삼성전자</td>\n",
       "    </tr>\n",
       "    <tr>\n",
       "      <th>1</th>\n",
       "      <td>A000660</td>\n",
       "      <td>SK하이닉스</td>\n",
       "    </tr>\n",
       "    <tr>\n",
       "      <th>2</th>\n",
       "      <td>A005380</td>\n",
       "      <td>현대차</td>\n",
       "    </tr>\n",
       "    <tr>\n",
       "      <th>3</th>\n",
       "      <td>A051910</td>\n",
       "      <td>LG화학</td>\n",
       "    </tr>\n",
       "    <tr>\n",
       "      <th>4</th>\n",
       "      <td>A017670</td>\n",
       "      <td>SK텔레콤</td>\n",
       "    </tr>\n",
       "    <tr>\n",
       "      <th>5</th>\n",
       "      <td>A005490</td>\n",
       "      <td>POSCO</td>\n",
       "    </tr>\n",
       "    <tr>\n",
       "      <th>6</th>\n",
       "      <td>A012330</td>\n",
       "      <td>현대모비스</td>\n",
       "    </tr>\n",
       "    <tr>\n",
       "      <th>7</th>\n",
       "      <td>A034730</td>\n",
       "      <td>SK</td>\n",
       "    </tr>\n",
       "    <tr>\n",
       "      <th>8</th>\n",
       "      <td>A051900</td>\n",
       "      <td>LG생활건강</td>\n",
       "    </tr>\n",
       "    <tr>\n",
       "      <th>9</th>\n",
       "      <td>A096770</td>\n",
       "      <td>SK이노베이션</td>\n",
       "    </tr>\n",
       "  </tbody>\n",
       "</table>\n",
       "</div>"
      ],
      "text/plain": [
       "      code    stock\n",
       "0  A005930     삼성전자\n",
       "1  A000660   SK하이닉스\n",
       "2  A005380      현대차\n",
       "3  A051910     LG화학\n",
       "4  A017670    SK텔레콤\n",
       "5  A005490    POSCO\n",
       "6  A012330    현대모비스\n",
       "7  A034730       SK\n",
       "8  A051900   LG생활건강\n",
       "9  A096770  SK이노베이션"
      ]
     },
     "execution_count": 43,
     "metadata": {},
     "output_type": "execute_result"
    }
   ],
   "source": [
    "new_excel.head(10)"
   ]
  },
  {
   "cell_type": "code",
   "execution_count": 58,
   "metadata": {},
   "outputs": [],
   "source": [
    "new_code_list = [code[1:] for code in new_excel['code']]"
   ]
  },
  {
   "cell_type": "code",
   "execution_count": 59,
   "metadata": {},
   "outputs": [],
   "source": [
    "new_code_set = set(new_code_list)"
   ]
  },
  {
   "cell_type": "code",
   "execution_count": 66,
   "metadata": {},
   "outputs": [
    {
     "data": {
      "text/plain": [
       "{'000810', '001450', '003490'}"
      ]
     },
     "execution_count": 66,
     "metadata": {},
     "output_type": "execute_result"
    }
   ],
   "source": [
    "set(cralwing_list).difference(new_code_set)\n",
    "#제거한거 003490(근데 이건 이미 완료)001450,000810"
   ]
  },
  {
   "cell_type": "code",
   "execution_count": 60,
   "metadata": {},
   "outputs": [
    {
     "data": {
      "text/plain": [
       "{'000030',\n",
       " '000240',\n",
       " '000810',\n",
       " '001060',\n",
       " '001450',\n",
       " '003000',\n",
       " '003490',\n",
       " '005250',\n",
       " '005830',\n",
       " '005940',\n",
       " '006280',\n",
       " '006800',\n",
       " '007570',\n",
       " '008560',\n",
       " '008930',\n",
       " '009420',\n",
       " '015760',\n",
       " '016360',\n",
       " '024110',\n",
       " '027410',\n",
       " '028260',\n",
       " '029780',\n",
       " '032830',\n",
       " '035250',\n",
       " '036460',\n",
       " '042660',\n",
       " '051600',\n",
       " '052690',\n",
       " '055550',\n",
       " '071050',\n",
       " '086790',\n",
       " '088350',\n",
       " '096760',\n",
       " '105560',\n",
       " '114090',\n",
       " '128940',\n",
       " '138930',\n",
       " '207940',\n",
       " '267250',\n",
       " '271560',\n",
       " '282330',\n",
       " '285130',\n",
       " '294870',\n",
       " '298040'}"
      ]
     },
     "execution_count": 60,
     "metadata": {},
     "output_type": "execute_result"
    }
   ],
   "source": [
    "#버릴꺼\n",
    "old_code_set.difference(new_code_set)"
   ]
  },
  {
   "cell_type": "code",
   "execution_count": 49,
   "metadata": {},
   "outputs": [],
   "source": [
    "#추가할것들\n",
    "add_list_1 = new_code_set.difference(old_code_set).difference(set(remove_list))"
   ]
  },
  {
   "cell_type": "code",
   "execution_count": 51,
   "metadata": {},
   "outputs": [],
   "source": [
    "add_list_2 = add_list_1.difference(set(cralwing_list))"
   ]
  },
  {
   "cell_type": "code",
   "execution_count": 52,
   "metadata": {},
   "outputs": [
    {
     "data": {
      "text/plain": [
       "{'017670',\n",
       " '030200',\n",
       " '032640',\n",
       " '034120',\n",
       " '064350',\n",
       " '073240',\n",
       " '079160',\n",
       " '214320'}"
      ]
     },
     "execution_count": 52,
     "metadata": {},
     "output_type": "execute_result"
    }
   ],
   "source": [
    "add_list_2"
   ]
  },
  {
   "cell_type": "code",
   "execution_count": null,
   "metadata": {},
   "outputs": [],
   "source": [
    "`"
   ]
  },
  {
   "cell_type": "code",
   "execution_count": null,
   "metadata": {},
   "outputs": [],
   "source": []
  },
  {
   "cell_type": "code",
   "execution_count": null,
   "metadata": {},
   "outputs": [],
   "source": []
  },
  {
   "cell_type": "code",
   "execution_count": null,
   "metadata": {},
   "outputs": [],
   "source": []
  },
  {
   "cell_type": "code",
   "execution_count": null,
   "metadata": {},
   "outputs": [],
   "source": []
  },
  {
   "cell_type": "code",
   "execution_count": null,
   "metadata": {},
   "outputs": [],
   "source": []
  },
  {
   "cell_type": "code",
   "execution_count": null,
   "metadata": {},
   "outputs": [],
   "source": []
  },
  {
   "cell_type": "code",
   "execution_count": null,
   "metadata": {},
   "outputs": [],
   "source": []
  },
  {
   "cell_type": "code",
   "execution_count": 5,
   "metadata": {},
   "outputs": [],
   "source": [
    "volume_list=[]\n",
    "adjusted_files = []\n",
    "for file in files:\n",
    "    adjusted_files.append((file[2:],os.path.getsize(file)))\n",
    "    volume_list.append(os.path.getsize(file))"
   ]
  },
  {
   "cell_type": "code",
   "execution_count": null,
   "metadata": {},
   "outputs": [],
   "source": []
  },
  {
   "cell_type": "code",
   "execution_count": null,
   "metadata": {},
   "outputs": [],
   "source": []
  },
  {
   "cell_type": "code",
   "execution_count": null,
   "metadata": {},
   "outputs": [],
   "source": []
  },
  {
   "cell_type": "code",
   "execution_count": 6,
   "metadata": {},
   "outputs": [],
   "source": [
    "def takeSecond(elem):\n",
    "    return elem[1]"
   ]
  },
  {
   "cell_type": "code",
   "execution_count": 11,
   "metadata": {},
   "outputs": [],
   "source": [
    "sorted_files = sorted(adjusted_files,key=takeSecond)"
   ]
  },
  {
   "cell_type": "code",
   "execution_count": 19,
   "metadata": {},
   "outputs": [],
   "source": [
    "sorted_files_list = [file[0][6:6+6] for file in sorted_files]\n",
    "    "
   ]
  },
  {
   "cell_type": "code",
   "execution_count": 20,
   "metadata": {},
   "outputs": [
    {
     "data": {
      "text/plain": [
       "[('naver_014830.csv', 44624),\n",
       " ('naver_019680.csv', 52284),\n",
       " ('naver_036580.csv', 72405),\n",
       " ('naver_060980.csv', 96888),\n",
       " ('naver_012750.csv', 104043),\n",
       " ('naver_020000.csv', 124977),\n",
       " ('naver_000670.csv', 129666),\n",
       " ('naver_025540.csv', 133837),\n",
       " ('naver_057050.csv', 146966),\n",
       " ('naver_005850.csv', 161533),\n",
       " ('naver_005830.csv', 176057),\n",
       " ('naver_298040.csv', 193335),\n",
       " ('naver_005300.csv', 223566),\n",
       " ('naver_069260.csv', 240646),\n",
       " ('naver_014680.csv', 246985),\n",
       " ('naver_033920.csv', 260106),\n",
       " ('naver_000640.csv', 275043),\n",
       " ('naver_064960.csv', 284786),\n",
       " ('naver_011790.csv', 303178),\n",
       " ('naver_029780.csv', 334319),\n",
       " ('naver_008060.csv', 354241),\n",
       " ('naver_282330.csv', 445457),\n",
       " ('naver_010130.csv', 475555),\n",
       " ('naver_006260.csv', 493041),\n",
       " ('naver_005440.csv', 497251),\n",
       " ('naver_049770.csv', 499318),\n",
       " ('naver_241560.csv', 595500),\n",
       " ('naver_026960.csv', 599867),\n",
       " ('naver_005610.csv', 642184),\n",
       " ('naver_034730.csv', 642925),\n",
       " ('naver_071050.csv', 652035),\n",
       " ('naver_011780.csv', 669266),\n",
       " ('naver_007310.csv', 684009),\n",
       " ('naver_006840.csv', 687953),\n",
       " ('naver_010780.csv', 701845),\n",
       " ('naver_010120.csv', 722036),\n",
       " ('naver_051900.csv', 750472),\n",
       " ('naver_294870.csv', 776604),\n",
       " ('naver_006280.csv', 807949),\n",
       " ('naver_021240.csv', 843950),\n",
       " ('naver_024110.csv', 850799),\n",
       " ('naver_006650.csv', 898399),\n",
       " ('naver_271560.csv', 977452),\n",
       " ('naver_008560.csv', 1005927),\n",
       " ('naver_069960.csv', 1032993),\n",
       " ('naver_005940.csv', 1165589),\n",
       " ('naver_071840.csv', 1173046),\n",
       " ('naver_285130.csv', 1212630),\n",
       " ('naver_033780.csv', 1336426),\n",
       " ('naver_032830.csv', 1380905),\n",
       " ('naver_010620.csv', 1428356),\n",
       " ('naver_055550.csv', 1503138),\n",
       " ('naver_008930.csv', 1518142),\n",
       " ('naver_035250.csv', 1525287),\n",
       " ('naver_006120.csv', 1544919),\n",
       " ('naver_007070.csv', 1574107),\n",
       " ('naver_036460.csv', 1592658),\n",
       " ('naver_012630.csv', 1602768),\n",
       " ('naver_267250.csv', 1637401),\n",
       " ('naver_007570.csv', 1848312),\n",
       " ('naver_012330.csv', 2118771),\n",
       " ('naver_051600.csv', 2518000),\n",
       " ('naver_014820.csv', 2664788),\n",
       " ('naver_010950.csv', 2868060),\n",
       " ('naver_047050.csv', 2913667),\n",
       " ('naver_011210.csv', 3187200),\n",
       " ('naver_011170.csv', 3367420),\n",
       " ('naver_025860.csv', 3544121),\n",
       " ('naver_023530.csv', 3693650),\n",
       " ('naver_052690.csv', 3891488),\n",
       " ('naver_069620.csv', 3920475),\n",
       " ('naver_006800.csv', 4008117),\n",
       " ('naver_011070.csv', 4230608),\n",
       " ('naver_027410.csv', 4274493),\n",
       " ('naver_028670.csv', 4712705),\n",
       " ('naver_042670.csv', 5139154),\n",
       " ('naver_009540.csv', 5409620),\n",
       " ('naver_009830.csv', 5623025),\n",
       " ('naver_028050.csv', 6012746),\n",
       " ('naver_006400.csv', 6416981),\n",
       " ('naver_012450.csv', 6540326),\n",
       " ('naver_006360.csv', 6592972),\n",
       " ('naver_005490.csv', 6849884),\n",
       " ('naver_047040.csv', 7626378),\n",
       " ('naver_028260.csv', 7738292),\n",
       " ('naver_008770.csv', 8210333),\n",
       " ('naver_009420.csv', 8378841),\n",
       " ('naver_034020.csv', 9003947),\n",
       " ('naver_010140.csv', 9667201),\n",
       " ('naver_010060.csv', 9673294),\n",
       " ('naver_051910.csv', 10038064),\n",
       " ('naver_020150.csv', 10038074),\n",
       " ('naver_016360.csv', 10110413),\n",
       " ('naver_042660.csv', 10893198),\n",
       " ('naver_005380.csv', 14050609),\n",
       " ('naver_009150.csv', 17100616),\n",
       " ('naver_073240.csv', 17106463),\n",
       " ('naver_015760.csv', 17238707),\n",
       " ('naver_017800.csv', 33699653),\n",
       " ('naver_066570.csv', 34161576),\n",
       " ('naver_064350.csv', 35491865),\n",
       " ('naver_047810.csv', 46649172),\n",
       " ('naver_068270.csv', 48649520),\n",
       " ('naver_034220.csv', 59161744),\n",
       " ('naver_000660.csv', 76839840)]"
      ]
     },
     "execution_count": 20,
     "metadata": {},
     "output_type": "execute_result"
    }
   ],
   "source": [
    "sorted_files"
   ]
  },
  {
   "cell_type": "code",
   "execution_count": 21,
   "metadata": {},
   "outputs": [
    {
     "data": {
      "text/plain": [
       "['014830',\n",
       " '019680',\n",
       " '036580',\n",
       " '060980',\n",
       " '012750',\n",
       " '020000',\n",
       " '000670',\n",
       " '025540',\n",
       " '057050',\n",
       " '005850',\n",
       " '005830',\n",
       " '298040',\n",
       " '005300',\n",
       " '069260',\n",
       " '014680',\n",
       " '033920',\n",
       " '000640',\n",
       " '064960',\n",
       " '011790',\n",
       " '029780',\n",
       " '008060',\n",
       " '282330',\n",
       " '010130',\n",
       " '006260',\n",
       " '005440',\n",
       " '049770',\n",
       " '241560',\n",
       " '026960',\n",
       " '005610',\n",
       " '034730',\n",
       " '071050',\n",
       " '011780',\n",
       " '007310',\n",
       " '006840',\n",
       " '010780',\n",
       " '010120',\n",
       " '051900',\n",
       " '294870',\n",
       " '006280',\n",
       " '021240',\n",
       " '024110',\n",
       " '006650',\n",
       " '271560',\n",
       " '008560',\n",
       " '069960',\n",
       " '005940',\n",
       " '071840',\n",
       " '285130',\n",
       " '033780',\n",
       " '032830',\n",
       " '010620',\n",
       " '055550',\n",
       " '008930',\n",
       " '035250',\n",
       " '006120',\n",
       " '007070',\n",
       " '036460',\n",
       " '012630',\n",
       " '267250',\n",
       " '007570',\n",
       " '012330',\n",
       " '051600',\n",
       " '014820',\n",
       " '010950',\n",
       " '047050',\n",
       " '011210',\n",
       " '011170',\n",
       " '025860',\n",
       " '023530',\n",
       " '052690',\n",
       " '069620',\n",
       " '006800',\n",
       " '011070',\n",
       " '027410',\n",
       " '028670',\n",
       " '042670',\n",
       " '009540',\n",
       " '009830',\n",
       " '028050',\n",
       " '006400',\n",
       " '012450',\n",
       " '006360',\n",
       " '005490',\n",
       " '047040',\n",
       " '028260',\n",
       " '008770',\n",
       " '009420',\n",
       " '034020',\n",
       " '010140',\n",
       " '010060',\n",
       " '051910',\n",
       " '020150',\n",
       " '016360',\n",
       " '042660',\n",
       " '005380',\n",
       " '009150',\n",
       " '073240',\n",
       " '015760',\n",
       " '017800',\n",
       " '066570',\n",
       " '064350',\n",
       " '047810',\n",
       " '068270',\n",
       " '034220',\n",
       " '000660']"
      ]
     },
     "execution_count": 21,
     "metadata": {},
     "output_type": "execute_result"
    }
   ],
   "source": [
    "sorted_files_list"
   ]
  },
  {
   "cell_type": "code",
   "execution_count": 22,
   "metadata": {},
   "outputs": [],
   "source": [
    "a= '바보야/ㅇㄹㅇㄹ'\n"
   ]
  },
  {
   "cell_type": "code",
   "execution_count": 23,
   "metadata": {},
   "outputs": [
    {
     "data": {
      "text/plain": [
       "3"
      ]
     },
     "execution_count": 23,
     "metadata": {},
     "output_type": "execute_result"
    }
   ],
   "source": [
    "a.find('/')"
   ]
  },
  {
   "cell_type": "code",
   "execution_count": 24,
   "metadata": {},
   "outputs": [
    {
     "data": {
      "text/plain": [
       "-1"
      ]
     },
     "execution_count": 24,
     "metadata": {},
     "output_type": "execute_result"
    }
   ],
   "source": [
    "a.find('.')"
   ]
  },
  {
   "cell_type": "code",
   "execution_count": 25,
   "metadata": {},
   "outputs": [],
   "source": [
    "a= '/바보야/ㅇㄹㅇㄹ'"
   ]
  },
  {
   "cell_type": "code",
   "execution_count": 26,
   "metadata": {},
   "outputs": [
    {
     "data": {
      "text/plain": [
       "0"
      ]
     },
     "execution_count": 26,
     "metadata": {},
     "output_type": "execute_result"
    }
   ],
   "source": [
    "a.find('/')\n"
   ]
  },
  {
   "cell_type": "code",
   "execution_count": null,
   "metadata": {},
   "outputs": [],
   "source": []
  }
 ],
 "metadata": {
  "kernelspec": {
   "display_name": "Python 3",
   "language": "python",
   "name": "python3"
  },
  "language_info": {
   "codemirror_mode": {
    "name": "ipython",
    "version": 3
   },
   "file_extension": ".py",
   "mimetype": "text/x-python",
   "name": "python",
   "nbconvert_exporter": "python",
   "pygments_lexer": "ipython3",
   "version": "3.6.5"
  }
 },
 "nbformat": 4,
 "nbformat_minor": 2
}
