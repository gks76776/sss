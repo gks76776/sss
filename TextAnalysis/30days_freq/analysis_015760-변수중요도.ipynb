{
 "cells": [
  {
   "cell_type": "code",
   "execution_count": 19,
   "metadata": {},
   "outputs": [],
   "source": [
    "import pandas as pd\n",
    "import sys\n",
    "import os\n",
    "if not sys.modules.get('pyarrow'):\n",
    "    os.system('pip3 install pyarrow')\n",
    "import numpy as np\n",
    "from glob import glob\n",
    "import datetime \n",
    "from dateutil.relativedelta import relativedelta\n",
    "from collections import Counter\n",
    "import numpy as np\n",
    "from sklearn import metrics\n",
    "import numpy as np\n",
    "import operator\n",
    "import seaborn as sns"
   ]
  },
  {
   "cell_type": "code",
   "execution_count": 20,
   "metadata": {},
   "outputs": [],
   "source": [
    "# 월이 한자릿수 일 경우 앞에 0을 붙여줌\n",
    "def month_vouch(m):\n",
    "    if len(str(m))==1:\n",
    "        return '0'+str(m)\n",
    "    else:\n",
    "        return str(m)"
   ]
  },
  {
   "cell_type": "code",
   "execution_count": 21,
   "metadata": {},
   "outputs": [],
   "source": [
    "# 상관계수 계산 \n",
    "def pearson_cor(a,b):    \n",
    "    if a.shape != b.shape:\n",
    "        print('크기가 다른 데이터입니다.')            \n",
    "    else:\n",
    "        return((np.dot(a,b) - np.mean(a)*np.mean(b)*a.shape[0])/(a.shape[0]-1))/(np.std(a)*np.std(b))"
   ]
  },
  {
   "cell_type": "code",
   "execution_count": 22,
   "metadata": {},
   "outputs": [],
   "source": [
    "# 수익률 값이 양수면 1 음수면 1 \n",
    "def labeling(data):\n",
    "    if data>0:\n",
    "        data = 1\n",
    "    elif data <0:\n",
    "        data = -1\n",
    "    return data"
   ]
  },
  {
   "cell_type": "code",
   "execution_count": 23,
   "metadata": {},
   "outputs": [],
   "source": [
    "import platform\n",
    "import matplotlib.pyplot as plt\n",
    "from matplotlib import font_manager, rc\n",
    "# 한글처리\n",
    "plt.rcParams['axes.unicode_minus'] = False\n",
    "if platform.system() == 'Darwin':    # 맥\n",
    "    rc( 'font', family='AppleGothic' )\n",
    "elif platform.system() == 'Windows': # 윈도우\n",
    "    # 폰트 차후 확인\n",
    "    fontPath = 'c:/Windows/Fonts/malgun.ttf'\n",
    "    fontName = font_manager.FontProperties( fname=fontPath ).get_name()\n",
    "    rc( 'font', family=fontName )\n",
    "else:\n",
    "    print('알수없는 시스템. 미적용')"
   ]
  },
  {
   "cell_type": "code",
   "execution_count": 24,
   "metadata": {},
   "outputs": [],
   "source": [
    "from sklearn.linear_model import LogisticRegression\n",
    "if not sys.modules.get('xgboost'):\n",
    "    os.system('pip3 install xgboost')\n",
    "from xgboost import XGBClassifier\n",
    "from sklearn.ensemble import RandomForestClassifier, AdaBoostClassifier, GradientBoostingClassifier, ExtraTreesClassifier, VotingClassifier\n",
    "from sklearn.discriminant_analysis import LinearDiscriminantAnalysis\n",
    "from sklearn.linear_model import LogisticRegression\n",
    "from sklearn.neighbors import KNeighborsClassifier\n",
    "from sklearn.tree import DecisionTreeClassifier\n",
    "from sklearn.neural_network import MLPClassifier\n",
    "from sklearn.svm import SVC,LinearSVC\n",
    "from sklearn.model_selection import GridSearchCV, cross_val_score, StratifiedKFold, learning_curve\n",
    "from sklearn.naive_bayes import GaussianNB,MultinomialNB,BernoulliNB\n",
    "from sklearn import metrics\n",
    "from sklearn.metrics import confusion_matrix\n",
    "from sklearn.model_selection import GridSearchCV, train_test_split"
   ]
  },
  {
   "cell_type": "code",
   "execution_count": 25,
   "metadata": {},
   "outputs": [],
   "source": [
    "stock_code = '015760'\n",
    "path = './data/freq2/naver_{0}_freq.parquet/'.format(stock_code)\n",
    "file_name = os.listdir(path)[0]\n",
    "# 일별 빈도 테이블 읽어오기\n",
    "data = pd.read_parquet(path+file_name)\n",
    "#data['date'] = pd.to_datetime(data['date'], format='%Y.%m.%d', errors='ignore')\n",
    "tag_dict= Counter()\n",
    "all_dict = Counter()"
   ]
  },
  {
   "cell_type": "code",
   "execution_count": 26,
   "metadata": {},
   "outputs": [],
   "source": [
    "data_sorting = data.sort_values(by='date')\n",
    "data_sorting.reset_index(inplace=True,drop=True)"
   ]
  },
  {
   "cell_type": "markdown",
   "metadata": {},
   "source": [
    "# 고려해야할 것\n",
    "- 각 컬럼의 총 빈도를 계산하여 특정 빈도 이하는 제거\n",
    "- 날짜 짝짓기\n",
    "- 전날과 당일 빈도 묶기 - 주말,휴일 고려 "
   ]
  },
  {
   "cell_type": "code",
   "execution_count": 27,
   "metadata": {
    "scrolled": true
   },
   "outputs": [],
   "source": [
    "#특정 이하 빈도 제거 (filter_size 만큼)\n",
    "sum_by_columns = data_sorting.drop(columns=['date']).sum(axis=0)\n",
    "abs_path = os.path.abspath('../file_list/crawl_data/naver_{0}.csv'.format(stock_code))\n",
    "csv_file = pd.read_csv(abs_path,header=None)\n",
    "\n",
    "filter_size = csv_file.shape[0]*0.02\n",
    "filtered_index_series = sum_by_columns>filter_size\n",
    "filtered_index = filtered_index_series[filtered_index_series==True].keys()\n",
    "\n",
    "data_filter_freq = data_sorting.loc[:,filtered_index]\n",
    "\n",
    "# 수익률과 날짜를 맞춰주기 위해서 하루를 미뤄준다.\n",
    "data_filter_freq.index = data_sorting['date'].apply(lambda x:datetime.datetime(int(x.split('.')[0]),int(x.split('.')[1]),int(x.split('.')[2]))+relativedelta(days=1))\n",
    "data_filter_freq = data_filter_freq.loc[:datetime.datetime(2018,11,30)]"
   ]
  },
  {
   "cell_type": "code",
   "execution_count": 28,
   "metadata": {},
   "outputs": [
    {
     "data": {
      "text/html": [
       "<div>\n",
       "<style scoped>\n",
       "    .dataframe tbody tr th:only-of-type {\n",
       "        vertical-align: middle;\n",
       "    }\n",
       "\n",
       "    .dataframe tbody tr th {\n",
       "        vertical-align: top;\n",
       "    }\n",
       "\n",
       "    .dataframe thead th {\n",
       "        text-align: right;\n",
       "    }\n",
       "</style>\n",
       "<table border=\"1\" class=\"dataframe\">\n",
       "  <thead>\n",
       "    <tr style=\"text-align: right;\">\n",
       "      <th></th>\n",
       "      <th>!!/sf</th>\n",
       "      <th>!/sf</th>\n",
       "      <th>%/sw</th>\n",
       "      <th>&amp;/sw</th>\n",
       "      <th>..../se</th>\n",
       "      <th>.../se</th>\n",
       "      <th>../se</th>\n",
       "      <th>./se</th>\n",
       "      <th>./sf</th>\n",
       "      <th>0/sn</th>\n",
       "      <th>...</th>\n",
       "      <th>하락/nng</th>\n",
       "      <th>한/mm</th>\n",
       "      <th>한/nnp</th>\n",
       "      <th>한국/nnp</th>\n",
       "      <th>한국전력/nnp</th>\n",
       "      <th>한전/nnp</th>\n",
       "      <th>현재/mag</th>\n",
       "      <th>홈오홈마니/nng</th>\n",
       "      <th>회사/nng</th>\n",
       "      <th>후/nng</th>\n",
       "    </tr>\n",
       "    <tr>\n",
       "      <th>date</th>\n",
       "      <th></th>\n",
       "      <th></th>\n",
       "      <th></th>\n",
       "      <th></th>\n",
       "      <th></th>\n",
       "      <th></th>\n",
       "      <th></th>\n",
       "      <th></th>\n",
       "      <th></th>\n",
       "      <th></th>\n",
       "      <th></th>\n",
       "      <th></th>\n",
       "      <th></th>\n",
       "      <th></th>\n",
       "      <th></th>\n",
       "      <th></th>\n",
       "      <th></th>\n",
       "      <th></th>\n",
       "      <th></th>\n",
       "      <th></th>\n",
       "      <th></th>\n",
       "    </tr>\n",
       "  </thead>\n",
       "  <tbody>\n",
       "    <tr>\n",
       "      <th>2017-06-08</th>\n",
       "      <td>1</td>\n",
       "      <td>2</td>\n",
       "      <td>14</td>\n",
       "      <td>0</td>\n",
       "      <td>1</td>\n",
       "      <td>7</td>\n",
       "      <td>8</td>\n",
       "      <td>6</td>\n",
       "      <td>39</td>\n",
       "      <td>0</td>\n",
       "      <td>...</td>\n",
       "      <td>0</td>\n",
       "      <td>2</td>\n",
       "      <td>1</td>\n",
       "      <td>0</td>\n",
       "      <td>2</td>\n",
       "      <td>7</td>\n",
       "      <td>0</td>\n",
       "      <td>0</td>\n",
       "      <td>0</td>\n",
       "      <td>1</td>\n",
       "    </tr>\n",
       "    <tr>\n",
       "      <th>2017-06-09</th>\n",
       "      <td>1</td>\n",
       "      <td>5</td>\n",
       "      <td>2</td>\n",
       "      <td>0</td>\n",
       "      <td>6</td>\n",
       "      <td>4</td>\n",
       "      <td>6</td>\n",
       "      <td>3</td>\n",
       "      <td>28</td>\n",
       "      <td>0</td>\n",
       "      <td>...</td>\n",
       "      <td>1</td>\n",
       "      <td>4</td>\n",
       "      <td>2</td>\n",
       "      <td>1</td>\n",
       "      <td>1</td>\n",
       "      <td>8</td>\n",
       "      <td>1</td>\n",
       "      <td>0</td>\n",
       "      <td>1</td>\n",
       "      <td>0</td>\n",
       "    </tr>\n",
       "    <tr>\n",
       "      <th>2017-06-10</th>\n",
       "      <td>1</td>\n",
       "      <td>4</td>\n",
       "      <td>0</td>\n",
       "      <td>0</td>\n",
       "      <td>5</td>\n",
       "      <td>6</td>\n",
       "      <td>10</td>\n",
       "      <td>7</td>\n",
       "      <td>62</td>\n",
       "      <td>0</td>\n",
       "      <td>...</td>\n",
       "      <td>1</td>\n",
       "      <td>2</td>\n",
       "      <td>0</td>\n",
       "      <td>0</td>\n",
       "      <td>1</td>\n",
       "      <td>5</td>\n",
       "      <td>0</td>\n",
       "      <td>0</td>\n",
       "      <td>1</td>\n",
       "      <td>2</td>\n",
       "    </tr>\n",
       "    <tr>\n",
       "      <th>2017-06-11</th>\n",
       "      <td>0</td>\n",
       "      <td>4</td>\n",
       "      <td>0</td>\n",
       "      <td>0</td>\n",
       "      <td>0</td>\n",
       "      <td>2</td>\n",
       "      <td>2</td>\n",
       "      <td>2</td>\n",
       "      <td>52</td>\n",
       "      <td>0</td>\n",
       "      <td>...</td>\n",
       "      <td>0</td>\n",
       "      <td>4</td>\n",
       "      <td>0</td>\n",
       "      <td>0</td>\n",
       "      <td>0</td>\n",
       "      <td>1</td>\n",
       "      <td>0</td>\n",
       "      <td>0</td>\n",
       "      <td>3</td>\n",
       "      <td>2</td>\n",
       "    </tr>\n",
       "    <tr>\n",
       "      <th>2017-06-12</th>\n",
       "      <td>3</td>\n",
       "      <td>6</td>\n",
       "      <td>5</td>\n",
       "      <td>0</td>\n",
       "      <td>3</td>\n",
       "      <td>3</td>\n",
       "      <td>14</td>\n",
       "      <td>5</td>\n",
       "      <td>84</td>\n",
       "      <td>0</td>\n",
       "      <td>...</td>\n",
       "      <td>0</td>\n",
       "      <td>1</td>\n",
       "      <td>3</td>\n",
       "      <td>0</td>\n",
       "      <td>3</td>\n",
       "      <td>12</td>\n",
       "      <td>1</td>\n",
       "      <td>0</td>\n",
       "      <td>2</td>\n",
       "      <td>1</td>\n",
       "    </tr>\n",
       "  </tbody>\n",
       "</table>\n",
       "<p>5 rows × 223 columns</p>\n",
       "</div>"
      ],
      "text/plain": [
       "            !!/sf  !/sf  %/sw  &/sw  ..../se  .../se  ../se  ./se  ./sf  0/sn  \\\n",
       "date                                                                            \n",
       "2017-06-08      1     2    14     0        1       7      8     6    39     0   \n",
       "2017-06-09      1     5     2     0        6       4      6     3    28     0   \n",
       "2017-06-10      1     4     0     0        5       6     10     7    62     0   \n",
       "2017-06-11      0     4     0     0        0       2      2     2    52     0   \n",
       "2017-06-12      3     6     5     0        3       3     14     5    84     0   \n",
       "\n",
       "            ...    하락/nng  한/mm  한/nnp  한국/nnp  한국전력/nnp  한전/nnp  현재/mag  \\\n",
       "date        ...                                                            \n",
       "2017-06-08  ...         0     2      1       0         2       7       0   \n",
       "2017-06-09  ...         1     4      2       1         1       8       1   \n",
       "2017-06-10  ...         1     2      0       0         1       5       0   \n",
       "2017-06-11  ...         0     4      0       0         0       1       0   \n",
       "2017-06-12  ...         0     1      3       0         3      12       1   \n",
       "\n",
       "            홈오홈마니/nng  회사/nng  후/nng  \n",
       "date                                  \n",
       "2017-06-08          0       0      1  \n",
       "2017-06-09          0       1      0  \n",
       "2017-06-10          0       1      2  \n",
       "2017-06-11          0       3      2  \n",
       "2017-06-12          0       2      1  \n",
       "\n",
       "[5 rows x 223 columns]"
      ]
     },
     "execution_count": 28,
     "metadata": {},
     "output_type": "execute_result"
    }
   ],
   "source": [
    "data_filter_freq.head()"
   ]
  },
  {
   "cell_type": "code",
   "execution_count": 29,
   "metadata": {},
   "outputs": [
    {
     "data": {
      "text/html": [
       "<div>\n",
       "<style scoped>\n",
       "    .dataframe tbody tr th:only-of-type {\n",
       "        vertical-align: middle;\n",
       "    }\n",
       "\n",
       "    .dataframe tbody tr th {\n",
       "        vertical-align: top;\n",
       "    }\n",
       "\n",
       "    .dataframe thead th {\n",
       "        text-align: right;\n",
       "    }\n",
       "</style>\n",
       "<table border=\"1\" class=\"dataframe\">\n",
       "  <thead>\n",
       "    <tr style=\"text-align: right;\">\n",
       "      <th></th>\n",
       "      <th>!!/sf</th>\n",
       "      <th>!/sf</th>\n",
       "      <th>%/sw</th>\n",
       "      <th>&amp;/sw</th>\n",
       "      <th>..../se</th>\n",
       "      <th>.../se</th>\n",
       "      <th>../se</th>\n",
       "      <th>./se</th>\n",
       "      <th>./sf</th>\n",
       "      <th>0/sn</th>\n",
       "      <th>...</th>\n",
       "      <th>하락/nng</th>\n",
       "      <th>한/mm</th>\n",
       "      <th>한/nnp</th>\n",
       "      <th>한국/nnp</th>\n",
       "      <th>한국전력/nnp</th>\n",
       "      <th>한전/nnp</th>\n",
       "      <th>현재/mag</th>\n",
       "      <th>홈오홈마니/nng</th>\n",
       "      <th>회사/nng</th>\n",
       "      <th>후/nng</th>\n",
       "    </tr>\n",
       "    <tr>\n",
       "      <th>date</th>\n",
       "      <th></th>\n",
       "      <th></th>\n",
       "      <th></th>\n",
       "      <th></th>\n",
       "      <th></th>\n",
       "      <th></th>\n",
       "      <th></th>\n",
       "      <th></th>\n",
       "      <th></th>\n",
       "      <th></th>\n",
       "      <th></th>\n",
       "      <th></th>\n",
       "      <th></th>\n",
       "      <th></th>\n",
       "      <th></th>\n",
       "      <th></th>\n",
       "      <th></th>\n",
       "      <th></th>\n",
       "      <th></th>\n",
       "      <th></th>\n",
       "      <th></th>\n",
       "    </tr>\n",
       "  </thead>\n",
       "  <tbody>\n",
       "    <tr>\n",
       "      <th>2018-11-26</th>\n",
       "      <td>0</td>\n",
       "      <td>1</td>\n",
       "      <td>20</td>\n",
       "      <td>0</td>\n",
       "      <td>0</td>\n",
       "      <td>3</td>\n",
       "      <td>2</td>\n",
       "      <td>2</td>\n",
       "      <td>92</td>\n",
       "      <td>1</td>\n",
       "      <td>...</td>\n",
       "      <td>1</td>\n",
       "      <td>5</td>\n",
       "      <td>1</td>\n",
       "      <td>0</td>\n",
       "      <td>1</td>\n",
       "      <td>0</td>\n",
       "      <td>3</td>\n",
       "      <td>0</td>\n",
       "      <td>0</td>\n",
       "      <td>1</td>\n",
       "    </tr>\n",
       "    <tr>\n",
       "      <th>2018-11-27</th>\n",
       "      <td>15</td>\n",
       "      <td>26</td>\n",
       "      <td>19</td>\n",
       "      <td>0</td>\n",
       "      <td>7</td>\n",
       "      <td>7</td>\n",
       "      <td>12</td>\n",
       "      <td>8</td>\n",
       "      <td>163</td>\n",
       "      <td>2</td>\n",
       "      <td>...</td>\n",
       "      <td>9</td>\n",
       "      <td>5</td>\n",
       "      <td>3</td>\n",
       "      <td>5</td>\n",
       "      <td>6</td>\n",
       "      <td>14</td>\n",
       "      <td>1</td>\n",
       "      <td>0</td>\n",
       "      <td>2</td>\n",
       "      <td>1</td>\n",
       "    </tr>\n",
       "    <tr>\n",
       "      <th>2018-11-28</th>\n",
       "      <td>2</td>\n",
       "      <td>11</td>\n",
       "      <td>3</td>\n",
       "      <td>0</td>\n",
       "      <td>4</td>\n",
       "      <td>5</td>\n",
       "      <td>12</td>\n",
       "      <td>7</td>\n",
       "      <td>84</td>\n",
       "      <td>1</td>\n",
       "      <td>...</td>\n",
       "      <td>1</td>\n",
       "      <td>2</td>\n",
       "      <td>0</td>\n",
       "      <td>2</td>\n",
       "      <td>2</td>\n",
       "      <td>14</td>\n",
       "      <td>1</td>\n",
       "      <td>0</td>\n",
       "      <td>1</td>\n",
       "      <td>1</td>\n",
       "    </tr>\n",
       "    <tr>\n",
       "      <th>2018-11-29</th>\n",
       "      <td>22</td>\n",
       "      <td>40</td>\n",
       "      <td>22</td>\n",
       "      <td>18</td>\n",
       "      <td>5</td>\n",
       "      <td>13</td>\n",
       "      <td>8</td>\n",
       "      <td>15</td>\n",
       "      <td>238</td>\n",
       "      <td>1</td>\n",
       "      <td>...</td>\n",
       "      <td>8</td>\n",
       "      <td>10</td>\n",
       "      <td>8</td>\n",
       "      <td>18</td>\n",
       "      <td>12</td>\n",
       "      <td>35</td>\n",
       "      <td>3</td>\n",
       "      <td>0</td>\n",
       "      <td>4</td>\n",
       "      <td>3</td>\n",
       "    </tr>\n",
       "    <tr>\n",
       "      <th>2018-11-30</th>\n",
       "      <td>2</td>\n",
       "      <td>5</td>\n",
       "      <td>12</td>\n",
       "      <td>0</td>\n",
       "      <td>0</td>\n",
       "      <td>5</td>\n",
       "      <td>2</td>\n",
       "      <td>6</td>\n",
       "      <td>209</td>\n",
       "      <td>0</td>\n",
       "      <td>...</td>\n",
       "      <td>3</td>\n",
       "      <td>4</td>\n",
       "      <td>5</td>\n",
       "      <td>28</td>\n",
       "      <td>4</td>\n",
       "      <td>19</td>\n",
       "      <td>5</td>\n",
       "      <td>0</td>\n",
       "      <td>3</td>\n",
       "      <td>1</td>\n",
       "    </tr>\n",
       "  </tbody>\n",
       "</table>\n",
       "<p>5 rows × 223 columns</p>\n",
       "</div>"
      ],
      "text/plain": [
       "            !!/sf  !/sf  %/sw  &/sw  ..../se  .../se  ../se  ./se  ./sf  0/sn  \\\n",
       "date                                                                            \n",
       "2018-11-26      0     1    20     0        0       3      2     2    92     1   \n",
       "2018-11-27     15    26    19     0        7       7     12     8   163     2   \n",
       "2018-11-28      2    11     3     0        4       5     12     7    84     1   \n",
       "2018-11-29     22    40    22    18        5      13      8    15   238     1   \n",
       "2018-11-30      2     5    12     0        0       5      2     6   209     0   \n",
       "\n",
       "            ...    하락/nng  한/mm  한/nnp  한국/nnp  한국전력/nnp  한전/nnp  현재/mag  \\\n",
       "date        ...                                                            \n",
       "2018-11-26  ...         1     5      1       0         1       0       3   \n",
       "2018-11-27  ...         9     5      3       5         6      14       1   \n",
       "2018-11-28  ...         1     2      0       2         2      14       1   \n",
       "2018-11-29  ...         8    10      8      18        12      35       3   \n",
       "2018-11-30  ...         3     4      5      28         4      19       5   \n",
       "\n",
       "            홈오홈마니/nng  회사/nng  후/nng  \n",
       "date                                  \n",
       "2018-11-26          0       0      1  \n",
       "2018-11-27          0       2      1  \n",
       "2018-11-28          0       1      1  \n",
       "2018-11-29          0       4      3  \n",
       "2018-11-30          0       3      1  \n",
       "\n",
       "[5 rows x 223 columns]"
      ]
     },
     "execution_count": 29,
     "metadata": {},
     "output_type": "execute_result"
    }
   ],
   "source": [
    "data_filter_freq.tail()"
   ]
  },
  {
   "cell_type": "code",
   "execution_count": 30,
   "metadata": {},
   "outputs": [],
   "source": [
    "#### 보류\n",
    "#날짜 짝짓기\n",
    "#첫행 처리는 어떻게 할것인가? 없으면 더해주지 않는다. 있으면 더한다. "
   ]
  },
  {
   "cell_type": "code",
   "execution_count": 31,
   "metadata": {},
   "outputs": [],
   "source": [
    "# 7월 30일 데이터는 없다.\n",
    "#data_filter_freq.loc[datetime.datetime(year=2017,month=7,day=30),:]"
   ]
  },
  {
   "cell_type": "code",
   "execution_count": 32,
   "metadata": {},
   "outputs": [],
   "source": [
    "### 수익률 데이터 처리\n",
    "earning_month_raw = pd.read_excel('./data/현대차,한전_수익률.xlsx')\n",
    "# 해당 열 추출\n",
    "symbol = earning_month_raw.loc[:,'A'+stock_code]\n",
    "return_data =symbol\n",
    "earning_data = return_data[datetime.datetime(year=2017,month=6,day=8):datetime.datetime(year=2018,month=11,day=30)]"
   ]
  },
  {
   "cell_type": "code",
   "execution_count": 33,
   "metadata": {},
   "outputs": [],
   "source": [
    "# ### 수익률 데이터 처리\n",
    "# earning_month_raw = pd.read_excel('./data/일일수익률.xlsx')\n",
    "\n",
    "# symbol = earning_month_raw.loc['Symbol Name':,:]\n",
    "# symbol.columns = earning_month_raw.loc['Symbol']\n",
    "\n",
    "# # 해당 열 추출\n",
    "# return_data = symbol['A'+stock_code]\n",
    "\n",
    "\n",
    "# earning_data = return_data[datetime.datetime(year=2017,month=6,day=8):datetime.datetime(year=2018,month=11,day=30)]\n"
   ]
  },
  {
   "cell_type": "code",
   "execution_count": 34,
   "metadata": {},
   "outputs": [
    {
     "data": {
      "text/plain": [
       "2017-06-08    1.40\n",
       "2017-06-09    0.11\n",
       "2017-06-12    0.80\n",
       "2017-06-13   -0.80\n",
       "2017-06-14   -1.83\n",
       "Name: A015760, dtype: float64"
      ]
     },
     "execution_count": 34,
     "metadata": {},
     "output_type": "execute_result"
    }
   ],
   "source": [
    "earning_data.head()"
   ]
  },
  {
   "cell_type": "code",
   "execution_count": 35,
   "metadata": {},
   "outputs": [
    {
     "name": "stdout",
     "output_type": "stream",
     "text": [
      "1.6372378759209891\n"
     ]
    },
    {
     "name": "stderr",
     "output_type": "stream",
     "text": [
      "C:\\ProgramData\\Anaconda3\\lib\\site-packages\\scipy\\stats\\stats.py:1713: FutureWarning: Using a non-tuple sequence for multidimensional indexing is deprecated; use `arr[tuple(seq)]` instead of `arr[seq]`. In the future this will be interpreted as an array index, `arr[np.array(seq)]`, which will result either in an error or a different result.\n",
      "  return np.add.reduce(sorted[indexer] * weights, axis=axis) / sumval\n"
     ]
    },
    {
     "data": {
      "image/png": "[encoded data removed]",
      "text/plain": [
       "<Figure size 432x288 with 1 Axes>"
      ]
     },
     "metadata": {
      "needs_background": "light"
     },
     "output_type": "display_data"
    }
   ],
   "source": [
    "sns.distplot(list(earning_data))\n",
    "print(earning_data.std())"
   ]
  },
  {
   "cell_type": "code",
   "execution_count": 36,
   "metadata": {},
   "outputs": [
    {
     "data": {
      "text/plain": [
       "<matplotlib.collections.PathCollection at 0x2b8a961c4a8>"
      ]
     },
     "execution_count": 36,
     "metadata": {},
     "output_type": "execute_result"
    },
    {
     "data": {
      "image/png": "[encoded data removed]",
      "text/plain": [
       "<Figure size 432x288 with 1 Axes>"
      ]
     },
     "metadata": {
      "needs_background": "light"
     },
     "output_type": "display_data"
    }
   ],
   "source": [
    "plt.scatter(earning_data.index,earning_data) #일일 변화율은 안정적인 편이다."
   ]
  },
  {
   "cell_type": "code",
   "execution_count": 37,
   "metadata": {},
   "outputs": [
    {
     "data": {
      "text/plain": [
       "[<matplotlib.lines.Line2D at 0x2b8a94c9898>]"
      ]
     },
     "execution_count": 37,
     "metadata": {},
     "output_type": "execute_result"
    },
    {
     "data": {
      "image/png": "[encoded data removed]",
      "text/plain": [
       "<Figure size 432x288 with 1 Axes>"
      ]
     },
     "metadata": {
      "needs_background": "light"
     },
     "output_type": "display_data"
    }
   ],
   "source": [
    "plt.plot(earning_data)"
   ]
  },
  {
   "cell_type": "code",
   "execution_count": 38,
   "metadata": {},
   "outputs": [],
   "source": [
    "# earning_data의 전날 텍스트 빈도와 earning_data의 수익률의 짝을 맞춰야한다. \n",
    "# 주말과 휴일을 고려해야한다.\n",
    "# 합치기 위해서는 earning_data의 index 정보가 필요하다.\n",
    "\n",
    "#earning_data.index =  [date- relativedelta(days=1) for date in earning_data.index]"
   ]
  },
  {
   "cell_type": "code",
   "execution_count": 39,
   "metadata": {},
   "outputs": [
    {
     "data": {
      "text/plain": [
       "2018-11-26    6.16\n",
       "2018-11-27    1.88\n",
       "2018-11-28    3.18\n",
       "2018-11-29   -1.30\n",
       "2018-11-30   -2.30\n",
       "Name: A015760, dtype: float64"
      ]
     },
     "execution_count": 39,
     "metadata": {},
     "output_type": "execute_result"
    }
   ],
   "source": [
    "earning_data.tail()"
   ]
  },
  {
   "cell_type": "code",
   "execution_count": 40,
   "metadata": {},
   "outputs": [
    {
     "data": {
      "text/plain": [
       "DatetimeIndex(['2017-06-08', '2017-06-09', '2017-06-10', '2017-06-11',\n",
       "               '2017-06-12', '2017-06-13', '2017-06-14', '2017-06-15',\n",
       "               '2017-06-16', '2017-06-17',\n",
       "               ...\n",
       "               '2018-11-21', '2018-11-22', '2018-11-23', '2018-11-24',\n",
       "               '2018-11-25', '2018-11-26', '2018-11-27', '2018-11-28',\n",
       "               '2018-11-29', '2018-11-30'],\n",
       "              dtype='datetime64[ns]', name='date', length=541, freq=None)"
      ]
     },
     "execution_count": 40,
     "metadata": {},
     "output_type": "execute_result"
    }
   ],
   "source": [
    "# 이 날짜에 있는 빈도를 수익률과 상관계수를 구할거임\n",
    "data_filter_freq.index "
   ]
  },
  {
   "cell_type": "code",
   "execution_count": 41,
   "metadata": {
    "scrolled": true
   },
   "outputs": [],
   "source": [
    "differ_date = sorted(list(set(data_filter_freq.index).difference(set(earning_data.index))))\n",
    "#print(differ_date)\n",
    "i = 0\n",
    "for idx in range(len(differ_date)-1):\n",
    "    #print(element)\n",
    "    # 10 11 17 idx = 1\n",
    "    if (differ_date[idx+1]-differ_date[idx]).days > 1:      \n",
    "        #print(differ_date[i],differ_date[idx+1],data_filter_freq.loc[differ_date[i:idx+1],:].sum())\n",
    "        # 휴일 or 주말이 끼면 그 날을 포함해서 다음 날에 반영한다.\n",
    "        # 휴일 다음날 \n",
    "        append_idx = differ_date[idx]+relativedelta(days=1)\n",
    "        sum_list = differ_date[i:idx+1]\n",
    "        sum_list.append(append_idx)\n",
    "        data_filter_freq.loc[append_idx,:] = data_filter_freq.loc[sum_list,:].sum()//len(sum_list)\n",
    "        data_filter_freq.drop(index = differ_date[i:idx+1],inplace=True)\n",
    "        #del data_filter_freq.loc[differ_date[i:idx+1],:]\n",
    "        #print(sum_list,'append_idx:',append_idx)\n",
    "        i = idx+1"
   ]
  },
  {
   "cell_type": "code",
   "execution_count": 42,
   "metadata": {},
   "outputs": [
    {
     "data": {
      "text/html": [
       "<div>\n",
       "<style scoped>\n",
       "    .dataframe tbody tr th:only-of-type {\n",
       "        vertical-align: middle;\n",
       "    }\n",
       "\n",
       "    .dataframe tbody tr th {\n",
       "        vertical-align: top;\n",
       "    }\n",
       "\n",
       "    .dataframe thead th {\n",
       "        text-align: right;\n",
       "    }\n",
       "</style>\n",
       "<table border=\"1\" class=\"dataframe\">\n",
       "  <thead>\n",
       "    <tr style=\"text-align: right;\">\n",
       "      <th></th>\n",
       "      <th>!!/sf</th>\n",
       "      <th>!/sf</th>\n",
       "      <th>%/sw</th>\n",
       "      <th>&amp;/sw</th>\n",
       "      <th>..../se</th>\n",
       "      <th>.../se</th>\n",
       "      <th>../se</th>\n",
       "      <th>./se</th>\n",
       "      <th>./sf</th>\n",
       "      <th>0/sn</th>\n",
       "      <th>...</th>\n",
       "      <th>하락/nng</th>\n",
       "      <th>한/mm</th>\n",
       "      <th>한/nnp</th>\n",
       "      <th>한국/nnp</th>\n",
       "      <th>한국전력/nnp</th>\n",
       "      <th>한전/nnp</th>\n",
       "      <th>현재/mag</th>\n",
       "      <th>홈오홈마니/nng</th>\n",
       "      <th>회사/nng</th>\n",
       "      <th>후/nng</th>\n",
       "    </tr>\n",
       "    <tr>\n",
       "      <th>date</th>\n",
       "      <th></th>\n",
       "      <th></th>\n",
       "      <th></th>\n",
       "      <th></th>\n",
       "      <th></th>\n",
       "      <th></th>\n",
       "      <th></th>\n",
       "      <th></th>\n",
       "      <th></th>\n",
       "      <th></th>\n",
       "      <th></th>\n",
       "      <th></th>\n",
       "      <th></th>\n",
       "      <th></th>\n",
       "      <th></th>\n",
       "      <th></th>\n",
       "      <th></th>\n",
       "      <th></th>\n",
       "      <th></th>\n",
       "      <th></th>\n",
       "      <th></th>\n",
       "    </tr>\n",
       "  </thead>\n",
       "  <tbody>\n",
       "    <tr>\n",
       "      <th>2017-06-08</th>\n",
       "      <td>1</td>\n",
       "      <td>2</td>\n",
       "      <td>14</td>\n",
       "      <td>0</td>\n",
       "      <td>1</td>\n",
       "      <td>7</td>\n",
       "      <td>8</td>\n",
       "      <td>6</td>\n",
       "      <td>39</td>\n",
       "      <td>0</td>\n",
       "      <td>...</td>\n",
       "      <td>0</td>\n",
       "      <td>2</td>\n",
       "      <td>1</td>\n",
       "      <td>0</td>\n",
       "      <td>2</td>\n",
       "      <td>7</td>\n",
       "      <td>0</td>\n",
       "      <td>0</td>\n",
       "      <td>0</td>\n",
       "      <td>1</td>\n",
       "    </tr>\n",
       "    <tr>\n",
       "      <th>2017-06-09</th>\n",
       "      <td>1</td>\n",
       "      <td>5</td>\n",
       "      <td>2</td>\n",
       "      <td>0</td>\n",
       "      <td>6</td>\n",
       "      <td>4</td>\n",
       "      <td>6</td>\n",
       "      <td>3</td>\n",
       "      <td>28</td>\n",
       "      <td>0</td>\n",
       "      <td>...</td>\n",
       "      <td>1</td>\n",
       "      <td>4</td>\n",
       "      <td>2</td>\n",
       "      <td>1</td>\n",
       "      <td>1</td>\n",
       "      <td>8</td>\n",
       "      <td>1</td>\n",
       "      <td>0</td>\n",
       "      <td>1</td>\n",
       "      <td>0</td>\n",
       "    </tr>\n",
       "    <tr>\n",
       "      <th>2017-06-12</th>\n",
       "      <td>1</td>\n",
       "      <td>4</td>\n",
       "      <td>1</td>\n",
       "      <td>0</td>\n",
       "      <td>2</td>\n",
       "      <td>3</td>\n",
       "      <td>8</td>\n",
       "      <td>4</td>\n",
       "      <td>66</td>\n",
       "      <td>0</td>\n",
       "      <td>...</td>\n",
       "      <td>0</td>\n",
       "      <td>2</td>\n",
       "      <td>1</td>\n",
       "      <td>0</td>\n",
       "      <td>1</td>\n",
       "      <td>6</td>\n",
       "      <td>0</td>\n",
       "      <td>0</td>\n",
       "      <td>2</td>\n",
       "      <td>1</td>\n",
       "    </tr>\n",
       "    <tr>\n",
       "      <th>2017-06-13</th>\n",
       "      <td>2</td>\n",
       "      <td>2</td>\n",
       "      <td>5</td>\n",
       "      <td>0</td>\n",
       "      <td>10</td>\n",
       "      <td>14</td>\n",
       "      <td>13</td>\n",
       "      <td>7</td>\n",
       "      <td>47</td>\n",
       "      <td>0</td>\n",
       "      <td>...</td>\n",
       "      <td>5</td>\n",
       "      <td>0</td>\n",
       "      <td>0</td>\n",
       "      <td>1</td>\n",
       "      <td>1</td>\n",
       "      <td>10</td>\n",
       "      <td>0</td>\n",
       "      <td>0</td>\n",
       "      <td>0</td>\n",
       "      <td>0</td>\n",
       "    </tr>\n",
       "    <tr>\n",
       "      <th>2017-06-14</th>\n",
       "      <td>1</td>\n",
       "      <td>3</td>\n",
       "      <td>1</td>\n",
       "      <td>0</td>\n",
       "      <td>7</td>\n",
       "      <td>5</td>\n",
       "      <td>8</td>\n",
       "      <td>1</td>\n",
       "      <td>56</td>\n",
       "      <td>1</td>\n",
       "      <td>...</td>\n",
       "      <td>1</td>\n",
       "      <td>2</td>\n",
       "      <td>1</td>\n",
       "      <td>0</td>\n",
       "      <td>2</td>\n",
       "      <td>4</td>\n",
       "      <td>0</td>\n",
       "      <td>0</td>\n",
       "      <td>3</td>\n",
       "      <td>0</td>\n",
       "    </tr>\n",
       "    <tr>\n",
       "      <th>2017-06-15</th>\n",
       "      <td>5</td>\n",
       "      <td>9</td>\n",
       "      <td>8</td>\n",
       "      <td>0</td>\n",
       "      <td>7</td>\n",
       "      <td>37</td>\n",
       "      <td>31</td>\n",
       "      <td>13</td>\n",
       "      <td>94</td>\n",
       "      <td>0</td>\n",
       "      <td>...</td>\n",
       "      <td>6</td>\n",
       "      <td>7</td>\n",
       "      <td>4</td>\n",
       "      <td>4</td>\n",
       "      <td>0</td>\n",
       "      <td>16</td>\n",
       "      <td>0</td>\n",
       "      <td>0</td>\n",
       "      <td>2</td>\n",
       "      <td>3</td>\n",
       "    </tr>\n",
       "    <tr>\n",
       "      <th>2017-06-16</th>\n",
       "      <td>1</td>\n",
       "      <td>20</td>\n",
       "      <td>1</td>\n",
       "      <td>0</td>\n",
       "      <td>3</td>\n",
       "      <td>10</td>\n",
       "      <td>12</td>\n",
       "      <td>6</td>\n",
       "      <td>178</td>\n",
       "      <td>9</td>\n",
       "      <td>...</td>\n",
       "      <td>5</td>\n",
       "      <td>3</td>\n",
       "      <td>1</td>\n",
       "      <td>0</td>\n",
       "      <td>2</td>\n",
       "      <td>8</td>\n",
       "      <td>0</td>\n",
       "      <td>0</td>\n",
       "      <td>0</td>\n",
       "      <td>1</td>\n",
       "    </tr>\n",
       "    <tr>\n",
       "      <th>2017-06-19</th>\n",
       "      <td>0</td>\n",
       "      <td>4</td>\n",
       "      <td>4</td>\n",
       "      <td>0</td>\n",
       "      <td>1</td>\n",
       "      <td>3</td>\n",
       "      <td>3</td>\n",
       "      <td>1</td>\n",
       "      <td>26</td>\n",
       "      <td>1</td>\n",
       "      <td>...</td>\n",
       "      <td>2</td>\n",
       "      <td>0</td>\n",
       "      <td>0</td>\n",
       "      <td>0</td>\n",
       "      <td>1</td>\n",
       "      <td>4</td>\n",
       "      <td>0</td>\n",
       "      <td>0</td>\n",
       "      <td>1</td>\n",
       "      <td>0</td>\n",
       "    </tr>\n",
       "    <tr>\n",
       "      <th>2017-06-20</th>\n",
       "      <td>2</td>\n",
       "      <td>19</td>\n",
       "      <td>6</td>\n",
       "      <td>0</td>\n",
       "      <td>5</td>\n",
       "      <td>26</td>\n",
       "      <td>27</td>\n",
       "      <td>22</td>\n",
       "      <td>167</td>\n",
       "      <td>2</td>\n",
       "      <td>...</td>\n",
       "      <td>1</td>\n",
       "      <td>11</td>\n",
       "      <td>6</td>\n",
       "      <td>4</td>\n",
       "      <td>4</td>\n",
       "      <td>36</td>\n",
       "      <td>1</td>\n",
       "      <td>0</td>\n",
       "      <td>2</td>\n",
       "      <td>1</td>\n",
       "    </tr>\n",
       "    <tr>\n",
       "      <th>2017-06-21</th>\n",
       "      <td>2</td>\n",
       "      <td>12</td>\n",
       "      <td>64</td>\n",
       "      <td>4</td>\n",
       "      <td>13</td>\n",
       "      <td>35</td>\n",
       "      <td>38</td>\n",
       "      <td>19</td>\n",
       "      <td>237</td>\n",
       "      <td>18</td>\n",
       "      <td>...</td>\n",
       "      <td>10</td>\n",
       "      <td>4</td>\n",
       "      <td>8</td>\n",
       "      <td>5</td>\n",
       "      <td>4</td>\n",
       "      <td>19</td>\n",
       "      <td>3</td>\n",
       "      <td>0</td>\n",
       "      <td>4</td>\n",
       "      <td>0</td>\n",
       "    </tr>\n",
       "  </tbody>\n",
       "</table>\n",
       "<p>10 rows × 223 columns</p>\n",
       "</div>"
      ],
      "text/plain": [
       "            !!/sf  !/sf  %/sw  &/sw  ..../se  .../se  ../se  ./se  ./sf  0/sn  \\\n",
       "date                                                                            \n",
       "2017-06-08      1     2    14     0        1       7      8     6    39     0   \n",
       "2017-06-09      1     5     2     0        6       4      6     3    28     0   \n",
       "2017-06-12      1     4     1     0        2       3      8     4    66     0   \n",
       "2017-06-13      2     2     5     0       10      14     13     7    47     0   \n",
       "2017-06-14      1     3     1     0        7       5      8     1    56     1   \n",
       "2017-06-15      5     9     8     0        7      37     31    13    94     0   \n",
       "2017-06-16      1    20     1     0        3      10     12     6   178     9   \n",
       "2017-06-19      0     4     4     0        1       3      3     1    26     1   \n",
       "2017-06-20      2    19     6     0        5      26     27    22   167     2   \n",
       "2017-06-21      2    12    64     4       13      35     38    19   237    18   \n",
       "\n",
       "            ...    하락/nng  한/mm  한/nnp  한국/nnp  한국전력/nnp  한전/nnp  현재/mag  \\\n",
       "date        ...                                                            \n",
       "2017-06-08  ...         0     2      1       0         2       7       0   \n",
       "2017-06-09  ...         1     4      2       1         1       8       1   \n",
       "2017-06-12  ...         0     2      1       0         1       6       0   \n",
       "2017-06-13  ...         5     0      0       1         1      10       0   \n",
       "2017-06-14  ...         1     2      1       0         2       4       0   \n",
       "2017-06-15  ...         6     7      4       4         0      16       0   \n",
       "2017-06-16  ...         5     3      1       0         2       8       0   \n",
       "2017-06-19  ...         2     0      0       0         1       4       0   \n",
       "2017-06-20  ...         1    11      6       4         4      36       1   \n",
       "2017-06-21  ...        10     4      8       5         4      19       3   \n",
       "\n",
       "            홈오홈마니/nng  회사/nng  후/nng  \n",
       "date                                  \n",
       "2017-06-08          0       0      1  \n",
       "2017-06-09          0       1      0  \n",
       "2017-06-12          0       2      1  \n",
       "2017-06-13          0       0      0  \n",
       "2017-06-14          0       3      0  \n",
       "2017-06-15          0       2      3  \n",
       "2017-06-16          0       0      1  \n",
       "2017-06-19          0       1      0  \n",
       "2017-06-20          0       2      1  \n",
       "2017-06-21          0       4      0  \n",
       "\n",
       "[10 rows x 223 columns]"
      ]
     },
     "execution_count": 42,
     "metadata": {},
     "output_type": "execute_result"
    }
   ],
   "source": [
    "data_filter_freq.head(10) # 6월 7일 금 토 일 "
   ]
  },
  {
   "cell_type": "code",
   "execution_count": 43,
   "metadata": {},
   "outputs": [
    {
     "name": "stdout",
     "output_type": "stream",
     "text": [
      "365 363\n"
     ]
    }
   ],
   "source": [
    "print(len(data_filter_freq),len(earning_data))"
   ]
  },
  {
   "cell_type": "code",
   "execution_count": 44,
   "metadata": {},
   "outputs": [],
   "source": [
    "differ_date1 = sorted(list(set(data_filter_freq.index).difference(set(earning_data.index))))"
   ]
  },
  {
   "cell_type": "code",
   "execution_count": 45,
   "metadata": {},
   "outputs": [
    {
     "data": {
      "text/plain": [
       "[Timestamp('2018-11-24 00:00:00'), Timestamp('2018-11-25 00:00:00')]"
      ]
     },
     "execution_count": 45,
     "metadata": {},
     "output_type": "execute_result"
    }
   ],
   "source": [
    "differ_date1 # 이유는 모르겠는데 이 때들 수익률이 없다. 그래서 지워보자"
   ]
  },
  {
   "cell_type": "code",
   "execution_count": 46,
   "metadata": {},
   "outputs": [],
   "source": [
    "data_filter_freq.drop(differ_date1,inplace=True,axis=0)"
   ]
  },
  {
   "cell_type": "code",
   "execution_count": 47,
   "metadata": {},
   "outputs": [],
   "source": [
    "differ_date2 = sorted(list(set(earning_data.index).difference(set(data_filter_freq.index))))"
   ]
  },
  {
   "cell_type": "code",
   "execution_count": 48,
   "metadata": {},
   "outputs": [
    {
     "data": {
      "text/plain": [
       "[]"
      ]
     },
     "execution_count": 48,
     "metadata": {},
     "output_type": "execute_result"
    }
   ],
   "source": [
    "differ_date2"
   ]
  },
  {
   "cell_type": "code",
   "execution_count": 49,
   "metadata": {},
   "outputs": [],
   "source": [
    "earning_data.drop(differ_date2, inplace=True, axis=0)"
   ]
  },
  {
   "cell_type": "code",
   "execution_count": 50,
   "metadata": {},
   "outputs": [
    {
     "name": "stdout",
     "output_type": "stream",
     "text": [
      "363 363\n"
     ]
    }
   ],
   "source": [
    "print(len(data_filter_freq),len(earning_data))"
   ]
  },
  {
   "cell_type": "code",
   "execution_count": 51,
   "metadata": {},
   "outputs": [],
   "source": [
    "corr_dict = {}\n",
    "for idx in range(data_filter_freq.shape[1]):\n",
    "    tag = data_filter_freq.iloc[:,idx]\n",
    "    if tag.name == './sf':\n",
    "        continue\n",
    "    corr = pearson_cor(np.array(tag),np.array(earning_data))\n",
    "    #print(type(tag),type(corr))\n",
    "    #tag_dict[tag.name] += 1\n",
    "    corr_dict[tag.name] = corr\n",
    "\n",
    "all_dict[stock_code] = sorted(corr_dict.items(), key=lambda x:abs(x[1]),reverse=True)"
   ]
  },
  {
   "cell_type": "code",
   "execution_count": 52,
   "metadata": {},
   "outputs": [
    {
     "data": {
      "text/plain": [
       "[('투자/nng', -0.13146602565187118),\n",
       " ('국가/nng', 0.12800357595757333),\n",
       " ('태양광/nng', 0.12347884943195706),\n",
       " ('지금/nng', -0.12200206094867706),\n",
       " ('중국/nnp', 0.09879357899775416),\n",
       " ('주/vv', -0.09782757724820777),\n",
       " ('손실/nng', -0.09361527568195442),\n",
       " ('연금/nng', -0.08952603699201894),\n",
       " ('지금/mag', -0.08840069882783029),\n",
       " ('매수/nng', -0.08683680782688238),\n",
       " ('주가/nng', -0.08312722123353758),\n",
       " ('문제/nng', -0.08180970586580653),\n",
       " ('전기료/nng', -0.08085750552531869),\n",
       " ('탈/xpn', 0.08021923918463057),\n",
       " ('사람/nng', -0.07927640985341243),\n",
       " ('../se', -0.07812865054465064),\n",
       " ('아직/mag', -0.075847576569185),\n",
       " ('우리나라/nng', -0.07361520353703868),\n",
       " ('더/mag', -0.07168677160836158),\n",
       " ('월/nnb', -0.07057268127988917),\n",
       " ('때문/nnb', -0.06892233284676073),\n",
       " ('한국전력/nnp', -0.06875846552409931),\n",
       " ('안/nng', -0.06788283083057027),\n",
       " ('주식/nng', -0.06739539040441041),\n",
       " ('때/nng', -0.06587137411632736),\n",
       " ('9/sn', -0.0656070922075115),\n",
       " ('0/sn', -0.06464731986619383),\n",
       " ('기/nng', 0.061098758277492914),\n",
       " ('대한민국/nnp', 0.05976957297693431),\n",
       " ('적자/nng', -0.05948210910519641),\n",
       " ('치/vv', 0.05874796732405838),\n",
       " ('모르/vv', -0.05873265879319203),\n",
       " ('정도/nng', -0.05837692781227753),\n",
       " ('나/vv', -0.058259599439208797),\n",
       " ('내/vv', -0.05746395041464244),\n",
       " ('상황/nng', -0.057263312460209013),\n",
       " ('.../se', -0.056179347423193686),\n",
       " ('인상/nng', -0.05572511591494182),\n",
       " ('받/vv', -0.055548557505522504),\n",
       " ('배/nng', -0.05552824469274708),\n",
       " ('몇/mm', -0.0554553318956677),\n",
       " ('팔/vv', -0.055368378225752156),\n",
       " ('일/nng', -0.05502810129804382),\n",
       " ('잘/mag', -0.05312255529935113),\n",
       " ('분기/nng', -0.05271477208519809),\n",
       " ('쓰/vv', -0.05206048906861422),\n",
       " ('대통령/nng', -0.05066263481370736),\n",
       " ('하락/nng', -0.05037160142378272),\n",
       " ('20/sn', 0.04965780136230523),\n",
       " ('배당/nng', -0.049602070398365644),\n",
       " ('많이/mag', -0.04955834043958365),\n",
       " ('수준/nng', -0.049381830021878216),\n",
       " ('공매/nng', 0.049183209189201535),\n",
       " ('그러/vv', -0.04898575207964787),\n",
       " ('후/nng', -0.048961962866527056),\n",
       " ('보이/vv', -0.04867982406422155),\n",
       " ('앞/nng', -0.04848719965266454),\n",
       " ('1/sn', -0.048157282155499234),\n",
       " ('매도/nng', -0.04814293676001617),\n",
       " ('기업/nng', -0.04766317509039353),\n",
       " ('일/nnb', 0.04711508821877615),\n",
       " ('보/vv', -0.046371435418057494),\n",
       " ('가격/nng', -0.04481907639469398),\n",
       " ('%/sw', -0.044394981612040196),\n",
       " ('좋/va', 0.043154581853209535),\n",
       " ('6/sn', -0.043054007301461),\n",
       " ('이번/nng', 0.042876987905245335),\n",
       " ('미국/nnp', -0.04259857267164945),\n",
       " ('수익/nng', -0.0419307355700397),\n",
       " ('가/vv', -0.041441089262993336),\n",
       " ('같/va', -0.04078355789221068),\n",
       " ('원자력/nng', 0.039210092720904775),\n",
       " ('정부/nng', -0.03881724180611362),\n",
       " ('거/nnb', -0.03838363610237373),\n",
       " ('ㅋ/mag', 0.037976085347279406),\n",
       " ('문재앙/nnp', -0.0379032680673576),\n",
       " ('ㅎ/nng', -0.03746336000030565),\n",
       " ('들/vv', -0.03732663023857112),\n",
       " ('이유/nng', 0.03706598033225749),\n",
       " ('나라/nng', -0.03678025220913342),\n",
       " ('크/va', -0.03664581362898025),\n",
       " ('!!/sf', 0.03633846444735465),\n",
       " ('되/vv', -0.03620363228584234),\n",
       " ('이/vcp', -0.03612663568855697),\n",
       " ('살/vv', -0.03606971572921421),\n",
       " ('나오/vv', -0.03566040449640475),\n",
       " ('못/mag', -0.03535528720061478),\n",
       " ('한/nnp', -0.035296601182835834),\n",
       " ('기술/nng', 0.034357420856511396),\n",
       " ('ㅋ/ic', -0.03365832911307193),\n",
       " ('알/vv', -0.03341702007598123),\n",
       " ('이제/mag', 0.032911980023156547),\n",
       " ('원/nnb', -0.032872175935831735),\n",
       " ('대/nng', -0.03245827228664713),\n",
       " ('..../se', -0.03241716674598774),\n",
       " ('./se', -0.03193531152659138),\n",
       " ('분/nnb', 0.03168863316393275),\n",
       " ('내리/vv', -0.031571882569093844),\n",
       " ('년/nnb', -0.031062437877410067),\n",
       " ('세계/nng', 0.030669047605070446),\n",
       " ('왜/mag', 0.030601672819356773),\n",
       " ('이상/nng', 0.02946129626403577),\n",
       " ('ㅋㅋㅋ/mag', -0.0290876992641989),\n",
       " ('수/nnb', -0.028629708200487755),\n",
       " ('정권/nng', -0.028366568708845356),\n",
       " ('요금/nng', -0.027740459106003507),\n",
       " ('오/vv', -0.027354218942800893),\n",
       " ('석탄/nng', 0.027309378327559454),\n",
       " ('8/sn', -0.026746589217681107),\n",
       " ('!/sf', 0.026580452673883103),\n",
       " ('한국/nnp', 0.026322528315121486),\n",
       " ('안/mag', -0.025998555770579055),\n",
       " ('명/nnb', 0.02592253148755363),\n",
       " ('홈오홈마니/nng', 0.025186681048663964),\n",
       " ('이렇/va', -0.025038074222757476),\n",
       " ('3/sn', -0.024797849038583546),\n",
       " ('다/mag', 0.024628071991725158),\n",
       " ('하/vv', -0.02438145139417324),\n",
       " ('주/nng', 0.02389122688259787),\n",
       " ('국민/nng', -0.023453839335086706),\n",
       " ('돈/nng', -0.023338232751484906),\n",
       " ('현재/mag', -0.023301383344033536),\n",
       " ('전/nng', 0.02308758556575322),\n",
       " ('이런/mm', 0.022893146127764916),\n",
       " ('7/sn', -0.02252887670983025),\n",
       " ('반메/nng', 0.022367588466496786),\n",
       " ('계속/mag', -0.021756161608612035),\n",
       " ('좀/mag', -0.021736364484135438),\n",
       " ('은/jx', -0.021661429591095977),\n",
       " ('는/jx', -0.02129125122674899),\n",
       " ('문재인/nng', 0.021290326560953463),\n",
       " ('?/sf', -0.021228789568066574),\n",
       " ('2/sn', -0.02116066237002487),\n",
       " ('&/sw', -0.020954314931733057),\n",
       " ('것/nnb', -0.02091066947335623),\n",
       " ('ㅋ/nng', 0.02065325345434891),\n",
       " ('시장/nng', -0.020649636809345923),\n",
       " ('실적/nng', -0.020643550631168118),\n",
       " ('한/mm', -0.02063130514907054),\n",
       " ('원전/nng', 0.02035274249179096),\n",
       " ('지원/nng', 0.020107646808862116),\n",
       " ('발전소/nng', -0.019907650808349855),\n",
       " ('외인/nng', -0.019788682278827376),\n",
       " ('있/vv', -0.019028823667358946),\n",
       " ('사업/nng', -0.0189830456793134),\n",
       " ('개인/nng', 0.018719170989052313),\n",
       " ('4/sn', -0.01860295977540761),\n",
       " ('결국/nng', -0.018532065446838684),\n",
       " ('너무/mag', 0.018488042713935702),\n",
       " ('산업/nng', 0.018137312016236588),\n",
       " ('??/sf', -0.018062925039428853),\n",
       " ('오늘/nng', 0.01779815707308611),\n",
       " ('망하/vv', 0.017750444583918702),\n",
       " ('이/nng', -0.017319261582526425),\n",
       " ('또/mag', 0.016893144898060788),\n",
       " ('많/va', -0.016725632921682054),\n",
       " ('회사/nng', -0.016555933352751503),\n",
       " ('발전/nng', -0.016392135465032594),\n",
       " ('한전/nnp', -0.015928331053593474),\n",
       " ('10/sn', -0.015798808466823657),\n",
       " ('정책/nng', 0.01466528728543846),\n",
       " ('전/mm', -0.014654253093695132),\n",
       " ('주주/nng', -0.014622159496810545),\n",
       " ('지/nng', -0.014364207847851543),\n",
       " ('5/sn', 0.014032825554648373),\n",
       " ('ㅋㅋ/mag', 0.013918575166433921),\n",
       " ('개/nnb', 0.013688932764276613),\n",
       " ('그/mm', -0.013298886472902791),\n",
       " ('생각/nng', -0.013104820445964515),\n",
       " ('개미/nng', 0.012885543242633255),\n",
       " ('100/sn', -0.012293855674543665),\n",
       " ('지나/vv', -0.012148974579158428),\n",
       " ('경제/nng', -0.012134905577272091),\n",
       " ('건설/nng', -0.011850628875783684),\n",
       " ('사/vv', 0.011571991504813365),\n",
       " ('올리/vv', 0.011540135077633802),\n",
       " ('만들/vv', 0.011299721054523502),\n",
       " ('종목/nng', 0.01115538365187294),\n",
       " ('이/vv', 0.01073532114741295),\n",
       " ('전력/nng', 0.010484380744758394),\n",
       " ('먹/vv', 0.01036560778665102),\n",
       " ('공기업/nng', 0.010139093723671697),\n",
       " ('이익/nng', -0.010012017056710629),\n",
       " ('맞/vv', 0.00951994551540982),\n",
       " ('어떻/va', 0.00946661270867448),\n",
       " ('번/nnb', -0.009159791959479309),\n",
       " ('듯/nnb', 0.00912340851069566),\n",
       " ('시작/nng', -0.009052124916912893),\n",
       " ('놈/nnb', -0.008566173841593009),\n",
       " ('그냥/mag', 0.008388970649122949),\n",
       " ('도/jx', -0.008188114771770828),\n",
       " ('에너지/nng', 0.007890614937601056),\n",
       " ('^/sw', 0.007620346347873734),\n",
       " ('이/mm', -0.0069738875719136725),\n",
       " ('등/nnb', -0.006850750646468814),\n",
       " ('ㄴ/jx', -0.005767212325411694),\n",
       " ('그렇/va', 0.005452473450430679),\n",
       " ('신/xpn', 0.004909042317310405),\n",
       " ('말/nng', -0.004683065831720768),\n",
       " ('떨어지/vv', 0.0046615991978382525),\n",
       " ('이/nnp', 0.004597163265236467),\n",
       " ('문재/nng', -0.0044803174120424715),\n",
       " ('오르/vv', -0.0043986435690908125),\n",
       " ('따르/vv', 0.004250557975373836),\n",
       " ('가능/nng', -0.004096114699503254),\n",
       " ('아니/vcn', -0.003873753527873586),\n",
       " ('기관/nng', 0.0036722861209382645),\n",
       " ('위하/vv', -0.0032314827254326887),\n",
       " ('가동/nng', 0.0031222878074029753),\n",
       " ('다시/mag', -0.002800098387730993),\n",
       " ('필요/nng', -0.0027198390916543785),\n",
       " ('만/jx', 0.0027137104827220366),\n",
       " ('전기/nng', 0.0026882193142553253),\n",
       " ('부터/jx', -0.0025645493589102992),\n",
       " ('대하/vv', -0.0017875705124273636),\n",
       " ('30/sn', -0.0017515562812260002),\n",
       " ('없/va', -0.0016249564329302239),\n",
       " ('상승/nng', 0.0015115409666593771),\n",
       " ('까지/jx', -0.0012702784743301979),\n",
       " ('중/nnb', 0.00109642167598126),\n",
       " ('북한/nnp', -0.0009345249108125582),\n",
       " ('높/va', -0.00046190818737187775)]"
      ]
     },
     "execution_count": 52,
     "metadata": {},
     "output_type": "execute_result"
    }
   ],
   "source": [
    "all_dict[stock_code]"
   ]
  },
  {
   "cell_type": "code",
   "execution_count": 53,
   "metadata": {},
   "outputs": [
    {
     "name": "stderr",
     "output_type": "stream",
     "text": [
      "C:\\ProgramData\\Anaconda3\\lib\\site-packages\\pandas\\core\\frame.py:3697: SettingWithCopyWarning: \n",
      "A value is trying to be set on a copy of a slice from a DataFrame\n",
      "\n",
      "See the caveats in the documentation: http://pandas.pydata.org/pandas-docs/stable/indexing.html#indexing-view-versus-copy\n",
      "  errors=errors)\n"
     ]
    }
   ],
   "source": [
    "# dictionary 초기화\n",
    "one_code_list = all_dict[stock_code]\n",
    "tag_list = [tag[0] for tag in one_code_list[:]]\n",
    "y = np.array([labeling(label) for label in earning_data])\n",
    "delete_index=[]\n",
    "for idx, y_element in enumerate(y):    \n",
    "    if y_element == 0:\n",
    "        delete_index.append(idx)\n",
    "x= data_filter_freq[tag_list]\n",
    "y=np.delete(y,delete_index)\n",
    "x.drop(index=x.index[delete_index],inplace=True)\n",
    "X_train, X_test, y_train, y_test = train_test_split(x, y, test_size=0.33, shuffle=False)"
   ]
  },
  {
   "cell_type": "code",
   "execution_count": 54,
   "metadata": {},
   "outputs": [
    {
     "data": {
      "text/plain": [
       "(230, 222)"
      ]
     },
     "execution_count": 54,
     "metadata": {},
     "output_type": "execute_result"
    }
   ],
   "source": [
    "X_train.shape"
   ]
  },
  {
   "cell_type": "markdown",
   "metadata": {},
   "source": [
    "# RandomForest"
   ]
  },
  {
   "cell_type": "code",
   "execution_count": 55,
   "metadata": {},
   "outputs": [
    {
     "name": "stdout",
     "output_type": "stream",
     "text": [
      "X_train_shape: (230, 222)\n"
     ]
    },
    {
     "name": "stderr",
     "output_type": "stream",
     "text": [
      "C:\\ProgramData\\Anaconda3\\lib\\site-packages\\sklearn\\model_selection\\_search.py:841: DeprecationWarning: The default of the `iid` parameter will change from True to False in version 0.22 and will be removed in 0.24. This will change numeric results when test-set sizes are unequal.\n",
      "  DeprecationWarning)\n"
     ]
    },
    {
     "name": "stdout",
     "output_type": "stream",
     "text": [
      "GridSearchCV : {'criterion': 'entropy', 'max_depth': 10, 'max_features': 5, 'n_estimators': 3, 'random_state': 4000}\n",
      "0.47368421052631576\n",
      "0.8913043478260869\n",
      "0.47368421052631576\n",
      "importances_list_all: [('투자/nng', 0.0), ('국가/nng', 0.0), ('태양광/nng', 0.01492099583912305), ('지금/nng', 0.0), ('중국/nnp', 0.006355136619476933), ('주/vv', 0.0), ('손실/nng', 0.0), ('연금/nng', 0.0), ('지금/mag', 0.0), ('매수/nng', 0.005451917418923649), ('주가/nng', 0.0), ('문제/nng', 0.0), ('전기료/nng', 0.01682660180058038), ('탈/xpn', 0.010242221338543777), ('사람/nng', 0.0), ('../se', 0.007304177291756188), ('아직/mag', 0.0), ('우리나라/nng', 0.01306565683370991), ('더/mag', 0.0), ('월/nnb', 0.0), ('때문/nnb', 0.0), ('한국전력/nnp', 0.0), ('안/nng', 0.0), ('주식/nng', 0.00802016764089919), ('때/nng', 0.0), ('9/sn', 0.0), ('0/sn', 0.004062847180180525), ('기/nng', 0.0), ('대한민국/nnp', 0.0), ('적자/nng', 0.007504372313850872), ('치/vv', 0.01186898014788485), ('모르/vv', 0.0), ('정도/nng', 0.005708840207653145), ('나/vv', 0.009126807709501533), ('내/vv', 0.0), ('상황/nng', 0.003732762110481083), ('.../se', 0.030406409794899277), ('인상/nng', 0.009276295789004645), ('받/vv', 0.0), ('배/nng', 0.0), ('몇/mm', 0.006031288108533162), ('팔/vv', 0.01170305222050332), ('일/nng', 0.0), ('잘/mag', 0.0), ('분기/nng', 0.0), ('쓰/vv', 0.0), ('대통령/nng', 0.0), ('하락/nng', 0.0), ('20/sn', 0.009603932528763572), ('배당/nng', 0.0028995175206608225), ('많이/mag', 0.004098259071121645), ('수준/nng', 0.011825241294860666), ('공매/nng', 0.0), ('그러/vv', 0.0), ('후/nng', 0.0), ('보이/vv', 0.0), ('앞/nng', 0.0), ('1/sn', 0.0), ('매도/nng', 0.003020753705269928), ('기업/nng', 0.01561634913826133), ('일/nnb', 0.019198768769829417), ('보/vv', 0.00971120842227949), ('가격/nng', 0.0), ('%/sw', 0.0), ('좋/va', 0.0), ('6/sn', 0.008150961747872684), ('이번/nng', 0.0), ('미국/nnp', 0.0), ('수익/nng', 0.0), ('가/vv', 0.0), ('같/va', 0.010261481486500166), ('원자력/nng', 0.0), ('정부/nng', 0.0), ('거/nnb', 0.0), ('ㅋ/mag', 0.0), ('문재앙/nnp', 0.007694216038174311), ('ㅎ/nng', 0.0), ('들/vv', 0.019560966036681535), ('이유/nng', 0.012188584328988852), ('나라/nng', 0.016100186711865926), ('크/va', 0.0), ('!!/sf', 0.005925730215883535), ('되/vv', 0.0), ('이/vcp', 0.014642396279385262), ('살/vv', 0.0), ('나오/vv', 0.0), ('못/mag', 0.0049013428009287265), ('한/nnp', 0.0), ('기술/nng', 0.013734197690842933), ('ㅋ/ic', 0.0), ('알/vv', 0.014022757338012289), ('이제/mag', 0.004293778027108193), ('원/nnb', 0.005552201199437264), ('대/nng', 0.0), ('..../se', 0.0), ('./se', 0.0), ('분/nnb', 0.0), ('내리/vv', 0.005451917418923649), ('년/nnb', 0.02657379913971925), ('세계/nng', 0.005261540030726627), ('왜/mag', 0.0), ('이상/nng', 0.0), ('ㅋㅋㅋ/mag', 0.0), ('수/nnb', 0.0), ('정권/nng', 0.0), ('요금/nng', 0.0), ('오/vv', 0.0), ('석탄/nng', 0.0), ('8/sn', 0.0), ('!/sf', 0.02331720914236796), ('한국/nnp', 0.018838312228409464), ('안/mag', 0.0), ('명/nnb', 0.016241671210437496), ('홈오홈마니/nng', 0.0), ('이렇/va', 0.0), ('3/sn', 0.0), ('다/mag', 0.0), ('하/vv', 0.011623721026940299), ('주/nng', 0.004281113129069791), ('국민/nng', 0.0), ('돈/nng', 0.0), ('현재/mag', 0.015938119729413693), ('전/nng', 0.011438477989439309), ('이런/mm', 0.0), ('7/sn', 0.011891186750289802), ('반메/nng', 0.0013541992828059915), ('계속/mag', 0.005047418508003201), ('좀/mag', 0.0), ('은/jx', 0.02308018022236845), ('는/jx', 0.0), ('문재인/nng', 0.0), ('?/sf', 0.010076687765679984), ('2/sn', 0.009661246327643114), ('&/sw', 0.0), ('것/nnb', 0.006069109468816665), ('ㅋ/nng', 0.0), ('시장/nng', 0.0029428968071508136), ('실적/nng', 0.0), ('한/mm', 0.0), ('원전/nng', 0.009550561475476336), ('지원/nng', 0.0), ('발전소/nng', 0.02090492820483013), ('외인/nng', 0.0), ('있/vv', 0.0), ('사업/nng', 0.0), ('개인/nng', 0.0), ('4/sn', 0.016539307935979474), ('결국/nng', 0.0), ('너무/mag', 0.008385714350669513), ('산업/nng', 0.005005449564825691), ('??/sf', 0.0), ('오늘/nng', 0.0), ('망하/vv', 0.005636540286922725), ('이/nng', 0.0), ('또/mag', 0.0), ('많/va', 0.0), ('회사/nng', 0.007843598739206148), ('발전/nng', 0.0), ('한전/nnp', 0.02273492417133738), ('10/sn', 0.0), ('정책/nng', 0.020074391815230807), ('전/mm', 0.0), ('주주/nng', 0.006379794457597339), ('지/nng', 0.0), ('5/sn', 0.0), ('ㅋㅋ/mag', 0.0), ('개/nnb', 0.020393779022127644), ('그/mm', 0.0), ('생각/nng', 0.0), ('개미/nng', 0.0), ('100/sn', 0.0), ('지나/vv', 0.0), ('경제/nng', 0.0), ('건설/nng', 0.020194284732211656), ('사/vv', 0.018237080900679267), ('올리/vv', 0.0), ('만들/vv', 0.03303266616664551), ('종목/nng', 0.016205044069666896), ('이/vv', 0.0), ('전력/nng', 0.01632275364394623), ('먹/vv', 0.0), ('공기업/nng', 0.012236465999515675), ('이익/nng', 0.0), ('맞/vv', 0.0), ('어떻/va', 0.00950686982938877), ('번/nnb', 0.02136158024040391), ('듯/nnb', 0.0028699192108384633), ('시작/nng', 0.0), ('놈/nnb', 0.0), ('그냥/mag', 0.0), ('도/jx', 0.0), ('에너지/nng', 0.0), ('^/sw', 0.0), ('이/mm', 0.0), ('등/nnb', 0.0), ('ㄴ/jx', 0.0), ('그렇/va', 0.011879657040920158), ('신/xpn', 0.004174055640831234), ('말/nng', 0.023762325121752564), ('떨어지/vv', 0.0), ('이/nnp', 0.017841274785447076), ('문재/nng', 0.012703678869332059), ('오르/vv', 0.0), ('따르/vv', 0.0), ('가능/nng', 0.0), ('아니/vcn', 0.0), ('기관/nng', 0.006049706382249851), ('위하/vv', 0.0), ('가동/nng', 0.0), ('다시/mag', 0.0), ('필요/nng', 0.011272583304675626), ('만/jx', 0.0), ('전기/nng', 0.015200897140852246), ('부터/jx', 0.0), ('대하/vv', 0.0), ('30/sn', 0.0), ('없/va', 0.0), ('상승/nng', 0.0), ('까지/jx', 0.0), ('중/nnb', 0.0), ('북한/nnp', 0.0), ('높/va', 0.0)]\n",
      "importances_list: ['만들/vv', '.../se', '년/nnb', '말/nng', '!/sf', '은/jx', '한전/nnp', '번/nnb', '발전소/nng', '개/nnb', '건설/nng', '정책/nng', '들/vv', '일/nnb', '한국/nnp', '사/vv', '이/nnp', '전기료/nng', '4/sn', '전력/nng', '명/nnb', '종목/nng', '나라/nng', '현재/mag', '기업/nng', '전기/nng', '태양광/nng', '이/vcp', '알/vv', '기술/nng', '우리나라/nng', '문재/nng', '공기업/nng', '이유/nng', '7/sn', '그렇/va', '치/vv', '수준/nng', '팔/vv', '하/vv', '전/nng', '필요/nng', '같/va', '탈/xpn', '?/sf', '보/vv', '2/sn', '20/sn', '원전/nng', '어떻/va', '인상/nng', '나/vv', '너무/mag', '6/sn', '주식/nng', '회사/nng', '문재앙/nnp', '적자/nng', '../se', '주주/nng', '중국/nnp', '것/nnb', '기관/nng', '몇/mm', '!!/sf', '정도/nng', '망하/vv', '원/nnb', '매수/nng', '내리/vv', '세계/nng', '계속/mag', '산업/nng', '못/mag', '이제/mag', '주/nng', '신/xpn', '많이/mag', '0/sn', '상황/nng', '매도/nng', '시장/nng', '배당/nng', '듯/nnb', '반메/nng']\n"
     ]
    },
    {
     "data": {
      "image/png": "[encoded data removed]",
      "text/plain": [
       "<Figure size 432x288 with 1 Axes>"
      ]
     },
     "metadata": {
      "needs_background": "light"
     },
     "output_type": "display_data"
    },
    {
     "name": "stdout",
     "output_type": "stream",
     "text": [
      "Wall time: 6min 57s\n"
     ]
    }
   ],
   "source": [
    "%%time\n",
    "\n",
    "# if lenx[0]<=10 or lenx[1]<=2 :\n",
    "#     continue\n",
    "random_state = [4000]\n",
    "classifiers = []\n",
    "classifiers_not = []\n",
    "nfolds=5\n",
    "criterion = [\"gini\", 'entropy']\n",
    "#grid_search = GridSearchCV(SVC(), param_grid_svc, cv=nfolds)\n",
    "n_estimators = [3,5,10,100,500,1000,2000]\n",
    "scoring = 'accuracy'\n",
    "rf_param_grid = {\"max_depth\": [3,5,10,15,20,50],\n",
    "              \"max_features\": [139,5,7,10,11,12,50,100],\n",
    "              \"n_estimators\" :n_estimators,\n",
    "              \"criterion\": criterion,\n",
    "            \"random_state\":random_state\n",
    "                }\n",
    "# rf_param_grid = {\"max_depth\": [3],\n",
    "#               \"max_features\": [3],\n",
    "#               \"n_estimators\" :[10],\n",
    "#               \"criterion\": ['entropy'],\n",
    "#                 'random_state':[4000]}\n",
    "\n",
    "\n",
    "#gsExtC = GridSearchCV(ExtraTreesClassifier, param_grid = ex_param_grid, cv=nfold, scoring=\"auc\")\n",
    "\n",
    "print('X_train_shape:',X_train.shape)\n",
    "\n",
    "classifiers.append(GridSearchCV(RandomForestClassifier(),param_grid = rf_param_grid, cv=nfolds, scoring=scoring, n_jobs=-1))\n",
    "\n",
    "\n",
    "for single_models in classifiers:    \n",
    "    single_models.fit(X_train,y_train)\n",
    "    \n",
    "    model_str = str(single_models).split('(')[0]\n",
    "    print(model_str,':',single_models.best_params_)\n",
    "    pre = single_models.predict(X_test)\n",
    "    \n",
    "    \n",
    "    print(single_models.score(X_test,y_test))\n",
    "    print(single_models.score(X_train,y_train))    \n",
    "    print(metrics.accuracy_score(y_test, pre))    \n",
    "    importances_list =[]    \n",
    "    decision_model = single_models.best_estimator_\n",
    "    importances_list_all = list(zip(X_train.columns,decision_model.feature_importances_))\n",
    "    print('importances_list_all:',importances_list_all)\n",
    "    for element in sorted(importances_list_all,key=lambda x:x[1], reverse=True):    \n",
    "        if element[1]==0:\n",
    "            break\n",
    "        importances_list.append(element[0])\n",
    "    print('importances_list:',importances_list)\n",
    "    \n",
    "    pd.Series(decision_model.feature_importances_,index = X_train.columns).sort_values(ascending=False).plot(kind='bar')\n",
    "    plt.show()\n"
   ]
  },
  {
   "cell_type": "code",
   "execution_count": 56,
   "metadata": {},
   "outputs": [],
   "source": [
    " #pd.Series(decision_model.feature_importances_,index = X_train.columns).sort_values(ascending=False)"
   ]
  },
  {
   "cell_type": "markdown",
   "metadata": {},
   "source": [
    "## Xgboost의 장점\n",
    "1. 규제가 가능하다.  \n",
    "2. 병렬처리 가능 - 트리 구조를 생각하면 된다.  \n",
    "3. Built-in Cross-Validation\n",
    "4. max_depths 까지 간 후에 backword로 Tree Pruning:\n",
    "5. Continue on Existing Model\n",
    "6. XGBoost allow users to define custom optimization objectives and evaluation criteria.  \n",
    "\n",
    "- 참고 사이트  \n",
    "https://www.analyticsvidhya.com/blog/2016/03/complete-guide-parameter-tuning-xgboost-with-codes-python/"
   ]
  },
  {
   "cell_type": "markdown",
   "metadata": {},
   "source": [
    "- train_test_split 0.8:0.2\n",
    "- 수익률 0 제거"
   ]
  },
  {
   "cell_type": "code",
   "execution_count": 57,
   "metadata": {},
   "outputs": [
    {
     "name": "stdout",
     "output_type": "stream",
     "text": [
      "X_train_shape: (243, 12)\n"
     ]
    },
    {
     "name": "stderr",
     "output_type": "stream",
     "text": [
      "C:\\ProgramData\\Anaconda3\\lib\\site-packages\\pandas\\core\\frame.py:3697: SettingWithCopyWarning: \n",
      "A value is trying to be set on a copy of a slice from a DataFrame\n",
      "\n",
      "See the caveats in the documentation: http://pandas.pydata.org/pandas-docs/stable/indexing.html#indexing-view-versus-copy\n",
      "  errors=errors)\n",
      "C:\\ProgramData\\Anaconda3\\lib\\site-packages\\sklearn\\model_selection\\_search.py:841: DeprecationWarning: The default of the `iid` parameter will change from True to False in version 0.22 and will be removed in 0.24. This will change numeric results when test-set sizes are unequal.\n",
      "  DeprecationWarning)\n"
     ]
    },
    {
     "name": "stdout",
     "output_type": "stream",
     "text": [
      "GridSearchCV : {'C': 0.0001, 'gamma': 0.001, 'kernel': 'linear', 'random_state': 4000}\n"
     ]
    },
    {
     "name": "stderr",
     "output_type": "stream",
     "text": [
      "C:\\ProgramData\\Anaconda3\\lib\\site-packages\\sklearn\\model_selection\\_search.py:841: DeprecationWarning: The default of the `iid` parameter will change from True to False in version 0.22 and will be removed in 0.24. This will change numeric results when test-set sizes are unequal.\n",
      "  DeprecationWarning)\n"
     ]
    },
    {
     "name": "stdout",
     "output_type": "stream",
     "text": [
      "GridSearchCV : {'criterion': 'entropy', 'max_depth': 10, 'max_features': 7, 'n_estimators': 2000, 'random_state': 4000}\n"
     ]
    },
    {
     "name": "stderr",
     "output_type": "stream",
     "text": [
      "C:\\ProgramData\\Anaconda3\\lib\\site-packages\\sklearn\\model_selection\\_search.py:841: DeprecationWarning: The default of the `iid` parameter will change from True to False in version 0.22 and will be removed in 0.24. This will change numeric results when test-set sizes are unequal.\n",
      "  DeprecationWarning)\n"
     ]
    },
    {
     "name": "stdout",
     "output_type": "stream",
     "text": [
      "GridSearchCV : {'bootstrap': True, 'criterion': 'entropy', 'max_depth': 3, 'max_features': 8, 'n_estimators': 2000, 'random_state': 4000}\n",
      "GridSearchCV : {'learning_rate': 0.01, 'loss': 'deviance', 'max_depth': 3, 'max_features': 0.3, 'min_samples_leaf': 200, 'n_estimators': 500, 'random_state': 4000}\n"
     ]
    },
    {
     "name": "stderr",
     "output_type": "stream",
     "text": [
      "C:\\ProgramData\\Anaconda3\\lib\\site-packages\\sklearn\\model_selection\\_search.py:841: DeprecationWarning: The default of the `iid` parameter will change from True to False in version 0.22 and will be removed in 0.24. This will change numeric results when test-set sizes are unequal.\n",
      "  DeprecationWarning)\n",
      "C:\\ProgramData\\Anaconda3\\lib\\site-packages\\sklearn\\model_selection\\_search.py:841: DeprecationWarning: The default of the `iid` parameter will change from True to False in version 0.22 and will be removed in 0.24. This will change numeric results when test-set sizes are unequal.\n",
      "  DeprecationWarning)\n",
      "C:\\ProgramData\\Anaconda3\\lib\\site-packages\\sklearn\\linear_model\\logistic.py:433: FutureWarning: Default solver will be changed to 'lbfgs' in 0.22. Specify a solver to silence this warning.\n",
      "  FutureWarning)\n"
     ]
    },
    {
     "name": "stdout",
     "output_type": "stream",
     "text": [
      "GridSearchCV : {'n_neighbors': 20}\n",
      "GridSearchCV : {'C': 0.0001}\n"
     ]
    },
    {
     "name": "stderr",
     "output_type": "stream",
     "text": [
      "C:\\ProgramData\\Anaconda3\\lib\\site-packages\\sklearn\\model_selection\\_search.py:841: DeprecationWarning: The default of the `iid` parameter will change from True to False in version 0.22 and will be removed in 0.24. This will change numeric results when test-set sizes are unequal.\n",
      "  DeprecationWarning)\n"
     ]
    },
    {
     "name": "stdout",
     "output_type": "stream",
     "text": [
      "GridSearchCV : {'colsample_bytree': 0.75, 'gamma': 0.0, 'n_estimators': 100, 'random_state': 4000, 'reg_alpha': 100, 'subsample': 0.75}\n"
     ]
    },
    {
     "name": "stderr",
     "output_type": "stream",
     "text": [
      "C:\\ProgramData\\Anaconda3\\lib\\site-packages\\sklearn\\model_selection\\_search.py:841: DeprecationWarning: The default of the `iid` parameter will change from True to False in version 0.22 and will be removed in 0.24. This will change numeric results when test-set sizes are unequal.\n",
      "  DeprecationWarning)\n"
     ]
    },
    {
     "name": "stdout",
     "output_type": "stream",
     "text": [
      "GridSearchCV : {'C': 0.0001, 'penalty': 'l2', 'random_state': 4000}\n",
      "GridSearchCV : {'activation': 'logistic', 'alpha': 0.0001, 'hidden_layer_sizes': (50, 50, 50), 'learning_rate': 'constant', 'max_iter': 1000, 'random_state': 4000, 'solver': 'sgd'}\n"
     ]
    },
    {
     "name": "stderr",
     "output_type": "stream",
     "text": [
      "C:\\ProgramData\\Anaconda3\\lib\\site-packages\\sklearn\\model_selection\\_search.py:841: DeprecationWarning: The default of the `iid` parameter will change from True to False in version 0.22 and will be removed in 0.24. This will change numeric results when test-set sizes are unequal.\n",
      "  DeprecationWarning)\n"
     ]
    }
   ],
   "source": [
    "model_result = Counter()\n",
    "train_result= Counter()\n",
    "test_result = Counter()\n",
    "confusion_matrix_result = Counter()\n",
    "auc_result = Counter()\n",
    "one_code_list = all_dict[stock_code]\n",
    "#tag_list = [tag[0] for tag in one_code_list[:int(len(one_code_list)*0.2)]]\n",
    "tag_list = importances_list[:12]\n",
    "y = np.where(earning_data>0,1,-1)\n",
    "\n",
    "delete_index=[]\n",
    "for idx, y_element in enumerate(y):    \n",
    "    if y_element == 0:\n",
    "        delete_index.append(idx)\n",
    "x= data_filter_freq[tag_list]\n",
    "y=np.delete(y,delete_index)\n",
    "x.drop(index=x.index[delete_index],inplace=True)\n",
    "X_train, X_test, y_train, y_test = train_test_split(x, y, test_size=0.33, shuffle=False)\n",
    "\n",
    "lenx=X_train.shape\n",
    "# if lenx[0]<=10 or lenx[1]<=2:\n",
    "#     continue\n",
    "classifiers = []\n",
    "classifiers_not = []\n",
    "random_state = [4000]\n",
    "\n",
    "\n",
    "\n",
    "# gsRFC = GridSearchCV(RFC,param_grid = rf_param_grid, cv=kfold, scoring=\"accuracy\", n_jobs= 4, verbose = 1)\n",
    "Cs = [0.0001, 0.001, 0.01, 0.1, 1, 10, 100]\n",
    "gammas = [0.001, 0.01, 0.1, 1]\n",
    "kernel = ['linear', 'rbf', 'sigmoid']#'precomputed','poly'\n",
    "nfolds=5\n",
    "criterion = [\"gini\", 'entropy']\n",
    "#grid_search = GridSearchCV(SVC(), param_grid_svc, cv=nfolds)\n",
    "n_estimators = [500,1000,2000]\n",
    "learning_rate = [0.01]\n",
    "max_depth = [3, 5, 10, 15 ,20]\n",
    "solver = ['newton-cg', 'lbfgs', 'liblinear', 'sag', 'saga']\n",
    "scoring = 'accuracy'\n",
    "n_jobs= -1\n",
    "penalty= ['l2']\n",
    "\n",
    "linearscv_param_grid = {'C':Cs, 'penalty':penalty, 'random_state':random_state }\n",
    "\n",
    "svc_param_grid = {'C': Cs, 'gamma' : gammas,'kernel':kernel, 'random_state':random_state }\n",
    "\n",
    "ex_param_grid = {\"max_depth\": [3, 5, 10,15,20],\n",
    "              \"max_features\": [7,8,9,10,11,12],\n",
    "              \"bootstrap\": [False,True],\n",
    "              \"n_estimators\" :n_estimators,\n",
    "              \"criterion\": criterion, 'random_state':random_state }\n",
    "\n",
    "\n",
    "gb_param_grid = {'loss' : [\"deviance\",'exponential'],\n",
    "              'n_estimators' : n_estimators,\n",
    "              'learning_rate': learning_rate,\n",
    "              'max_depth': max_depth,\n",
    "              'min_samples_leaf': [200,400,600],\n",
    "              'max_features': [0.3, 0.1], 'random_state':random_state  \n",
    "              }\n",
    "\n",
    "rf_param_grid = {\"max_depth\": [3,4,5,10,15,20],\n",
    "              \"max_features\": [7,8,9,10,11,12],\n",
    "              \"n_estimators\" :n_estimators,\n",
    "              \"criterion\": criterion, 'random_state':random_state }\n",
    "\n",
    "logistic_param_grid = {\n",
    "    'C': Cs                                   \n",
    "              }\n",
    "\n",
    "lda_param_grid = {'solver' : [\"svd\",'lsqr','eigen'],\n",
    "              'shrinkage ' : ['auto'], 'random_state':random_state \n",
    "              }\n",
    "\n",
    "kneighbor_param_grid = {'n_neighbors':list(range(1,31))}\n",
    "\n",
    "xgboost_param_grid ={\n",
    "    'gamma':[i/10.0 for i in range(0,5)],\n",
    "     'subsample':[i/100.0 for i in range(75,90,5)],\n",
    "     'colsample_bytree':[i/100.0 for i in range(75,90,5)],\n",
    "    'reg_alpha':[1e-5, 1e-2, 0.1, 1, 100],\n",
    "    'n_estimators':[100,500,1000,2000], 'random_state':random_state \n",
    "}\n",
    "\n",
    "naive_bayes_param_grid = {\n",
    "    'priors':None, 'random_state':random_state \n",
    "}\n",
    "\n",
    "mlp_param_grid = {\n",
    "    'hidden_layer_sizes': [(50,50,50), (50,100,50), (100,)],\n",
    "    'activation': ['logistic', 'tanh', 'relu'],\n",
    "    'solver': ['sgd', 'adam'],\n",
    "    'alpha': [0.0001, 0.05,0.1,1,10,100],\n",
    "    'learning_rate': ['constant','adaptive'],\n",
    "    'max_iter':[1000,2000,5000,10000], 'random_state':random_state \n",
    "}\n",
    "\n",
    "\n",
    "#gsExtC = GridSearchCV(ExtraTreesClassifier, param_grid = ex_param_grid, cv=nfold, scoring=\"auc\")\n",
    "\n",
    "print('X_train_shape:',X_train.shape)\n",
    "classifiers.append(GridSearchCV(SVC(), svc_param_grid, cv=nfolds,n_jobs=-1))\n",
    "classifiers.append(GridSearchCV(RandomForestClassifier(),param_grid = rf_param_grid, cv=nfolds, scoring=scoring, n_jobs=-1))\n",
    "classifiers.append(GridSearchCV(ExtraTreesClassifier(), param_grid = ex_param_grid, cv=nfolds, scoring=scoring, n_jobs=-1))\n",
    "classifiers.append(GridSearchCV(GradientBoostingClassifier(),param_grid = gb_param_grid, cv=nfolds, scoring=scoring, n_jobs=-1))\n",
    "\n",
    "classifiers.append(GridSearchCV(KNeighborsClassifier(),param_grid=kneighbor_param_grid,cv=nfolds, scoring=scoring, n_jobs=-1))\n",
    "classifiers.append(GridSearchCV(LogisticRegression(penalty='l2'),param_grid = logistic_param_grid, cv=nfolds, scoring=scoring, n_jobs=-1))\n",
    "\n",
    "classifiers.append(GridSearchCV(XGBClassifier(silent=True, learning_rate=0.01, objective='binary:logistic'),param_grid=xgboost_param_grid,cv=nfolds,scoring=scoring,n_jobs=-1))\n",
    "classifiers.append(GridSearchCV(LinearSVC(),param_grid=linearscv_param_grid, scoring=scoring, cv=nfolds,n_jobs=-1))\n",
    "classifiers.append(GridSearchCV(MLPClassifier(),param_grid=mlp_param_grid,cv=nfolds,n_jobs=-1)) # 제외\n",
    "\n",
    "\n",
    "\n",
    "classifiers_not.append(LinearDiscriminantAnalysis())# 튜닝 불가능\n",
    "classifiers_not.append(GaussianNB())\n",
    "classifiers_not.append(MultinomialNB())\n",
    "classifiers_not.append(BernoulliNB())\n",
    "\n",
    "\n",
    "\n",
    "#classifiers.append(XGBClassifier())\n",
    "test_accuracy_list = []\n",
    "train_accuracy_list= [] \n",
    "model_accuracy_list= []\n",
    "confusion_matrix_list = []\n",
    "auc_list = []\n",
    "for models in classifiers:\n",
    "    #print(models)\n",
    "    models.fit(X_train,y_train)\n",
    "    \n",
    "    model_str = str(models).split('(')[0]\n",
    "    print(model_str,':',models.best_params_)\n",
    "    pre = models.predict(X_test)\n",
    "    \n",
    "    tmp_dict1 = {}\n",
    "    tmp_dict1[model_str] = models.score(X_test,y_test)\n",
    "    test_accuracy_list.append(tmp_dict1)\n",
    "    \n",
    "    tmp_dict2 = {}\n",
    "    tmp_dict2[model_str] = models.score(X_train,y_train)\n",
    "    train_accuracy_list.append(tmp_dict2)\n",
    "    \n",
    "    tmp_dict3 = {}\n",
    "    tmp_dict3[model_str] = metrics.accuracy_score(y_test, pre)\n",
    "    model_accuracy_list.append(tmp_dict3)\n",
    "    \n",
    "    # 전역변수로, 지역변수 문제라 생각한다.\n",
    "    tmp_dict4 = {}\n",
    "    tmp_dict4[model_str] = confusion_matrix(y_test,pre)\n",
    "    confusion_matrix_list.append(tmp_dict4)\n",
    "    \n",
    "    fpr, tpr, thresholds = metrics.roc_curve(y_test, pre)\n",
    "    tmp_dict5 = {}\n",
    "    tmp_dict5[model_str] = metrics.auc(fpr, tpr)\n",
    "    auc_list.append(tmp_dict5)\n",
    "    #confusion_matrix_list.append(confusion_matrix(y_test,pre))\n",
    "for models in classifiers_not:\n",
    "    \n",
    "    models.fit(X_train,y_train)\n",
    "    \n",
    "    model_str = str(models).split('(')[0]\n",
    "    pre = models.predict(X_test)\n",
    "    \n",
    "    tmp_dict1 = {}\n",
    "    tmp_dict1[model_str] = models.score(X_test,y_test)\n",
    "    test_accuracy_list.append(tmp_dict1)\n",
    "    \n",
    "    tmp_dict2 = {}\n",
    "    tmp_dict2[model_str] = models.score(X_train,y_train)\n",
    "    train_accuracy_list.append(tmp_dict2)\n",
    "    \n",
    "    tmp_dict3 = {}\n",
    "    tmp_dict3[model_str] = metrics.accuracy_score(y_test, pre)\n",
    "    model_accuracy_list.append(tmp_dict3)\n",
    "    \n",
    "    # 전역변수로, 지역변수 문제라 생각한다.\n",
    "    tmp_dict4 = {}\n",
    "    tmp_dict4[model_str] = confusion_matrix(y_test,pre)\n",
    "    confusion_matrix_list.append(tmp_dict4)\n",
    "    \n",
    "    fpr, tpr, thresholds = metrics.roc_curve(y_test, pre)\n",
    "    tmp_dict5 = {}\n",
    "    tmp_dict5[model_str] = metrics.auc(fpr, tpr)\n",
    "    auc_list.append(tmp_dict5)\n",
    "    #confusion_matrix_list.append(confusion_matrix(y_test,pre))    \n",
    "\n",
    "    \n",
    "train_result[stock_code] = train_accuracy_list\n",
    "test_result[stock_code] = test_accuracy_list\n",
    "model_result[stock_code] = model_accuracy_list\n",
    "confusion_matrix_result[stock_code] = confusion_matrix_list\n",
    "auc_result[stock_code] = auc_list\n"
   ]
  },
  {
   "cell_type": "markdown",
   "metadata": {},
   "source": [
    "GridSearchCV : {'C': 0.001, 'gamma': 0.001, 'kernel': 'linear'}\n",
    "GridSearchCV : {'criterion': 'gini', 'max_depth': 5, 'max_features': 12, 'n_estimators': 500}\n",
    "GridSearchCV : {'bootstrap': False, 'criterion': 'entropy', 'max_depth': 15, 'max_features': 11, 'n_estimators': 500}\n",
    "GridSearchCV : {'learning_rate': 0.01, 'loss': 'deviance', 'max_depth': 3, 'max_features': 0.3, 'min_samples_leaf': 200, 'n_estimators': 500}\n",
    "GridSearchCV : {'n_neighbors': 19}\n",
    "GridSearchCV : {'C': 0.01}\n",
    "GridSearchCV : {'colsample_bytree': 0.8, 'gamma': 0.4, 'n_estimators': 1000, 'reg_alpha': 1e-05, 'subsample': 0.75}\n",
    "GridSearchCV : {'C': 0.001, 'penalty': 'l2'}\n",
    "GridSearchCV : {'activation': 'tanh', 'alpha': 0.05, 'hidden_layer_sizes': (50, 100, 50), 'learning_rate': 'constant', 'max_iter': 10000, 'solver': 'adam'}"
   ]
  },
  {
   "cell_type": "code",
   "execution_count": 69,
   "metadata": {},
   "outputs": [],
   "source": [
    "# model_result = Counter()\n",
    "# train_result= Counter()\n",
    "# test_result = Counter()\n",
    "# confusion_matrix_result = Counter()\n",
    "# auc_result = Counter()\n",
    "# one_code_list = all_dict[stock_code]\n",
    "# tag_list = [tag[0] for tag in one_code_list[:int(len(one_code_list)*0.2)]]\n",
    "# y = np.where(earning_data>=0,1,0)\n",
    "# x= data_filter_freq[tag_list]\n",
    "# X_train, X_test, y_train, y_test = train_test_split(x, y, test_size=0.33, shuffle=False)\n",
    "# lenx=X_train.shape\n",
    "# # if lenx[0]<=10 or lenx[1]<=2 :\n",
    "# #     continue\n",
    "# random_state = 2\n",
    "# classifiers = []\n",
    "# # rf_param_grid = {\"max_depth\": [10,15,20],\n",
    "# #               \"max_features\": [7,8,9,10,11,12],\n",
    "# #               \"n_estimators\" :[2000],\n",
    "# #               \"criterion\": [\"gini\",'entropy']}\n",
    "\n",
    "\n",
    "# # gsRFC = GridSearchCV(RFC,param_grid = rf_param_grid, cv=kfold, scoring=\"accuracy\", n_jobs= 4, verbose = 1)\n",
    "\n",
    "# classifiers.append(SVC(random_state=random_state,C=0.0001))\n",
    "# classifiers.append(AdaBoostClassifier(DecisionTreeClassifier(random_state=random_state),random_state=random_state,learning_rate=0.1))\n",
    "# classifiers.append(RandomForestClassifier(random_state=random_state,n_estimators=1000,max_depth=3))\n",
    "# classifiers.append(ExtraTreesClassifier(random_state=random_state))\n",
    "# classifiers.append(GradientBoostingClassifier(random_state=random_state,learning_rate=0.01))\n",
    "# classifiers.append(MLPClassifier(random_state=random_state,max_iter=2000)) # 제외\n",
    "# classifiers.append(KNeighborsClassifier())\n",
    "# classifiers.append(LogisticRegression(random_state = random_state,C=0.001))\n",
    "# classifiers.append(LinearDiscriminantAnalysis())# 여기까지\n",
    "# classifiers.append(GaussianNB())\n",
    "# classifiers.append(MultinomialNB())\n",
    "# classifiers.append(BernoulliNB())\n",
    "# classifiers.append(XGBClassifier(silent=True, learning_rate=0.01, subsample=0.8, objective='binary:logistic',n_estimators=1000,reg_alpha=0.3))\n",
    "# classifiers.append(LinearSVC(random_state=100,C=0.01))\n",
    "# #classifiers.append(XGBClassifier())\n",
    "# test_accuracy_list = []\n",
    "# train_accuracy_list= [] \n",
    "# model_accuracy_list= []\n",
    "# confusion_matrix_list = []\n",
    "# auc_list = []\n",
    "# for models in classifiers:\n",
    "#     #print(models)\n",
    "#     models.fit(X_train,y_train)\n",
    "#     model_str = str(models).split('(')[0]\n",
    "#     pre = models.predict(X_test)\n",
    "    \n",
    "#     tmp_dict1 = {}\n",
    "#     tmp_dict1[model_str] = models.score(X_test,y_test)\n",
    "#     test_accuracy_list.append(tmp_dict1)\n",
    "    \n",
    "#     tmp_dict2 = {}\n",
    "#     tmp_dict2[model_str] = models.score(X_train,y_train)\n",
    "#     train_accuracy_list.append(tmp_dict2)\n",
    "    \n",
    "#     tmp_dict3 = {}\n",
    "#     tmp_dict3[model_str] = metrics.accuracy_score(y_test, pre)\n",
    "#     model_accuracy_list.append(tmp_dict3)\n",
    "    \n",
    "#     # 전역변수로, 지역변수 문제라 생각한다.\n",
    "#     tmp_dict4 = {}\n",
    "#     tmp_dict4[model_str] = confusion_matrix(y_test,pre)\n",
    "#     confusion_matrix_list.append(tmp_dict4)\n",
    "    \n",
    "#     fpr, tpr, thresholds = metrics.roc_curve(y_test, pre)\n",
    "#     tmp_dict5 = {}\n",
    "#     tmp_dict5[model_str] = metrics.auc(fpr, tpr)\n",
    "#     auc_list.append(tmp_dict5)\n",
    "#     #confusion_matrix_list.append(confusion_matrix(y_test,pre))\n",
    "    \n",
    "# train_result[stock_code] = train_accuracy_list\n",
    "# test_result[stock_code] = test_accuracy_list\n",
    "# model_result[stock_code] = model_accuracy_list\n",
    "# confusion_matrix_result[stock_code] = confusion_matrix_list\n",
    "# auc_result[stock_code] = auc_list\n"
   ]
  },
  {
   "cell_type": "code",
   "execution_count": 70,
   "metadata": {},
   "outputs": [],
   "source": [
    "# for model in classifiers:\n",
    "#     print(model)\n",
    "#     #model_str = str(model)\n",
    "#     #print(type(model_str))\n",
    "#     #print(model_str.split('(')[0])"
   ]
  },
  {
   "cell_type": "code",
   "execution_count": 71,
   "metadata": {},
   "outputs": [
    {
     "name": "stdout",
     "output_type": "stream",
     "text": [
      "0.465564738292011 0.534435261707989\n"
     ]
    }
   ],
   "source": [
    "ratio_y = y.sum()/len(y)\n",
    "print(ratio_y,1-ratio_y)"
   ]
  },
  {
   "cell_type": "code",
   "execution_count": 72,
   "metadata": {},
   "outputs": [
    {
     "name": "stdout",
     "output_type": "stream",
     "text": [
      "0.4931506849315068 0.5068493150684932\n"
     ]
    }
   ],
   "source": [
    "ratio_y_test = y_test.sum()/len(y_test)\n",
    "print(ratio_y_test,1-ratio_y_test)"
   ]
  },
  {
   "cell_type": "code",
   "execution_count": 73,
   "metadata": {},
   "outputs": [],
   "source": [
    "# models = LinearDiscriminantAnalysis(solver='eigen')\n",
    "# models.fit(X_train,y_train)\n",
    "# model_str = str(models).split('(')[0]\n",
    "# pre = models.predict(X_test)\n",
    "# models.score(X_test,y_test)"
   ]
  },
  {
   "cell_type": "code",
   "execution_count": 74,
   "metadata": {},
   "outputs": [],
   "source": [
    "# models = LinearDiscriminantAnalysis(solver='lsqr')\n",
    "# models.fit(X_train,y_train)\n",
    "# model_str = str(models).split('(')[0]\n",
    "# pre = models.predict(X_test)\n",
    "# models.score(X_test,y_test)"
   ]
  },
  {
   "cell_type": "code",
   "execution_count": 66,
   "metadata": {},
   "outputs": [],
   "source": [
    "model_list=['svc',\n",
    "'randomforestclassifier',\n",
    "'extratreesclassifier',\n",
    "'gradientboostingclassifier',\n",
    "'kneighborsclassfier',\n",
    "'logisticregression',\n",
    "'xgbclassifier',\n",
    "'linearsvc',\n",
    "'mlpclassifier']"
   ]
  },
  {
   "cell_type": "code",
   "execution_count": 67,
   "metadata": {},
   "outputs": [],
   "source": [
    "for idx,element in enumerate(model_list):    \n",
    "    tmp_dict = {}\n",
    "    tmp_dict[element] = confusion_matrix_result[stock_code][idx]['GridSearchCV']\n",
    "    confusion_matrix_result[stock_code][idx] = tmp_dict"
   ]
  },
  {
   "cell_type": "code",
   "execution_count": 68,
   "metadata": {},
   "outputs": [
    {
     "data": {
      "text/plain": [
       "Counter({'015760': [{'svc': array([[72,  0],\n",
       "                  [48,  0]], dtype=int64)},\n",
       "          {'randomforestclassifier': array([[51, 21],\n",
       "                  [32, 16]], dtype=int64)},\n",
       "          {'extratreesclassifier': array([[72,  0],\n",
       "                  [48,  0]], dtype=int64)},\n",
       "          {'gradientboostingclassifier': array([[72,  0],\n",
       "                  [48,  0]], dtype=int64)},\n",
       "          {'kneighborsclassfier': array([[57, 15],\n",
       "                  [40,  8]], dtype=int64)},\n",
       "          {'logisticregression': array([[72,  0],\n",
       "                  [48,  0]], dtype=int64)},\n",
       "          {'xgbclassifier': array([[72,  0],\n",
       "                  [48,  0]], dtype=int64)},\n",
       "          {'linearsvc': array([[71,  1],\n",
       "                  [48,  0]], dtype=int64)},\n",
       "          {'mlpclassifier': array([[72,  0],\n",
       "                  [48,  0]], dtype=int64)},\n",
       "          {'LinearDiscriminantAnalysis': array([[55, 17],\n",
       "                  [40,  8]], dtype=int64)},\n",
       "          {'GaussianNB': array([[35, 37],\n",
       "                  [20, 28]], dtype=int64)},\n",
       "          {'MultinomialNB': array([[51, 21],\n",
       "                  [32, 16]], dtype=int64)},\n",
       "          {'BernoulliNB': array([[21, 51],\n",
       "                  [12, 36]], dtype=int64)}]})"
      ]
     },
     "execution_count": 68,
     "metadata": {},
     "output_type": "execute_result"
    }
   ],
   "source": [
    "confusion_matrix_result"
   ]
  },
  {
   "cell_type": "code",
   "execution_count": 69,
   "metadata": {},
   "outputs": [
    {
     "name": "stdout",
     "output_type": "stream",
     "text": [
      "Counter({'015760': [{'svc': 0.6}, {'randomforestclassifier': 0.5583333333333333}, {'extratreesclassifier': 0.6}, {'gradientboostingclassifier': 0.6}, {'kneighborsclassfier': 0.5416666666666666}, {'logisticregression': 0.6}, {'xgbclassifier': 0.6}, {'linearsvc': 0.5916666666666667}, {'mlpclassifier': 0.6}, {'LinearDiscriminantAnalysis': 0.525}, {'GaussianNB': 0.525}, {'MultinomialNB': 0.5583333333333333}, {'BernoulliNB': 0.475}]})\n",
      "Counter({'015760': [{'svc': 0.5802469135802469}, {'randomforestclassifier': 0.9835390946502057}, {'extratreesclassifier': 0.6378600823045267}, {'gradientboostingclassifier': 0.5802469135802469}, {'kneighborsclassfier': 0.6049382716049383}, {'logisticregression': 0.5802469135802469}, {'xgbclassifier': 0.5802469135802469}, {'linearsvc': 0.5596707818930041}, {'mlpclassifier': 0.5802469135802469}, {'LinearDiscriminantAnalysis': 0.6049382716049383}, {'GaussianNB': 0.4732510288065844}, {'MultinomialNB': 0.5596707818930041}, {'BernoulliNB': 0.5637860082304527}]})\n",
      "Counter({'015760': [{'svc': 0.6}, {'randomforestclassifier': 0.5583333333333333}, {'extratreesclassifier': 0.6}, {'gradientboostingclassifier': 0.6}, {'kneighborsclassfier': 0.5416666666666666}, {'logisticregression': 0.6}, {'xgbclassifier': 0.6}, {'linearsvc': 0.5916666666666667}, {'mlpclassifier': 0.6}, {'LinearDiscriminantAnalysis': 0.525}, {'GaussianNB': 0.525}, {'MultinomialNB': 0.5583333333333333}, {'BernoulliNB': 0.475}]})\n"
     ]
    }
   ],
   "source": [
    "for idx,element in enumerate(model_list):    \n",
    "    tmp_dict = {}\n",
    "    tmp_dict[element] = model_result[stock_code][idx]['GridSearchCV']\n",
    "    model_result[stock_code][idx] = tmp_dict\n",
    "print(model_result)\n",
    "for idx,element in enumerate(model_list):    \n",
    "    tmp_dict = {}\n",
    "    tmp_dict[element] = train_result[stock_code][idx]['GridSearchCV']\n",
    "    train_result[stock_code][idx] = tmp_dict\n",
    "print(train_result)\n",
    "for idx,element in enumerate(model_list):    \n",
    "    tmp_dict = {}\n",
    "    tmp_dict[element] = test_result[stock_code][idx]['GridSearchCV']\n",
    "    test_result[stock_code][idx] = tmp_dict\n",
    "print(test_result)"
   ]
  },
  {
   "cell_type": "code",
   "execution_count": 54,
   "metadata": {},
   "outputs": [
    {
     "ename": "KeyError",
     "evalue": "'GridSearchCV'",
     "output_type": "error",
     "traceback": [
      "\u001b[1;31m---------------------------------------------------------------------------\u001b[0m",
      "\u001b[1;31mKeyError\u001b[0m                                  Traceback (most recent call last)",
      "\u001b[1;32m<ipython-input-54-a7483405b2e2>\u001b[0m in \u001b[0;36m<module>\u001b[1;34m\u001b[0m\n\u001b[0;32m      1\u001b[0m \u001b[1;32mfor\u001b[0m \u001b[0midx\u001b[0m\u001b[1;33m,\u001b[0m\u001b[0melement\u001b[0m \u001b[1;32min\u001b[0m \u001b[0menumerate\u001b[0m\u001b[1;33m(\u001b[0m\u001b[0mmodel_list\u001b[0m\u001b[1;33m)\u001b[0m\u001b[1;33m:\u001b[0m\u001b[1;33m\u001b[0m\u001b[1;33m\u001b[0m\u001b[0m\n\u001b[0;32m      2\u001b[0m     \u001b[0mtmp_dict\u001b[0m \u001b[1;33m=\u001b[0m \u001b[1;33m{\u001b[0m\u001b[1;33m}\u001b[0m\u001b[1;33m\u001b[0m\u001b[1;33m\u001b[0m\u001b[0m\n\u001b[1;32m----> 3\u001b[1;33m     \u001b[0mtmp_dict\u001b[0m\u001b[1;33m[\u001b[0m\u001b[0melement\u001b[0m\u001b[1;33m]\u001b[0m \u001b[1;33m=\u001b[0m \u001b[0mmodel_result\u001b[0m\u001b[1;33m[\u001b[0m\u001b[0mstock_code\u001b[0m\u001b[1;33m]\u001b[0m\u001b[1;33m[\u001b[0m\u001b[0midx\u001b[0m\u001b[1;33m]\u001b[0m\u001b[1;33m[\u001b[0m\u001b[1;34m'GridSearchCV'\u001b[0m\u001b[1;33m]\u001b[0m\u001b[1;33m\u001b[0m\u001b[1;33m\u001b[0m\u001b[0m\n\u001b[0m\u001b[0;32m      4\u001b[0m     \u001b[0mmodel_result\u001b[0m\u001b[1;33m[\u001b[0m\u001b[0mstock_code\u001b[0m\u001b[1;33m]\u001b[0m\u001b[1;33m[\u001b[0m\u001b[0midx\u001b[0m\u001b[1;33m]\u001b[0m \u001b[1;33m=\u001b[0m \u001b[0mtmp_dict\u001b[0m\u001b[1;33m\u001b[0m\u001b[1;33m\u001b[0m\u001b[0m\n",
      "\u001b[1;31mKeyError\u001b[0m: 'GridSearchCV'"
     ]
    }
   ],
   "source": [
    "for idx,element in enumerate(model_list):    \n",
    "    tmp_dict = {}\n",
    "    tmp_dict[element] = model_result[stock_code][idx]['GridSearchCV']\n",
    "    model_result[stock_code][idx] = tmp_dict"
   ]
  },
  {
   "cell_type": "code",
   "execution_count": 55,
   "metadata": {},
   "outputs": [
    {
     "data": {
      "text/plain": [
       "Counter({'015760': [{'svc': 0.6},\n",
       "          {'randomforestclassifier': 0.5416666666666666},\n",
       "          {'extratreesclassifier': 0.6},\n",
       "          {'gradientboostingclassifier': 0.6},\n",
       "          {'kneighborsclassfier': 0.5666666666666667},\n",
       "          {'logisticregression': 0.5916666666666667},\n",
       "          {'xgbclassifier': 0.5166666666666667},\n",
       "          {'linearsvc': 0.5},\n",
       "          {'mlpclassifier': 0.6},\n",
       "          {'LinearDiscriminantAnalysis': 0.475},\n",
       "          {'GaussianNB': 0.5166666666666667},\n",
       "          {'MultinomialNB': 0.525},\n",
       "          {'BernoulliNB': 0.425}]})"
      ]
     },
     "execution_count": 55,
     "metadata": {},
     "output_type": "execute_result"
    }
   ],
   "source": [
    "model_result"
   ]
  },
  {
   "cell_type": "code",
   "execution_count": 56,
   "metadata": {},
   "outputs": [
    {
     "ename": "KeyError",
     "evalue": "'GridSearchCV'",
     "output_type": "error",
     "traceback": [
      "\u001b[1;31m---------------------------------------------------------------------------\u001b[0m",
      "\u001b[1;31mKeyError\u001b[0m                                  Traceback (most recent call last)",
      "\u001b[1;32m<ipython-input-56-fd8683543f90>\u001b[0m in \u001b[0;36m<module>\u001b[1;34m\u001b[0m\n\u001b[0;32m      1\u001b[0m \u001b[1;32mfor\u001b[0m \u001b[0midx\u001b[0m\u001b[1;33m,\u001b[0m\u001b[0melement\u001b[0m \u001b[1;32min\u001b[0m \u001b[0menumerate\u001b[0m\u001b[1;33m(\u001b[0m\u001b[0mmodel_list\u001b[0m\u001b[1;33m)\u001b[0m\u001b[1;33m:\u001b[0m\u001b[1;33m\u001b[0m\u001b[1;33m\u001b[0m\u001b[0m\n\u001b[0;32m      2\u001b[0m     \u001b[0mtmp_dict\u001b[0m \u001b[1;33m=\u001b[0m \u001b[1;33m{\u001b[0m\u001b[1;33m}\u001b[0m\u001b[1;33m\u001b[0m\u001b[1;33m\u001b[0m\u001b[0m\n\u001b[1;32m----> 3\u001b[1;33m     \u001b[0mtmp_dict\u001b[0m\u001b[1;33m[\u001b[0m\u001b[0melement\u001b[0m\u001b[1;33m]\u001b[0m \u001b[1;33m=\u001b[0m \u001b[0mtrain_result\u001b[0m\u001b[1;33m[\u001b[0m\u001b[0mstock_code\u001b[0m\u001b[1;33m]\u001b[0m\u001b[1;33m[\u001b[0m\u001b[0midx\u001b[0m\u001b[1;33m]\u001b[0m\u001b[1;33m[\u001b[0m\u001b[1;34m'GridSearchCV'\u001b[0m\u001b[1;33m]\u001b[0m\u001b[1;33m\u001b[0m\u001b[1;33m\u001b[0m\u001b[0m\n\u001b[0m\u001b[0;32m      4\u001b[0m     \u001b[0mtrain_result\u001b[0m\u001b[1;33m[\u001b[0m\u001b[0mstock_code\u001b[0m\u001b[1;33m]\u001b[0m\u001b[1;33m[\u001b[0m\u001b[0midx\u001b[0m\u001b[1;33m]\u001b[0m \u001b[1;33m=\u001b[0m \u001b[0mtmp_dict\u001b[0m\u001b[1;33m\u001b[0m\u001b[1;33m\u001b[0m\u001b[0m\n",
      "\u001b[1;31mKeyError\u001b[0m: 'GridSearchCV'"
     ]
    }
   ],
   "source": [
    "for idx,element in enumerate(model_list):    \n",
    "    tmp_dict = {}\n",
    "    tmp_dict[element] = train_result[stock_code][idx]['GridSearchCV']\n",
    "    train_result[stock_code][idx] = tmp_dict"
   ]
  },
  {
   "cell_type": "code",
   "execution_count": 57,
   "metadata": {},
   "outputs": [
    {
     "data": {
      "text/plain": [
       "Counter({'015760': [{'svc': 0.5802469135802469},\n",
       "          {'randomforestclassifier': 0.7736625514403292},\n",
       "          {'extratreesclassifier': 0.6419753086419753},\n",
       "          {'gradientboostingclassifier': 0.5802469135802469},\n",
       "          {'kneighborsclassfier': 0.6255144032921811},\n",
       "          {'logisticregression': 0.6049382716049383},\n",
       "          {'xgbclassifier': 0.8436213991769548},\n",
       "          {'linearsvc': 0.7736625514403292},\n",
       "          {'mlpclassifier': 0.5802469135802469},\n",
       "          {'LinearDiscriminantAnalysis': 0.8106995884773662},\n",
       "          {'GaussianNB': 0.49794238683127573},\n",
       "          {'MultinomialNB': 0.5843621399176955},\n",
       "          {'BernoulliNB': 0.6213991769547325}]})"
      ]
     },
     "execution_count": 57,
     "metadata": {},
     "output_type": "execute_result"
    }
   ],
   "source": [
    "train_result "
   ]
  },
  {
   "cell_type": "code",
   "execution_count": 58,
   "metadata": {},
   "outputs": [
    {
     "ename": "KeyError",
     "evalue": "'GridSearchCV'",
     "output_type": "error",
     "traceback": [
      "\u001b[1;31m---------------------------------------------------------------------------\u001b[0m",
      "\u001b[1;31mKeyError\u001b[0m                                  Traceback (most recent call last)",
      "\u001b[1;32m<ipython-input-58-b0781315bc4d>\u001b[0m in \u001b[0;36m<module>\u001b[1;34m\u001b[0m\n\u001b[0;32m      1\u001b[0m \u001b[1;32mfor\u001b[0m \u001b[0midx\u001b[0m\u001b[1;33m,\u001b[0m\u001b[0melement\u001b[0m \u001b[1;32min\u001b[0m \u001b[0menumerate\u001b[0m\u001b[1;33m(\u001b[0m\u001b[0mmodel_list\u001b[0m\u001b[1;33m)\u001b[0m\u001b[1;33m:\u001b[0m\u001b[1;33m\u001b[0m\u001b[1;33m\u001b[0m\u001b[0m\n\u001b[0;32m      2\u001b[0m     \u001b[0mtmp_dict\u001b[0m \u001b[1;33m=\u001b[0m \u001b[1;33m{\u001b[0m\u001b[1;33m}\u001b[0m\u001b[1;33m\u001b[0m\u001b[1;33m\u001b[0m\u001b[0m\n\u001b[1;32m----> 3\u001b[1;33m     \u001b[0mtmp_dict\u001b[0m\u001b[1;33m[\u001b[0m\u001b[0melement\u001b[0m\u001b[1;33m]\u001b[0m \u001b[1;33m=\u001b[0m \u001b[0mtest_result\u001b[0m\u001b[1;33m[\u001b[0m\u001b[0mstock_code\u001b[0m\u001b[1;33m]\u001b[0m\u001b[1;33m[\u001b[0m\u001b[0midx\u001b[0m\u001b[1;33m]\u001b[0m\u001b[1;33m[\u001b[0m\u001b[1;34m'GridSearchCV'\u001b[0m\u001b[1;33m]\u001b[0m\u001b[1;33m\u001b[0m\u001b[1;33m\u001b[0m\u001b[0m\n\u001b[0m\u001b[0;32m      4\u001b[0m     \u001b[0mtest_result\u001b[0m\u001b[1;33m[\u001b[0m\u001b[0mstock_code\u001b[0m\u001b[1;33m]\u001b[0m\u001b[1;33m[\u001b[0m\u001b[0midx\u001b[0m\u001b[1;33m]\u001b[0m \u001b[1;33m=\u001b[0m \u001b[0mtmp_dict\u001b[0m\u001b[1;33m\u001b[0m\u001b[1;33m\u001b[0m\u001b[0m\n",
      "\u001b[1;31mKeyError\u001b[0m: 'GridSearchCV'"
     ]
    }
   ],
   "source": [
    "for idx,element in enumerate(model_list):    \n",
    "    tmp_dict = {}\n",
    "    tmp_dict[element] = test_result[stock_code][idx]['GridSearchCV']\n",
    "    test_result[stock_code][idx] = tmp_dict"
   ]
  },
  {
   "cell_type": "code",
   "execution_count": 59,
   "metadata": {},
   "outputs": [
    {
     "data": {
      "text/plain": [
       "Counter({'015760': [{'svc': 0.6},\n",
       "          {'randomforestclassifier': 0.5416666666666666},\n",
       "          {'extratreesclassifier': 0.6},\n",
       "          {'gradientboostingclassifier': 0.6},\n",
       "          {'kneighborsclassfier': 0.5666666666666667},\n",
       "          {'logisticregression': 0.5916666666666667},\n",
       "          {'xgbclassifier': 0.5166666666666667},\n",
       "          {'linearsvc': 0.5},\n",
       "          {'mlpclassifier': 0.6},\n",
       "          {'LinearDiscriminantAnalysis': 0.475},\n",
       "          {'GaussianNB': 0.5166666666666667},\n",
       "          {'MultinomialNB': 0.525},\n",
       "          {'BernoulliNB': 0.425}]})"
      ]
     },
     "execution_count": 59,
     "metadata": {},
     "output_type": "execute_result"
    }
   ],
   "source": [
    "test_result"
   ]
  },
  {
   "cell_type": "code",
   "execution_count": 84,
   "metadata": {},
   "outputs": [],
   "source": [
    "for idx,element in enumerate(model_list):    \n",
    "    tmp_dict = {}\n",
    "    tmp_dict[element] = auc_result[stock_code][idx]['GridSearchCV']\n",
    "    auc_result[stock_code][idx] = tmp_dict"
   ]
  },
  {
   "cell_type": "code",
   "execution_count": 85,
   "metadata": {},
   "outputs": [
    {
     "data": {
      "text/plain": [
       "[{'svc': 0.5724474474474475},\n",
       " {'randomforestclassifier': 0.5307807807807807},\n",
       " {'extratreesclassifier': 0.5581831831831832},\n",
       " {'gradientboostingclassifier': 0.5},\n",
       " {'kneighborsclassfier': 0.561936936936937},\n",
       " {'logisticregression': 0.5138888888888888},\n",
       " {'xgbclassifier': 0.5863363363363363},\n",
       " {'linearsvc': 0.5161411411411411},\n",
       " {'mlpclassifier': 0.5349099099099099},\n",
       " {'LinearDiscriminantAnalysis': 0.4632132132132132},\n",
       " {'GaussianNB': 0.5225225225225225},\n",
       " {'MultinomialNB': 0.49436936936936937},\n",
       " {'BernoulliNB': 0.5386636636636637}]"
      ]
     },
     "execution_count": 85,
     "metadata": {},
     "output_type": "execute_result"
    }
   ],
   "source": [
    "auc_list"
   ]
  },
  {
   "cell_type": "code",
   "execution_count": 86,
   "metadata": {},
   "outputs": [],
   "source": [
    "# for i in range(len(earning_data)-2):\n",
    "#     eidx = earning_data.index\n",
    "#     # 수익률 이전 행 날짜가 전날 날짜가 아니라 그이상 차이가 날때\n",
    "#     if (eidx[i+1] - eidx[i]).days > 1:\n",
    "#         # 휴일 or 주말이 끼면 그 날을 포함해서 다음 날에 반영한다.\n",
    "#         try:\n",
    "#             #data_filter_freq가 earning_data 보다 날짜가 하나 적다.\n",
    "#             print(data_filter_freq[eidx[i]+relativedelta(days=1):eidx[i+1]].sum()) # [i]는 [i+1]보다 1이상 차이난다.\n",
    "#             # 근데 data_filter_freq 데이터에서 earning_data의 인덱스가 없는 경우가 있다.\n",
    "#             data_filter_freq.loc[eidx[i+1],:] = data_filter_freq[eidx[i]+relativedelta(days=1):eidx[i+1]].sum()\n",
    "#             #del(data_filter_freq[eidx[i]+relativedelta(days=1):eidx[i+1]-relativedelta(days=1)])\n",
    "\n",
    "#             #data_filter_freq.drop(pd.date_range(eidx[i]+relativedelta(days=1),eidx[i+1]-relativedelta(days=1)),axis=0,inplace=True)\n",
    "#         except:\n",
    "#             print(i)\n",
    "#         #KeyError 발생\n",
    "#         #해결방법\n",
    "#         #1.존재 여부를 일일이 살펴 제어문을 걸어준다.\n",
    "#         #2. \n",
    "        "
   ]
  },
  {
   "cell_type": "code",
   "execution_count": 87,
   "metadata": {},
   "outputs": [],
   "source": [
    "#{'bootstrap': False, 'criterion': 'gini', 'max_depth': 10, 'max_features': 8, 'n_estimators': 500, 'random_state': 4000}"
   ]
  },
  {
   "cell_type": "markdown",
   "metadata": {},
   "source": [
    "\n",
    "모든 학습 모델들이 overfitting하여 이에 대한 해결책이 필요하다.\n",
    "1. 학습 데이터 비율증가.\n",
    "2. 파라미터 튜닝  - 가장 성능이 좋은 extraclassifier에 대해서 해준다.\n",
    "\n",
    "\n",
    "- n_estimators  값 증가\n",
    "- max_feature 줄이기\n",
    "- max_depths 줄이기"
   ]
  },
  {
   "cell_type": "code",
   "execution_count": 88,
   "metadata": {},
   "outputs": [
    {
     "data": {
      "text/plain": [
       "XGBClassifier(base_score=0.5, booster='gbtree', colsample_bylevel=1,\n",
       "       colsample_bytree=1, gamma=0, learning_rate=0.01, max_delta_step=0,\n",
       "       max_depth=3, min_child_weight=1, missing=None, n_estimators=100,\n",
       "       n_jobs=1, nthread=None, objective='binary:logistic', random_state=0,\n",
       "       reg_alpha=0, reg_lambda=1, scale_pos_weight=1, seed=None,\n",
       "       silent=True, subsample=1)"
      ]
     },
     "execution_count": 88,
     "metadata": {},
     "output_type": "execute_result"
    }
   ],
   "source": [
    "XGBClassifier(silent=True, learning_rate=0.01)"
   ]
  },
  {
   "cell_type": "code",
   "execution_count": 224,
   "metadata": {},
   "outputs": [
    {
     "name": "stderr",
     "output_type": "stream",
     "text": [
      "C:\\ProgramData\\Anaconda3\\lib\\site-packages\\sklearn\\model_selection\\_search.py:841: DeprecationWarning: The default of the `iid` parameter will change from True to False in version 0.22 and will be removed in 0.24. This will change numeric results when test-set sizes are unequal.\n",
      "  DeprecationWarning)\n"
     ]
    }
   ],
   "source": [
    "model_result = Counter()\n",
    "train_result= Counter()\n",
    "test_result = Counter()\n",
    "confusion_matrix_result = Counter()\n",
    "auc_result = Counter()\n",
    "one_code_list = all_dict[stock_code]\n",
    "tag_list = [tag[0] for tag in one_code_list[:int(len(one_code_list)*0.2)]]\n",
    "y = np.where(earning_data>=0,1,0)\n",
    "x= data_filter_freq[tag_list]\n",
    "X_train, X_test, y_train, y_test = train_test_split(x, y, test_size=0.33, shuffle=False)\n",
    "lenx=X_train.shape\n",
    "random_state = [4000]\n",
    "ex_param_grid = {\"max_depth\": [3, 5, 10,15,20],\n",
    "              \"max_features\": [7,8,9,10,11,12],\n",
    "              \"bootstrap\": [False,True],\n",
    "              \"n_estimators\" :[3,5,10,100,500,1000],\n",
    "              \"criterion\": ['gini','entropy'], 'random_state':random_state }\n",
    "#model = ExtraTreesClassifier(bootstrap=False,criterion='gini',max_depth=5, max_features=4,n_estimators=20000, random_state=4000,n_jobs=-1)\n",
    "model = GridSearchCV(ExtraTreesClassifier(), param_grid = ex_param_grid, cv=nfolds, scoring=scoring, n_jobs=-1)\n",
    "model.fit(X_train,y_train)\n",
    "pre = model.predict(X_test)"
   ]
  },
  {
   "cell_type": "code",
   "execution_count": 225,
   "metadata": {},
   "outputs": [
    {
     "data": {
      "text/plain": [
       "0.8353909465020576"
      ]
     },
     "execution_count": 225,
     "metadata": {},
     "output_type": "execute_result"
    }
   ],
   "source": [
    "model.score(X_train,y_train)"
   ]
  },
  {
   "cell_type": "code",
   "execution_count": 226,
   "metadata": {},
   "outputs": [
    {
     "data": {
      "text/plain": [
       "0.5666666666666667"
      ]
     },
     "execution_count": 226,
     "metadata": {},
     "output_type": "execute_result"
    }
   ],
   "source": [
    "metrics.accuracy_score(y_test,pre)"
   ]
  },
  {
   "cell_type": "code",
   "execution_count": 227,
   "metadata": {},
   "outputs": [
    {
     "data": {
      "text/plain": [
       "array([[41, 24],\n",
       "       [28, 27]], dtype=int64)"
      ]
     },
     "execution_count": 227,
     "metadata": {},
     "output_type": "execute_result"
    }
   ],
   "source": [
    "confusion_matrix(y_test,pre)"
   ]
  },
  {
   "cell_type": "code",
   "execution_count": 168,
   "metadata": {},
   "outputs": [
    {
     "data": {
      "text/plain": [
       "ExtraTreesClassifier(bootstrap=True, class_weight=None, criterion='entropy',\n",
       "           max_depth=3, max_features=9, max_leaf_nodes=None,\n",
       "           min_impurity_decrease=0.0, min_impurity_split=None,\n",
       "           min_samples_leaf=1, min_samples_split=2,\n",
       "           min_weight_fraction_leaf=0.0, n_estimators=1000, n_jobs=None,\n",
       "           oob_score=False, random_state=4000, verbose=0, warm_start=False)"
      ]
     },
     "execution_count": 168,
     "metadata": {},
     "output_type": "execute_result"
    }
   ],
   "source": [
    "model.best_estimator_"
   ]
  },
  {
   "cell_type": "markdown",
   "metadata": {},
   "source": [
    "## random forest vs extra \n",
    "1) When choosing variables at a split, samples are drawn from the entire training set instead of a bootstrap sample of the training set.\n",
    "\n",
    "2) Splits are chosen completely at random from the range of values in the sample at each split.\n",
    "\n",
    "The result from these two things are many more \"leaves\"."
   ]
  },
  {
   "cell_type": "code",
   "execution_count": 237,
   "metadata": {},
   "outputs": [],
   "source": [
    "\n",
    "            \n",
    "        "
   ]
  },
  {
   "cell_type": "code",
   "execution_count": null,
   "metadata": {},
   "outputs": [],
   "source": [
    "    "
   ]
  },
  {
   "cell_type": "code",
   "execution_count": 176,
   "metadata": {},
   "outputs": [
    {
     "data": {
      "text/plain": [
       "19"
      ]
     },
     "execution_count": 176,
     "metadata": {},
     "output_type": "execute_result"
    }
   ],
   "source": [
    "len(earning_data[earning_data==0])"
   ]
  },
  {
   "cell_type": "code",
   "execution_count": 177,
   "metadata": {},
   "outputs": [
    {
     "name": "stderr",
     "output_type": "stream",
     "text": [
      "C:\\ProgramData\\Anaconda3\\lib\\site-packages\\sklearn\\model_selection\\_search.py:841: DeprecationWarning: The default of the `iid` parameter will change from True to False in version 0.22 and will be removed in 0.24. This will change numeric results when test-set sizes are unequal.\n",
      "  DeprecationWarning)\n"
     ]
    }
   ],
   "source": [
    "model_result = Counter()\n",
    "train_result= Counter()\n",
    "test_result = Counter()\n",
    "confusion_matrix_result = Counter()\n",
    "auc_result = Counter()\n",
    "one_code_list = all_dict[stock_code]\n",
    "tag_list = [tag[0] for tag in one_code_list[:int(len(one_code_list)*0.2)]]\n",
    "y = np.where(earning_data>0,1,0)\n",
    "x= data_filter_freq[tag_list]\n",
    "X_train, X_test, y_train, y_test = train_test_split(x, y, test_size=0.33, shuffle=False)\n",
    "lenx=X_train.shape\n",
    "ex_param_grid = {\"max_depth\": [3, 5, 10,15,20],\n",
    "              \"max_features\": [7,8,9,10,11,12],\n",
    "              \"bootstrap\": [False,True],\n",
    "              \"n_estimators\" :[3,5,10,100,500,1000],\n",
    "              \"criterion\": ['gini','entropy'], 'random_state':random_state}\n",
    "#model = ExtraTreesClassifier(bootstrap=False,criterion='gini',max_depth=5, max_features=4,n_estimators=20000, random_state=4000,n_jobs=-1)\n",
    "model = GridSearchCV(ExtraTreesClassifier(), param_grid = ex_param_grid, cv=nfolds, scoring=scoring, n_jobs=-1)\n",
    "model.fit(X_train,y_train)\n",
    "pre = model.predict(X_test)"
   ]
  },
  {
   "cell_type": "code",
   "execution_count": 178,
   "metadata": {},
   "outputs": [
    {
     "data": {
      "text/plain": [
       "ExtraTreesClassifier(bootstrap=False, class_weight=None, criterion='gini',\n",
       "           max_depth=10, max_features=7, max_leaf_nodes=None,\n",
       "           min_impurity_decrease=0.0, min_impurity_split=None,\n",
       "           min_samples_leaf=1, min_samples_split=2,\n",
       "           min_weight_fraction_leaf=0.0, n_estimators=3, n_jobs=None,\n",
       "           oob_score=False, random_state=4000, verbose=0, warm_start=False)"
      ]
     },
     "execution_count": 178,
     "metadata": {},
     "output_type": "execute_result"
    }
   ],
   "source": [
    "model.best_estimator_"
   ]
  },
  {
   "cell_type": "code",
   "execution_count": 179,
   "metadata": {},
   "outputs": [
    {
     "data": {
      "text/plain": [
       "0.6255144032921811"
      ]
     },
     "execution_count": 179,
     "metadata": {},
     "output_type": "execute_result"
    }
   ],
   "source": [
    "model.best_score_"
   ]
  },
  {
   "cell_type": "code",
   "execution_count": 180,
   "metadata": {},
   "outputs": [
    {
     "data": {
      "text/plain": [
       "0.5833333333333334"
      ]
     },
     "execution_count": 180,
     "metadata": {},
     "output_type": "execute_result"
    }
   ],
   "source": [
    "metrics.accuracy_score(pre,y_test)"
   ]
  },
  {
   "cell_type": "code",
   "execution_count": 191,
   "metadata": {},
   "outputs": [
    {
     "data": {
      "text/plain": [
       "array([ 1.,  1.,  1., -1., -1.,  1.,  1., -1., -1.,  1.,  1.,  1., -1.,\n",
       "       -1., -1.,  1., -1., -1.,  1.,  1.,  1.,  1., -1.,  1., -1., -1.,\n",
       "        1.,  1.,  1.,  1.,  1.,  1., -1., -1., -1.,  1., -1., -1.,  1.,\n",
       "       -1.,  0.,  1., -1.,  1., -1.,  1., -1., -1.,  1.,  1.,  1., -1.,\n",
       "       -1.,  1., -1.,  1.,  1., -1.,  1., -1.,  1., -1., -1., -1., -1.,\n",
       "       -1., -1.,  1., -1.,  1.,  1., -1., -1., -1., -1., -1., -1.,  1.,\n",
       "       -1.,  1.,  1., -1., -1.,  1.,  1.,  1.,  1., -1.,  1.,  1., -1.,\n",
       "       -1., -1., -1., -1.,  1.,  1., -1., -1.,  1., -1., -1.,  1., -1.,\n",
       "        1., -1., -1., -1., -1.,  1., -1.,  1., -1.,  0.,  1.,  1.,  1.,\n",
       "       -1., -1.,  1., -1.,  1., -1.,  1., -1., -1.,  1.,  1.,  1.,  1.,\n",
       "        1., -1.,  1., -1.,  1.,  1., -1., -1., -1., -1., -1.,  0.,  1.,\n",
       "        0.,  1., -1., -1., -1.,  1.,  0., -1., -1., -1.,  1.,  1.,  1.,\n",
       "        1.,  1., -1., -1.,  1., -1.,  1., -1.,  0., -1., -1., -1., -1.,\n",
       "       -1.,  0.,  1., -1., -1.,  1.,  1., -1., -1., -1., -1., -1., -1.,\n",
       "        0.,  1.,  1., -1., -1., -1., -1., -1., -1.,  0.,  1., -1., -1.,\n",
       "        1.,  1.,  1., -1.,  1.,  1., -1., -1., -1.,  1.,  1., -1., -1.,\n",
       "        1., -1.,  1.,  1.,  0.,  1.,  1.,  1., -1., -1.,  1.,  1.,  1.,\n",
       "       -1., -1., -1., -1.,  1., -1.,  1., -1., -1., -1., -1., -1.,  1.,\n",
       "       -1., -1.,  1., -1., -1., -1., -1.,  0.,  0.,  1.,  1.,  1., -1.,\n",
       "       -1.,  1., -1., -1., -1., -1.,  1., -1., -1., -1., -1., -1.,  1.,\n",
       "       -1.,  1., -1., -1., -1., -1.,  0.,  1., -1.,  0.,  1., -1., -1.,\n",
       "        1.,  1.,  1., -1., -1., -1.,  1.,  1., -1., -1.,  1., -1., -1.,\n",
       "       -1.,  1.,  1., -1., -1.,  1., -1.,  1., -1.,  0., -1.,  1.,  0.,\n",
       "        1., -1., -1., -1., -1., -1.,  1.,  1.,  1.,  0.,  1., -1., -1.,\n",
       "       -1., -1., -1., -1., -1.,  1.,  1.,  1.,  0., -1., -1., -1., -1.,\n",
       "       -1., -1.,  1.,  1., -1.,  1.,  1.,  1.,  1., -1.,  1.,  1., -1.,\n",
       "       -1., -1.,  1., -1., -1.,  1., -1.,  1.,  1.,  1., -1., -1.,  1.,\n",
       "       -1.,  1., -1.,  1.,  1.,  0., -1.,  1.,  1.,  1., -1., -1.])"
      ]
     },
     "execution_count": 191,
     "metadata": {},
     "output_type": "execute_result"
    }
   ],
   "source": [
    "y"
   ]
  },
  {
   "cell_type": "code",
   "execution_count": 197,
   "metadata": {},
   "outputs": [
    {
     "name": "stdout",
     "output_type": "stream",
     "text": [
      "[40, 113, 141, 143, 149, 164, 170, 182, 191, 212, 241, 242, 266, 269, 295, 298, 308, 320, 356]\n"
     ]
    }
   ],
   "source": [
    "delete_index=[]\n",
    "for idx, y_element in enumerate(y):    \n",
    "    if y_element == 0:\n",
    "        delete_index.append(idx)\n",
    "print(delete_index)"
   ]
  },
  {
   "cell_type": "code",
   "execution_count": 198,
   "metadata": {},
   "outputs": [
    {
     "data": {
      "text/plain": [
       "0.0"
      ]
     },
     "execution_count": 198,
     "metadata": {},
     "output_type": "execute_result"
    }
   ],
   "source": [
    "y[40]"
   ]
  },
  {
   "cell_type": "code",
   "execution_count": 202,
   "metadata": {},
   "outputs": [
    {
     "data": {
      "text/plain": [
       "344"
      ]
     },
     "execution_count": 202,
     "metadata": {},
     "output_type": "execute_result"
    }
   ],
   "source": [
    "len(np.delete(y,delete_index))"
   ]
  },
  {
   "cell_type": "code",
   "execution_count": 203,
   "metadata": {},
   "outputs": [
    {
     "data": {
      "text/plain": [
       "344"
      ]
     },
     "execution_count": 203,
     "metadata": {},
     "output_type": "execute_result"
    }
   ],
   "source": [
    "len(x.drop(index=x.index[delete_index]))"
   ]
  },
  {
   "cell_type": "code",
   "execution_count": 205,
   "metadata": {},
   "outputs": [
    {
     "name": "stderr",
     "output_type": "stream",
     "text": [
      "C:\\ProgramData\\Anaconda3\\lib\\site-packages\\pandas\\core\\frame.py:3697: SettingWithCopyWarning: \n",
      "A value is trying to be set on a copy of a slice from a DataFrame\n",
      "\n",
      "See the caveats in the documentation: http://pandas.pydata.org/pandas-docs/stable/indexing.html#indexing-view-versus-copy\n",
      "  errors=errors)\n"
     ]
    },
    {
     "name": "stdout",
     "output_type": "stream",
     "text": [
      "X_train_shape: (230, 27)\n"
     ]
    },
    {
     "name": "stderr",
     "output_type": "stream",
     "text": [
      "C:\\ProgramData\\Anaconda3\\lib\\site-packages\\sklearn\\model_selection\\_search.py:841: DeprecationWarning: The default of the `iid` parameter will change from True to False in version 0.22 and will be removed in 0.24. This will change numeric results when test-set sizes are unequal.\n",
      "  DeprecationWarning)\n"
     ]
    },
    {
     "name": "stdout",
     "output_type": "stream",
     "text": [
      "GridSearchCV : {'C': 10, 'gamma': 0.01, 'kernel': 'rbf', 'random_state': 4000}\n"
     ]
    },
    {
     "name": "stderr",
     "output_type": "stream",
     "text": [
      "C:\\ProgramData\\Anaconda3\\lib\\site-packages\\sklearn\\model_selection\\_search.py:841: DeprecationWarning: The default of the `iid` parameter will change from True to False in version 0.22 and will be removed in 0.24. This will change numeric results when test-set sizes are unequal.\n",
      "  DeprecationWarning)\n"
     ]
    },
    {
     "name": "stdout",
     "output_type": "stream",
     "text": [
      "GridSearchCV : {'criterion': 'gini', 'max_depth': 3, 'max_features': 11, 'n_estimators': 1000, 'random_state': 4000}\n"
     ]
    },
    {
     "name": "stderr",
     "output_type": "stream",
     "text": [
      "C:\\ProgramData\\Anaconda3\\lib\\site-packages\\sklearn\\model_selection\\_search.py:841: DeprecationWarning: The default of the `iid` parameter will change from True to False in version 0.22 and will be removed in 0.24. This will change numeric results when test-set sizes are unequal.\n",
      "  DeprecationWarning)\n"
     ]
    },
    {
     "name": "stdout",
     "output_type": "stream",
     "text": [
      "GridSearchCV : {'bootstrap': False, 'criterion': 'gini', 'max_depth': 5, 'max_features': 7, 'n_estimators': 500, 'random_state': 4000}\n",
      "GridSearchCV : {'learning_rate': 0.01, 'loss': 'deviance', 'max_depth': 3, 'max_features': 0.3, 'min_samples_leaf': 200, 'n_estimators': 500, 'random_state': 4000}\n"
     ]
    },
    {
     "name": "stderr",
     "output_type": "stream",
     "text": [
      "C:\\ProgramData\\Anaconda3\\lib\\site-packages\\sklearn\\model_selection\\_search.py:841: DeprecationWarning: The default of the `iid` parameter will change from True to False in version 0.22 and will be removed in 0.24. This will change numeric results when test-set sizes are unequal.\n",
      "  DeprecationWarning)\n",
      "C:\\ProgramData\\Anaconda3\\lib\\site-packages\\sklearn\\model_selection\\_search.py:841: DeprecationWarning: The default of the `iid` parameter will change from True to False in version 0.22 and will be removed in 0.24. This will change numeric results when test-set sizes are unequal.\n",
      "  DeprecationWarning)\n",
      "C:\\ProgramData\\Anaconda3\\lib\\site-packages\\sklearn\\linear_model\\logistic.py:433: FutureWarning: Default solver will be changed to 'lbfgs' in 0.22. Specify a solver to silence this warning.\n",
      "  FutureWarning)\n"
     ]
    },
    {
     "name": "stdout",
     "output_type": "stream",
     "text": [
      "GridSearchCV : {'n_neighbors': 29}\n",
      "GridSearchCV : {'C': 0.001}\n"
     ]
    },
    {
     "name": "stderr",
     "output_type": "stream",
     "text": [
      "C:\\ProgramData\\Anaconda3\\lib\\site-packages\\sklearn\\model_selection\\_search.py:841: DeprecationWarning: The default of the `iid` parameter will change from True to False in version 0.22 and will be removed in 0.24. This will change numeric results when test-set sizes are unequal.\n",
      "  DeprecationWarning)\n"
     ]
    },
    {
     "name": "stdout",
     "output_type": "stream",
     "text": [
      "GridSearchCV : {'colsample_bytree': 0.8, 'gamma': 0.4, 'n_estimators': 2000, 'random_state': 4000, 'reg_alpha': 0.1, 'subsample': 0.75}\n"
     ]
    },
    {
     "name": "stderr",
     "output_type": "stream",
     "text": [
      "C:\\ProgramData\\Anaconda3\\lib\\site-packages\\sklearn\\model_selection\\_search.py:841: DeprecationWarning: The default of the `iid` parameter will change from True to False in version 0.22 and will be removed in 0.24. This will change numeric results when test-set sizes are unequal.\n",
      "  DeprecationWarning)\n",
      "C:\\ProgramData\\Anaconda3\\lib\\site-packages\\sklearn\\svm\\base.py:922: ConvergenceWarning: Liblinear failed to converge, increase the number of iterations.\n",
      "  \"the number of iterations.\", ConvergenceWarning)\n"
     ]
    },
    {
     "name": "stdout",
     "output_type": "stream",
     "text": [
      "GridSearchCV : {'C': 1, 'penalty': 'l2', 'random_state': 4000}\n"
     ]
    },
    {
     "name": "stderr",
     "output_type": "stream",
     "text": [
      "C:\\ProgramData\\Anaconda3\\lib\\site-packages\\sklearn\\model_selection\\_search.py:841: DeprecationWarning: The default of the `iid` parameter will change from True to False in version 0.22 and will be removed in 0.24. This will change numeric results when test-set sizes are unequal.\n",
      "  DeprecationWarning)\n"
     ]
    },
    {
     "name": "stdout",
     "output_type": "stream",
     "text": [
      "GridSearchCV : {'activation': 'logistic', 'alpha': 0.05, 'hidden_layer_sizes': (50, 50, 50), 'learning_rate': 'constant', 'max_iter': 1000, 'random_state': 4000, 'solver': 'adam'}\n",
      "Wall time: 19min 30s\n"
     ]
    },
    {
     "name": "stderr",
     "output_type": "stream",
     "text": [
      "C:\\ProgramData\\Anaconda3\\lib\\site-packages\\sklearn\\neural_network\\multilayer_perceptron.py:562: ConvergenceWarning: Stochastic Optimizer: Maximum iterations (1000) reached and the optimization hasn't converged yet.\n",
      "  % self.max_iter, ConvergenceWarning)\n"
     ]
    }
   ],
   "source": [
    "%%time\n",
    "# 수익률이 0인것 제거\n",
    "\n",
    "model_result = Counter()\n",
    "train_result= Counter()\n",
    "test_result = Counter()\n",
    "confusion_matrix_result = Counter()\n",
    "auc_result = Counter()\n",
    "one_code_list = all_dict[stock_code]\n",
    "tag_list = [tag[0] for tag in one_code_list[:int(len(one_code_list)*0.2)]]\n",
    "\n",
    "y = np.array([labeling(label) for label in earning_data])\n",
    "delete_index=[]\n",
    "for idx, y_element in enumerate(y):    \n",
    "    if y_element == 0:\n",
    "        delete_index.append(idx)\n",
    "x= data_filter_freq[tag_list]\n",
    "y=np.delete(y,delete_index)\n",
    "x.drop(index=x.index[delete_index],inplace=True)\n",
    "X_train, X_test, y_train, y_test = train_test_split(x, y, test_size=0.33, shuffle=False)\n",
    "lenx=X_train.shape\n",
    "# if lenx[0]<=10 or lenx[1]<=2:\n",
    "#     continue\n",
    "classifiers = []\n",
    "classifiers_not = []\n",
    "random_state = [4000]\n",
    "\n",
    "\n",
    "\n",
    "# gsRFC = GridSearchCV(RFC,param_grid = rf_param_grid, cv=kfold, scoring=\"accuracy\", n_jobs= 4, verbose = 1)\n",
    "Cs = [0.0001, 0.001, 0.01, 0.1, 1, 10, 100]\n",
    "gammas = [0.001, 0.01, 0.1, 1]\n",
    "kernel = ['linear', 'rbf', 'sigmoid']#'precomputed','poly'\n",
    "nfolds=5\n",
    "criterion = [\"gini\", 'entropy']\n",
    "#grid_search = GridSearchCV(SVC(), param_grid_svc, cv=nfolds)\n",
    "n_estimators = [500,1000,2000]\n",
    "learning_rate = [0.01]\n",
    "max_depth = [3, 5, 10, 15 ,20]\n",
    "solver = ['newton-cg', 'lbfgs', 'liblinear', 'sag', 'saga']\n",
    "scoring = 'accuracy'\n",
    "n_jobs= -1\n",
    "penalty= ['l2']\n",
    "\n",
    "linearscv_param_grid = {'C':Cs, 'penalty':penalty, 'random_state':random_state }\n",
    "\n",
    "svc_param_grid = {'C': Cs, 'gamma' : gammas,'kernel':kernel, 'random_state':random_state }\n",
    "\n",
    "ex_param_grid = {\"max_depth\": [3, 5, 10,15,20],\n",
    "              \"max_features\": [7,8,9,10,11,12],\n",
    "              \"bootstrap\": [False,True],\n",
    "              \"n_estimators\" :n_estimators,\n",
    "              \"criterion\": criterion, 'random_state':random_state }\n",
    "\n",
    "\n",
    "gb_param_grid = {'loss' : [\"deviance\"],\n",
    "              'n_estimators' : n_estimators,\n",
    "              'learning_rate': learning_rate,\n",
    "              'max_depth': max_depth,\n",
    "              'min_samples_leaf': [200,400,600],\n",
    "              'max_features': [0.3, 0.1], 'random_state':random_state  \n",
    "              }\n",
    "\n",
    "rf_param_grid = {\"max_depth\": [3,4,5,10,15,20],\n",
    "              \"max_features\": [7,8,9,10,11,12],\n",
    "              \"n_estimators\" :n_estimators,\n",
    "              \"criterion\": criterion, 'random_state':random_state }\n",
    "\n",
    "logistic_param_grid = {\n",
    "    'C': Cs                                   \n",
    "              }\n",
    "\n",
    "lda_param_grid = {'solver' : [\"svd\",'lsqr','eigen'],\n",
    "              'shrinkage ' : ['auto'], 'random_state':random_state \n",
    "              }\n",
    "\n",
    "kneighbor_param_grid = {'n_neighbors':list(range(1,31))}\n",
    "\n",
    "xgboost_param_grid ={\n",
    "    'gamma':[i/10.0 for i in range(0,5)],\n",
    "     'subsample':[i/100.0 for i in range(75,90,5)],\n",
    "     'colsample_bytree':[i/100.0 for i in range(75,90,5)],\n",
    "    'reg_alpha':[1e-5, 1e-2, 0.1, 1, 100],\n",
    "    'n_estimators':[100,500,1000,2000], 'random_state':random_state \n",
    "}\n",
    "\n",
    "naive_bayes_param_grid = {\n",
    "    'priors':None, 'random_state':random_state \n",
    "}\n",
    "\n",
    "mlp_param_grid = {\n",
    "    'hidden_layer_sizes': [(50,50,50), (50,100,50), (100,)],\n",
    "    'activation': ['logistic', 'tanh', 'relu'],\n",
    "    'solver': ['sgd', 'adam'],\n",
    "    'alpha': [0.0001, 0.05,0.1,1,10,100],\n",
    "    'learning_rate': ['constant','adaptive'],\n",
    "    'max_iter':[1000,2000,5000,10000], 'random_state':random_state \n",
    "}\n",
    "\n",
    "\n",
    "#gsExtC = GridSearchCV(ExtraTreesClassifier, param_grid = ex_param_grid, cv=nfold, scoring=\"auc\")\n",
    "\n",
    "print('X_train_shape:',X_train.shape)\n",
    "classifiers.append(GridSearchCV(SVC(), svc_param_grid, cv=nfolds,n_jobs=-1))\n",
    "classifiers.append(GridSearchCV(RandomForestClassifier(),param_grid = rf_param_grid, cv=nfolds, scoring=scoring, n_jobs=-1))\n",
    "classifiers.append(GridSearchCV(ExtraTreesClassifier(), param_grid = ex_param_grid, cv=nfolds, scoring=scoring, n_jobs=-1))\n",
    "classifiers.append(GridSearchCV(GradientBoostingClassifier(),param_grid = gb_param_grid, cv=nfolds, scoring=scoring, n_jobs=-1))\n",
    "\n",
    "classifiers.append(GridSearchCV(KNeighborsClassifier(),param_grid=kneighbor_param_grid,cv=nfolds, scoring=scoring, n_jobs=-1))\n",
    "classifiers.append(GridSearchCV(LogisticRegression(penalty='l2'),param_grid = logistic_param_grid, cv=nfolds, scoring=scoring, n_jobs=-1))\n",
    "\n",
    "classifiers.append(GridSearchCV(XGBClassifier(silent=True, learning_rate=0.01, objective='binary:logistic'),param_grid=xgboost_param_grid,cv=nfolds,scoring=scoring,n_jobs=-1))\n",
    "classifiers.append(GridSearchCV(LinearSVC(),param_grid=linearscv_param_grid, scoring=scoring, cv=nfolds,n_jobs=-1))\n",
    "classifiers.append(GridSearchCV(MLPClassifier(),param_grid=mlp_param_grid,cv=nfolds,n_jobs=-1)) # 제외\n",
    "\n",
    "\n",
    "\n",
    "classifiers_not.append(LinearDiscriminantAnalysis())# 튜닝 불가능\n",
    "classifiers_not.append(GaussianNB())\n",
    "classifiers_not.append(MultinomialNB())\n",
    "classifiers_not.append(BernoulliNB())\n",
    "\n",
    "\n",
    "\n",
    "#classifiers.append(XGBClassifier())\n",
    "test_accuracy_list = []\n",
    "train_accuracy_list= [] \n",
    "model_accuracy_list= []\n",
    "confusion_matrix_list = []\n",
    "auc_list = []\n",
    "for models in classifiers:\n",
    "    #print(models)\n",
    "    models.fit(X_train,y_train)\n",
    "    \n",
    "    model_str = str(models).split('(')[0]\n",
    "    print(model_str,':',models.best_params_)\n",
    "    pre = models.predict(X_test)\n",
    "    \n",
    "    tmp_dict1 = {}\n",
    "    tmp_dict1[model_str] = models.score(X_test,y_test)\n",
    "    test_accuracy_list.append(tmp_dict1)\n",
    "    \n",
    "    tmp_dict2 = {}\n",
    "    tmp_dict2[model_str] = models.score(X_train,y_train)\n",
    "    train_accuracy_list.append(tmp_dict2)\n",
    "    \n",
    "    tmp_dict3 = {}\n",
    "    tmp_dict3[model_str] = metrics.accuracy_score(y_test, pre)\n",
    "    model_accuracy_list.append(tmp_dict3)\n",
    "    \n",
    "    # 전역변수로, 지역변수 문제라 생각한다.\n",
    "    tmp_dict4 = {}\n",
    "    tmp_dict4[model_str] = confusion_matrix(y_test,pre)\n",
    "    confusion_matrix_list.append(tmp_dict4)    \n",
    "    \n",
    "    #confusion_matrix_list.append(confusion_matrix(y_test,pre))\n",
    "for models in classifiers_not:\n",
    "    \n",
    "    models.fit(X_train,y_train)\n",
    "    \n",
    "    model_str = str(models).split('(')[0]\n",
    "    pre = models.predict(X_test)\n",
    "    \n",
    "    tmp_dict1 = {}\n",
    "    tmp_dict1[model_str] = models.score(X_test,y_test)\n",
    "    test_accuracy_list.append(tmp_dict1)\n",
    "    \n",
    "    tmp_dict2 = {}\n",
    "    tmp_dict2[model_str] = models.score(X_train,y_train)\n",
    "    train_accuracy_list.append(tmp_dict2)\n",
    "    \n",
    "    tmp_dict3 = {}\n",
    "    tmp_dict3[model_str] = metrics.accuracy_score(y_test, pre)\n",
    "    model_accuracy_list.append(tmp_dict3)\n",
    "    \n",
    "    # 전역변수로, 지역변수 문제라 생각한다.\n",
    "    tmp_dict4 = {}\n",
    "    tmp_dict4[model_str] = confusion_matrix(y_test,pre)\n",
    "    confusion_matrix_list.append(tmp_dict4)\n",
    "  \n",
    "    #confusion_matrix_list.append(confusion_matrix(y_test,pre))    \n",
    "\n",
    "    \n",
    "train_result[stock_code] = train_accuracy_list\n",
    "test_result[stock_code] = test_accuracy_list\n",
    "model_result[stock_code] = model_accuracy_list\n",
    "confusion_matrix_result[stock_code] = confusion_matrix_list\n",
    "\n"
   ]
  },
  {
   "cell_type": "code",
   "execution_count": 206,
   "metadata": {},
   "outputs": [
    {
     "name": "stdout",
     "output_type": "stream",
     "text": [
      "model_result\n",
      "Counter({'015760': [{'svc': 0.5263157894736842}, {'randomforestclassifier': 0.6140350877192983}, {'extratreesclassifier': 0.631578947368421}, {'gradientboostingclassifier': 0.5789473684210527}, {'kneighborsclassfier': 0.5789473684210527}, {'logisticregression': 0.5526315789473685}, {'xgbclassifier': 0.5701754385964912}, {'linearsvc': 0.5087719298245614}, {'mlpclassifier': 0.5087719298245614}, {'LinearDiscriminantAnalysis': 0.5087719298245614}, {'GaussianNB': 0.5526315789473685}, {'MultinomialNB': 0.5350877192982456}, {'BernoulliNB': 0.5}]})\n",
      "train_result\n",
      "Counter({'015760': [{'svc': 0.9956521739130435}, {'randomforestclassifier': 0.7913043478260869}, {'extratreesclassifier': 0.8130434782608695}, {'gradientboostingclassifier': 0.5565217391304348}, {'kneighborsclassfier': 0.6173913043478261}, {'logisticregression': 0.6347826086956522}, {'xgbclassifier': 1.0}, {'linearsvc': 0.6739130434782609}, {'mlpclassifier': 1.0}, {'LinearDiscriminantAnalysis': 0.6608695652173913}, {'GaussianNB': 0.5347826086956522}, {'MultinomialNB': 0.6304347826086957}, {'BernoulliNB': 0.5869565217391305}]})\n",
      "test_result\n",
      "Counter({'015760': [{'svc': 0.5263157894736842}, {'randomforestclassifier': 0.6140350877192983}, {'extratreesclassifier': 0.631578947368421}, {'gradientboostingclassifier': 0.5789473684210527}, {'kneighborsclassfier': 0.5789473684210527}, {'logisticregression': 0.5526315789473685}, {'xgbclassifier': 0.5701754385964912}, {'linearsvc': 0.5087719298245614}, {'mlpclassifier': 0.5087719298245614}, {'LinearDiscriminantAnalysis': 0.5087719298245614}, {'GaussianNB': 0.5526315789473685}, {'MultinomialNB': 0.5350877192982456}, {'BernoulliNB': 0.5}]})\n"
     ]
    }
   ],
   "source": [
    "for idx,element in enumerate(model_list):    \n",
    "    tmp_dict = {}\n",
    "    tmp_dict[element] = model_result[stock_code][idx]['GridSearchCV']\n",
    "    model_result[stock_code][idx] = tmp_dict\n",
    "print('model_result')\n",
    "print(model_result)\n",
    "for idx,element in enumerate(model_list):    \n",
    "    tmp_dict = {}\n",
    "    tmp_dict[element] = train_result[stock_code][idx]['GridSearchCV']\n",
    "    train_result[stock_code][idx] = tmp_dict\n",
    "print('train_result')\n",
    "print(train_result)\n",
    "for idx,element in enumerate(model_list):    \n",
    "    tmp_dict = {}\n",
    "    tmp_dict[element] = test_result[stock_code][idx]['GridSearchCV']\n",
    "    test_result[stock_code][idx] = tmp_dict\n",
    "print('test_result')\n",
    "print(test_result)"
   ]
  },
  {
   "cell_type": "markdown",
   "metadata": {},
   "source": [
    "- 3 label\n",
    "- split 0.33\n",
    "Counter({'015760': [{'svc': 0.4666666666666667}, {'randomforestclassifier': 0.5916666666666667}, {'extratreesclassifier': 0.5833333333333334}, {'gradientboostingclassifier': 0.5416666666666666}, {'kneighborsclassfier': 0.525}, {'logisticregression': 0.5416666666666666}, {'xgbclassifier': 0.5583333333333333}, {'linearsvc': 0.5416666666666666}, {'mlpclassifier': 0.5583333333333333}, {'LinearDiscriminantAnalysis': 0.475}, {'GaussianNB': 0.5083333333333333}, {'MultinomialNB': 0.4666666666666667}, {'BernoulliNB': 0.475}]})\n",
    "Counter({'015760': [{'svc': 0.9465020576131687}, {'randomforestclassifier': 0.7530864197530864}, {'extratreesclassifier': 0.7736625514403292}, {'gradientboostingclassifier': 0.5308641975308642}, {'kneighborsclassfier': 0.5761316872427984}, {'logisticregression': 0.6090534979423868}, {'xgbclassifier': 0.9218106995884774}, {'linearsvc': 0.5925925925925926}, {'mlpclassifier': 0.6666666666666666}, {'LinearDiscriminantAnalysis': 0.6337448559670782}, {'GaussianNB': 0.5020576131687243}, {'MultinomialNB': 0.5967078189300411}, {'BernoulliNB': 0.551440329218107}]})\n",
    "Counter({'015760': [{'svc': 0.4666666666666667}, {'randomforestclassifier': 0.5916666666666667}, {'extratreesclassifier': 0.5833333333333334}, {'gradientboostingclassifier': 0.5416666666666666}, {'kneighborsclassfier': 0.525}, {'logisticregression': 0.5416666666666666}, {'xgbclassifier': 0.5583333333333333}, {'linearsvc': 0.5416666666666666}, {'mlpclassifier': 0.5583333333333333}, {'LinearDiscriminantAnalysis': 0.475}, {'GaussianNB': 0.5083333333333333}, {'MultinomialNB': 0.4666666666666667}, {'BernoulliNB': 0.475}]})"
   ]
  },
  {
   "cell_type": "markdown",
   "metadata": {},
   "source": [
    "- 3 label \n",
    "- split 0.2\n",
    "model_result\n",
    "Counter({'015760': [{'svc': 0.5068493150684932}, {'randomforestclassifier': 0.5616438356164384}, {'extratreesclassifier': 0.5342465753424658}, {'gradientboostingclassifier': 0.5068493150684932}, {'kneighborsclassfier': 0.5068493150684932}, {'logisticregression': 0.5205479452054794}, {'xgbclassifier': 0.5068493150684932}, {'linearsvc': 0.547945205479452}, {'mlpclassifier': 0.4794520547945205}, {'LinearDiscriminantAnalysis': 0.4794520547945205}, {'GaussianNB': 0.4657534246575342}, {'MultinomialNB': 0.4246575342465753}, {'BernoulliNB': 0.5205479452054794}]})\n",
    "train_result\n",
    "Counter({'015760': [{'svc': 1.0}, {'randomforestclassifier': 0.6620689655172414}, {'extratreesclassifier': 0.5689655172413793}, {'gradientboostingclassifier': 0.5413793103448276}, {'kneighborsclassfier': 0.596551724137931}, {'logisticregression': 0.5413793103448276}, {'xgbclassifier': 0.5413793103448276}, {'linearsvc': 0.5620689655172414}, {'mlpclassifier': 1.0}, {'LinearDiscriminantAnalysis': 0.6103448275862069}, {'GaussianNB': 0.5103448275862069}, {'MultinomialNB': 0.5689655172413793}, {'BernoulliNB': 0.5275862068965518}]})\n",
    "test_result\n",
    "Counter({'015760': [{'svc': 0.5068493150684932}, {'randomforestclassifier': 0.5616438356164384}, {'extratreesclassifier': 0.5342465753424658}, {'gradientboostingclassifier': 0.5068493150684932}, {'kneighborsclassfier': 0.5068493150684932}, {'logisticregression': 0.5205479452054794}, {'xgbclassifier': 0.5068493150684932}, {'linearsvc': 0.547945205479452}, {'mlpclassifier': 0.4794520547945205}, {'LinearDiscriminantAnalysis': 0.4794520547945205}, {'GaussianNB': 0.4657534246575342}, {'MultinomialNB': 0.4246575342465753}, {'BernoulliNB': 0.5205479452054794}]})"
   ]
  },
  {
   "cell_type": "code",
   "execution_count": 374,
   "metadata": {},
   "outputs": [
    {
     "name": "stderr",
     "output_type": "stream",
     "text": [
      "C:\\ProgramData\\Anaconda3\\lib\\site-packages\\pandas\\core\\frame.py:3697: SettingWithCopyWarning: \n",
      "A value is trying to be set on a copy of a slice from a DataFrame\n",
      "\n",
      "See the caveats in the documentation: http://pandas.pydata.org/pandas-docs/stable/indexing.html#indexing-view-versus-copy\n",
      "  errors=errors)\n",
      "C:\\ProgramData\\Anaconda3\\lib\\site-packages\\sklearn\\model_selection\\_search.py:841: DeprecationWarning: The default of the `iid` parameter will change from True to False in version 0.22 and will be removed in 0.24. This will change numeric results when test-set sizes are unequal.\n",
      "  DeprecationWarning)\n"
     ]
    },
    {
     "name": "stdout",
     "output_type": "stream",
     "text": [
      "GridSearchCV : {'bootstrap': False, 'criterion': 'gini', 'max_depth': 5, 'max_features': 7, 'n_estimators': 500, 'random_state': 4000}\n",
      "test score: 0.631578947368421\n",
      "train score: 0.8130434782608695\n",
      "model_score: 0.631578947368421\n",
      "[[54 12]\n",
      " [30 18]]\n",
      "Wall time: 5min 1s\n"
     ]
    }
   ],
   "source": [
    "%%time\n",
    "# 수익률이 0인것 제거\n",
    "\n",
    "\n",
    "\n",
    "one_code_list = all_dict[stock_code]\n",
    "tag_list = [tag[0] for tag in one_code_list[:int(len(one_code_list)*0.2)]]\n",
    "y = np.array([labeling(label) for label in earning_data])\n",
    "\n",
    "\n",
    "delete_index=[]\n",
    "for idx, y_element in enumerate(y):    \n",
    "    if y_element == 0:\n",
    "        delete_index.append(idx)\n",
    "x= data_filter_freq[tag_list]\n",
    "y=np.delete(y,delete_index)\n",
    "x.drop(index=x.index[delete_index],inplace=True)\n",
    "X_train, X_test, y_train, y_test = train_test_split(x, y, test_size=0.33, shuffle=False)\n",
    "lenx=X_train.shape\n",
    "# if lenx[0]<=10 or lenx[1]<=2:\n",
    "#     continue\n",
    "classifiers = []\n",
    "\n",
    "random_state = [4000]\n",
    "\n",
    "\n",
    "\n",
    "# gsRFC = GridSearchCV(RFC,param_grid = rf_param_grid, cv=kfold, scoring=\"accuracy\", n_jobs= 4, verbose = 1)\n",
    "\n",
    "nfolds=5\n",
    "criterion = [\"gini\", 'entropy']\n",
    "n_estimators = [500,1000,2000]\n",
    "learning_rate = [0.01]\n",
    "max_depth = [3, 5, 10,11,15 ,20]\n",
    "scoring = 'accuracy'\n",
    "n_jobs= -1\n",
    "\n",
    "\n",
    "\n",
    "ex_param_grid = {\"max_depth\": max_depth,\n",
    "              \"max_features\": [7,8,9,10,11,12],\n",
    "              \"bootstrap\": [False,True],\n",
    "              \"n_estimators\" :n_estimators,\n",
    "              \"criterion\": criterion, 'random_state':random_state }\n",
    "\n",
    "\n",
    "\n",
    "#gsExtC = GridSearchCV(ExtraTreesClassifier, param_grid = ex_param_grid, cv=nfold, scoring=\"auc\")\n",
    "\n",
    "\n",
    "classifiers.append(GridSearchCV(ExtraTreesClassifier(), param_grid = ex_param_grid, cv=nfolds, scoring=scoring, n_jobs=-1))\n",
    "\n",
    "\n",
    "\n",
    "\n",
    "\n",
    "auc_list = []\n",
    "for ex_model in classifiers:\n",
    "    #print(ex_model)\n",
    "    ex_model.fit(X_train,y_train)\n",
    "    \n",
    "    model_str = str(ex_model).split('(')[0]\n",
    "    print(model_str,':',ex_model.best_params_)\n",
    "    pre = ex_model.predict(X_test)\n",
    "    \n",
    "    \n",
    "    print('test score:',ex_model.score(X_test,y_test))\n",
    "    \n",
    "    \n",
    "    \n",
    "    print('train score:',ex_model.score(X_train,y_train))\n",
    "    \n",
    "    \n",
    "    \n",
    "    print('model_score:',metrics.accuracy_score(y_test, pre))\n",
    "    \n",
    "    \n",
    "    # 전역변수로, 지역변수 문제라 생각한다.\n",
    "    \n",
    "    print(confusion_matrix(y_test,pre))\n",
    "    \n",
    "    \n",
    "    #confusion_matrix_list.append(confusion_matrix(y_test,pre))\n",
    "\n",
    "\n"
   ]
  },
  {
   "cell_type": "code",
   "execution_count": 246,
   "metadata": {},
   "outputs": [],
   "source": [
    "ex_model_result = ex_model.best_estimator_"
   ]
  },
  {
   "cell_type": "code",
   "execution_count": 247,
   "metadata": {},
   "outputs": [
    {
     "data": {
      "text/plain": [
       "array([0.05700887, 0.05266821, 0.05287346, 0.03735   , 0.03970011,\n",
       "       0.0227239 , 0.01948052, 0.01878363, 0.03411024, 0.03211414,\n",
       "       0.07142225, 0.04538688, 0.03642755, 0.02000186, 0.05923805,\n",
       "       0.02419871, 0.03944741, 0.05755673, 0.01653867, 0.01489935,\n",
       "       0.02079234, 0.01522584, 0.01986267, 0.05608618, 0.03962187,\n",
       "       0.03819785, 0.05828271])"
      ]
     },
     "execution_count": 247,
     "metadata": {},
     "output_type": "execute_result"
    }
   ],
   "source": [
    "ex_model_result.feature_importances_"
   ]
  },
  {
   "cell_type": "code",
   "execution_count": 248,
   "metadata": {},
   "outputs": [
    {
     "data": {
      "text/plain": [
       "<matplotlib.axes._subplots.AxesSubplot at 0x25dccfdcbe0>"
      ]
     },
     "execution_count": 248,
     "metadata": {},
     "output_type": "execute_result"
    },
    {
     "data": {
      "image/png": "[encoded data removed]",
      "text/plain": [
       "<Figure size 432x288 with 1 Axes>"
      ]
     },
     "metadata": {
      "needs_background": "light"
     },
     "output_type": "display_data"
    }
   ],
   "source": [
    "pd.Series(ex_model_result.feature_importances_,index = X_train.columns).sort_values(ascending=False).plot(kind='bar')"
   ]
  },
  {
   "cell_type": "code",
   "execution_count": 250,
   "metadata": {},
   "outputs": [
    {
     "data": {
      "text/plain": [
       "{'bootstrap': False,\n",
       " 'criterion': 'gini',\n",
       " 'max_depth': 5,\n",
       " 'max_features': 7,\n",
       " 'n_estimators': 500,\n",
       " 'random_state': 4000}"
      ]
     },
     "execution_count": 250,
     "metadata": {},
     "output_type": "execute_result"
    }
   ],
   "source": [
    "ex_model.best_params_"
   ]
  },
  {
   "cell_type": "code",
   "execution_count": 370,
   "metadata": {},
   "outputs": [],
   "source": [
    "exmodel = ExtraTreesClassifier(bootstrap=False,criterion='gini',max_depth=11,max_features=8,n_estimators=500, random_state=4000) # 타당하지 못한 방법"
   ]
  },
  {
   "cell_type": "code",
   "execution_count": 371,
   "metadata": {},
   "outputs": [
    {
     "data": {
      "text/plain": [
       "ExtraTreesClassifier(bootstrap=False, class_weight=None, criterion='gini',\n",
       "           max_depth=11, max_features=8, max_leaf_nodes=None,\n",
       "           min_impurity_decrease=0.0, min_impurity_split=None,\n",
       "           min_samples_leaf=1, min_samples_split=2,\n",
       "           min_weight_fraction_leaf=0.0, n_estimators=500, n_jobs=None,\n",
       "           oob_score=False, random_state=4000, verbose=0, warm_start=False)"
      ]
     },
     "execution_count": 371,
     "metadata": {},
     "output_type": "execute_result"
    }
   ],
   "source": [
    "exmodel.fit(X_train,y_train)"
   ]
  },
  {
   "cell_type": "code",
   "execution_count": 372,
   "metadata": {},
   "outputs": [
    {
     "data": {
      "text/plain": [
       "0.6754385964912281"
      ]
     },
     "execution_count": 372,
     "metadata": {},
     "output_type": "execute_result"
    }
   ],
   "source": [
    "pre = exmodel.predict(X_test)\n",
    "\n",
    "metrics.accuracy_score(y_test, pre)"
   ]
  },
  {
   "cell_type": "code",
   "execution_count": 373,
   "metadata": {},
   "outputs": [
    {
     "data": {
      "text/plain": [
       "0.9956521739130435"
      ]
     },
     "execution_count": 373,
     "metadata": {},
     "output_type": "execute_result"
    }
   ],
   "source": [
    "exmodel.score(X_train,y_train)"
   ]
  }
 ],
 "metadata": {
  "kernelspec": {
   "display_name": "Python 3",
   "language": "python",
   "name": "python3"
  },
  "language_info": {
   "codemirror_mode": {
    "name": "ipython",
    "version": 3
   },
   "file_extension": ".py",
   "mimetype": "text/x-python",
   "name": "python",
   "nbconvert_exporter": "python",
   "pygments_lexer": "ipython3",
   "version": "3.7.1"
  }
 },
 "nbformat": 4,
 "nbformat_minor": 2
}
