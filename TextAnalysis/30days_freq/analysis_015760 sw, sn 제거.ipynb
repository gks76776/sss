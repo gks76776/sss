{
 "cells": [
  {
   "cell_type": "code",
   "execution_count": 1,
   "metadata": {},
   "outputs": [],
   "source": [
    "import pandas as pd\n",
    "import sys\n",
    "import os\n",
    "if not sys.modules.get('pyarrow'):\n",
    "    os.system('pip3 install pyarrow')\n",
    "import numpy as np\n",
    "from glob import glob\n",
    "import datetime \n",
    "from dateutil.relativedelta import relativedelta\n",
    "from collections import Counter\n",
    "import numpy as np\n",
    "from sklearn import metrics\n",
    "import numpy as np\n",
    "import operator\n"
   ]
  },
  {
   "cell_type": "code",
   "execution_count": 2,
   "metadata": {},
   "outputs": [],
   "source": [
    "def month_vouch(m):\n",
    "    if len(str(m))==1:\n",
    "        return '0'+str(m)\n",
    "    else:\n",
    "        return str(m)"
   ]
  },
  {
   "cell_type": "code",
   "execution_count": 3,
   "metadata": {},
   "outputs": [],
   "source": [
    "def pearson_cor(a,b):   \n",
    "    if a.shape != b.shape:\n",
    "        print('크기가 다른 데이터입니다.')            \n",
    "    else:\n",
    "        return((np.dot(a,b) - np.mean(a)*np.mean(b)*a.shape[0])/(a.shape[0]-1))/(np.std(a)*np.std(b))"
   ]
  },
  {
   "cell_type": "code",
   "execution_count": 4,
   "metadata": {},
   "outputs": [],
   "source": [
    "import platform\n",
    "import matplotlib.pyplot as plt\n",
    "from matplotlib import font_manager, rc\n",
    "# 한글처리\n",
    "plt.rcParams['axes.unicode_minus'] = False\n",
    "if platform.system() == 'Darwin':    # 맥\n",
    "    rc( 'font', family='AppleGothic' )\n",
    "elif platform.system() == 'Windows': # 윈도우\n",
    "    # 폰트 차후 확인\n",
    "    fontPath = 'c:/Windows/Fonts/malgun.ttf'\n",
    "    fontName = font_manager.FontProperties( fname=fontPath ).get_name()\n",
    "    rc( 'font', family=fontName )\n",
    "else:\n",
    "    print('알수없는 시스템. 미적용')"
   ]
  },
  {
   "cell_type": "code",
   "execution_count": 5,
   "metadata": {},
   "outputs": [],
   "source": [
    "from sklearn.linear_model import LogisticRegression\n",
    "if not sys.modules.get('xgboost'):\n",
    "    os.system('pip3 install xgboost')\n",
    "from xgboost import XGBClassifier\n",
    "from sklearn.ensemble import RandomForestClassifier, AdaBoostClassifier, GradientBoostingClassifier, ExtraTreesClassifier, VotingClassifier\n",
    "from sklearn.discriminant_analysis import LinearDiscriminantAnalysis\n",
    "from sklearn.linear_model import LogisticRegression\n",
    "from sklearn.neighbors import KNeighborsClassifier\n",
    "from sklearn.tree import DecisionTreeClassifier\n",
    "from sklearn.neural_network import MLPClassifier\n",
    "from sklearn.svm import SVC,LinearSVC\n",
    "from sklearn.model_selection import GridSearchCV, cross_val_score, StratifiedKFold, learning_curve\n",
    "from sklearn.naive_bayes import GaussianNB,MultinomialNB,BernoulliNB\n",
    "from sklearn import metrics\n",
    "from sklearn.metrics import confusion_matrix\n",
    "from sklearn.model_selection import GridSearchCV, train_test_split"
   ]
  },
  {
   "cell_type": "code",
   "execution_count": 6,
   "metadata": {},
   "outputs": [],
   "source": [
    "stock_code = '015760'\n",
    "path = './data/freq2/naver_{0}_freq.parquet/'.format(stock_code)\n",
    "file_name = os.listdir(path)[0]\n",
    "data = pd.read_parquet(path+file_name)\n",
    "#data['date'] = pd.to_datetime(data['date'], format='%Y.%m.%d', errors='ignore')\n",
    "tag_dict= Counter()\n",
    "all_dict = Counter()"
   ]
  },
  {
   "cell_type": "code",
   "execution_count": 7,
   "metadata": {},
   "outputs": [],
   "source": [
    "data_sorting = data.sort_values(by='date')\n",
    "data_sorting.reset_index(inplace=True,drop=True)"
   ]
  },
  {
   "cell_type": "markdown",
   "metadata": {},
   "source": [
    "# 고려해야할 것\n",
    "- 각 컬럼의 총 빈도를 계산하여 특정 빈도 이하는 제거\n",
    "- 날짜 짝짓기\n",
    "- 전날과 당일 빈도 묶기 - 주말,휴일 고려 "
   ]
  },
  {
   "cell_type": "code",
   "execution_count": 8,
   "metadata": {
    "scrolled": true
   },
   "outputs": [],
   "source": [
    "#특정 이하 빈도 제거 \n",
    "sum_by_columns = data_sorting.drop(columns=['date']).sum(axis=0)\n",
    "abs_path = os.path.abspath('../file_list/crawl_data/naver_{0}.csv'.format(stock_code))\n",
    "csv_file = pd.read_csv(abs_path,header=None)\n",
    "#print(csv_file.head(10))\n",
    "filter_size = csv_file.shape[0]*0.03\n",
    "filtered_index_series = sum_by_columns>filter_size\n",
    "filtered_index = filtered_index_series[filtered_index_series==True].keys()\n",
    "#date_list = ['date']\n",
    "#data['date'].concat(sum_by_columns>filter_size)\n",
    "\n",
    "#data_filter_freq = data_sorting.loc[:date_list.extend(filtered_index)]\n",
    "data_filter_freq = data_sorting.loc[:,filtered_index]\n",
    "# 수익률과 날짜를 맞춰주기 위해서 하루를 미뤄준다.\n",
    "\n",
    "#day를 더해줬던 이유가 무엇일까?\n",
    "data_filter_freq.index = data_sorting['date'].apply(lambda x:datetime.datetime(int(x.split('.')[0]),int(x.split('.')[1]),int(x.split('.')[2]))+relativedelta(days=1))\n",
    "data_filter_freq = data_filter_freq.loc[:datetime.datetime(2018,11,30)]"
   ]
  },
  {
   "cell_type": "code",
   "execution_count": 9,
   "metadata": {},
   "outputs": [
    {
     "data": {
      "text/html": [
       "<div>\n",
       "<style scoped>\n",
       "    .dataframe tbody tr th:only-of-type {\n",
       "        vertical-align: middle;\n",
       "    }\n",
       "\n",
       "    .dataframe tbody tr th {\n",
       "        vertical-align: top;\n",
       "    }\n",
       "\n",
       "    .dataframe thead th {\n",
       "        text-align: right;\n",
       "    }\n",
       "</style>\n",
       "<table border=\"1\" class=\"dataframe\">\n",
       "  <thead>\n",
       "    <tr style=\"text-align: right;\">\n",
       "      <th></th>\n",
       "      <th>!!/sf</th>\n",
       "      <th>!/sf</th>\n",
       "      <th>%/sw</th>\n",
       "      <th>.../se</th>\n",
       "      <th>../se</th>\n",
       "      <th>./se</th>\n",
       "      <th>./sf</th>\n",
       "      <th>1/sn</th>\n",
       "      <th>10/sn</th>\n",
       "      <th>2/sn</th>\n",
       "      <th>...</th>\n",
       "      <th>탈/xpn</th>\n",
       "      <th>투자/nng</th>\n",
       "      <th>팔/vv</th>\n",
       "      <th>하/vv</th>\n",
       "      <th>하락/nng</th>\n",
       "      <th>한/mm</th>\n",
       "      <th>한국/nnp</th>\n",
       "      <th>한국전력/nnp</th>\n",
       "      <th>한전/nnp</th>\n",
       "      <th>회사/nng</th>\n",
       "    </tr>\n",
       "    <tr>\n",
       "      <th>date</th>\n",
       "      <th></th>\n",
       "      <th></th>\n",
       "      <th></th>\n",
       "      <th></th>\n",
       "      <th></th>\n",
       "      <th></th>\n",
       "      <th></th>\n",
       "      <th></th>\n",
       "      <th></th>\n",
       "      <th></th>\n",
       "      <th></th>\n",
       "      <th></th>\n",
       "      <th></th>\n",
       "      <th></th>\n",
       "      <th></th>\n",
       "      <th></th>\n",
       "      <th></th>\n",
       "      <th></th>\n",
       "      <th></th>\n",
       "      <th></th>\n",
       "      <th></th>\n",
       "    </tr>\n",
       "  </thead>\n",
       "  <tbody>\n",
       "    <tr>\n",
       "      <th>2017-06-08</th>\n",
       "      <td>1</td>\n",
       "      <td>2</td>\n",
       "      <td>14</td>\n",
       "      <td>7</td>\n",
       "      <td>8</td>\n",
       "      <td>6</td>\n",
       "      <td>39</td>\n",
       "      <td>3</td>\n",
       "      <td>3</td>\n",
       "      <td>5</td>\n",
       "      <td>...</td>\n",
       "      <td>0</td>\n",
       "      <td>1</td>\n",
       "      <td>3</td>\n",
       "      <td>12</td>\n",
       "      <td>0</td>\n",
       "      <td>2</td>\n",
       "      <td>0</td>\n",
       "      <td>2</td>\n",
       "      <td>7</td>\n",
       "      <td>0</td>\n",
       "    </tr>\n",
       "    <tr>\n",
       "      <th>2017-06-09</th>\n",
       "      <td>1</td>\n",
       "      <td>5</td>\n",
       "      <td>2</td>\n",
       "      <td>4</td>\n",
       "      <td>6</td>\n",
       "      <td>3</td>\n",
       "      <td>28</td>\n",
       "      <td>4</td>\n",
       "      <td>1</td>\n",
       "      <td>1</td>\n",
       "      <td>...</td>\n",
       "      <td>0</td>\n",
       "      <td>0</td>\n",
       "      <td>4</td>\n",
       "      <td>27</td>\n",
       "      <td>1</td>\n",
       "      <td>4</td>\n",
       "      <td>1</td>\n",
       "      <td>1</td>\n",
       "      <td>8</td>\n",
       "      <td>1</td>\n",
       "    </tr>\n",
       "    <tr>\n",
       "      <th>2017-06-10</th>\n",
       "      <td>1</td>\n",
       "      <td>4</td>\n",
       "      <td>0</td>\n",
       "      <td>6</td>\n",
       "      <td>10</td>\n",
       "      <td>7</td>\n",
       "      <td>62</td>\n",
       "      <td>7</td>\n",
       "      <td>3</td>\n",
       "      <td>2</td>\n",
       "      <td>...</td>\n",
       "      <td>0</td>\n",
       "      <td>4</td>\n",
       "      <td>2</td>\n",
       "      <td>11</td>\n",
       "      <td>1</td>\n",
       "      <td>2</td>\n",
       "      <td>0</td>\n",
       "      <td>1</td>\n",
       "      <td>5</td>\n",
       "      <td>1</td>\n",
       "    </tr>\n",
       "    <tr>\n",
       "      <th>2017-06-11</th>\n",
       "      <td>0</td>\n",
       "      <td>4</td>\n",
       "      <td>0</td>\n",
       "      <td>2</td>\n",
       "      <td>2</td>\n",
       "      <td>2</td>\n",
       "      <td>52</td>\n",
       "      <td>3</td>\n",
       "      <td>1</td>\n",
       "      <td>3</td>\n",
       "      <td>...</td>\n",
       "      <td>1</td>\n",
       "      <td>1</td>\n",
       "      <td>0</td>\n",
       "      <td>19</td>\n",
       "      <td>0</td>\n",
       "      <td>4</td>\n",
       "      <td>0</td>\n",
       "      <td>0</td>\n",
       "      <td>1</td>\n",
       "      <td>3</td>\n",
       "    </tr>\n",
       "    <tr>\n",
       "      <th>2017-06-12</th>\n",
       "      <td>3</td>\n",
       "      <td>6</td>\n",
       "      <td>5</td>\n",
       "      <td>3</td>\n",
       "      <td>14</td>\n",
       "      <td>5</td>\n",
       "      <td>84</td>\n",
       "      <td>5</td>\n",
       "      <td>2</td>\n",
       "      <td>6</td>\n",
       "      <td>...</td>\n",
       "      <td>0</td>\n",
       "      <td>0</td>\n",
       "      <td>2</td>\n",
       "      <td>12</td>\n",
       "      <td>0</td>\n",
       "      <td>1</td>\n",
       "      <td>0</td>\n",
       "      <td>3</td>\n",
       "      <td>12</td>\n",
       "      <td>2</td>\n",
       "    </tr>\n",
       "  </tbody>\n",
       "</table>\n",
       "<p>5 rows × 140 columns</p>\n",
       "</div>"
      ],
      "text/plain": [
       "            !!/sf  !/sf  %/sw  .../se  ../se  ./se  ./sf  1/sn  10/sn  2/sn  \\\n",
       "date                                                                          \n",
       "2017-06-08      1     2    14       7      8     6    39     3      3     5   \n",
       "2017-06-09      1     5     2       4      6     3    28     4      1     1   \n",
       "2017-06-10      1     4     0       6     10     7    62     7      3     2   \n",
       "2017-06-11      0     4     0       2      2     2    52     3      1     3   \n",
       "2017-06-12      3     6     5       3     14     5    84     5      2     6   \n",
       "\n",
       "             ...    탈/xpn  투자/nng  팔/vv  하/vv  하락/nng  한/mm  한국/nnp  한국전력/nnp  \\\n",
       "date         ...                                                                \n",
       "2017-06-08   ...        0       1     3    12       0     2       0         2   \n",
       "2017-06-09   ...        0       0     4    27       1     4       1         1   \n",
       "2017-06-10   ...        0       4     2    11       1     2       0         1   \n",
       "2017-06-11   ...        1       1     0    19       0     4       0         0   \n",
       "2017-06-12   ...        0       0     2    12       0     1       0         3   \n",
       "\n",
       "            한전/nnp  회사/nng  \n",
       "date                        \n",
       "2017-06-08       7       0  \n",
       "2017-06-09       8       1  \n",
       "2017-06-10       5       1  \n",
       "2017-06-11       1       3  \n",
       "2017-06-12      12       2  \n",
       "\n",
       "[5 rows x 140 columns]"
      ]
     },
     "execution_count": 9,
     "metadata": {},
     "output_type": "execute_result"
    }
   ],
   "source": [
    "data_filter_freq.head()"
   ]
  },
  {
   "cell_type": "code",
   "execution_count": 10,
   "metadata": {},
   "outputs": [
    {
     "data": {
      "text/html": [
       "<div>\n",
       "<style scoped>\n",
       "    .dataframe tbody tr th:only-of-type {\n",
       "        vertical-align: middle;\n",
       "    }\n",
       "\n",
       "    .dataframe tbody tr th {\n",
       "        vertical-align: top;\n",
       "    }\n",
       "\n",
       "    .dataframe thead th {\n",
       "        text-align: right;\n",
       "    }\n",
       "</style>\n",
       "<table border=\"1\" class=\"dataframe\">\n",
       "  <thead>\n",
       "    <tr style=\"text-align: right;\">\n",
       "      <th></th>\n",
       "      <th>!!/sf</th>\n",
       "      <th>!/sf</th>\n",
       "      <th>%/sw</th>\n",
       "      <th>.../se</th>\n",
       "      <th>../se</th>\n",
       "      <th>./se</th>\n",
       "      <th>./sf</th>\n",
       "      <th>1/sn</th>\n",
       "      <th>10/sn</th>\n",
       "      <th>2/sn</th>\n",
       "      <th>...</th>\n",
       "      <th>탈/xpn</th>\n",
       "      <th>투자/nng</th>\n",
       "      <th>팔/vv</th>\n",
       "      <th>하/vv</th>\n",
       "      <th>하락/nng</th>\n",
       "      <th>한/mm</th>\n",
       "      <th>한국/nnp</th>\n",
       "      <th>한국전력/nnp</th>\n",
       "      <th>한전/nnp</th>\n",
       "      <th>회사/nng</th>\n",
       "    </tr>\n",
       "    <tr>\n",
       "      <th>date</th>\n",
       "      <th></th>\n",
       "      <th></th>\n",
       "      <th></th>\n",
       "      <th></th>\n",
       "      <th></th>\n",
       "      <th></th>\n",
       "      <th></th>\n",
       "      <th></th>\n",
       "      <th></th>\n",
       "      <th></th>\n",
       "      <th></th>\n",
       "      <th></th>\n",
       "      <th></th>\n",
       "      <th></th>\n",
       "      <th></th>\n",
       "      <th></th>\n",
       "      <th></th>\n",
       "      <th></th>\n",
       "      <th></th>\n",
       "      <th></th>\n",
       "      <th></th>\n",
       "    </tr>\n",
       "  </thead>\n",
       "  <tbody>\n",
       "    <tr>\n",
       "      <th>2018-11-26</th>\n",
       "      <td>0</td>\n",
       "      <td>1</td>\n",
       "      <td>20</td>\n",
       "      <td>3</td>\n",
       "      <td>2</td>\n",
       "      <td>2</td>\n",
       "      <td>92</td>\n",
       "      <td>11</td>\n",
       "      <td>0</td>\n",
       "      <td>5</td>\n",
       "      <td>...</td>\n",
       "      <td>27</td>\n",
       "      <td>0</td>\n",
       "      <td>0</td>\n",
       "      <td>25</td>\n",
       "      <td>1</td>\n",
       "      <td>5</td>\n",
       "      <td>0</td>\n",
       "      <td>1</td>\n",
       "      <td>0</td>\n",
       "      <td>0</td>\n",
       "    </tr>\n",
       "    <tr>\n",
       "      <th>2018-11-27</th>\n",
       "      <td>15</td>\n",
       "      <td>26</td>\n",
       "      <td>19</td>\n",
       "      <td>7</td>\n",
       "      <td>12</td>\n",
       "      <td>8</td>\n",
       "      <td>163</td>\n",
       "      <td>18</td>\n",
       "      <td>5</td>\n",
       "      <td>21</td>\n",
       "      <td>...</td>\n",
       "      <td>35</td>\n",
       "      <td>1</td>\n",
       "      <td>8</td>\n",
       "      <td>39</td>\n",
       "      <td>9</td>\n",
       "      <td>5</td>\n",
       "      <td>5</td>\n",
       "      <td>6</td>\n",
       "      <td>14</td>\n",
       "      <td>2</td>\n",
       "    </tr>\n",
       "    <tr>\n",
       "      <th>2018-11-28</th>\n",
       "      <td>2</td>\n",
       "      <td>11</td>\n",
       "      <td>3</td>\n",
       "      <td>5</td>\n",
       "      <td>12</td>\n",
       "      <td>7</td>\n",
       "      <td>84</td>\n",
       "      <td>4</td>\n",
       "      <td>4</td>\n",
       "      <td>2</td>\n",
       "      <td>...</td>\n",
       "      <td>15</td>\n",
       "      <td>1</td>\n",
       "      <td>10</td>\n",
       "      <td>23</td>\n",
       "      <td>1</td>\n",
       "      <td>2</td>\n",
       "      <td>2</td>\n",
       "      <td>2</td>\n",
       "      <td>14</td>\n",
       "      <td>1</td>\n",
       "    </tr>\n",
       "    <tr>\n",
       "      <th>2018-11-29</th>\n",
       "      <td>22</td>\n",
       "      <td>40</td>\n",
       "      <td>22</td>\n",
       "      <td>13</td>\n",
       "      <td>8</td>\n",
       "      <td>15</td>\n",
       "      <td>238</td>\n",
       "      <td>37</td>\n",
       "      <td>11</td>\n",
       "      <td>22</td>\n",
       "      <td>...</td>\n",
       "      <td>28</td>\n",
       "      <td>9</td>\n",
       "      <td>15</td>\n",
       "      <td>41</td>\n",
       "      <td>8</td>\n",
       "      <td>10</td>\n",
       "      <td>18</td>\n",
       "      <td>12</td>\n",
       "      <td>35</td>\n",
       "      <td>4</td>\n",
       "    </tr>\n",
       "    <tr>\n",
       "      <th>2018-11-30</th>\n",
       "      <td>2</td>\n",
       "      <td>5</td>\n",
       "      <td>12</td>\n",
       "      <td>5</td>\n",
       "      <td>2</td>\n",
       "      <td>6</td>\n",
       "      <td>209</td>\n",
       "      <td>20</td>\n",
       "      <td>10</td>\n",
       "      <td>10</td>\n",
       "      <td>...</td>\n",
       "      <td>24</td>\n",
       "      <td>2</td>\n",
       "      <td>2</td>\n",
       "      <td>58</td>\n",
       "      <td>3</td>\n",
       "      <td>4</td>\n",
       "      <td>28</td>\n",
       "      <td>4</td>\n",
       "      <td>19</td>\n",
       "      <td>3</td>\n",
       "    </tr>\n",
       "  </tbody>\n",
       "</table>\n",
       "<p>5 rows × 140 columns</p>\n",
       "</div>"
      ],
      "text/plain": [
       "            !!/sf  !/sf  %/sw  .../se  ../se  ./se  ./sf  1/sn  10/sn  2/sn  \\\n",
       "date                                                                          \n",
       "2018-11-26      0     1    20       3      2     2    92    11      0     5   \n",
       "2018-11-27     15    26    19       7     12     8   163    18      5    21   \n",
       "2018-11-28      2    11     3       5     12     7    84     4      4     2   \n",
       "2018-11-29     22    40    22      13      8    15   238    37     11    22   \n",
       "2018-11-30      2     5    12       5      2     6   209    20     10    10   \n",
       "\n",
       "             ...    탈/xpn  투자/nng  팔/vv  하/vv  하락/nng  한/mm  한국/nnp  한국전력/nnp  \\\n",
       "date         ...                                                                \n",
       "2018-11-26   ...       27       0     0    25       1     5       0         1   \n",
       "2018-11-27   ...       35       1     8    39       9     5       5         6   \n",
       "2018-11-28   ...       15       1    10    23       1     2       2         2   \n",
       "2018-11-29   ...       28       9    15    41       8    10      18        12   \n",
       "2018-11-30   ...       24       2     2    58       3     4      28         4   \n",
       "\n",
       "            한전/nnp  회사/nng  \n",
       "date                        \n",
       "2018-11-26       0       0  \n",
       "2018-11-27      14       2  \n",
       "2018-11-28      14       1  \n",
       "2018-11-29      35       4  \n",
       "2018-11-30      19       3  \n",
       "\n",
       "[5 rows x 140 columns]"
      ]
     },
     "execution_count": 10,
     "metadata": {},
     "output_type": "execute_result"
    }
   ],
   "source": [
    "data_filter_freq.tail()"
   ]
  },
  {
   "cell_type": "code",
   "execution_count": 11,
   "metadata": {},
   "outputs": [],
   "source": [
    "#### 보류\n",
    "#날짜 짝짓기\n",
    "#첫행 처리는 어떻게 할것인가? 없으면 더해주지 않는다. 있으면 더한다. "
   ]
  },
  {
   "cell_type": "code",
   "execution_count": 12,
   "metadata": {},
   "outputs": [],
   "source": [
    "# 7월 30일 데이터는 없다.\n",
    "#data_filter_freq.loc[datetime.datetime(year=2017,month=7,day=30),:]"
   ]
  },
  {
   "cell_type": "code",
   "execution_count": 13,
   "metadata": {},
   "outputs": [],
   "source": [
    "### 수익률 데이터 처리\n",
    "earning_month_raw = pd.read_excel('./data/현대차,한전_수익률.xlsx')\n",
    "# 해당 열 추출\n",
    "symbol = earning_month_raw.loc[:,'A'+stock_code]\n",
    "return_data =symbol\n",
    "earning_data = return_data[datetime.datetime(year=2017,month=6,day=8):datetime.datetime(year=2018,month=11,day=30)]\n"
   ]
  },
  {
   "cell_type": "code",
   "execution_count": 14,
   "metadata": {},
   "outputs": [],
   "source": [
    "# ### 수익률 데이터 처리\n",
    "# earning_month_raw = pd.read_excel('./data/일일수익률.xlsx')\n",
    "\n",
    "# symbol = earning_month_raw.loc['Symbol Name':,:]\n",
    "# symbol.columns = earning_month_raw.loc['Symbol']\n",
    "\n",
    "# # 해당 열 추출\n",
    "# return_data = symbol['A'+stock_code]\n",
    "\n",
    "\n",
    "# earning_data = return_data[datetime.datetime(year=2017,month=6,day=8):datetime.datetime(year=2018,month=11,day=30)]\n"
   ]
  },
  {
   "cell_type": "code",
   "execution_count": 15,
   "metadata": {},
   "outputs": [
    {
     "data": {
      "text/plain": [
       "2017-06-08    1.40\n",
       "2017-06-09    0.11\n",
       "2017-06-12    0.80\n",
       "2017-06-13   -0.80\n",
       "2017-06-14   -1.83\n",
       "Name: A015760, dtype: float64"
      ]
     },
     "execution_count": 15,
     "metadata": {},
     "output_type": "execute_result"
    }
   ],
   "source": [
    "earning_data.head()"
   ]
  },
  {
   "cell_type": "code",
   "execution_count": 16,
   "metadata": {},
   "outputs": [],
   "source": [
    "import matplotlib.pyplot as plt\n",
    "import seaborn as sns\n"
   ]
  },
  {
   "cell_type": "code",
   "execution_count": 17,
   "metadata": {},
   "outputs": [
    {
     "data": {
      "text/plain": [
       "2017-06-08    1.40\n",
       "2017-06-09    0.11\n",
       "2017-06-12    0.80\n",
       "2017-06-13   -0.80\n",
       "2017-06-14   -1.83\n",
       "2017-06-15    0.82\n",
       "2017-06-16    0.46\n",
       "2017-06-19   -3.11\n",
       "2017-06-20   -2.02\n",
       "2017-06-21    1.33\n",
       "2017-06-22    0.84\n",
       "2017-06-23    0.59\n",
       "2017-06-26   -0.47\n",
       "2017-06-27   -1.42\n",
       "2017-06-28   -1.81\n",
       "2017-06-29    0.12\n",
       "2017-06-30   -0.12\n",
       "2017-07-03   -0.25\n",
       "2017-07-04    1.47\n",
       "2017-07-05    1.69\n",
       "2017-07-06    0.24\n",
       "2017-07-07    0.95\n",
       "2017-07-10   -1.65\n",
       "2017-07-11    1.67\n",
       "2017-07-12   -1.06\n",
       "2017-07-13   -0.59\n",
       "2017-07-14    0.36\n",
       "2017-07-17    1.07\n",
       "2017-07-18    0.59\n",
       "2017-07-19    0.47\n",
       "              ... \n",
       "2018-10-22    2.42\n",
       "2018-10-23   -4.54\n",
       "2018-10-24    4.18\n",
       "2018-10-25    2.37\n",
       "2018-10-26   -2.67\n",
       "2018-10-29   -0.73\n",
       "2018-10-30   -3.14\n",
       "2018-10-31    3.24\n",
       "2018-11-01   -0.74\n",
       "2018-11-02   -1.12\n",
       "2018-11-05    1.88\n",
       "2018-11-06   -1.29\n",
       "2018-11-07    1.68\n",
       "2018-11-08    0.92\n",
       "2018-11-09    2.55\n",
       "2018-11-12   -2.13\n",
       "2018-11-13   -0.73\n",
       "2018-11-14    4.57\n",
       "2018-11-15   -2.62\n",
       "2018-11-16    0.36\n",
       "2018-11-19   -2.15\n",
       "2018-11-20    2.19\n",
       "2018-11-21    0.89\n",
       "2018-11-22    0.00\n",
       "2018-11-23   -2.13\n",
       "2018-11-26    6.16\n",
       "2018-11-27    1.88\n",
       "2018-11-28    3.18\n",
       "2018-11-29   -1.30\n",
       "2018-11-30   -2.30\n",
       "Name: A015760, Length: 363, dtype: float64"
      ]
     },
     "execution_count": 17,
     "metadata": {},
     "output_type": "execute_result"
    }
   ],
   "source": [
    "earning_data"
   ]
  },
  {
   "cell_type": "code",
   "execution_count": 18,
   "metadata": {},
   "outputs": [
    {
     "name": "stdout",
     "output_type": "stream",
     "text": [
      "1.6372378759209891\n"
     ]
    },
    {
     "name": "stderr",
     "output_type": "stream",
     "text": [
      "C:\\ProgramData\\Anaconda3\\lib\\site-packages\\scipy\\stats\\stats.py:1713: FutureWarning: Using a non-tuple sequence for multidimensional indexing is deprecated; use `arr[tuple(seq)]` instead of `arr[seq]`. In the future this will be interpreted as an array index, `arr[np.array(seq)]`, which will result either in an error or a different result.\n",
      "  return np.add.reduce(sorted[indexer] * weights, axis=axis) / sumval\n"
     ]
    },
    {
     "data": {
      "image/png": "[encoded data removed]",
      "text/plain": [
       "<Figure size 432x288 with 1 Axes>"
      ]
     },
     "metadata": {
      "needs_background": "light"
     },
     "output_type": "display_data"
    }
   ],
   "source": [
    "sns.distplot(list(earning_data))\n",
    "print(earning_data.std())"
   ]
  },
  {
   "cell_type": "code",
   "execution_count": 61,
   "metadata": {},
   "outputs": [
    {
     "data": {
      "text/plain": [
       "(array([0. , 0.2, 0.4, 0.6, 0.8, 1. ]), <a list of 6 Text xticklabel objects>)"
      ]
     },
     "execution_count": 61,
     "metadata": {},
     "output_type": "execute_result"
    },
    {
     "data": {
      "image/png": "[encoded data removed]",
      "text/plain": [
       "<Figure size 432x288 with 1 Axes>"
      ]
     },
     "metadata": {
      "needs_background": "light"
     },
     "output_type": "display_data"
    }
   ],
   "source": [
    "plt.xticks(rotation=45)"
   ]
  },
  {
   "cell_type": "code",
   "execution_count": 62,
   "metadata": {},
   "outputs": [
    {
     "data": {
      "text/plain": [
       "<matplotlib.collections.PathCollection at 0x2844b3ad7b8>"
      ]
     },
     "execution_count": 62,
     "metadata": {},
     "output_type": "execute_result"
    },
    {
     "data": {
      "image/png": "[encoded data removed]",
      "text/plain": [
       "<Figure size 432x288 with 1 Axes>"
      ]
     },
     "metadata": {
      "needs_background": "light"
     },
     "output_type": "display_data"
    }
   ],
   "source": [
    "plt.scatter(earning_data.index,earning_data) #일일 변화율은 안정적인 편이다."
   ]
  },
  {
   "cell_type": "code",
   "execution_count": null,
   "metadata": {},
   "outputs": [],
   "source": []
  },
  {
   "cell_type": "code",
   "execution_count": 20,
   "metadata": {},
   "outputs": [
    {
     "data": {
      "text/plain": [
       "[<matplotlib.lines.Line2D at 0x2843dbe80f0>]"
      ]
     },
     "execution_count": 20,
     "metadata": {},
     "output_type": "execute_result"
    },
    {
     "data": {
      "image/png": "[encoded data removed]",
      "text/plain": [
       "<Figure size 432x288 with 1 Axes>"
      ]
     },
     "metadata": {
      "needs_background": "light"
     },
     "output_type": "display_data"
    }
   ],
   "source": [
    "plt.plot(earning_data)"
   ]
  },
  {
   "cell_type": "code",
   "execution_count": 21,
   "metadata": {},
   "outputs": [],
   "source": [
    "# earning_data의 전날 텍스트 빈도와 earning_data의 수익률의 짝을 맞춰야한다. \n",
    "# 주말과 휴일을 고려해야한다.\n",
    "# 합치기 위해서는 earning_data의 index 정보가 필요하다.\n",
    "\n",
    "#earning_data.index =  [date- relativedelta(days=1) for date in earning_data.index]"
   ]
  },
  {
   "cell_type": "code",
   "execution_count": 22,
   "metadata": {},
   "outputs": [
    {
     "data": {
      "text/plain": [
       "2018-11-26    6.16\n",
       "2018-11-27    1.88\n",
       "2018-11-28    3.18\n",
       "2018-11-29   -1.30\n",
       "2018-11-30   -2.30\n",
       "Name: A015760, dtype: float64"
      ]
     },
     "execution_count": 22,
     "metadata": {},
     "output_type": "execute_result"
    }
   ],
   "source": [
    "earning_data.tail()"
   ]
  },
  {
   "cell_type": "code",
   "execution_count": 23,
   "metadata": {},
   "outputs": [
    {
     "data": {
      "text/plain": [
       "DatetimeIndex(['2017-06-08', '2017-06-09', '2017-06-10', '2017-06-11',\n",
       "               '2017-06-12', '2017-06-13', '2017-06-14', '2017-06-15',\n",
       "               '2017-06-16', '2017-06-17',\n",
       "               ...\n",
       "               '2018-11-21', '2018-11-22', '2018-11-23', '2018-11-24',\n",
       "               '2018-11-25', '2018-11-26', '2018-11-27', '2018-11-28',\n",
       "               '2018-11-29', '2018-11-30'],\n",
       "              dtype='datetime64[ns]', name='date', length=541, freq=None)"
      ]
     },
     "execution_count": 23,
     "metadata": {},
     "output_type": "execute_result"
    }
   ],
   "source": [
    "# 이 날짜에 있는 빈도를 수익률과 상관계수를 구할거임\n",
    "data_filter_freq.index "
   ]
  },
  {
   "cell_type": "code",
   "execution_count": 24,
   "metadata": {},
   "outputs": [],
   "source": [
    "# print(differ_date[:10])"
   ]
  },
  {
   "cell_type": "code",
   "execution_count": 25,
   "metadata": {},
   "outputs": [],
   "source": [
    "# a = differ_date[0:2]\n",
    "# a.append('babo')"
   ]
  },
  {
   "cell_type": "code",
   "execution_count": 26,
   "metadata": {},
   "outputs": [],
   "source": [
    "# differ_date"
   ]
  },
  {
   "cell_type": "code",
   "execution_count": 27,
   "metadata": {
    "scrolled": true
   },
   "outputs": [],
   "source": [
    "differ_date = sorted(list(set(data_filter_freq.index).difference(set(earning_data.index))))\n",
    "#print(differ_date)\n",
    "i = 0\n",
    "for idx in range(len(differ_date)-1):\n",
    "    #print(element)\n",
    "    # 10 11 17 idx = 1\n",
    "    if (differ_date[idx+1]-differ_date[idx]).days > 1:      \n",
    "        #print(differ_date[i],differ_date[idx+1],data_filter_freq.loc[differ_date[i:idx+1],:].sum())\n",
    "        # 휴일 or 주말이 끼면 그 날을 포함해서 다음 날에 반영한다.\n",
    "        # 휴일 다음날 \n",
    "        append_idx = differ_date[idx]+relativedelta(days=1)\n",
    "        sum_list = differ_date[i:idx+1]\n",
    "        sum_list.append(append_idx)\n",
    "        data_filter_freq.loc[append_idx,:] = data_filter_freq.loc[sum_list,:].sum()//len(sum_list)\n",
    "        data_filter_freq.drop(index = differ_date[i:idx+1],inplace=True)\n",
    "        #del data_filter_freq.loc[differ_date[i:idx+1],:]\n",
    "        #print(sum_list,'append_idx:',append_idx)\n",
    "        i = idx+1"
   ]
  },
  {
   "cell_type": "code",
   "execution_count": 28,
   "metadata": {},
   "outputs": [
    {
     "data": {
      "text/html": [
       "<div>\n",
       "<style scoped>\n",
       "    .dataframe tbody tr th:only-of-type {\n",
       "        vertical-align: middle;\n",
       "    }\n",
       "\n",
       "    .dataframe tbody tr th {\n",
       "        vertical-align: top;\n",
       "    }\n",
       "\n",
       "    .dataframe thead th {\n",
       "        text-align: right;\n",
       "    }\n",
       "</style>\n",
       "<table border=\"1\" class=\"dataframe\">\n",
       "  <thead>\n",
       "    <tr style=\"text-align: right;\">\n",
       "      <th></th>\n",
       "      <th>!!/sf</th>\n",
       "      <th>!/sf</th>\n",
       "      <th>%/sw</th>\n",
       "      <th>.../se</th>\n",
       "      <th>../se</th>\n",
       "      <th>./se</th>\n",
       "      <th>./sf</th>\n",
       "      <th>1/sn</th>\n",
       "      <th>10/sn</th>\n",
       "      <th>2/sn</th>\n",
       "      <th>...</th>\n",
       "      <th>탈/xpn</th>\n",
       "      <th>투자/nng</th>\n",
       "      <th>팔/vv</th>\n",
       "      <th>하/vv</th>\n",
       "      <th>하락/nng</th>\n",
       "      <th>한/mm</th>\n",
       "      <th>한국/nnp</th>\n",
       "      <th>한국전력/nnp</th>\n",
       "      <th>한전/nnp</th>\n",
       "      <th>회사/nng</th>\n",
       "    </tr>\n",
       "    <tr>\n",
       "      <th>date</th>\n",
       "      <th></th>\n",
       "      <th></th>\n",
       "      <th></th>\n",
       "      <th></th>\n",
       "      <th></th>\n",
       "      <th></th>\n",
       "      <th></th>\n",
       "      <th></th>\n",
       "      <th></th>\n",
       "      <th></th>\n",
       "      <th></th>\n",
       "      <th></th>\n",
       "      <th></th>\n",
       "      <th></th>\n",
       "      <th></th>\n",
       "      <th></th>\n",
       "      <th></th>\n",
       "      <th></th>\n",
       "      <th></th>\n",
       "      <th></th>\n",
       "      <th></th>\n",
       "    </tr>\n",
       "  </thead>\n",
       "  <tbody>\n",
       "    <tr>\n",
       "      <th>2017-06-08</th>\n",
       "      <td>1</td>\n",
       "      <td>2</td>\n",
       "      <td>14</td>\n",
       "      <td>7</td>\n",
       "      <td>8</td>\n",
       "      <td>6</td>\n",
       "      <td>39</td>\n",
       "      <td>3</td>\n",
       "      <td>3</td>\n",
       "      <td>5</td>\n",
       "      <td>...</td>\n",
       "      <td>0</td>\n",
       "      <td>1</td>\n",
       "      <td>3</td>\n",
       "      <td>12</td>\n",
       "      <td>0</td>\n",
       "      <td>2</td>\n",
       "      <td>0</td>\n",
       "      <td>2</td>\n",
       "      <td>7</td>\n",
       "      <td>0</td>\n",
       "    </tr>\n",
       "    <tr>\n",
       "      <th>2017-06-09</th>\n",
       "      <td>1</td>\n",
       "      <td>5</td>\n",
       "      <td>2</td>\n",
       "      <td>4</td>\n",
       "      <td>6</td>\n",
       "      <td>3</td>\n",
       "      <td>28</td>\n",
       "      <td>4</td>\n",
       "      <td>1</td>\n",
       "      <td>1</td>\n",
       "      <td>...</td>\n",
       "      <td>0</td>\n",
       "      <td>0</td>\n",
       "      <td>4</td>\n",
       "      <td>27</td>\n",
       "      <td>1</td>\n",
       "      <td>4</td>\n",
       "      <td>1</td>\n",
       "      <td>1</td>\n",
       "      <td>8</td>\n",
       "      <td>1</td>\n",
       "    </tr>\n",
       "    <tr>\n",
       "      <th>2017-06-12</th>\n",
       "      <td>1</td>\n",
       "      <td>4</td>\n",
       "      <td>1</td>\n",
       "      <td>3</td>\n",
       "      <td>8</td>\n",
       "      <td>4</td>\n",
       "      <td>66</td>\n",
       "      <td>5</td>\n",
       "      <td>2</td>\n",
       "      <td>3</td>\n",
       "      <td>...</td>\n",
       "      <td>0</td>\n",
       "      <td>1</td>\n",
       "      <td>1</td>\n",
       "      <td>14</td>\n",
       "      <td>0</td>\n",
       "      <td>2</td>\n",
       "      <td>0</td>\n",
       "      <td>1</td>\n",
       "      <td>6</td>\n",
       "      <td>2</td>\n",
       "    </tr>\n",
       "    <tr>\n",
       "      <th>2017-06-13</th>\n",
       "      <td>2</td>\n",
       "      <td>2</td>\n",
       "      <td>5</td>\n",
       "      <td>14</td>\n",
       "      <td>13</td>\n",
       "      <td>7</td>\n",
       "      <td>47</td>\n",
       "      <td>6</td>\n",
       "      <td>1</td>\n",
       "      <td>3</td>\n",
       "      <td>...</td>\n",
       "      <td>0</td>\n",
       "      <td>0</td>\n",
       "      <td>5</td>\n",
       "      <td>9</td>\n",
       "      <td>5</td>\n",
       "      <td>0</td>\n",
       "      <td>1</td>\n",
       "      <td>1</td>\n",
       "      <td>10</td>\n",
       "      <td>0</td>\n",
       "    </tr>\n",
       "    <tr>\n",
       "      <th>2017-06-14</th>\n",
       "      <td>1</td>\n",
       "      <td>3</td>\n",
       "      <td>1</td>\n",
       "      <td>5</td>\n",
       "      <td>8</td>\n",
       "      <td>1</td>\n",
       "      <td>56</td>\n",
       "      <td>2</td>\n",
       "      <td>3</td>\n",
       "      <td>3</td>\n",
       "      <td>...</td>\n",
       "      <td>0</td>\n",
       "      <td>1</td>\n",
       "      <td>2</td>\n",
       "      <td>5</td>\n",
       "      <td>1</td>\n",
       "      <td>2</td>\n",
       "      <td>0</td>\n",
       "      <td>2</td>\n",
       "      <td>4</td>\n",
       "      <td>3</td>\n",
       "    </tr>\n",
       "    <tr>\n",
       "      <th>2017-06-15</th>\n",
       "      <td>5</td>\n",
       "      <td>9</td>\n",
       "      <td>8</td>\n",
       "      <td>37</td>\n",
       "      <td>31</td>\n",
       "      <td>13</td>\n",
       "      <td>94</td>\n",
       "      <td>4</td>\n",
       "      <td>4</td>\n",
       "      <td>5</td>\n",
       "      <td>...</td>\n",
       "      <td>0</td>\n",
       "      <td>0</td>\n",
       "      <td>4</td>\n",
       "      <td>32</td>\n",
       "      <td>6</td>\n",
       "      <td>7</td>\n",
       "      <td>4</td>\n",
       "      <td>0</td>\n",
       "      <td>16</td>\n",
       "      <td>2</td>\n",
       "    </tr>\n",
       "    <tr>\n",
       "      <th>2017-06-16</th>\n",
       "      <td>1</td>\n",
       "      <td>20</td>\n",
       "      <td>1</td>\n",
       "      <td>10</td>\n",
       "      <td>12</td>\n",
       "      <td>6</td>\n",
       "      <td>178</td>\n",
       "      <td>36</td>\n",
       "      <td>20</td>\n",
       "      <td>31</td>\n",
       "      <td>...</td>\n",
       "      <td>0</td>\n",
       "      <td>1</td>\n",
       "      <td>4</td>\n",
       "      <td>31</td>\n",
       "      <td>5</td>\n",
       "      <td>3</td>\n",
       "      <td>0</td>\n",
       "      <td>2</td>\n",
       "      <td>8</td>\n",
       "      <td>0</td>\n",
       "    </tr>\n",
       "    <tr>\n",
       "      <th>2017-06-19</th>\n",
       "      <td>0</td>\n",
       "      <td>4</td>\n",
       "      <td>4</td>\n",
       "      <td>3</td>\n",
       "      <td>3</td>\n",
       "      <td>1</td>\n",
       "      <td>26</td>\n",
       "      <td>4</td>\n",
       "      <td>0</td>\n",
       "      <td>2</td>\n",
       "      <td>...</td>\n",
       "      <td>1</td>\n",
       "      <td>1</td>\n",
       "      <td>0</td>\n",
       "      <td>4</td>\n",
       "      <td>2</td>\n",
       "      <td>0</td>\n",
       "      <td>0</td>\n",
       "      <td>1</td>\n",
       "      <td>4</td>\n",
       "      <td>1</td>\n",
       "    </tr>\n",
       "    <tr>\n",
       "      <th>2017-06-20</th>\n",
       "      <td>2</td>\n",
       "      <td>19</td>\n",
       "      <td>6</td>\n",
       "      <td>26</td>\n",
       "      <td>27</td>\n",
       "      <td>22</td>\n",
       "      <td>167</td>\n",
       "      <td>17</td>\n",
       "      <td>4</td>\n",
       "      <td>12</td>\n",
       "      <td>...</td>\n",
       "      <td>13</td>\n",
       "      <td>4</td>\n",
       "      <td>11</td>\n",
       "      <td>71</td>\n",
       "      <td>1</td>\n",
       "      <td>11</td>\n",
       "      <td>4</td>\n",
       "      <td>4</td>\n",
       "      <td>36</td>\n",
       "      <td>2</td>\n",
       "    </tr>\n",
       "    <tr>\n",
       "      <th>2017-06-21</th>\n",
       "      <td>2</td>\n",
       "      <td>12</td>\n",
       "      <td>64</td>\n",
       "      <td>35</td>\n",
       "      <td>38</td>\n",
       "      <td>19</td>\n",
       "      <td>237</td>\n",
       "      <td>27</td>\n",
       "      <td>7</td>\n",
       "      <td>33</td>\n",
       "      <td>...</td>\n",
       "      <td>14</td>\n",
       "      <td>3</td>\n",
       "      <td>7</td>\n",
       "      <td>45</td>\n",
       "      <td>10</td>\n",
       "      <td>4</td>\n",
       "      <td>5</td>\n",
       "      <td>4</td>\n",
       "      <td>19</td>\n",
       "      <td>4</td>\n",
       "    </tr>\n",
       "  </tbody>\n",
       "</table>\n",
       "<p>10 rows × 140 columns</p>\n",
       "</div>"
      ],
      "text/plain": [
       "            !!/sf  !/sf  %/sw  .../se  ../se  ./se  ./sf  1/sn  10/sn  2/sn  \\\n",
       "date                                                                          \n",
       "2017-06-08      1     2    14       7      8     6    39     3      3     5   \n",
       "2017-06-09      1     5     2       4      6     3    28     4      1     1   \n",
       "2017-06-12      1     4     1       3      8     4    66     5      2     3   \n",
       "2017-06-13      2     2     5      14     13     7    47     6      1     3   \n",
       "2017-06-14      1     3     1       5      8     1    56     2      3     3   \n",
       "2017-06-15      5     9     8      37     31    13    94     4      4     5   \n",
       "2017-06-16      1    20     1      10     12     6   178    36     20    31   \n",
       "2017-06-19      0     4     4       3      3     1    26     4      0     2   \n",
       "2017-06-20      2    19     6      26     27    22   167    17      4    12   \n",
       "2017-06-21      2    12    64      35     38    19   237    27      7    33   \n",
       "\n",
       "             ...    탈/xpn  투자/nng  팔/vv  하/vv  하락/nng  한/mm  한국/nnp  한국전력/nnp  \\\n",
       "date         ...                                                                \n",
       "2017-06-08   ...        0       1     3    12       0     2       0         2   \n",
       "2017-06-09   ...        0       0     4    27       1     4       1         1   \n",
       "2017-06-12   ...        0       1     1    14       0     2       0         1   \n",
       "2017-06-13   ...        0       0     5     9       5     0       1         1   \n",
       "2017-06-14   ...        0       1     2     5       1     2       0         2   \n",
       "2017-06-15   ...        0       0     4    32       6     7       4         0   \n",
       "2017-06-16   ...        0       1     4    31       5     3       0         2   \n",
       "2017-06-19   ...        1       1     0     4       2     0       0         1   \n",
       "2017-06-20   ...       13       4    11    71       1    11       4         4   \n",
       "2017-06-21   ...       14       3     7    45      10     4       5         4   \n",
       "\n",
       "            한전/nnp  회사/nng  \n",
       "date                        \n",
       "2017-06-08       7       0  \n",
       "2017-06-09       8       1  \n",
       "2017-06-12       6       2  \n",
       "2017-06-13      10       0  \n",
       "2017-06-14       4       3  \n",
       "2017-06-15      16       2  \n",
       "2017-06-16       8       0  \n",
       "2017-06-19       4       1  \n",
       "2017-06-20      36       2  \n",
       "2017-06-21      19       4  \n",
       "\n",
       "[10 rows x 140 columns]"
      ]
     },
     "execution_count": 28,
     "metadata": {},
     "output_type": "execute_result"
    }
   ],
   "source": [
    "data_filter_freq.head(10) # 6월 7일 금 토 일 "
   ]
  },
  {
   "cell_type": "code",
   "execution_count": 29,
   "metadata": {},
   "outputs": [
    {
     "name": "stdout",
     "output_type": "stream",
     "text": [
      "365 363\n"
     ]
    }
   ],
   "source": [
    "print(len(data_filter_freq),len(earning_data))"
   ]
  },
  {
   "cell_type": "code",
   "execution_count": 30,
   "metadata": {},
   "outputs": [],
   "source": [
    "differ_date1 = sorted(list(set(data_filter_freq.index).difference(set(earning_data.index))))"
   ]
  },
  {
   "cell_type": "code",
   "execution_count": 31,
   "metadata": {},
   "outputs": [
    {
     "data": {
      "text/plain": [
       "[Timestamp('2018-11-24 00:00:00'), Timestamp('2018-11-25 00:00:00')]"
      ]
     },
     "execution_count": 31,
     "metadata": {},
     "output_type": "execute_result"
    }
   ],
   "source": [
    "differ_date1 # 이유는 모르겠는데 이 때들 수익률이 없다. 그래서 지워보자"
   ]
  },
  {
   "cell_type": "code",
   "execution_count": 32,
   "metadata": {},
   "outputs": [],
   "source": [
    "data_filter_freq.drop(differ_date1,inplace=True,axis=0)"
   ]
  },
  {
   "cell_type": "code",
   "execution_count": 33,
   "metadata": {},
   "outputs": [],
   "source": [
    "differ_date2 = sorted(list(set(earning_data.index).difference(set(data_filter_freq.index))))"
   ]
  },
  {
   "cell_type": "code",
   "execution_count": 34,
   "metadata": {},
   "outputs": [
    {
     "data": {
      "text/plain": [
       "[]"
      ]
     },
     "execution_count": 34,
     "metadata": {},
     "output_type": "execute_result"
    }
   ],
   "source": [
    "differ_date2"
   ]
  },
  {
   "cell_type": "code",
   "execution_count": 35,
   "metadata": {},
   "outputs": [],
   "source": [
    "earning_data.drop(differ_date2, inplace=True, axis=0)"
   ]
  },
  {
   "cell_type": "code",
   "execution_count": 36,
   "metadata": {},
   "outputs": [
    {
     "name": "stdout",
     "output_type": "stream",
     "text": [
      "363 363\n"
     ]
    }
   ],
   "source": [
    "print(len(data_filter_freq),len(earning_data))"
   ]
  },
  {
   "cell_type": "code",
   "execution_count": 40,
   "metadata": {},
   "outputs": [
    {
     "data": {
      "text/plain": [
       "date\n",
       "2017-06-08     2\n",
       "2017-06-09     5\n",
       "2017-06-12     4\n",
       "2017-06-13     2\n",
       "2017-06-14     3\n",
       "2017-06-15     9\n",
       "2017-06-16    20\n",
       "2017-06-19     4\n",
       "2017-06-20    19\n",
       "2017-06-21    12\n",
       "2017-06-22     6\n",
       "2017-06-23     5\n",
       "2017-06-26     3\n",
       "2017-06-27     3\n",
       "2017-06-28     4\n",
       "2017-06-29     8\n",
       "2017-06-30     3\n",
       "2017-07-03     2\n",
       "2017-07-04     2\n",
       "2017-07-05     1\n",
       "2017-07-06     4\n",
       "2017-07-07     2\n",
       "2017-07-10     1\n",
       "2017-07-11     3\n",
       "2017-07-12     4\n",
       "2017-07-13     1\n",
       "2017-07-14     4\n",
       "2017-07-17     3\n",
       "2017-07-18     0\n",
       "2017-07-19     1\n",
       "              ..\n",
       "2018-10-22     6\n",
       "2018-10-23    18\n",
       "2018-10-24    41\n",
       "2018-10-25    20\n",
       "2018-10-26     3\n",
       "2018-10-29     5\n",
       "2018-10-30    11\n",
       "2018-10-31    44\n",
       "2018-11-01     4\n",
       "2018-11-02    13\n",
       "2018-11-05     6\n",
       "2018-11-06     3\n",
       "2018-11-07     7\n",
       "2018-11-08    11\n",
       "2018-11-09     5\n",
       "2018-11-12     3\n",
       "2018-11-13     2\n",
       "2018-11-14     4\n",
       "2018-11-15    11\n",
       "2018-11-16     8\n",
       "2018-11-19     6\n",
       "2018-11-20     3\n",
       "2018-11-21     6\n",
       "2018-11-22     1\n",
       "2018-11-23     8\n",
       "2018-11-26     1\n",
       "2018-11-27    26\n",
       "2018-11-28    11\n",
       "2018-11-29    40\n",
       "2018-11-30     5\n",
       "Name: !/sf, Length: 363, dtype: int64"
      ]
     },
     "execution_count": 40,
     "metadata": {},
     "output_type": "execute_result"
    }
   ],
   "source": [
    "data_filter_freq.iloc[:,1]"
   ]
  },
  {
   "cell_type": "code",
   "execution_count": 41,
   "metadata": {},
   "outputs": [],
   "source": [
    "corr_dict = {}\n",
    "for idx in range(data_filter_freq.shape[1]):\n",
    "    tag = data_filter_freq.iloc[:,idx]\n",
    "    tag_name = tag.name\n",
    "    if tag_name == './sf'or tag_name.find('/sw')>=0 or tag_name.find('/sn')>=0:\n",
    "        continue\n",
    "    corr = pearson_cor(np.array(tag),np.array(earning_data))\n",
    "    #print(type(tag),type(corr))\n",
    "    #tag_dict[tag.name] += 1\n",
    "    corr_dict[tag.name] = corr\n",
    "\n",
    "all_dict[stock_code] = sorted(corr_dict.items(), key=lambda x:abs(x[1]),reverse=True)"
   ]
  },
  {
   "cell_type": "code",
   "execution_count": 42,
   "metadata": {},
   "outputs": [
    {
     "data": {
      "text/plain": [
       "[('투자/nng', -0.13146602565187118),\n",
       " ('국가/nng', 0.12800357595757333),\n",
       " ('지금/nng', -0.12200206094867706),\n",
       " ('중국/nnp', 0.09879357899775416),\n",
       " ('주/vv', -0.09782757724820777),\n",
       " ('연금/nng', -0.08952603699201894),\n",
       " ('지금/mag', -0.08840069882783029),\n",
       " ('매수/nng', -0.08683680782688238),\n",
       " ('주가/nng', -0.08312722123353758),\n",
       " ('문제/nng', -0.08180970586580653),\n",
       " ('탈/xpn', 0.08021923918463057),\n",
       " ('사람/nng', -0.07927640985341243),\n",
       " ('../se', -0.07812865054465064),\n",
       " ('더/mag', -0.07168677160836158),\n",
       " ('월/nnb', -0.07057268127988917),\n",
       " ('때문/nnb', -0.06892233284676073),\n",
       " ('한국전력/nnp', -0.06875846552409931),\n",
       " ('주식/nng', -0.06739539040441041),\n",
       " ('때/nng', -0.06587137411632736),\n",
       " ('기/nng', 0.061098758277492914),\n",
       " ('적자/nng', -0.05948210910519641),\n",
       " ('모르/vv', -0.05873265879319203),\n",
       " ('나/vv', -0.058259599439208797),\n",
       " ('내/vv', -0.05746395041464244),\n",
       " ('.../se', -0.056179347423193686),\n",
       " ('인상/nng', -0.05572511591494182),\n",
       " ('받/vv', -0.055548557505522504),\n",
       " ('팔/vv', -0.055368378225752156),\n",
       " ('일/nng', -0.05502810129804382),\n",
       " ('잘/mag', -0.05312255529935113),\n",
       " ('쓰/vv', -0.05206048906861422),\n",
       " ('대통령/nng', -0.05066263481370736),\n",
       " ('하락/nng', -0.05037160142378272),\n",
       " ('공매/nng', 0.049183209189201535),\n",
       " ('기업/nng', -0.04766317509039353),\n",
       " ('일/nnb', 0.04711508821877615),\n",
       " ('보/vv', -0.046371435418057494),\n",
       " ('좋/va', 0.043154581853209535),\n",
       " ('미국/nnp', -0.04259857267164945),\n",
       " ('수익/nng', -0.0419307355700397),\n",
       " ('가/vv', -0.041441089262993336),\n",
       " ('같/va', -0.04078355789221068),\n",
       " ('정부/nng', -0.03881724180611362),\n",
       " ('거/nnb', -0.03838363610237373),\n",
       " ('ㅎ/nng', -0.03746336000030565),\n",
       " ('들/vv', -0.03732663023857112),\n",
       " ('나라/nng', -0.03678025220913342),\n",
       " ('크/va', -0.03664581362898025),\n",
       " ('!!/sf', 0.03633846444735465),\n",
       " ('되/vv', -0.03620363228584234),\n",
       " ('이/vcp', -0.03612663568855697),\n",
       " ('살/vv', -0.03606971572921421),\n",
       " ('나오/vv', -0.03566040449640475),\n",
       " ('못/mag', -0.03535528720061478),\n",
       " ('ㅋ/ic', -0.03365832911307193),\n",
       " ('알/vv', -0.03341702007598123),\n",
       " ('원/nnb', -0.032872175935831735),\n",
       " ('./se', -0.03193531152659138),\n",
       " ('년/nnb', -0.031062437877410067),\n",
       " ('왜/mag', 0.030601672819356773),\n",
       " ('이상/nng', 0.02946129626403577),\n",
       " ('수/nnb', -0.028629708200487755),\n",
       " ('정권/nng', -0.028366568708845356),\n",
       " ('요금/nng', -0.027740459106003507),\n",
       " ('오/vv', -0.027354218942800893),\n",
       " ('!/sf', 0.026580452673883103),\n",
       " ('한국/nnp', 0.026322528315121486),\n",
       " ('안/mag', -0.025998555770579055),\n",
       " ('다/mag', 0.024628071991725158),\n",
       " ('하/vv', -0.02438145139417324),\n",
       " ('주/nng', 0.02389122688259787),\n",
       " ('국민/nng', -0.023453839335086706),\n",
       " ('돈/nng', -0.023338232751484906),\n",
       " ('전/nng', 0.02308758556575322),\n",
       " ('은/jx', -0.021661429591095977),\n",
       " ('는/jx', -0.02129125122674899),\n",
       " ('?/sf', -0.021228789568066574),\n",
       " ('것/nnb', -0.02091066947335623),\n",
       " ('ㅋ/nng', 0.02065325345434891),\n",
       " ('시장/nng', -0.020649636809345923),\n",
       " ('한/mm', -0.02063130514907054),\n",
       " ('원전/nng', 0.02035274249179096),\n",
       " ('있/vv', -0.019028823667358946),\n",
       " ('사업/nng', -0.0189830456793134),\n",
       " ('산업/nng', 0.018137312016236588),\n",
       " ('오늘/nng', 0.01779815707308611),\n",
       " ('많/va', -0.016725632921682054),\n",
       " ('회사/nng', -0.016555933352751503),\n",
       " ('발전/nng', -0.016392135465032594),\n",
       " ('한전/nnp', -0.015928331053593474),\n",
       " ('정책/nng', 0.01466528728543846),\n",
       " ('주주/nng', -0.014622159496810545),\n",
       " ('그/mm', -0.013298886472902791),\n",
       " ('생각/nng', -0.013104820445964515),\n",
       " ('개미/nng', 0.012885543242633255),\n",
       " ('경제/nng', -0.012134905577272091),\n",
       " ('건설/nng', -0.011850628875783684),\n",
       " ('사/vv', 0.011571991504813365),\n",
       " ('올리/vv', 0.011540135077633802),\n",
       " ('만들/vv', 0.011299721054523502),\n",
       " ('전력/nng', 0.010484380744758394),\n",
       " ('먹/vv', 0.01036560778665102),\n",
       " ('이익/nng', -0.010012017056710629),\n",
       " ('도/jx', -0.008188114771770828),\n",
       " ('에너지/nng', 0.007890614937601056),\n",
       " ('이/mm', -0.0069738875719136725),\n",
       " ('등/nnb', -0.006850750646468814),\n",
       " ('ㄴ/jx', -0.005767212325411694),\n",
       " ('그렇/va', 0.005452473450430679),\n",
       " ('말/nng', -0.004683065831720768),\n",
       " ('떨어지/vv', 0.0046615991978382525),\n",
       " ('문재/nng', -0.0044803174120424715),\n",
       " ('오르/vv', -0.0043986435690908125),\n",
       " ('따르/vv', 0.004250557975373836),\n",
       " ('가능/nng', -0.004096114699503254),\n",
       " ('아니/vcn', -0.003873753527873586),\n",
       " ('기관/nng', 0.0036722861209382645),\n",
       " ('위하/vv', -0.0032314827254326887),\n",
       " ('만/jx', 0.0027137104827220366),\n",
       " ('전기/nng', 0.0026882193142553253),\n",
       " ('부터/jx', -0.0025645493589102992),\n",
       " ('대하/vv', -0.0017875705124273636),\n",
       " ('없/va', -0.0016249564329302239),\n",
       " ('상승/nng', 0.0015115409666593771),\n",
       " ('까지/jx', -0.0012702784743301979),\n",
       " ('중/nnb', 0.00109642167598126),\n",
       " ('북한/nnp', -0.0009345249108125582)]"
      ]
     },
     "execution_count": 42,
     "metadata": {},
     "output_type": "execute_result"
    }
   ],
   "source": [
    "all_dict[stock_code]"
   ]
  },
  {
   "cell_type": "code",
   "execution_count": 43,
   "metadata": {},
   "outputs": [],
   "source": [
    "def labeling(data):\n",
    "    if data>0:\n",
    "        data = 1\n",
    "    elif data <0:\n",
    "        data = -1\n",
    "    return data"
   ]
  },
  {
   "cell_type": "code",
   "execution_count": 44,
   "metadata": {},
   "outputs": [
    {
     "name": "stderr",
     "output_type": "stream",
     "text": [
      "C:\\ProgramData\\Anaconda3\\lib\\site-packages\\pandas\\core\\frame.py:3697: SettingWithCopyWarning: \n",
      "A value is trying to be set on a copy of a slice from a DataFrame\n",
      "\n",
      "See the caveats in the documentation: http://pandas.pydata.org/pandas-docs/stable/indexing.html#indexing-view-versus-copy\n",
      "  errors=errors)\n"
     ]
    }
   ],
   "source": [
    "# dictionary 초기화\n",
    "model_result = Counter()\n",
    "train_result= Counter()\n",
    "test_result = Counter()\n",
    "confusion_matrix_result = Counter()\n",
    "auc_result = Counter()\n",
    "one_code_list = all_dict[stock_code]\n",
    "tag_list = [tag[0] for tag in one_code_list[:]]\n",
    "y = np.array([labeling(label) for label in earning_data])\n",
    "delete_index=[]\n",
    "for idx, y_element in enumerate(y):    \n",
    "    if y_element == 0:\n",
    "        delete_index.append(idx)\n",
    "x= data_filter_freq[tag_list]\n",
    "y=np.delete(y,delete_index)\n",
    "x.drop(index=x.index[delete_index],inplace=True)\n",
    "X_train, X_test, y_train, y_test = train_test_split(x, y, test_size=0.33, shuffle=False)"
   ]
  },
  {
   "cell_type": "markdown",
   "metadata": {},
   "source": [
    "# RandomForest"
   ]
  },
  {
   "cell_type": "code",
   "execution_count": 45,
   "metadata": {},
   "outputs": [
    {
     "name": "stdout",
     "output_type": "stream",
     "text": [
      "X_train_shape: (230, 127)\n"
     ]
    },
    {
     "name": "stderr",
     "output_type": "stream",
     "text": [
      "C:\\ProgramData\\Anaconda3\\lib\\site-packages\\sklearn\\model_selection\\_search.py:841: DeprecationWarning: The default of the `iid` parameter will change from True to False in version 0.22 and will be removed in 0.24. This will change numeric results when test-set sizes are unequal.\n",
      "  DeprecationWarning)\n"
     ]
    },
    {
     "name": "stdout",
     "output_type": "stream",
     "text": [
      "GridSearchCV : {'criterion': 'entropy', 'max_depth': 20, 'max_features': 7, 'n_estimators': 10, 'random_state': 4000}\n",
      "0.5964912280701754\n",
      "0.9869565217391304\n",
      "0.5964912280701754\n",
      "['는/jx', '생각/nng', '전기/nng', './se', '투자/nng', '전력/nng', '탈/xpn', '주/vv', '주식/nng', '많/va', 'ㄴ/jx', '이/vcp', '.../se', '일/nng', '없/va', '전/nng', '거/nnb', '사/vv', '주가/nng', '이/mm', '말/nng', '북한/nnp', '더/mag', '안/mag', '한국전력/nnp', '알/vv', '대통령/nng', '원/nnb', '문제/nng', 'ㅋ/nng', '들/vv', '보/vv', '받/vv', '것/nnb', '나라/nng', 'ㅎ/nng', '등/nnb', '이상/nng', '이익/nng', '!/sf', '오르/vv', '한/mm', '원전/nng', '도/jx', '만들/vv', '때문/nnb', '정부/nng', '돈/nng', '경제/nng', '그렇/va', '올리/vv', '한전/nnp', '회사/nng', '나/vv', '하/vv', '못/mag', '정권/nng', '지금/mag', '쓰/vv', '나오/vv', '공매/nng', '상승/nng', '만/jx', '적자/nng', '까지/jx', '주/nng', '잘/mag', '건설/nng', '시장/nng', '대하/vv', '가능/nng', '먹/vv', '수/nnb', '모르/vv', '인상/nng', '?/sf', '수익/nng', '월/nnb', '문재/nng', '기/nng', '../se', '국민/nng', '하락/nng', '미국/nnp', '왜/mag', '중국/nnp', '에너지/nng', '부터/jx', '아니/vcn', '산업/nng', '떨어지/vv', '기업/nng', '사람/nng', '그/mm', '때/nng', '따르/vv', '!!/sf', '오늘/nng', '가/vv', '팔/vv', '정책/nng', '발전/nng', '한국/nnp', '개미/nng', '년/nnb', '크/va', '다/mag', '기관/nng', '요금/nng', '일/nnb', '살/vv', '되/vv', '중/nnb', '좋/va', '사업/nng', '은/jx', '내/vv', 'ㅋ/ic', '오/vv', '주주/nng', '있/vv']\n"
     ]
    },
    {
     "name": "stderr",
     "output_type": "stream",
     "text": [
      "C:\\ProgramData\\Anaconda3\\lib\\site-packages\\sklearn\\model_selection\\_search.py:841: DeprecationWarning: The default of the `iid` parameter will change from True to False in version 0.22 and will be removed in 0.24. This will change numeric results when test-set sizes are unequal.\n",
      "  DeprecationWarning)\n"
     ]
    },
    {
     "name": "stdout",
     "output_type": "stream",
     "text": [
      "GridSearchCV : {'bootstrap': False, 'criterion': 'gini', 'max_depth': 10, 'max_features': 8, 'n_estimators': 10, 'random_state': 4000}\n",
      "0.5526315789473685\n",
      "0.9956521739130435\n",
      "0.5526315789473685\n",
      "['지금/nng', '들/vv', '도/jx', '하/vv', '내/vv', '한/mm', '전/nng', '주식/nng', '정부/nng', '떨어지/vv', '산업/nng', '한국전력/nnp', '받/vv', '투자/nng', '다/mag', '안/mag', '주/vv', '한전/nnp', '까지/jx', 'ㅋ/nng', '원전/nng', '요금/nng', '탈/xpn', '회사/nng', '일/nnb', '전력/nng', '에너지/nng', '같/va', '?/sf', './se', '그/mm', '올리/vv', '이익/nng', 'ㅎ/nng', '사/vv', '원/nnb', '이상/nng', '거/nnb', '팔/vv', '이/vcp', '는/jx', '정권/nng', '적자/nng', '기업/nng', '정책/nng', '하락/nng', '한국/nnp', '.../se', '국가/nng', '보/vv', '시장/nng', '되/vv', '지금/mag', '알/vv', '가/vv', '등/nnb', '매수/nng', '년/nnb', '주가/nng', '아니/vcn', '살/vv', '좋/va', '공매/nng', '국민/nng', '문제/nng', '은/jx', '많/va', '나/vv', '../se', '것/nnb', '수익/nng', '오/vv', '주주/nng', '사업/nng', 'ㄴ/jx', '개미/nng', '일/nng', '전기/nng', '돈/nng', '건설/nng', '있/vv', '생각/nng', '먹/vv', '북한/nnp', '나라/nng', '월/nnb', '사람/nng', '수/nnb', '대하/vv', '인상/nng', '발전/nng', '문재/nng', '대통령/nng', '못/mag', '가능/nng', '기/nng', '위하/vv', '모르/vv', '중/nnb', '중국/nnp', '!!/sf', 'ㅋ/ic', '더/mag', '상승/nng', '왜/mag', '말/nng', '부터/jx', '크/va', '만/jx', '연금/nng', '기관/nng', '그렇/va', '오르/vv', '!/sf', '때/nng', '만들/vv', '경제/nng', '이/mm', '나오/vv', '잘/mag', '따르/vv']\n",
      "Wall time: 8min 6s\n"
     ]
    },
    {
     "data": {
      "image/png": "[encoded data removed]",
      "text/plain": [
       "<Figure size 432x288 with 1 Axes>"
      ]
     },
     "metadata": {
      "needs_background": "light"
     },
     "output_type": "display_data"
    }
   ],
   "source": [
    "%%time\n",
    "\n",
    "# if lenx[0]<=10 or lenx[1]<=2 :\n",
    "#     continue\n",
    "random_state = [4000]\n",
    "classifiers = []\n",
    "classifiers_not = []\n",
    "nfolds=5\n",
    "criterion = [\"gini\", 'entropy']\n",
    "#grid_search = GridSearchCV(SVC(), param_grid_svc, cv=nfolds)\n",
    "n_estimators = [3,5,10,100,500,1000,2000]\n",
    "scoring = 'accuracy'\n",
    "max_depth= [3,5,10,15,20,50]\n",
    "rf_param_grid = {\"max_depth\": [3,5,10,15,20,50],\n",
    "              \"max_features\": [5,7,10,11,12],\n",
    "              \"n_estimators\" :n_estimators,\n",
    "              \"criterion\": criterion,\n",
    "                \"random_state\":random_state}\n",
    "# rf_param_grid = {\"max_depth\": [3],\n",
    "#               \"max_features\": [3],\n",
    "#               \"n_estimators\" :[10],\n",
    "#               \"criterion\": ['entropy'],\n",
    "#                 'random_state':[4000]}\n",
    "ex_param_grid = {\"max_depth\": max_depth,\n",
    "              \"max_features\": [7,8,9,10,11,12],\n",
    "              \"bootstrap\": [False,True],\n",
    "              \"n_estimators\" :n_estimators,\n",
    "              \"criterion\": criterion, \n",
    "                'random_state':random_state}\n",
    "\n",
    "\n",
    "\n",
    "#gsExtC = GridSearchCV(ExtraTreesClassifier, param_grid = ex_param_grid, cv=nfold, scoring=\"auc\")\n",
    "\n",
    "\n",
    "\n",
    "\n",
    "#gsExtC = GridSearchCV(ExtraTreesClassifier, param_grid = ex_param_grid, cv=nfold, scoring=\"auc\")\n",
    "\n",
    "print('X_train_shape:',X_train.shape)\n",
    "\n",
    "classifiers.append(GridSearchCV(RandomForestClassifier(),param_grid = rf_param_grid, cv=nfolds, scoring=scoring, n_jobs=-1))\n",
    "classifiers.append(GridSearchCV(ExtraTreesClassifier(), param_grid = ex_param_grid, cv=nfolds, scoring=scoring, n_jobs=-1))\n",
    "\n",
    "for single_models in classifiers:    \n",
    "    single_models.fit(X_train,y_train)\n",
    "    \n",
    "    model_str = str(single_models).split('(')[0]\n",
    "    print(model_str,':',single_models.best_params_)\n",
    "    pre = single_models.predict(X_test)\n",
    "    decision_model = single_models.best_estimator_\n",
    "    \n",
    "    print(single_models.score(X_test,y_test))\n",
    "    print(single_models.score(X_train,y_train))    \n",
    "    print(metrics.accuracy_score(y_test, pre))\n",
    "    importances_list =[]    \n",
    "    importances_list_all = list(zip(X_train.columns,decision_model.feature_importances_))\n",
    "    for element in sorted(importances_list_all,key=lambda x:x[1], reverse=True):    \n",
    "        if element[1]==0:\n",
    "            break\n",
    "        importances_list.append(element[0])\n",
    "    print(importances_list)\n",
    "    \n",
    "    pd.Series(decision_model.feature_importances_,index = X_train.columns).sort_values(ascending=False).plot(kind='bar')"
   ]
  },
  {
   "cell_type": "code",
   "execution_count": 46,
   "metadata": {},
   "outputs": [
    {
     "data": {
      "text/plain": [
       "[('투자/nng', 0.014305250457135857),\n",
       " ('국가/nng', 0.008701986122186178),\n",
       " ('지금/nng', 0.03037472066062737),\n",
       " ('중국/nnp', 0.004300292482577468),\n",
       " ('주/vv', 0.013616610751338193),\n",
       " ('연금/nng', 0.00239177136723167),\n",
       " ('지금/mag', 0.008133836690916187),\n",
       " ('매수/nng', 0.007836353478318809),\n",
       " ('주가/nng', 0.007771754897252475),\n",
       " ('문제/nng', 0.006911156126965368),\n",
       " ('탈/xpn', 0.011322269437267782),\n",
       " ('사람/nng', 0.005244922216255561),\n",
       " ('../se', 0.00650854071613424),\n",
       " ('더/mag', 0.0036080526802278225),\n",
       " ('월/nnb', 0.0052961822752224455),\n",
       " ('때문/nnb', 0.0),\n",
       " ('한국전력/nnp', 0.015105667526802096),\n",
       " ('주식/nng', 0.016892120346441365),\n",
       " ('때/nng', 0.0015702280509661728),\n",
       " ('기/nng', 0.0045877314612101676),\n",
       " ('적자/nng', 0.009474233935152818),\n",
       " ('모르/vv', 0.00450431007566279),\n",
       " ('나/vv', 0.00657336544963545),\n",
       " ('내/vv', 0.0184530327174719),\n",
       " ('.../se', 0.008895626115437292),\n",
       " ('인상/nng', 0.004927347469641888),\n",
       " ('받/vv', 0.014683857106757126),\n",
       " ('팔/vv', 0.009672139213499319),\n",
       " ('일/nng', 0.005794493971404656),\n",
       " ('잘/mag', 0.0006061712404652342),\n",
       " ('쓰/vv', 0.0),\n",
       " ('대통령/nng', 0.004772930087332557),\n",
       " ('하락/nng', 0.009022800925699523),\n",
       " ('공매/nng', 0.007001484001903908),\n",
       " ('기업/nng', 0.009423877345249642),\n",
       " ('일/nnb', 0.011078382223682941),\n",
       " ('보/vv', 0.008558926178433226),\n",
       " ('좋/va', 0.007565266243982514),\n",
       " ('미국/nnp', 0.0),\n",
       " ('수익/nng', 0.006345305901074854),\n",
       " ('가/vv', 0.007926508594217282),\n",
       " ('같/va', 0.010797855007065591),\n",
       " ('정부/nng', 0.016333698301614363),\n",
       " ('거/nnb', 0.009804981235849148),\n",
       " ('ㅎ/nng', 0.010323582933225248),\n",
       " ('들/vv', 0.02590707551143171),\n",
       " ('나라/nng', 0.005388295213875183),\n",
       " ('크/va', 0.0030662828398566135),\n",
       " ('!!/sf', 0.003984881333267086),\n",
       " ('되/vv', 0.008138882206356788),\n",
       " ('이/vcp', 0.009651252900963319),\n",
       " ('살/vv', 0.007601158252906325),\n",
       " ('나오/vv', 0.0010989599836848524),\n",
       " ('못/mag', 0.004740798484763698),\n",
       " ('ㅋ/ic', 0.003809746025100766),\n",
       " ('알/vv', 0.007967530276886917),\n",
       " ('원/nnb', 0.010003650758022098),\n",
       " ('./se', 0.010667811582787776),\n",
       " ('년/nnb', 0.007800409276266152),\n",
       " ('왜/mag', 0.0032547068541610206),\n",
       " ('이상/nng', 0.009925944750150418),\n",
       " ('수/nnb', 0.0051614586016540025),\n",
       " ('정권/nng', 0.009528327122951763),\n",
       " ('요금/nng', 0.011836956105583326),\n",
       " ('오/vv', 0.006265178437223097),\n",
       " ('!/sf', 0.001584117692912016),\n",
       " ('한국/nnp', 0.008941192010598323),\n",
       " ('안/mag', 0.013826530029699736),\n",
       " ('다/mag', 0.013857075533347784),\n",
       " ('하/vv', 0.01851600544514187),\n",
       " ('주/nng', 0.0),\n",
       " ('국민/nng', 0.007000752860138522),\n",
       " ('돈/nng', 0.005499131547151733),\n",
       " ('전/nng', 0.017162649480450938),\n",
       " ('은/jx', 0.006820347375272541),\n",
       " ('는/jx', 0.00962298775670405),\n",
       " ('?/sf', 0.010788117781526111),\n",
       " ('것/nnb', 0.006406430387892284),\n",
       " ('ㅋ/nng', 0.012705127687882081),\n",
       " ('시장/nng', 0.00844192374267182),\n",
       " ('한/mm', 0.01817197763714215),\n",
       " ('원전/nng', 0.012084440886309472),\n",
       " ('있/vv', 0.005449635273647625),\n",
       " ('사업/nng', 0.0059969156339508296),\n",
       " ('산업/nng', 0.0157021217988566),\n",
       " ('오늘/nng', 0.0),\n",
       " ('많/va', 0.006804689317223868),\n",
       " ('회사/nng', 0.011277875562142943),\n",
       " ('발전/nng', 0.0049237940512148245),\n",
       " ('한전/nnp', 0.012814854672633246),\n",
       " ('정책/nng', 0.009255665106338193),\n",
       " ('주주/nng', 0.006001218212025946),\n",
       " ('그/mm', 0.010589165452232624),\n",
       " ('생각/nng', 0.005433787343864524),\n",
       " ('개미/nng', 0.0058601625831066805),\n",
       " ('경제/nng', 0.0013222860508702856),\n",
       " ('건설/nng', 0.005464801684481563),\n",
       " ('사/vv', 0.01005362068819857),\n",
       " ('올리/vv', 0.010426976265668485),\n",
       " ('만들/vv', 0.0015151194332888682),\n",
       " ('전력/nng', 0.010904236361149814),\n",
       " ('먹/vv', 0.005400752960112984),\n",
       " ('이익/nng', 0.010342513816009442),\n",
       " ('도/jx', 0.023116224941875464),\n",
       " ('에너지/nng', 0.010823417016757864),\n",
       " ('이/mm', 0.0011568344035229115),\n",
       " ('등/nnb', 0.00792615569443423),\n",
       " ('ㄴ/jx', 0.005934627314418142),\n",
       " ('그렇/va', 0.002314472009049076),\n",
       " ('말/nng', 0.0031341908013493166),\n",
       " ('떨어지/vv', 0.016328876154291638),\n",
       " ('문재/nng', 0.004866679388993182),\n",
       " ('오르/vv', 0.0020999352353782497),\n",
       " ('따르/vv', 0.0005681697874833256),\n",
       " ('가능/nng', 0.004622957250949216),\n",
       " ('아니/vcn', 0.007609743903499817),\n",
       " ('기관/nng', 0.002390320327152052),\n",
       " ('위하/vv', 0.004576807905067591),\n",
       " ('만/jx', 0.0028537146189236166),\n",
       " ('전기/nng', 0.005655195826881295),\n",
       " ('부터/jx', 0.0030952769997913097),\n",
       " ('대하/vv', 0.005156326782963662),\n",
       " ('없/va', 0.0),\n",
       " ('상승/nng', 0.003457907347096758),\n",
       " ('까지/jx', 0.012813373770719288),\n",
       " ('중/nnb', 0.004319404575553331),\n",
       " ('북한/nnp', 0.005391457284559916)]"
      ]
     },
     "execution_count": 46,
     "metadata": {},
     "output_type": "execute_result"
    }
   ],
   "source": [
    "importances_list_all"
   ]
  },
  {
   "cell_type": "code",
   "execution_count": 47,
   "metadata": {},
   "outputs": [],
   "source": [
    "#변수 중요도 시각화\n"
   ]
  },
  {
   "cell_type": "markdown",
   "metadata": {},
   "source": [
    "## Xgboost의 장점\n",
    "1. 규제가 가능하다.  \n",
    "2. 병렬처리 가능 - 트리 구조를 생각하면 된다.  \n",
    "3. Built-in Cross-Validation\n",
    "4. max_depths 까지 간 후에 backword로 Tree Pruning:\n",
    "5. Continue on Existing Model\n",
    "6. XGBoost allow users to define custom optimization objectives and evaluation criteria.  \n",
    "\n",
    "- 참고 사이트  \n",
    "https://www.analyticsvidhya.com/blog/2016/03/complete-guide-parameter-tuning-xgboost-with-codes-python/"
   ]
  },
  {
   "cell_type": "code",
   "execution_count": 48,
   "metadata": {},
   "outputs": [
    {
     "name": "stdout",
     "output_type": "stream",
     "text": [
      "X_train_shape: (290, 25)\n"
     ]
    },
    {
     "name": "stderr",
     "output_type": "stream",
     "text": [
      "C:\\ProgramData\\Anaconda3\\lib\\site-packages\\sklearn\\model_selection\\_search.py:841: DeprecationWarning: The default of the `iid` parameter will change from True to False in version 0.22 and will be removed in 0.24. This will change numeric results when test-set sizes are unequal.\n",
      "  DeprecationWarning)\n"
     ]
    },
    {
     "name": "stdout",
     "output_type": "stream",
     "text": [
      "GridSearchCV : {'C': 10, 'gamma': 0.01, 'kernel': 'rbf', 'random_state': 4000}\n"
     ]
    },
    {
     "name": "stderr",
     "output_type": "stream",
     "text": [
      "C:\\ProgramData\\Anaconda3\\lib\\site-packages\\sklearn\\model_selection\\_search.py:841: DeprecationWarning: The default of the `iid` parameter will change from True to False in version 0.22 and will be removed in 0.24. This will change numeric results when test-set sizes are unequal.\n",
      "  DeprecationWarning)\n"
     ]
    },
    {
     "name": "stdout",
     "output_type": "stream",
     "text": [
      "GridSearchCV : {'criterion': 'gini', 'max_depth': 3, 'max_features': 8, 'n_estimators': 500, 'random_state': 4000}\n"
     ]
    },
    {
     "name": "stderr",
     "output_type": "stream",
     "text": [
      "C:\\ProgramData\\Anaconda3\\lib\\site-packages\\sklearn\\model_selection\\_search.py:841: DeprecationWarning: The default of the `iid` parameter will change from True to False in version 0.22 and will be removed in 0.24. This will change numeric results when test-set sizes are unequal.\n",
      "  DeprecationWarning)\n"
     ]
    },
    {
     "name": "stdout",
     "output_type": "stream",
     "text": [
      "GridSearchCV : {'bootstrap': True, 'criterion': 'gini', 'max_depth': 5, 'max_features': 9, 'n_estimators': 500, 'random_state': 4000}\n",
      "GridSearchCV : {'learning_rate': 0.01, 'loss': 'deviance', 'max_depth': 3, 'max_features': 0.3, 'min_samples_leaf': 200, 'n_estimators': 500, 'random_state': 4000}\n"
     ]
    },
    {
     "name": "stderr",
     "output_type": "stream",
     "text": [
      "C:\\ProgramData\\Anaconda3\\lib\\site-packages\\sklearn\\model_selection\\_search.py:841: DeprecationWarning: The default of the `iid` parameter will change from True to False in version 0.22 and will be removed in 0.24. This will change numeric results when test-set sizes are unequal.\n",
      "  DeprecationWarning)\n",
      "C:\\ProgramData\\Anaconda3\\lib\\site-packages\\sklearn\\model_selection\\_search.py:841: DeprecationWarning: The default of the `iid` parameter will change from True to False in version 0.22 and will be removed in 0.24. This will change numeric results when test-set sizes are unequal.\n",
      "  DeprecationWarning)\n",
      "C:\\ProgramData\\Anaconda3\\lib\\site-packages\\sklearn\\linear_model\\logistic.py:433: FutureWarning: Default solver will be changed to 'lbfgs' in 0.22. Specify a solver to silence this warning.\n",
      "  FutureWarning)\n"
     ]
    },
    {
     "name": "stdout",
     "output_type": "stream",
     "text": [
      "GridSearchCV : {'n_neighbors': 13}\n",
      "GridSearchCV : {'C': 1}\n"
     ]
    },
    {
     "name": "stderr",
     "output_type": "stream",
     "text": [
      "C:\\ProgramData\\Anaconda3\\lib\\site-packages\\sklearn\\model_selection\\_search.py:841: DeprecationWarning: The default of the `iid` parameter will change from True to False in version 0.22 and will be removed in 0.24. This will change numeric results when test-set sizes are unequal.\n",
      "  DeprecationWarning)\n"
     ]
    },
    {
     "name": "stdout",
     "output_type": "stream",
     "text": [
      "GridSearchCV : {'colsample_bytree': 0.8, 'gamma': 0.3, 'n_estimators': 100, 'random_state': 4000, 'reg_alpha': 1, 'subsample': 0.8}\n"
     ]
    },
    {
     "name": "stderr",
     "output_type": "stream",
     "text": [
      "C:\\ProgramData\\Anaconda3\\lib\\site-packages\\sklearn\\model_selection\\_search.py:841: DeprecationWarning: The default of the `iid` parameter will change from True to False in version 0.22 and will be removed in 0.24. This will change numeric results when test-set sizes are unequal.\n",
      "  DeprecationWarning)\n",
      "C:\\ProgramData\\Anaconda3\\lib\\site-packages\\sklearn\\svm\\base.py:922: ConvergenceWarning: Liblinear failed to converge, increase the number of iterations.\n",
      "  \"the number of iterations.\", ConvergenceWarning)\n"
     ]
    },
    {
     "name": "stdout",
     "output_type": "stream",
     "text": [
      "GridSearchCV : {'C': 0.01, 'penalty': 'l2', 'random_state': 4000}\n"
     ]
    },
    {
     "name": "stderr",
     "output_type": "stream",
     "text": [
      "C:\\ProgramData\\Anaconda3\\lib\\site-packages\\sklearn\\model_selection\\_search.py:841: DeprecationWarning: The default of the `iid` parameter will change from True to False in version 0.22 and will be removed in 0.24. This will change numeric results when test-set sizes are unequal.\n",
      "  DeprecationWarning)\n"
     ]
    },
    {
     "name": "stdout",
     "output_type": "stream",
     "text": [
      "GridSearchCV : {'activation': 'relu', 'alpha': 1, 'hidden_layer_sizes': (50, 100, 50), 'learning_rate': 'constant', 'max_iter': 5000, 'random_state': 4000, 'solver': 'sgd'}\n"
     ]
    }
   ],
   "source": [
    "model_result = Counter()\n",
    "train_result= Counter()\n",
    "test_result = Counter()\n",
    "confusion_matrix_result = Counter()\n",
    "auc_result = Counter()\n",
    "one_code_list = all_dict[stock_code]\n",
    "tag_list = [tag[0] for tag in one_code_list[:int(len(one_code_list)*0.2)]]\n",
    "y = np.where(earning_data>=0,1,0)\n",
    "x= data_filter_freq[tag_list]\n",
    "X_train, X_test, y_train, y_test = train_test_split(x, y, test_size=0.2, shuffle=False)\n",
    "lenx=X_train.shape\n",
    "# if lenx[0]<=10 or lenx[1]<=2:\n",
    "#     continue\n",
    "classifiers = []\n",
    "classifiers_not = []\n",
    "random_state = [4000]\n",
    "\n",
    "\n",
    "\n",
    "# gsRFC = GridSearchCV(RFC,param_grid = rf_param_grid, cv=kfold, scoring=\"accuracy\", n_jobs= 4, verbose = 1)\n",
    "Cs = [0.0001, 0.001, 0.01, 0.1, 1, 10, 100]\n",
    "gammas = [0.001, 0.01, 0.1, 1]\n",
    "kernel = ['linear', 'rbf', 'sigmoid']#'precomputed','poly'\n",
    "nfolds=5\n",
    "criterion = [\"gini\", 'entropy']\n",
    "#grid_search = GridSearchCV(SVC(), param_grid_svc, cv=nfolds)\n",
    "n_estimators = [500,1000,2000]\n",
    "learning_rate = [0.01]\n",
    "max_depth = [3, 5, 10, 15 ,20]\n",
    "solver = ['newton-cg', 'lbfgs', 'liblinear', 'sag', 'saga']\n",
    "scoring = 'accuracy'\n",
    "n_jobs= -1\n",
    "penalty= ['l2']\n",
    "\n",
    "linearscv_param_grid = {'C':Cs, 'penalty':penalty, 'random_state':random_state }\n",
    "\n",
    "svc_param_grid = {'C': Cs, 'gamma' : gammas,'kernel':kernel, 'random_state':random_state }\n",
    "\n",
    "ex_param_grid = {\"max_depth\": [3, 5, 10,15,20],\n",
    "              \"max_features\": [7,8,9,10,11,12],\n",
    "              \"bootstrap\": [False,True],\n",
    "              \"n_estimators\" :n_estimators,\n",
    "              \"criterion\": criterion, 'random_state':random_state }\n",
    "\n",
    "\n",
    "gb_param_grid = {'loss' : [\"deviance\",'exponential'],\n",
    "              'n_estimators' : n_estimators,\n",
    "              'learning_rate': learning_rate,\n",
    "              'max_depth': max_depth,\n",
    "              'min_samples_leaf': [200,400,600],\n",
    "              'max_features': [0.3, 0.1], 'random_state':random_state  \n",
    "              }\n",
    "\n",
    "rf_param_grid = {\"max_depth\": [3,4,5,10,15,20],\n",
    "              \"max_features\": [7,8,9,10,11,12],\n",
    "              \"n_estimators\" :n_estimators,\n",
    "              \"criterion\": criterion, 'random_state':random_state }\n",
    "\n",
    "logistic_param_grid = {\n",
    "    'C': Cs                                   \n",
    "              }\n",
    "\n",
    "lda_param_grid = {'solver' : [\"svd\",'lsqr','eigen'],\n",
    "              'shrinkage ' : ['auto'], 'random_state':random_state \n",
    "              }\n",
    "\n",
    "kneighbor_param_grid = {'n_neighbors':list(range(1,31))}\n",
    "\n",
    "xgboost_param_grid ={\n",
    "    'gamma':[i/10.0 for i in range(0,5)],\n",
    "     'subsample':[i/100.0 for i in range(75,90,5)],\n",
    "     'colsample_bytree':[i/100.0 for i in range(75,90,5)],\n",
    "    'reg_alpha':[1e-5, 1e-2, 0.1, 1, 100],\n",
    "    'n_estimators':[100,500,1000,2000], 'random_state':random_state \n",
    "}\n",
    "\n",
    "naive_bayes_param_grid = {\n",
    "    'priors':None, 'random_state':random_state \n",
    "}\n",
    "\n",
    "mlp_param_grid = {\n",
    "    'hidden_layer_sizes': [(50,50,50), (50,100,50), (100,)],\n",
    "    'activation': ['logistic', 'tanh', 'relu'],\n",
    "    'solver': ['sgd', 'adam'],\n",
    "    'alpha': [0.0001, 0.05,0.1,1,10,100],\n",
    "    'learning_rate': ['constant','adaptive'],\n",
    "    'max_iter':[1000,2000,5000,10000], 'random_state':random_state \n",
    "}\n",
    "\n",
    "\n",
    "#gsExtC = GridSearchCV(ExtraTreesClassifier, param_grid = ex_param_grid, cv=nfold, scoring=\"auc\")\n",
    "\n",
    "print('X_train_shape:',X_train.shape)\n",
    "classifiers.append(GridSearchCV(SVC(), svc_param_grid, cv=nfolds,n_jobs=-1))\n",
    "classifiers.append(GridSearchCV(RandomForestClassifier(),param_grid = rf_param_grid, cv=nfolds, scoring=scoring, n_jobs=-1))\n",
    "classifiers.append(GridSearchCV(ExtraTreesClassifier(), param_grid = ex_param_grid, cv=nfolds, scoring=scoring, n_jobs=-1))\n",
    "classifiers.append(GridSearchCV(GradientBoostingClassifier(),param_grid = gb_param_grid, cv=nfolds, scoring=scoring, n_jobs=-1))\n",
    "\n",
    "classifiers.append(GridSearchCV(KNeighborsClassifier(),param_grid=kneighbor_param_grid,cv=nfolds, scoring=scoring, n_jobs=-1))\n",
    "classifiers.append(GridSearchCV(LogisticRegression(penalty='l2'),param_grid = logistic_param_grid, cv=nfolds, scoring=scoring, n_jobs=-1))\n",
    "\n",
    "classifiers.append(GridSearchCV(XGBClassifier(silent=True, learning_rate=0.01, objective='binary:logistic'),param_grid=xgboost_param_grid,cv=nfolds,scoring=scoring,n_jobs=-1))\n",
    "classifiers.append(GridSearchCV(LinearSVC(),param_grid=linearscv_param_grid, scoring=scoring, cv=nfolds,n_jobs=-1))\n",
    "classifiers.append(GridSearchCV(MLPClassifier(),param_grid=mlp_param_grid,cv=nfolds,n_jobs=-1)) # 제외\n",
    "\n",
    "\n",
    "\n",
    "classifiers_not.append(LinearDiscriminantAnalysis())# 튜닝 불가능\n",
    "classifiers_not.append(GaussianNB())\n",
    "classifiers_not.append(MultinomialNB())\n",
    "classifiers_not.append(BernoulliNB())\n",
    "\n",
    "\n",
    "\n",
    "#classifiers.append(XGBClassifier())\n",
    "test_accuracy_list = []\n",
    "train_accuracy_list= [] \n",
    "model_accuracy_list= []\n",
    "confusion_matrix_list = []\n",
    "auc_list = []\n",
    "for models in classifiers:\n",
    "    #print(models)\n",
    "    models.fit(X_train,y_train)\n",
    "    \n",
    "    model_str = str(models).split('(')[0]\n",
    "    print(model_str,':',models.best_params_)\n",
    "    pre = models.predict(X_test)\n",
    "    \n",
    "    tmp_dict1 = {}\n",
    "    tmp_dict1[model_str] = models.score(X_test,y_test)\n",
    "    test_accuracy_list.append(tmp_dict1)\n",
    "    \n",
    "    tmp_dict2 = {}\n",
    "    tmp_dict2[model_str] = models.score(X_train,y_train)\n",
    "    train_accuracy_list.append(tmp_dict2)\n",
    "    \n",
    "    tmp_dict3 = {}\n",
    "    tmp_dict3[model_str] = metrics.accuracy_score(y_test, pre)\n",
    "    model_accuracy_list.append(tmp_dict3)\n",
    "    \n",
    "    # 전역변수로, 지역변수 문제라 생각한다.\n",
    "    tmp_dict4 = {}\n",
    "    tmp_dict4[model_str] = confusion_matrix(y_test,pre)\n",
    "    confusion_matrix_list.append(tmp_dict4)\n",
    "    \n",
    "    fpr, tpr, thresholds = metrics.roc_curve(y_test, pre)\n",
    "    tmp_dict5 = {}\n",
    "    tmp_dict5[model_str] = metrics.auc(fpr, tpr)\n",
    "    auc_list.append(tmp_dict5)\n",
    "    #confusion_matrix_list.append(confusion_matrix(y_test,pre))\n",
    "for models in classifiers_not:\n",
    "    \n",
    "    models.fit(X_train,y_train)\n",
    "    \n",
    "    model_str = str(models).split('(')[0]\n",
    "    pre = models.predict(X_test)\n",
    "    \n",
    "    tmp_dict1 = {}\n",
    "    tmp_dict1[model_str] = models.score(X_test,y_test)\n",
    "    test_accuracy_list.append(tmp_dict1)\n",
    "    \n",
    "    tmp_dict2 = {}\n",
    "    tmp_dict2[model_str] = models.score(X_train,y_train)\n",
    "    train_accuracy_list.append(tmp_dict2)\n",
    "    \n",
    "    tmp_dict3 = {}\n",
    "    tmp_dict3[model_str] = metrics.accuracy_score(y_test, pre)\n",
    "    model_accuracy_list.append(tmp_dict3)\n",
    "    \n",
    "    # 전역변수로, 지역변수 문제라 생각한다.\n",
    "    tmp_dict4 = {}\n",
    "    tmp_dict4[model_str] = confusion_matrix(y_test,pre)\n",
    "    confusion_matrix_list.append(tmp_dict4)\n",
    "    \n",
    "    fpr, tpr, thresholds = metrics.roc_curve(y_test, pre)\n",
    "    tmp_dict5 = {}\n",
    "    tmp_dict5[model_str] = metrics.auc(fpr, tpr)\n",
    "    auc_list.append(tmp_dict5)\n",
    "    #confusion_matrix_list.append(confusion_matrix(y_test,pre))    \n",
    "\n",
    "    \n",
    "train_result[stock_code] = train_accuracy_list\n",
    "test_result[stock_code] = test_accuracy_list\n",
    "model_result[stock_code] = model_accuracy_list\n",
    "confusion_matrix_result[stock_code] = confusion_matrix_list\n",
    "auc_result[stock_code] = auc_list\n"
   ]
  },
  {
   "cell_type": "markdown",
   "metadata": {},
   "source": [
    "GridSearchCV : {'C': 0.001, 'gamma': 0.001, 'kernel': 'linear'}\n",
    "GridSearchCV : {'criterion': 'gini', 'max_depth': 5, 'max_features': 12, 'n_estimators': 500}\n",
    "GridSearchCV : {'bootstrap': False, 'criterion': 'entropy', 'max_depth': 15, 'max_features': 11, 'n_estimators': 500}\n",
    "GridSearchCV : {'learning_rate': 0.01, 'loss': 'deviance', 'max_depth': 3, 'max_features': 0.3, 'min_samples_leaf': 200, 'n_estimators': 500}\n",
    "GridSearchCV : {'n_neighbors': 19}\n",
    "GridSearchCV : {'C': 0.01}\n",
    "GridSearchCV : {'colsample_bytree': 0.8, 'gamma': 0.4, 'n_estimators': 1000, 'reg_alpha': 1e-05, 'subsample': 0.75}\n",
    "GridSearchCV : {'C': 0.001, 'penalty': 'l2'}\n",
    "GridSearchCV : {'activation': 'tanh', 'alpha': 0.05, 'hidden_layer_sizes': (50, 100, 50), 'learning_rate': 'constant', 'max_iter': 10000, 'solver': 'adam'}"
   ]
  },
  {
   "cell_type": "code",
   "execution_count": 49,
   "metadata": {},
   "outputs": [],
   "source": [
    "# model_result = Counter()\n",
    "# train_result= Counter()\n",
    "# test_result = Counter()\n",
    "# confusion_matrix_result = Counter()\n",
    "# auc_result = Counter()\n",
    "# one_code_list = all_dict[stock_code]\n",
    "# tag_list = [tag[0] for tag in one_code_list[:int(len(one_code_list)*0.2)]]\n",
    "# y = np.where(earning_data>=0,1,0)\n",
    "# x= data_filter_freq[tag_list]\n",
    "# X_train, X_test, y_train, y_test = train_test_split(x, y, test_size=0.33, shuffle=False)\n",
    "# lenx=X_train.shape\n",
    "# # if lenx[0]<=10 or lenx[1]<=2 :\n",
    "# #     continue\n",
    "# random_state = 2\n",
    "# classifiers = []\n",
    "# # rf_param_grid = {\"max_depth\": [10,15,20],\n",
    "# #               \"max_features\": [7,8,9,10,11,12],\n",
    "# #               \"n_estimators\" :[2000],\n",
    "# #               \"criterion\": [\"gini\",'entropy']}\n",
    "\n",
    "\n",
    "# # gsRFC = GridSearchCV(RFC,param_grid = rf_param_grid, cv=kfold, scoring=\"accuracy\", n_jobs= 4, verbose = 1)\n",
    "\n",
    "# classifiers.append(SVC(random_state=random_state,C=0.0001))\n",
    "# classifiers.append(AdaBoostClassifier(DecisionTreeClassifier(random_state=random_state),random_state=random_state,learning_rate=0.1))\n",
    "# classifiers.append(RandomForestClassifier(random_state=random_state,n_estimators=1000,max_depth=3))\n",
    "# classifiers.append(ExtraTreesClassifier(random_state=random_state))\n",
    "# classifiers.append(GradientBoostingClassifier(random_state=random_state,learning_rate=0.01))\n",
    "# classifiers.append(MLPClassifier(random_state=random_state,max_iter=2000)) # 제외\n",
    "# classifiers.append(KNeighborsClassifier())\n",
    "# classifiers.append(LogisticRegression(random_state = random_state,C=0.001))\n",
    "# classifiers.append(LinearDiscriminantAnalysis())# 여기까지\n",
    "# classifiers.append(GaussianNB())\n",
    "# classifiers.append(MultinomialNB())\n",
    "# classifiers.append(BernoulliNB())\n",
    "# classifiers.append(XGBClassifier(silent=True, learning_rate=0.01, subsample=0.8, objective='binary:logistic',n_estimators=1000,reg_alpha=0.3))\n",
    "# classifiers.append(LinearSVC(random_state=100,C=0.01))\n",
    "# #classifiers.append(XGBClassifier())\n",
    "# test_accuracy_list = []\n",
    "# train_accuracy_list= [] \n",
    "# model_accuracy_list= []\n",
    "# confusion_matrix_list = []\n",
    "# auc_list = []\n",
    "# for models in classifiers:\n",
    "#     #print(models)\n",
    "#     models.fit(X_train,y_train)\n",
    "#     model_str = str(models).split('(')[0]\n",
    "#     pre = models.predict(X_test)\n",
    "    \n",
    "#     tmp_dict1 = {}\n",
    "#     tmp_dict1[model_str] = models.score(X_test,y_test)\n",
    "#     test_accuracy_list.append(tmp_dict1)\n",
    "    \n",
    "#     tmp_dict2 = {}\n",
    "#     tmp_dict2[model_str] = models.score(X_train,y_train)\n",
    "#     train_accuracy_list.append(tmp_dict2)\n",
    "    \n",
    "#     tmp_dict3 = {}\n",
    "#     tmp_dict3[model_str] = metrics.accuracy_score(y_test, pre)\n",
    "#     model_accuracy_list.append(tmp_dict3)\n",
    "    \n",
    "#     # 전역변수로, 지역변수 문제라 생각한다.\n",
    "#     tmp_dict4 = {}\n",
    "#     tmp_dict4[model_str] = confusion_matrix(y_test,pre)\n",
    "#     confusion_matrix_list.append(tmp_dict4)\n",
    "    \n",
    "#     fpr, tpr, thresholds = metrics.roc_curve(y_test, pre)\n",
    "#     tmp_dict5 = {}\n",
    "#     tmp_dict5[model_str] = metrics.auc(fpr, tpr)\n",
    "#     auc_list.append(tmp_dict5)\n",
    "#     #confusion_matrix_list.append(confusion_matrix(y_test,pre))\n",
    "    \n",
    "# train_result[stock_code] = train_accuracy_list\n",
    "# test_result[stock_code] = test_accuracy_list\n",
    "# model_result[stock_code] = model_accuracy_list\n",
    "# confusion_matrix_result[stock_code] = confusion_matrix_list\n",
    "# auc_result[stock_code] = auc_list\n"
   ]
  },
  {
   "cell_type": "code",
   "execution_count": 50,
   "metadata": {},
   "outputs": [],
   "source": [
    "# for model in classifiers:\n",
    "#     print(model)\n",
    "#     #model_str = str(model)\n",
    "#     #print(type(model_str))\n",
    "#     #print(model_str.split('(')[0])"
   ]
  },
  {
   "cell_type": "code",
   "execution_count": 51,
   "metadata": {},
   "outputs": [
    {
     "name": "stdout",
     "output_type": "stream",
     "text": [
      "0.465564738292011 0.534435261707989\n"
     ]
    }
   ],
   "source": [
    "ratio_y = y.sum()/len(y)\n",
    "print(ratio_y,1-ratio_y)"
   ]
  },
  {
   "cell_type": "code",
   "execution_count": 52,
   "metadata": {},
   "outputs": [
    {
     "name": "stdout",
     "output_type": "stream",
     "text": [
      "0.4931506849315068 0.5068493150684932\n"
     ]
    }
   ],
   "source": [
    "ratio_y_test = y_test.sum()/len(y_test)\n",
    "print(ratio_y_test,1-ratio_y_test)"
   ]
  },
  {
   "cell_type": "code",
   "execution_count": 53,
   "metadata": {},
   "outputs": [],
   "source": [
    "# models = LinearDiscriminantAnalysis(solver='eigen')\n",
    "# models.fit(X_train,y_train)\n",
    "# model_str = str(models).split('(')[0]\n",
    "# pre = models.predict(X_test)\n",
    "# models.score(X_test,y_test)"
   ]
  },
  {
   "cell_type": "code",
   "execution_count": 54,
   "metadata": {},
   "outputs": [],
   "source": [
    "# models = LinearDiscriminantAnalysis(solver='lsqr')\n",
    "# models.fit(X_train,y_train)\n",
    "# model_str = str(models).split('(')[0]\n",
    "# pre = models.predict(X_test)\n",
    "# models.score(X_test,y_test)"
   ]
  },
  {
   "cell_type": "code",
   "execution_count": 55,
   "metadata": {},
   "outputs": [],
   "source": [
    "model_list=['svc',\n",
    "'randomforestclassifier',\n",
    "'extratreesclassifier',\n",
    "'gradientboostingclassifier',\n",
    "'kneighborsclassfier',\n",
    "'logisticregression',\n",
    "'xgbclassifier',\n",
    "'linearsvc',\n",
    "'mlpclassifier']"
   ]
  },
  {
   "cell_type": "code",
   "execution_count": 56,
   "metadata": {},
   "outputs": [],
   "source": [
    "for idx,element in enumerate(model_list):    \n",
    "    tmp_dict = {}\n",
    "    tmp_dict[element] = confusion_matrix_result[stock_code][idx]['GridSearchCV']\n",
    "    confusion_matrix_result[stock_code][idx] = tmp_dict"
   ]
  },
  {
   "cell_type": "code",
   "execution_count": 57,
   "metadata": {},
   "outputs": [
    {
     "data": {
      "text/plain": [
       "Counter({'015760': [{'svc': array([[28,  9],\n",
       "                  [27,  9]], dtype=int64)},\n",
       "          {'randomforestclassifier': array([[30,  7],\n",
       "                  [25, 11]], dtype=int64)},\n",
       "          {'extratreesclassifier': array([[31,  6],\n",
       "                  [25, 11]], dtype=int64)},\n",
       "          {'gradientboostingclassifier': array([[37,  0],\n",
       "                  [36,  0]], dtype=int64)},\n",
       "          {'kneighborsclassfier': array([[21, 16],\n",
       "                  [14, 22]], dtype=int64)},\n",
       "          {'logisticregression': array([[24, 13],\n",
       "                  [25, 11]], dtype=int64)},\n",
       "          {'xgbclassifier': array([[28,  9],\n",
       "                  [22, 14]], dtype=int64)},\n",
       "          {'linearsvc': array([[24, 13],\n",
       "                  [24, 12]], dtype=int64)},\n",
       "          {'mlpclassifier': array([[23, 14],\n",
       "                  [21, 15]], dtype=int64)},\n",
       "          {'LinearDiscriminantAnalysis': array([[23, 14],\n",
       "                  [23, 13]], dtype=int64)},\n",
       "          {'GaussianNB': array([[13, 24],\n",
       "                  [11, 25]], dtype=int64)},\n",
       "          {'MultinomialNB': array([[15, 22],\n",
       "                  [14, 22]], dtype=int64)},\n",
       "          {'BernoulliNB': array([[ 7, 30],\n",
       "                  [ 5, 31]], dtype=int64)}]})"
      ]
     },
     "execution_count": 57,
     "metadata": {},
     "output_type": "execute_result"
    }
   ],
   "source": [
    "confusion_matrix_result"
   ]
  },
  {
   "cell_type": "code",
   "execution_count": 58,
   "metadata": {},
   "outputs": [
    {
     "name": "stdout",
     "output_type": "stream",
     "text": [
      "Counter({'015760': [{'svc': 0.5068493150684932}, {'randomforestclassifier': 0.5616438356164384}, {'extratreesclassifier': 0.5753424657534246}, {'gradientboostingclassifier': 0.5068493150684932}, {'kneighborsclassfier': 0.589041095890411}, {'logisticregression': 0.4794520547945205}, {'xgbclassifier': 0.5753424657534246}, {'linearsvc': 0.4931506849315068}, {'mlpclassifier': 0.5205479452054794}, {'LinearDiscriminantAnalysis': 0.4931506849315068}, {'GaussianNB': 0.5205479452054794}, {'MultinomialNB': 0.5068493150684932}, {'BernoulliNB': 0.5205479452054794}]})\n",
      "Counter({'015760': [{'svc': 0.996551724137931}, {'randomforestclassifier': 0.7724137931034483}, {'extratreesclassifier': 0.8344827586206897}, {'gradientboostingclassifier': 0.5413793103448276}, {'kneighborsclassfier': 0.596551724137931}, {'logisticregression': 0.6275862068965518}, {'xgbclassifier': 0.7965517241379311}, {'linearsvc': 0.6137931034482759}, {'mlpclassifier': 1.0}, {'LinearDiscriminantAnalysis': 0.6275862068965518}, {'GaussianNB': 0.5344827586206896}, {'MultinomialNB': 0.593103448275862}, {'BernoulliNB': 0.5413793103448276}]})\n",
      "Counter({'015760': [{'svc': 0.5068493150684932}, {'randomforestclassifier': 0.5616438356164384}, {'extratreesclassifier': 0.5753424657534246}, {'gradientboostingclassifier': 0.5068493150684932}, {'kneighborsclassfier': 0.589041095890411}, {'logisticregression': 0.4794520547945205}, {'xgbclassifier': 0.5753424657534246}, {'linearsvc': 0.4931506849315068}, {'mlpclassifier': 0.5205479452054794}, {'LinearDiscriminantAnalysis': 0.4931506849315068}, {'GaussianNB': 0.5205479452054794}, {'MultinomialNB': 0.5068493150684932}, {'BernoulliNB': 0.5205479452054794}]})\n"
     ]
    }
   ],
   "source": [
    "for idx,element in enumerate(model_list):    \n",
    "    tmp_dict = {}\n",
    "    tmp_dict[element] = model_result[stock_code][idx]['GridSearchCV']\n",
    "    model_result[stock_code][idx] = tmp_dict\n",
    "print(model_result)\n",
    "for idx,element in enumerate(model_list):    \n",
    "    tmp_dict = {}\n",
    "    tmp_dict[element] = train_result[stock_code][idx]['GridSearchCV']\n",
    "    train_result[stock_code][idx] = tmp_dict\n",
    "print(train_result)\n",
    "for idx,element in enumerate(model_list):    \n",
    "    tmp_dict = {}\n",
    "    tmp_dict[element] = test_result[stock_code][idx]['GridSearchCV']\n",
    "    test_result[stock_code][idx] = tmp_dict\n",
    "print(test_result)"
   ]
  },
  {
   "cell_type": "code",
   "execution_count": 59,
   "metadata": {},
   "outputs": [
    {
     "ename": "KeyError",
     "evalue": "'GridSearchCV'",
     "output_type": "error",
     "traceback": [
      "\u001b[1;31m---------------------------------------------------------------------------\u001b[0m",
      "\u001b[1;31mKeyError\u001b[0m                                  Traceback (most recent call last)",
      "\u001b[1;32m<ipython-input-59-a7483405b2e2>\u001b[0m in \u001b[0;36m<module>\u001b[1;34m\u001b[0m\n\u001b[0;32m      1\u001b[0m \u001b[1;32mfor\u001b[0m \u001b[0midx\u001b[0m\u001b[1;33m,\u001b[0m\u001b[0melement\u001b[0m \u001b[1;32min\u001b[0m \u001b[0menumerate\u001b[0m\u001b[1;33m(\u001b[0m\u001b[0mmodel_list\u001b[0m\u001b[1;33m)\u001b[0m\u001b[1;33m:\u001b[0m\u001b[1;33m\u001b[0m\u001b[1;33m\u001b[0m\u001b[0m\n\u001b[0;32m      2\u001b[0m     \u001b[0mtmp_dict\u001b[0m \u001b[1;33m=\u001b[0m \u001b[1;33m{\u001b[0m\u001b[1;33m}\u001b[0m\u001b[1;33m\u001b[0m\u001b[1;33m\u001b[0m\u001b[0m\n\u001b[1;32m----> 3\u001b[1;33m     \u001b[0mtmp_dict\u001b[0m\u001b[1;33m[\u001b[0m\u001b[0melement\u001b[0m\u001b[1;33m]\u001b[0m \u001b[1;33m=\u001b[0m \u001b[0mmodel_result\u001b[0m\u001b[1;33m[\u001b[0m\u001b[0mstock_code\u001b[0m\u001b[1;33m]\u001b[0m\u001b[1;33m[\u001b[0m\u001b[0midx\u001b[0m\u001b[1;33m]\u001b[0m\u001b[1;33m[\u001b[0m\u001b[1;34m'GridSearchCV'\u001b[0m\u001b[1;33m]\u001b[0m\u001b[1;33m\u001b[0m\u001b[1;33m\u001b[0m\u001b[0m\n\u001b[0m\u001b[0;32m      4\u001b[0m     \u001b[0mmodel_result\u001b[0m\u001b[1;33m[\u001b[0m\u001b[0mstock_code\u001b[0m\u001b[1;33m]\u001b[0m\u001b[1;33m[\u001b[0m\u001b[0midx\u001b[0m\u001b[1;33m]\u001b[0m \u001b[1;33m=\u001b[0m \u001b[0mtmp_dict\u001b[0m\u001b[1;33m\u001b[0m\u001b[1;33m\u001b[0m\u001b[0m\n",
      "\u001b[1;31mKeyError\u001b[0m: 'GridSearchCV'"
     ]
    }
   ],
   "source": [
    "for idx,element in enumerate(model_list):    \n",
    "    tmp_dict = {}\n",
    "    tmp_dict[element] = model_result[stock_code][idx]['GridSearchCV']\n",
    "    model_result[stock_code][idx] = tmp_dict\n"
   ]
  },
  {
   "cell_type": "code",
   "execution_count": null,
   "metadata": {},
   "outputs": [],
   "source": [
    "model_result"
   ]
  },
  {
   "cell_type": "code",
   "execution_count": null,
   "metadata": {},
   "outputs": [],
   "source": [
    "for idx,element in enumerate(model_list):    \n",
    "    tmp_dict = {}\n",
    "    tmp_dict[element] = train_result[stock_code][idx]['GridSearchCV']\n",
    "    train_result[stock_code][idx] = tmp_dict"
   ]
  },
  {
   "cell_type": "code",
   "execution_count": null,
   "metadata": {},
   "outputs": [],
   "source": [
    "train_result "
   ]
  },
  {
   "cell_type": "code",
   "execution_count": null,
   "metadata": {},
   "outputs": [],
   "source": [
    "for idx,element in enumerate(model_list):    \n",
    "    tmp_dict = {}\n",
    "    tmp_dict[element] = test_result[stock_code][idx]['GridSearchCV']\n",
    "    test_result[stock_code][idx] = tmp_dict"
   ]
  },
  {
   "cell_type": "code",
   "execution_count": null,
   "metadata": {},
   "outputs": [],
   "source": [
    "test_result"
   ]
  },
  {
   "cell_type": "code",
   "execution_count": null,
   "metadata": {},
   "outputs": [],
   "source": [
    "for idx,element in enumerate(model_list):    \n",
    "    tmp_dict = {}\n",
    "    tmp_dict[element] = auc_result[stock_code][idx]['GridSearchCV']\n",
    "    auc_result[stock_code][idx] = tmp_dict"
   ]
  },
  {
   "cell_type": "code",
   "execution_count": null,
   "metadata": {},
   "outputs": [],
   "source": [
    "auc_list"
   ]
  },
  {
   "cell_type": "code",
   "execution_count": null,
   "metadata": {},
   "outputs": [],
   "source": [
    "# for i in range(len(earning_data)-2):\n",
    "#     eidx = earning_data.index\n",
    "#     # 수익률 이전 행 날짜가 전날 날짜가 아니라 그이상 차이가 날때\n",
    "#     if (eidx[i+1] - eidx[i]).days > 1:\n",
    "#         # 휴일 or 주말이 끼면 그 날을 포함해서 다음 날에 반영한다.\n",
    "#         try:\n",
    "#             #data_filter_freq가 earning_data 보다 날짜가 하나 적다.\n",
    "#             print(data_filter_freq[eidx[i]+relativedelta(days=1):eidx[i+1]].sum()) # [i]는 [i+1]보다 1이상 차이난다.\n",
    "#             # 근데 data_filter_freq 데이터에서 earning_data의 인덱스가 없는 경우가 있다.\n",
    "#             data_filter_freq.loc[eidx[i+1],:] = data_filter_freq[eidx[i]+relativedelta(days=1):eidx[i+1]].sum()\n",
    "#             #del(data_filter_freq[eidx[i]+relativedelta(days=1):eidx[i+1]-relativedelta(days=1)])\n",
    "\n",
    "#             #data_filter_freq.drop(pd.date_range(eidx[i]+relativedelta(days=1),eidx[i+1]-relativedelta(days=1)),axis=0,inplace=True)\n",
    "#         except:\n",
    "#             print(i)\n",
    "#         #KeyError 발생\n",
    "#         #해결방법\n",
    "#         #1.존재 여부를 일일이 살펴 제어문을 걸어준다.\n",
    "#         #2. \n",
    "        "
   ]
  },
  {
   "cell_type": "code",
   "execution_count": null,
   "metadata": {},
   "outputs": [],
   "source": [
    "#{'bootstrap': False, 'criterion': 'gini', 'max_depth': 10, 'max_features': 8, 'n_estimators': 500, 'random_state': 4000}"
   ]
  },
  {
   "cell_type": "markdown",
   "metadata": {},
   "source": [
    "\n",
    "모든 학습 모델들이 overfitting하여 이에 대한 해결책이 필요하다.\n",
    "1. 학습 데이터 비율증가.\n",
    "2. 파라미터 튜닝  - 가장 성능이 좋은 extraclassifier에 대해서 해준다.\n",
    "\n",
    "\n",
    "- n_estimators  값 증가\n",
    "- max_feature 줄이기\n",
    "- max_depths 줄이기"
   ]
  },
  {
   "cell_type": "code",
   "execution_count": null,
   "metadata": {},
   "outputs": [],
   "source": [
    "XGBClassifier(silent=True, learning_rate=0.01)"
   ]
  },
  {
   "cell_type": "code",
   "execution_count": null,
   "metadata": {},
   "outputs": [],
   "source": [
    "model_result = Counter()\n",
    "train_result= Counter()\n",
    "test_result = Counter()\n",
    "confusion_matrix_result = Counter()\n",
    "auc_result = Counter()\n",
    "one_code_list = all_dict[stock_code]\n",
    "tag_list = [tag[0] for tag in one_code_list[:int(len(one_code_list)*0.2)]]\n",
    "y = np.where(earning_data>=0,1,0)\n",
    "x= data_filter_freq[tag_list]\n",
    "X_train, X_test, y_train, y_test = train_test_split(x, y, test_size=0.33, shuffle=False)\n",
    "lenx=X_train.shape\n",
    "random_state = [4000]\n",
    "ex_param_grid = {\"max_depth\": [3, 5, 10,15,20],\n",
    "              \"max_features\": [7,8,9,10,11,12],\n",
    "              \"bootstrap\": [False,True],\n",
    "              \"n_estimators\" :[3,5,10,100,500,1000],\n",
    "              \"criterion\": ['gini','entropy'], 'random_state':random_state }\n",
    "#model = ExtraTreesClassifier(bootstrap=False,criterion='gini',max_depth=5, max_features=4,n_estimators=20000, random_state=4000,n_jobs=-1)\n",
    "model = GridSearchCV(ExtraTreesClassifier(), param_grid = ex_param_grid, cv=nfolds, scoring=scoring, n_jobs=-1)\n",
    "model.fit(X_train,y_train)\n",
    "pre = model.predict(X_test)"
   ]
  },
  {
   "cell_type": "code",
   "execution_count": null,
   "metadata": {},
   "outputs": [],
   "source": [
    "model.score(X_train,y_train)"
   ]
  },
  {
   "cell_type": "code",
   "execution_count": null,
   "metadata": {},
   "outputs": [],
   "source": [
    "metrics.accuracy_score(y_test,pre)"
   ]
  },
  {
   "cell_type": "code",
   "execution_count": null,
   "metadata": {},
   "outputs": [],
   "source": [
    "confusion_matrix(y_test,pre)"
   ]
  },
  {
   "cell_type": "code",
   "execution_count": null,
   "metadata": {},
   "outputs": [],
   "source": [
    "model.best_estimator_"
   ]
  },
  {
   "cell_type": "markdown",
   "metadata": {},
   "source": [
    "## random forest vs extra \n",
    "1) When choosing variables at a split, samples are drawn from the entire training set instead of a bootstrap sample of the training set.\n",
    "\n",
    "2) Splits are chosen completely at random from the range of values in the sample at each split.\n",
    "\n",
    "The result from these two things are many more \"leaves\"."
   ]
  },
  {
   "cell_type": "code",
   "execution_count": null,
   "metadata": {},
   "outputs": [],
   "source": [
    "def labeling(data):\n",
    "    if data>0:\n",
    "        data = 1\n",
    "    elif data <0:\n",
    "        data = -1\n",
    "    return data\n",
    "            \n",
    "        "
   ]
  },
  {
   "cell_type": "code",
   "execution_count": null,
   "metadata": {},
   "outputs": [],
   "source": [
    "    "
   ]
  },
  {
   "cell_type": "code",
   "execution_count": null,
   "metadata": {},
   "outputs": [],
   "source": [
    "len(earning_data[earning_data==0])"
   ]
  },
  {
   "cell_type": "code",
   "execution_count": null,
   "metadata": {},
   "outputs": [],
   "source": [
    "model_result = Counter()\n",
    "train_result= Counter()\n",
    "test_result = Counter()\n",
    "confusion_matrix_result = Counter()\n",
    "auc_result = Counter()\n",
    "one_code_list = all_dict[stock_code]\n",
    "tag_list = [tag[0] for tag in one_code_list[:int(len(one_code_list)*0.2)]]\n",
    "y = np.where(earning_data>0,1,0)\n",
    "x= data_filter_freq[tag_list]\n",
    "X_train, X_test, y_train, y_test = train_test_split(x, y, test_size=0.33, shuffle=False)\n",
    "lenx=X_train.shape\n",
    "ex_param_grid = {\"max_depth\": [3, 5, 10,15,20],\n",
    "              \"max_features\": [7,8,9,10,11,12],\n",
    "              \"bootstrap\": [False,True],\n",
    "              \"n_estimators\" :[3,5,10,100,500,1000],\n",
    "              \"criterion\": ['gini','entropy'], 'random_state':random_state}\n",
    "#model = ExtraTreesClassifier(bootstrap=False,criterion='gini',max_depth=5, max_features=4,n_estimators=20000, random_state=4000,n_jobs=-1)\n",
    "model = GridSearchCV(ExtraTreesClassifier(), param_grid = ex_param_grid, cv=nfolds, scoring=scoring, n_jobs=-1)\n",
    "model.fit(X_train,y_train)\n",
    "pre = model.predict(X_test)"
   ]
  },
  {
   "cell_type": "code",
   "execution_count": null,
   "metadata": {},
   "outputs": [],
   "source": [
    "model.best_estimator_"
   ]
  },
  {
   "cell_type": "code",
   "execution_count": null,
   "metadata": {},
   "outputs": [],
   "source": [
    "model.best_score_"
   ]
  },
  {
   "cell_type": "code",
   "execution_count": null,
   "metadata": {},
   "outputs": [],
   "source": [
    "metrics.accuracy_score(pre,y_test)"
   ]
  },
  {
   "cell_type": "code",
   "execution_count": null,
   "metadata": {},
   "outputs": [],
   "source": [
    "y"
   ]
  },
  {
   "cell_type": "code",
   "execution_count": null,
   "metadata": {},
   "outputs": [],
   "source": [
    "delete_index=[]\n",
    "for idx, y_element in enumerate(y):    \n",
    "    if y_element == 0:\n",
    "        delete_index.append(idx)\n",
    "print(delete_index)"
   ]
  },
  {
   "cell_type": "code",
   "execution_count": null,
   "metadata": {},
   "outputs": [],
   "source": [
    "y[40]"
   ]
  },
  {
   "cell_type": "code",
   "execution_count": null,
   "metadata": {},
   "outputs": [],
   "source": [
    "len(np.delete(y,delete_index))"
   ]
  },
  {
   "cell_type": "code",
   "execution_count": null,
   "metadata": {},
   "outputs": [],
   "source": [
    "len(x.drop(index=x.index[delete_index]))"
   ]
  },
  {
   "cell_type": "code",
   "execution_count": null,
   "metadata": {},
   "outputs": [],
   "source": [
    "%%time\n",
    "# 수익률이 0인것 제거\n",
    "\n",
    "model_result = Counter()\n",
    "train_result= Counter()\n",
    "test_result = Counter()\n",
    "confusion_matrix_result = Counter()\n",
    "auc_result = Counter()\n",
    "one_code_list = all_dict[stock_code]\n",
    "tag_list = [tag[0] for tag in one_code_list[:int(len(one_code_list)*0.2)]]\n",
    "y = np.array([labeling(label) for label in earning_data])\n",
    "\n",
    "\n",
    "delete_index=[]\n",
    "for idx, y_element in enumerate(y):    \n",
    "    if y_element == 0:\n",
    "        delete_index.append(idx)\n",
    "x= data_filter_freq[tag_list]\n",
    "y=np.delete(y,delete_index)\n",
    "x.drop(index=x.index[delete_index],inplace=True)\n",
    "X_train, X_test, y_train, y_test = train_test_split(x, y, test_size=0.33, shuffle=False)\n",
    "lenx=X_train.shape\n",
    "# if lenx[0]<=10 or lenx[1]<=2:\n",
    "#     continue\n",
    "classifiers = []\n",
    "classifiers_not = []\n",
    "random_state = [4000]\n",
    "\n",
    "\n",
    "\n",
    "# gsRFC = GridSearchCV(RFC,param_grid = rf_param_grid, cv=kfold, scoring=\"accuracy\", n_jobs= 4, verbose = 1)\n",
    "Cs = [0.0001, 0.001, 0.01, 0.1, 1, 10, 100]\n",
    "gammas = [0.001, 0.01, 0.1, 1]\n",
    "kernel = ['linear', 'rbf', 'sigmoid']#'precomputed','poly'\n",
    "nfolds=5\n",
    "criterion = [\"gini\", 'entropy']\n",
    "#grid_search = GridSearchCV(SVC(), param_grid_svc, cv=nfolds)\n",
    "n_estimators = [500,1000,2000]\n",
    "learning_rate = [0.01]\n",
    "max_depth = [3, 5, 10, 15 ,20]\n",
    "solver = ['newton-cg', 'lbfgs', 'liblinear', 'sag', 'saga']\n",
    "scoring = 'accuracy'\n",
    "n_jobs= -1\n",
    "penalty= ['l2']\n",
    "\n",
    "linearscv_param_grid = {'C':Cs, 'penalty':penalty, 'random_state':random_state }\n",
    "\n",
    "svc_param_grid = {'C': Cs, 'gamma' : gammas,'kernel':kernel, 'random_state':random_state }\n",
    "\n",
    "ex_param_grid = {\"max_depth\": [3, 5, 10,15,20],\n",
    "              \"max_features\": [7,8,9,10,11,12],\n",
    "              \"bootstrap\": [False,True],\n",
    "              \"n_estimators\" :n_estimators,\n",
    "              \"criterion\": criterion, 'random_state':random_state }\n",
    "\n",
    "\n",
    "gb_param_grid = {'loss' : [\"deviance\"],\n",
    "              'n_estimators' : n_estimators,\n",
    "              'learning_rate': learning_rate,\n",
    "              'max_depth': max_depth,\n",
    "              'min_samples_leaf': [200,400,600],\n",
    "              'max_features': [0.3, 0.1], 'random_state':random_state  \n",
    "              }\n",
    "\n",
    "rf_param_grid = {\"max_depth\": [3,4,5,10,15,20],\n",
    "              \"max_features\": [7,8,9,10,11,12],\n",
    "              \"n_estimators\" :n_estimators,\n",
    "              \"criterion\": criterion, 'random_state':random_state }\n",
    "\n",
    "logistic_param_grid = {\n",
    "    'C': Cs                                   \n",
    "              }\n",
    "\n",
    "lda_param_grid = {'solver' : [\"svd\",'lsqr','eigen'],\n",
    "              'shrinkage ' : ['auto'], 'random_state':random_state \n",
    "              }\n",
    "\n",
    "kneighbor_param_grid = {'n_neighbors':list(range(1,31))}\n",
    "\n",
    "xgboost_param_grid ={\n",
    "    'gamma':[i/10.0 for i in range(0,5)],\n",
    "     'subsample':[i/100.0 for i in range(75,90,5)],\n",
    "     'colsample_bytree':[i/100.0 for i in range(75,90,5)],\n",
    "    'reg_alpha':[1e-5, 1e-2, 0.1, 1, 100],\n",
    "    'n_estimators':[100,500,1000,2000], 'random_state':random_state \n",
    "}\n",
    "\n",
    "naive_bayes_param_grid = {\n",
    "    'priors':None, 'random_state':random_state \n",
    "}\n",
    "\n",
    "mlp_param_grid = {\n",
    "    'hidden_layer_sizes': [(50,50,50), (50,100,50), (100,)],\n",
    "    'activation': ['logistic', 'tanh', 'relu'],\n",
    "    'solver': ['sgd', 'adam'],\n",
    "    'alpha': [0.0001, 0.05,0.1,1,10,100],\n",
    "    'learning_rate': ['constant','adaptive'],\n",
    "    'max_iter':[1000,2000,5000,10000], 'random_state':random_state \n",
    "}\n",
    "\n",
    "\n",
    "#gsExtC = GridSearchCV(ExtraTreesClassifier, param_grid = ex_param_grid, cv=nfold, scoring=\"auc\")\n",
    "\n",
    "print('X_train_shape:',X_train.shape)\n",
    "classifiers.append(GridSearchCV(SVC(), svc_param_grid, cv=nfolds,n_jobs=-1))\n",
    "classifiers.append(GridSearchCV(RandomForestClassifier(),param_grid = rf_param_grid, cv=nfolds, scoring=scoring, n_jobs=-1))\n",
    "classifiers.append(GridSearchCV(ExtraTreesClassifier(), param_grid = ex_param_grid, cv=nfolds, scoring=scoring, n_jobs=-1))\n",
    "classifiers.append(GridSearchCV(GradientBoostingClassifier(),param_grid = gb_param_grid, cv=nfolds, scoring=scoring, n_jobs=-1))\n",
    "\n",
    "classifiers.append(GridSearchCV(KNeighborsClassifier(),param_grid=kneighbor_param_grid,cv=nfolds, scoring=scoring, n_jobs=-1))\n",
    "classifiers.append(GridSearchCV(LogisticRegression(penalty='l2'),param_grid = logistic_param_grid, cv=nfolds, scoring=scoring, n_jobs=-1))\n",
    "\n",
    "classifiers.append(GridSearchCV(XGBClassifier(silent=True, learning_rate=0.01, objective='binary:logistic'),param_grid=xgboost_param_grid,cv=nfolds,scoring=scoring,n_jobs=-1))\n",
    "classifiers.append(GridSearchCV(LinearSVC(),param_grid=linearscv_param_grid, scoring=scoring, cv=nfolds,n_jobs=-1))\n",
    "classifiers.append(GridSearchCV(MLPClassifier(),param_grid=mlp_param_grid,cv=nfolds,n_jobs=-1)) # 제외\n",
    "\n",
    "\n",
    "\n",
    "classifiers_not.append(LinearDiscriminantAnalysis())# 튜닝 불가능\n",
    "classifiers_not.append(GaussianNB())\n",
    "classifiers_not.append(MultinomialNB())\n",
    "classifiers_not.append(BernoulliNB())\n",
    "\n",
    "\n",
    "\n",
    "#classifiers.append(XGBClassifier())\n",
    "test_accuracy_list = []\n",
    "train_accuracy_list= [] \n",
    "model_accuracy_list= []\n",
    "confusion_matrix_list = []\n",
    "auc_list = []\n",
    "for models in classifiers:\n",
    "    #print(models)\n",
    "    models.fit(X_train,y_train)\n",
    "    \n",
    "    model_str = str(models).split('(')[0]\n",
    "    print(model_str,':',models.best_params_)\n",
    "    pre = models.predict(X_test)\n",
    "    \n",
    "    tmp_dict1 = {}\n",
    "    tmp_dict1[model_str] = models.score(X_test,y_test)\n",
    "    test_accuracy_list.append(tmp_dict1)\n",
    "    \n",
    "    tmp_dict2 = {}\n",
    "    tmp_dict2[model_str] = models.score(X_train,y_train)\n",
    "    train_accuracy_list.append(tmp_dict2)\n",
    "    \n",
    "    tmp_dict3 = {}\n",
    "    tmp_dict3[model_str] = metrics.accuracy_score(y_test, pre)\n",
    "    model_accuracy_list.append(tmp_dict3)\n",
    "    \n",
    "    # 전역변수로, 지역변수 문제라 생각한다.\n",
    "    tmp_dict4 = {}\n",
    "    tmp_dict4[model_str] = confusion_matrix(y_test,pre)\n",
    "    confusion_matrix_list.append(tmp_dict4)    \n",
    "    \n",
    "    #confusion_matrix_list.append(confusion_matrix(y_test,pre))\n",
    "for models in classifiers_not:\n",
    "    \n",
    "    models.fit(X_train,y_train)\n",
    "    \n",
    "    model_str = str(models).split('(')[0]\n",
    "    pre = models.predict(X_test)\n",
    "    \n",
    "    tmp_dict1 = {}\n",
    "    tmp_dict1[model_str] = models.score(X_test,y_test)\n",
    "    test_accuracy_list.append(tmp_dict1)\n",
    "    \n",
    "    tmp_dict2 = {}\n",
    "    tmp_dict2[model_str] = models.score(X_train,y_train)\n",
    "    train_accuracy_list.append(tmp_dict2)\n",
    "    \n",
    "    tmp_dict3 = {}\n",
    "    tmp_dict3[model_str] = metrics.accuracy_score(y_test, pre)\n",
    "    model_accuracy_list.append(tmp_dict3)\n",
    "    \n",
    "    # 전역변수로, 지역변수 문제라 생각한다.\n",
    "    tmp_dict4 = {}\n",
    "    tmp_dict4[model_str] = confusion_matrix(y_test,pre)\n",
    "    confusion_matrix_list.append(tmp_dict4)\n",
    "  \n",
    "    #confusion_matrix_list.append(confusion_matrix(y_test,pre))    \n",
    "\n",
    "    \n",
    "train_result[stock_code] = train_accuracy_list\n",
    "test_result[stock_code] = test_accuracy_list\n",
    "model_result[stock_code] = model_accuracy_list\n",
    "confusion_matrix_result[stock_code] = confusion_matrix_list\n",
    "\n"
   ]
  },
  {
   "cell_type": "code",
   "execution_count": null,
   "metadata": {},
   "outputs": [],
   "source": [
    "for idx,element in enumerate(model_list):    \n",
    "    tmp_dict = {}\n",
    "    tmp_dict[element] = model_result[stock_code][idx]['GridSearchCV']\n",
    "    model_result[stock_code][idx] = tmp_dict\n",
    "print('model_result')\n",
    "print(model_result)\n",
    "for idx,element in enumerate(model_list):    \n",
    "    tmp_dict = {}\n",
    "    tmp_dict[element] = train_result[stock_code][idx]['GridSearchCV']\n",
    "    train_result[stock_code][idx] = tmp_dict\n",
    "print('train_result')\n",
    "print(train_result)\n",
    "for idx,element in enumerate(model_list):    \n",
    "    tmp_dict = {}\n",
    "    tmp_dict[element] = test_result[stock_code][idx]['GridSearchCV']\n",
    "    test_result[stock_code][idx] = tmp_dict\n",
    "print('test_result')\n",
    "print(test_result)"
   ]
  },
  {
   "cell_type": "markdown",
   "metadata": {},
   "source": [
    "- 3 label\n",
    "- split 0.33\n",
    "Counter({'015760': [{'svc': 0.4666666666666667}, {'randomforestclassifier': 0.5916666666666667}, {'extratreesclassifier': 0.5833333333333334}, {'gradientboostingclassifier': 0.5416666666666666}, {'kneighborsclassfier': 0.525}, {'logisticregression': 0.5416666666666666}, {'xgbclassifier': 0.5583333333333333}, {'linearsvc': 0.5416666666666666}, {'mlpclassifier': 0.5583333333333333}, {'LinearDiscriminantAnalysis': 0.475}, {'GaussianNB': 0.5083333333333333}, {'MultinomialNB': 0.4666666666666667}, {'BernoulliNB': 0.475}]})\n",
    "Counter({'015760': [{'svc': 0.9465020576131687}, {'randomforestclassifier': 0.7530864197530864}, {'extratreesclassifier': 0.7736625514403292}, {'gradientboostingclassifier': 0.5308641975308642}, {'kneighborsclassfier': 0.5761316872427984}, {'logisticregression': 0.6090534979423868}, {'xgbclassifier': 0.9218106995884774}, {'linearsvc': 0.5925925925925926}, {'mlpclassifier': 0.6666666666666666}, {'LinearDiscriminantAnalysis': 0.6337448559670782}, {'GaussianNB': 0.5020576131687243}, {'MultinomialNB': 0.5967078189300411}, {'BernoulliNB': 0.551440329218107}]})\n",
    "Counter({'015760': [{'svc': 0.4666666666666667}, {'randomforestclassifier': 0.5916666666666667}, {'extratreesclassifier': 0.5833333333333334}, {'gradientboostingclassifier': 0.5416666666666666}, {'kneighborsclassfier': 0.525}, {'logisticregression': 0.5416666666666666}, {'xgbclassifier': 0.5583333333333333}, {'linearsvc': 0.5416666666666666}, {'mlpclassifier': 0.5583333333333333}, {'LinearDiscriminantAnalysis': 0.475}, {'GaussianNB': 0.5083333333333333}, {'MultinomialNB': 0.4666666666666667}, {'BernoulliNB': 0.475}]})"
   ]
  },
  {
   "cell_type": "markdown",
   "metadata": {},
   "source": [
    "- 3 label \n",
    "- split 0.2\n",
    "model_result\n",
    "Counter({'015760': [{'svc': 0.5068493150684932}, {'randomforestclassifier': 0.5616438356164384}, {'extratreesclassifier': 0.5342465753424658}, {'gradientboostingclassifier': 0.5068493150684932}, {'kneighborsclassfier': 0.5068493150684932}, {'logisticregression': 0.5205479452054794}, {'xgbclassifier': 0.5068493150684932}, {'linearsvc': 0.547945205479452}, {'mlpclassifier': 0.4794520547945205}, {'LinearDiscriminantAnalysis': 0.4794520547945205}, {'GaussianNB': 0.4657534246575342}, {'MultinomialNB': 0.4246575342465753}, {'BernoulliNB': 0.5205479452054794}]})\n",
    "train_result\n",
    "Counter({'015760': [{'svc': 1.0}, {'randomforestclassifier': 0.6620689655172414}, {'extratreesclassifier': 0.5689655172413793}, {'gradientboostingclassifier': 0.5413793103448276}, {'kneighborsclassfier': 0.596551724137931}, {'logisticregression': 0.5413793103448276}, {'xgbclassifier': 0.5413793103448276}, {'linearsvc': 0.5620689655172414}, {'mlpclassifier': 1.0}, {'LinearDiscriminantAnalysis': 0.6103448275862069}, {'GaussianNB': 0.5103448275862069}, {'MultinomialNB': 0.5689655172413793}, {'BernoulliNB': 0.5275862068965518}]})\n",
    "test_result\n",
    "Counter({'015760': [{'svc': 0.5068493150684932}, {'randomforestclassifier': 0.5616438356164384}, {'extratreesclassifier': 0.5342465753424658}, {'gradientboostingclassifier': 0.5068493150684932}, {'kneighborsclassfier': 0.5068493150684932}, {'logisticregression': 0.5205479452054794}, {'xgbclassifier': 0.5068493150684932}, {'linearsvc': 0.547945205479452}, {'mlpclassifier': 0.4794520547945205}, {'LinearDiscriminantAnalysis': 0.4794520547945205}, {'GaussianNB': 0.4657534246575342}, {'MultinomialNB': 0.4246575342465753}, {'BernoulliNB': 0.5205479452054794}]})"
   ]
  },
  {
   "cell_type": "code",
   "execution_count": null,
   "metadata": {},
   "outputs": [],
   "source": [
    "%%time\n",
    "# 수익률이 0인것 제거\n",
    "\n",
    "\n",
    "\n",
    "one_code_list = all_dict[stock_code]\n",
    "tag_list = [tag[0] for tag in one_code_list[:int(len(one_code_list)*0.2)]]\n",
    "y = np.array([labeling(label) for label in earning_data])\n",
    "\n",
    "\n",
    "delete_index=[]\n",
    "for idx, y_element in enumerate(y):    \n",
    "    if y_element == 0:\n",
    "        delete_index.append(idx)\n",
    "x= data_filter_freq[tag_list]\n",
    "y=np.delete(y,delete_index)\n",
    "x.drop(index=x.index[delete_index],inplace=True)\n",
    "X_train, X_test, y_train, y_test = train_test_split(x, y, test_size=0.33, shuffle=False)\n",
    "lenx=X_train.shape\n",
    "# if lenx[0]<=10 or lenx[1]<=2:\n",
    "#     continue\n",
    "classifiers = []\n",
    "\n",
    "random_state = [4000]\n",
    "\n",
    "\n",
    "\n",
    "# gsRFC = GridSearchCV(RFC,param_grid = rf_param_grid, cv=kfold, scoring=\"accuracy\", n_jobs= 4, verbose = 1)\n",
    "\n",
    "nfolds=5\n",
    "criterion = [\"gini\", 'entropy']\n",
    "n_estimators = [500,1000,2000]\n",
    "learning_rate = [0.01]\n",
    "max_depth = [3, 5, 10,11,15 ,20]\n",
    "scoring = 'accuracy'\n",
    "n_jobs= -1\n",
    "\n",
    "\n",
    "\n",
    "ex_param_grid = {\"max_depth\": max_depth,\n",
    "              \"max_features\": [7,8,9,10,11,12],\n",
    "              \"bootstrap\": [False,True],\n",
    "              \"n_estimators\" :n_estimators,\n",
    "              \"criterion\": criterion, 'random_state':random_state }\n",
    "\n",
    "\n",
    "\n",
    "#gsExtC = GridSearchCV(ExtraTreesClassifier, param_grid = ex_param_grid, cv=nfold, scoring=\"auc\")\n",
    "\n",
    "\n",
    "classifiers.append(GridSearchCV(ExtraTreesClassifier(), param_grid = ex_param_grid, cv=nfolds, scoring=scoring, n_jobs=-1))\n",
    "\n",
    "\n",
    "\n",
    "\n",
    "\n",
    "auc_list = []\n",
    "for ex_model in classifiers:\n",
    "    #print(ex_model)\n",
    "    ex_model.fit(X_train,y_train)\n",
    "    \n",
    "    model_str = str(ex_model).split('(')[0]\n",
    "    print(model_str,':',ex_model.best_params_)\n",
    "    pre = ex_model.predict(X_test)\n",
    "    \n",
    "    \n",
    "    print('test score:',ex_model.score(X_test,y_test))\n",
    "    \n",
    "    \n",
    "    \n",
    "    print('train score:',ex_model.score(X_train,y_train))\n",
    "    \n",
    "    \n",
    "    \n",
    "    print('model_score:',metrics.accuracy_score(y_test, pre))\n",
    "    \n",
    "    \n",
    "    # 전역변수로, 지역변수 문제라 생각한다.\n",
    "    \n",
    "    print(confusion_matrix(y_test,pre))\n",
    "    \n",
    "    \n",
    "    #confusion_matrix_list.append(confusion_matrix(y_test,pre))\n",
    "\n",
    "\n"
   ]
  },
  {
   "cell_type": "code",
   "execution_count": null,
   "metadata": {},
   "outputs": [],
   "source": [
    "ex_model_result = ex_model.best_estimator_"
   ]
  },
  {
   "cell_type": "code",
   "execution_count": null,
   "metadata": {},
   "outputs": [],
   "source": [
    "ex_model_result.feature_importances_"
   ]
  },
  {
   "cell_type": "code",
   "execution_count": null,
   "metadata": {},
   "outputs": [],
   "source": [
    "pd.Series(ex_model_result.feature_importances_,index = X_train.columns).sort_values(ascending=False).plot(kind='bar')"
   ]
  },
  {
   "cell_type": "code",
   "execution_count": null,
   "metadata": {},
   "outputs": [],
   "source": [
    "ex_model.best_params_"
   ]
  },
  {
   "cell_type": "code",
   "execution_count": null,
   "metadata": {},
   "outputs": [],
   "source": [
    "exmodel = ExtraTreesClassifier(bootstrap=False,criterion='gini',max_depth=11,max_features=8,n_estimators=500, random_state=4000) # 타당하지 못한 방법"
   ]
  },
  {
   "cell_type": "code",
   "execution_count": null,
   "metadata": {},
   "outputs": [],
   "source": [
    "exmodel.fit(X_train,y_train)"
   ]
  },
  {
   "cell_type": "code",
   "execution_count": null,
   "metadata": {},
   "outputs": [],
   "source": [
    "pre = exmodel.predict(X_test)\n",
    "\n",
    "metrics.accuracy_score(y_test, pre)"
   ]
  },
  {
   "cell_type": "code",
   "execution_count": null,
   "metadata": {},
   "outputs": [],
   "source": [
    "exmodel.score(X_train,y_train)"
   ]
  },
  {
   "cell_type": "code",
   "execution_count": null,
   "metadata": {},
   "outputs": [],
   "source": [
    "exmodel.feature_importances_"
   ]
  },
  {
   "cell_type": "code",
   "execution_count": null,
   "metadata": {},
   "outputs": [],
   "source": [
    "pd.Series(exmodel.feature_importances_,index = X_train.columns).sort_values(ascending=False).plot(kind='bar')"
   ]
  },
  {
   "cell_type": "code",
   "execution_count": null,
   "metadata": {},
   "outputs": [],
   "source": [
    "len(X_train.columns)"
   ]
  },
  {
   "cell_type": "code",
   "execution_count": null,
   "metadata": {},
   "outputs": [],
   "source": [
    "len(exmodel.feature_importances_)"
   ]
  },
  {
   "cell_type": "code",
   "execution_count": null,
   "metadata": {},
   "outputs": [],
   "source": []
  },
  {
   "cell_type": "code",
   "execution_count": null,
   "metadata": {},
   "outputs": [],
   "source": []
  }
 ],
 "metadata": {
  "kernelspec": {
   "display_name": "Python 3",
   "language": "python",
   "name": "python3"
  },
  "language_info": {
   "codemirror_mode": {
    "name": "ipython",
    "version": 3
   },
   "file_extension": ".py",
   "mimetype": "text/x-python",
   "name": "python",
   "nbconvert_exporter": "python",
   "pygments_lexer": "ipython3",
   "version": "3.7.1"
  }
 },
 "nbformat": 4,
 "nbformat_minor": 2
}
