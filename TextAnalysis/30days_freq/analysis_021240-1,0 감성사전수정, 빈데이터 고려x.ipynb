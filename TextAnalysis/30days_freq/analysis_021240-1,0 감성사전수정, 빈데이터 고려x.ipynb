{
 "cells": [
  {
   "cell_type": "code",
   "execution_count": 1,
   "metadata": {},
   "outputs": [],
   "source": [
    "import pandas as pd\n",
    "import sys\n",
    "import os\n",
    "if not sys.modules.get('pyarrow'):\n",
    "    os.system('pip3 install pyarrow')\n",
    "import numpy as np\n",
    "from glob import glob\n",
    "import datetime \n",
    "from dateutil.relativedelta import relativedelta\n",
    "from collections import Counter\n",
    "import numpy as np\n",
    "from sklearn import metrics\n",
    "import numpy as np\n",
    "import operator\n"
   ]
  },
  {
   "cell_type": "code",
   "execution_count": 2,
   "metadata": {},
   "outputs": [],
   "source": [
    "def month_vouch(m):\n",
    "    if len(str(m))==1:\n",
    "        return '0'+str(m)\n",
    "    else:\n",
    "        return str(m)"
   ]
  },
  {
   "cell_type": "code",
   "execution_count": 3,
   "metadata": {},
   "outputs": [],
   "source": [
    "def pearson_cor(a,b):   \n",
    "    if a.shape != b.shape:\n",
    "        print('크기가 다른 데이터입니다.')            \n",
    "    else:\n",
    "        return((np.dot(a,b) - np.mean(a)*np.mean(b)*a.shape[0])/(a.shape[0]-1))/(np.std(a)*np.std(b))"
   ]
  },
  {
   "cell_type": "code",
   "execution_count": 4,
   "metadata": {},
   "outputs": [],
   "source": [
    "import platform\n",
    "import matplotlib.pyplot as plt\n",
    "from matplotlib import font_manager, rc\n",
    "# 한글처리\n",
    "plt.rcParams['axes.unicode_minus'] = False\n",
    "if platform.system() == 'Darwin':    # 맥\n",
    "    rc( 'font', family='AppleGothic' )\n",
    "elif platform.system() == 'Windows': # 윈도우\n",
    "    # 폰트 차후 확인\n",
    "    fontPath = 'c:/Windows/Fonts/malgun.ttf'\n",
    "    fontName = font_manager.FontProperties( fname=fontPath ).get_name()\n",
    "    rc( 'font', family=fontName )\n",
    "else:\n",
    "    print('알수없는 시스템. 미적용')"
   ]
  },
  {
   "cell_type": "code",
   "execution_count": 5,
   "metadata": {},
   "outputs": [],
   "source": [
    "from sklearn.linear_model import LogisticRegression\n",
    "if not sys.modules.get('xgboost'):\n",
    "    os.system('pip3 install xgboost')\n",
    "from xgboost import XGBClassifier\n",
    "from sklearn.ensemble import RandomForestClassifier, AdaBoostClassifier, GradientBoostingClassifier, ExtraTreesClassifier, VotingClassifier\n",
    "from sklearn.discriminant_analysis import LinearDiscriminantAnalysis\n",
    "from sklearn.linear_model import LogisticRegression\n",
    "from sklearn.neighbors import KNeighborsClassifier\n",
    "from sklearn.tree import DecisionTreeClassifier\n",
    "from sklearn.neural_network import MLPClassifier\n",
    "from sklearn.svm import SVC,LinearSVC\n",
    "from sklearn.model_selection import GridSearchCV, cross_val_score, StratifiedKFold, learning_curve\n",
    "from sklearn.naive_bayes import GaussianNB,MultinomialNB,BernoulliNB\n",
    "from sklearn import metrics\n",
    "from sklearn.metrics import confusion_matrix\n",
    "from sklearn.model_selection import GridSearchCV, train_test_split"
   ]
  },
  {
   "cell_type": "code",
   "execution_count": 6,
   "metadata": {},
   "outputs": [],
   "source": [
    "stock_code = '021240'\n",
    "path = './data/freq2/naver_{0}_freq.parquet/'.format(stock_code)\n",
    "file_name = os.listdir(path)[0]\n",
    "data = pd.read_parquet(path+file_name)\n",
    "#data['date'] = pd.to_datetime(data['date'], format='%Y.%m.%d', errors='ignore')\n",
    "tag_dict= Counter()\n",
    "all_dict = Counter()"
   ]
  },
  {
   "cell_type": "code",
   "execution_count": 7,
   "metadata": {},
   "outputs": [],
   "source": [
    "data_sorting = data.sort_values(by='date')\n",
    "data_sorting.reset_index(inplace=True,drop=True)"
   ]
  },
  {
   "cell_type": "code",
   "execution_count": 8,
   "metadata": {},
   "outputs": [],
   "source": [
    "# for columns in data_sorting.columns:\n",
    "#     if columns.find('기도')>=0:\n",
    "#         print(columns)"
   ]
  },
  {
   "cell_type": "markdown",
   "metadata": {},
   "source": [
    "# 고려해야할 것\n",
    "- 각 컬럼의 총 빈도를 계산하여 특정 빈도 이하는 제거\n",
    "- 날짜 짝짓기\n",
    "- 전날과 당일 빈도 묶기 - 주말,휴일 고려 "
   ]
  },
  {
   "cell_type": "code",
   "execution_count": 9,
   "metadata": {
    "scrolled": true
   },
   "outputs": [],
   "source": [
    "#특정 이하 빈도 제거 \n",
    "sum_by_columns = data_sorting.drop(columns=['date']).sum(axis=0)\n",
    "abs_path = os.path.abspath('../file_list/crawl_data/naver_{0}.csv'.format(stock_code))\n",
    "csv_file = pd.read_csv(abs_path,header=None)\n",
    "#print(csv_file.head(10))\n",
    "filter_size = csv_file.shape[0]*0.02\n",
    "filtered_index_series = sum_by_columns>filter_size\n",
    "filtered_index = filtered_index_series[filtered_index_series==True].keys()\n",
    "#date_list = ['date']\n",
    "#data['date'].concat(sum_by_columns>filter_size)\n",
    "\n",
    "#data_filter_freq = data_sorting.loc[:date_list.extend(filtered_index)]\n",
    "data_filter_freq = data_sorting.loc[:,filtered_index]\n",
    "# 수익률과 날짜를 맞춰주기 위해서 하루를 미뤄준다.\n",
    "\n",
    "#day를 더해줬던 이유가 무엇일까?\n",
    "data_filter_freq.index = data_sorting['date'].apply(lambda x:datetime.datetime(int(x.split('.')[0]),int(x.split('.')[1]),int(x.split('.')[2]))+relativedelta(days=1))\n",
    "data_filter_freq = data_filter_freq.loc[:datetime.datetime(2018,11,30)]"
   ]
  },
  {
   "cell_type": "code",
   "execution_count": 10,
   "metadata": {},
   "outputs": [],
   "source": [
    "# for columns in data_filter_freq.columns:\n",
    "#     if columns.find('김가')>=0:\n",
    "#         print(columns)"
   ]
  },
  {
   "cell_type": "code",
   "execution_count": 11,
   "metadata": {},
   "outputs": [
    {
     "data": {
      "text/html": [
       "<div>\n",
       "<style scoped>\n",
       "    .dataframe tbody tr th:only-of-type {\n",
       "        vertical-align: middle;\n",
       "    }\n",
       "\n",
       "    .dataframe tbody tr th {\n",
       "        vertical-align: top;\n",
       "    }\n",
       "\n",
       "    .dataframe thead th {\n",
       "        text-align: right;\n",
       "    }\n",
       "</style>\n",
       "<table border=\"1\" class=\"dataframe\">\n",
       "  <thead>\n",
       "    <tr style=\"text-align: right;\">\n",
       "      <th></th>\n",
       "      <th>!!/sf</th>\n",
       "      <th>!/sf</th>\n",
       "      <th>........................./se</th>\n",
       "      <th>......................../se</th>\n",
       "      <th>......................./se</th>\n",
       "      <th>....................../se</th>\n",
       "      <th>...................../se</th>\n",
       "      <th>..................../se</th>\n",
       "      <th>.................../se</th>\n",
       "      <th>................../se</th>\n",
       "      <th>...</th>\n",
       "      <th>홀딩/nng</th>\n",
       "      <th>홀딩스/nng</th>\n",
       "      <th>확보/nng</th>\n",
       "      <th>확인/nng</th>\n",
       "      <th>환율/nng</th>\n",
       "      <th>회사/nng</th>\n",
       "      <th>회장/nng</th>\n",
       "      <th>후/nng</th>\n",
       "      <th>휴맥/nng</th>\n",
       "      <th>힘/nng</th>\n",
       "    </tr>\n",
       "    <tr>\n",
       "      <th>date</th>\n",
       "      <th></th>\n",
       "      <th></th>\n",
       "      <th></th>\n",
       "      <th></th>\n",
       "      <th></th>\n",
       "      <th></th>\n",
       "      <th></th>\n",
       "      <th></th>\n",
       "      <th></th>\n",
       "      <th></th>\n",
       "      <th></th>\n",
       "      <th></th>\n",
       "      <th></th>\n",
       "      <th></th>\n",
       "      <th></th>\n",
       "      <th></th>\n",
       "      <th></th>\n",
       "      <th></th>\n",
       "      <th></th>\n",
       "      <th></th>\n",
       "      <th></th>\n",
       "    </tr>\n",
       "  </thead>\n",
       "  <tbody>\n",
       "    <tr>\n",
       "      <th>2018-11-25</th>\n",
       "      <td>0</td>\n",
       "      <td>0</td>\n",
       "      <td>0</td>\n",
       "      <td>0</td>\n",
       "      <td>0</td>\n",
       "      <td>0</td>\n",
       "      <td>0</td>\n",
       "      <td>0</td>\n",
       "      <td>0</td>\n",
       "      <td>0</td>\n",
       "      <td>...</td>\n",
       "      <td>0</td>\n",
       "      <td>0</td>\n",
       "      <td>0</td>\n",
       "      <td>0</td>\n",
       "      <td>0</td>\n",
       "      <td>0</td>\n",
       "      <td>0</td>\n",
       "      <td>0</td>\n",
       "      <td>0</td>\n",
       "      <td>0</td>\n",
       "    </tr>\n",
       "    <tr>\n",
       "      <th>2018-11-27</th>\n",
       "      <td>0</td>\n",
       "      <td>0</td>\n",
       "      <td>0</td>\n",
       "      <td>0</td>\n",
       "      <td>0</td>\n",
       "      <td>0</td>\n",
       "      <td>0</td>\n",
       "      <td>0</td>\n",
       "      <td>0</td>\n",
       "      <td>0</td>\n",
       "      <td>...</td>\n",
       "      <td>0</td>\n",
       "      <td>0</td>\n",
       "      <td>0</td>\n",
       "      <td>0</td>\n",
       "      <td>0</td>\n",
       "      <td>1</td>\n",
       "      <td>0</td>\n",
       "      <td>0</td>\n",
       "      <td>0</td>\n",
       "      <td>0</td>\n",
       "    </tr>\n",
       "    <tr>\n",
       "      <th>2018-11-28</th>\n",
       "      <td>0</td>\n",
       "      <td>0</td>\n",
       "      <td>0</td>\n",
       "      <td>0</td>\n",
       "      <td>0</td>\n",
       "      <td>0</td>\n",
       "      <td>0</td>\n",
       "      <td>0</td>\n",
       "      <td>0</td>\n",
       "      <td>0</td>\n",
       "      <td>...</td>\n",
       "      <td>0</td>\n",
       "      <td>0</td>\n",
       "      <td>0</td>\n",
       "      <td>0</td>\n",
       "      <td>0</td>\n",
       "      <td>0</td>\n",
       "      <td>0</td>\n",
       "      <td>0</td>\n",
       "      <td>0</td>\n",
       "      <td>0</td>\n",
       "    </tr>\n",
       "    <tr>\n",
       "      <th>2018-11-29</th>\n",
       "      <td>0</td>\n",
       "      <td>0</td>\n",
       "      <td>0</td>\n",
       "      <td>0</td>\n",
       "      <td>0</td>\n",
       "      <td>0</td>\n",
       "      <td>0</td>\n",
       "      <td>0</td>\n",
       "      <td>0</td>\n",
       "      <td>0</td>\n",
       "      <td>...</td>\n",
       "      <td>0</td>\n",
       "      <td>0</td>\n",
       "      <td>0</td>\n",
       "      <td>0</td>\n",
       "      <td>0</td>\n",
       "      <td>0</td>\n",
       "      <td>0</td>\n",
       "      <td>0</td>\n",
       "      <td>0</td>\n",
       "      <td>0</td>\n",
       "    </tr>\n",
       "    <tr>\n",
       "      <th>2018-11-30</th>\n",
       "      <td>0</td>\n",
       "      <td>0</td>\n",
       "      <td>0</td>\n",
       "      <td>0</td>\n",
       "      <td>0</td>\n",
       "      <td>0</td>\n",
       "      <td>0</td>\n",
       "      <td>0</td>\n",
       "      <td>0</td>\n",
       "      <td>0</td>\n",
       "      <td>...</td>\n",
       "      <td>0</td>\n",
       "      <td>0</td>\n",
       "      <td>0</td>\n",
       "      <td>0</td>\n",
       "      <td>0</td>\n",
       "      <td>0</td>\n",
       "      <td>0</td>\n",
       "      <td>0</td>\n",
       "      <td>0</td>\n",
       "      <td>0</td>\n",
       "    </tr>\n",
       "  </tbody>\n",
       "</table>\n",
       "<p>5 rows × 501 columns</p>\n",
       "</div>"
      ],
      "text/plain": [
       "            !!/sf  !/sf  ........................./se  \\\n",
       "date                                                    \n",
       "2018-11-25      0     0                             0   \n",
       "2018-11-27      0     0                             0   \n",
       "2018-11-28      0     0                             0   \n",
       "2018-11-29      0     0                             0   \n",
       "2018-11-30      0     0                             0   \n",
       "\n",
       "            ......................../se  ......................./se  \\\n",
       "date                                                                  \n",
       "2018-11-25                            0                           0   \n",
       "2018-11-27                            0                           0   \n",
       "2018-11-28                            0                           0   \n",
       "2018-11-29                            0                           0   \n",
       "2018-11-30                            0                           0   \n",
       "\n",
       "            ....................../se  ...................../se  \\\n",
       "date                                                              \n",
       "2018-11-25                          0                         0   \n",
       "2018-11-27                          0                         0   \n",
       "2018-11-28                          0                         0   \n",
       "2018-11-29                          0                         0   \n",
       "2018-11-30                          0                         0   \n",
       "\n",
       "            ..................../se  .................../se  \\\n",
       "date                                                          \n",
       "2018-11-25                        0                       0   \n",
       "2018-11-27                        0                       0   \n",
       "2018-11-28                        0                       0   \n",
       "2018-11-29                        0                       0   \n",
       "2018-11-30                        0                       0   \n",
       "\n",
       "            ................../se  ...    홀딩/nng  홀딩스/nng  확보/nng  확인/nng  \\\n",
       "date                               ...                                      \n",
       "2018-11-25                      0  ...         0        0       0       0   \n",
       "2018-11-27                      0  ...         0        0       0       0   \n",
       "2018-11-28                      0  ...         0        0       0       0   \n",
       "2018-11-29                      0  ...         0        0       0       0   \n",
       "2018-11-30                      0  ...         0        0       0       0   \n",
       "\n",
       "            환율/nng  회사/nng  회장/nng  후/nng  휴맥/nng  힘/nng  \n",
       "date                                                      \n",
       "2018-11-25       0       0       0      0       0      0  \n",
       "2018-11-27       0       1       0      0       0      0  \n",
       "2018-11-28       0       0       0      0       0      0  \n",
       "2018-11-29       0       0       0      0       0      0  \n",
       "2018-11-30       0       0       0      0       0      0  \n",
       "\n",
       "[5 rows x 501 columns]"
      ]
     },
     "execution_count": 11,
     "metadata": {},
     "output_type": "execute_result"
    }
   ],
   "source": [
    "data_filter_freq.tail()"
   ]
  },
  {
   "cell_type": "code",
   "execution_count": 12,
   "metadata": {},
   "outputs": [],
   "source": [
    "data_filter_freq_ori = data_filter_freq"
   ]
  },
  {
   "cell_type": "code",
   "execution_count": 13,
   "metadata": {},
   "outputs": [],
   "source": [
    "#### 보류\n",
    "#날짜 짝짓기\n",
    "#첫행 처리는 어떻게 할것인가? 없으면 더해주지 않는다. 있으면 더한다. "
   ]
  },
  {
   "cell_type": "code",
   "execution_count": 14,
   "metadata": {},
   "outputs": [],
   "source": [
    "# 7월 30일 데이터는 없다.\n",
    "#data_filter_freq.loc[datetime.datetime(year=2017,month=7,day=30),:]"
   ]
  },
  {
   "cell_type": "code",
   "execution_count": 15,
   "metadata": {},
   "outputs": [],
   "source": [
    "### 수익률 데이터 처리\n",
    "earning_month_raw = pd.read_excel('./data/코웨이수익률.xlsx')\n",
    "earning_month_raw.index = earning_month_raw['date']\n",
    "del earning_month_raw['date']\n",
    "earning_data = earning_month_raw.loc[datetime.datetime(year=2017,month=6,day=8):datetime.datetime(year=2018,month=11,day=30),'return']\n",
    "# 해당 열 추출\n",
    "# symbol = earning_month_raw.loc[:,'A'+stock_code]\n",
    "# return_data =symbol\n",
    "# earning_data = return_data[datetime.datetime(year=2017,month=6,day=8):datetime.datetime(year=2018,month=11,day=30)]\n",
    "#earning_data = earning_month_raw[datetime.datetime(year=2017,month=6,day=8):datetime.datetime(year=2018,month=11,day=30)]"
   ]
  },
  {
   "cell_type": "code",
   "execution_count": 16,
   "metadata": {},
   "outputs": [],
   "source": [
    "### 수익률 데이터 처리\n",
    "# stock_code = '015760'\n",
    "# earning_month_raw = pd.read_excel('./data/현대차,한전_수익률.xlsx')\n",
    "# # 해당 열 추출\n",
    "# symbol = earning_month_raw.loc[:,'A'+stock_code]\n",
    "# return_data =symbol\n",
    "\n",
    "# earning_data = return_data[datetime.datetime(year=2017,month=6,day=8):datetime.datetime(year=2018,month=11,day=30)]\n"
   ]
  },
  {
   "cell_type": "code",
   "execution_count": 17,
   "metadata": {},
   "outputs": [],
   "source": [
    "# ### 수익률 데이터 처리\n",
    "# earning_month_raw = pd.read_excel('./data/일일수익률.xlsx')\n",
    "\n",
    "# symbol = earning_month_raw.loc['Symbol Name':,:]\n",
    "# symbol.columns = earning_month_raw.loc['Symbol']\n",
    "\n",
    "# # 해당 열 추출\n",
    "# return_data = symbol['A'+stock_code]\n",
    "\n",
    "\n",
    "# earning_data = return_data[datetime.datetime(year=2017,month=6,day=8):datetime.datetime(year=2018,month=11,day=30)]\n"
   ]
  },
  {
   "cell_type": "code",
   "execution_count": 18,
   "metadata": {},
   "outputs": [
    {
     "data": {
      "text/plain": [
       "date\n",
       "2017-06-08    1\n",
       "2017-06-09    1\n",
       "2017-06-12    1\n",
       "2017-06-13    0\n",
       "2017-06-14    0\n",
       "Name: return, dtype: int64"
      ]
     },
     "execution_count": 18,
     "metadata": {},
     "output_type": "execute_result"
    }
   ],
   "source": [
    "earning_data.head()"
   ]
  },
  {
   "cell_type": "code",
   "execution_count": 19,
   "metadata": {},
   "outputs": [
    {
     "data": {
      "text/plain": [
       "358"
      ]
     },
     "execution_count": 19,
     "metadata": {},
     "output_type": "execute_result"
    }
   ],
   "source": [
    "len(earning_data)"
   ]
  },
  {
   "cell_type": "code",
   "execution_count": 20,
   "metadata": {},
   "outputs": [],
   "source": [
    "import matplotlib.pyplot as plt\n",
    "import seaborn as sns\n"
   ]
  },
  {
   "cell_type": "code",
   "execution_count": 21,
   "metadata": {},
   "outputs": [],
   "source": [
    "earning_data_ori = earning_data"
   ]
  },
  {
   "cell_type": "code",
   "execution_count": 22,
   "metadata": {},
   "outputs": [
    {
     "data": {
      "text/plain": [
       "358"
      ]
     },
     "execution_count": 22,
     "metadata": {},
     "output_type": "execute_result"
    }
   ],
   "source": [
    "len(earning_data_ori)"
   ]
  },
  {
   "cell_type": "code",
   "execution_count": 23,
   "metadata": {},
   "outputs": [],
   "source": [
    "figure_data=pd.read_excel('./data/코웨이수익률(숫자).xlsx')"
   ]
  },
  {
   "cell_type": "code",
   "execution_count": 24,
   "metadata": {},
   "outputs": [
    {
     "data": {
      "text/plain": [
       "Index(['수익률(%)'], dtype='object')"
      ]
     },
     "execution_count": 24,
     "metadata": {},
     "output_type": "execute_result"
    }
   ],
   "source": [
    "figure_data.columns"
   ]
  },
  {
   "cell_type": "code",
   "execution_count": 25,
   "metadata": {},
   "outputs": [],
   "source": [
    "fig_data = figure_data.loc['2017-06-08':'2018-11-30','수익률(%)']"
   ]
  },
  {
   "cell_type": "code",
   "execution_count": null,
   "metadata": {},
   "outputs": [],
   "source": []
  },
  {
   "cell_type": "code",
   "execution_count": 26,
   "metadata": {},
   "outputs": [
    {
     "name": "stderr",
     "output_type": "stream",
     "text": [
      "C:\\ProgramData\\Anaconda3\\lib\\site-packages\\scipy\\stats\\stats.py:1713: FutureWarning: Using a non-tuple sequence for multidimensional indexing is deprecated; use `arr[tuple(seq)]` instead of `arr[seq]`. In the future this will be interpreted as an array index, `arr[np.array(seq)]`, which will result either in an error or a different result.\n",
      "  return np.add.reduce(sorted[indexer] * weights, axis=axis) / sumval\n"
     ]
    },
    {
     "data": {
      "text/plain": [
       "<matplotlib.axes._subplots.AxesSubplot at 0x1d1585d3278>"
      ]
     },
     "execution_count": 26,
     "metadata": {},
     "output_type": "execute_result"
    },
    {
     "data": {
      "image/png": "[encoded data removed]",
      "text/plain": [
       "<Figure size 432x288 with 1 Axes>"
      ]
     },
     "metadata": {
      "needs_background": "light"
     },
     "output_type": "display_data"
    }
   ],
   "source": [
    "plt.title('일일수익률(%)',fontsize=15)\n",
    "sns.distplot(list(fig_data[fig_data>-20]))"
   ]
  },
  {
   "cell_type": "code",
   "execution_count": 27,
   "metadata": {},
   "outputs": [
    {
     "data": {
      "text/plain": [
       "<matplotlib.axes._subplots.AxesSubplot at 0x1d158497eb8>"
      ]
     },
     "execution_count": 27,
     "metadata": {},
     "output_type": "execute_result"
    },
    {
     "data": {
      "image/png": "[encoded data removed]",
      "text/plain": [
       "<Figure size 432x288 with 1 Axes>"
      ]
     },
     "metadata": {
      "needs_background": "light"
     },
     "output_type": "display_data"
    }
   ],
   "source": [
    "sns.distplot(list(fig_data))"
   ]
  },
  {
   "cell_type": "code",
   "execution_count": 28,
   "metadata": {},
   "outputs": [
    {
     "data": {
      "text/plain": [
       "<matplotlib.collections.PathCollection at 0x1d1551009b0>"
      ]
     },
     "execution_count": 28,
     "metadata": {},
     "output_type": "execute_result"
    },
    {
     "data": {
      "image/png": "[encoded data removed]",
      "text/plain": [
       "<Figure size 432x288 with 1 Axes>"
      ]
     },
     "metadata": {
      "needs_background": "light"
     },
     "output_type": "display_data"
    }
   ],
   "source": [
    "plt.scatter(earning_data.index,earning_data) #일일 변화율은 안정적인 편이다."
   ]
  },
  {
   "cell_type": "code",
   "execution_count": 29,
   "metadata": {},
   "outputs": [
    {
     "data": {
      "text/plain": [
       "[<matplotlib.lines.Line2D at 0x1d158a05518>]"
      ]
     },
     "execution_count": 29,
     "metadata": {},
     "output_type": "execute_result"
    },
    {
     "data": {
      "image/png": "[encoded data removed]",
      "text/plain": [
       "<Figure size 432x288 with 1 Axes>"
      ]
     },
     "metadata": {
      "needs_background": "light"
     },
     "output_type": "display_data"
    }
   ],
   "source": [
    "plt.plot(earning_data)"
   ]
  },
  {
   "cell_type": "code",
   "execution_count": 30,
   "metadata": {},
   "outputs": [],
   "source": [
    "# earning_data의 전날 텍스트 빈도와 earning_data의 수익률의 짝을 맞춰야한다. \n",
    "# 주말과 휴일을 고려해야한다.\n",
    "# 합치기 위해서는 earning_data의 index 정보가 필요하다.\n",
    "\n",
    "#earning_data.index =  [date- relativedelta(days=1) for date in earning_data.index]"
   ]
  },
  {
   "cell_type": "code",
   "execution_count": 31,
   "metadata": {},
   "outputs": [
    {
     "data": {
      "text/plain": [
       "date\n",
       "2018-11-26    0\n",
       "2018-11-27    1\n",
       "2018-11-28    0\n",
       "2018-11-29    1\n",
       "2018-11-30    0\n",
       "Name: return, dtype: int64"
      ]
     },
     "execution_count": 31,
     "metadata": {},
     "output_type": "execute_result"
    }
   ],
   "source": [
    "earning_data.tail()"
   ]
  },
  {
   "cell_type": "code",
   "execution_count": 32,
   "metadata": {},
   "outputs": [
    {
     "data": {
      "text/plain": [
       "DatetimeIndex(['2017-06-08', '2017-06-09', '2017-06-11', '2017-06-13',\n",
       "               '2017-06-16', '2017-06-18', '2017-06-23', '2017-06-29',\n",
       "               '2017-06-30', '2017-07-04',\n",
       "               ...\n",
       "               '2018-11-17', '2018-11-20', '2018-11-22', '2018-11-23',\n",
       "               '2018-11-24', '2018-11-25', '2018-11-27', '2018-11-28',\n",
       "               '2018-11-29', '2018-11-30'],\n",
       "              dtype='datetime64[ns]', name='date', length=288, freq=None)"
      ]
     },
     "execution_count": 32,
     "metadata": {},
     "output_type": "execute_result"
    }
   ],
   "source": [
    "# 이 날짜에 있는 빈도를 수익률과 상관계수를 구할거임\n",
    "data_filter_freq.index "
   ]
  },
  {
   "cell_type": "code",
   "execution_count": 33,
   "metadata": {},
   "outputs": [],
   "source": [
    "# print(differ_date[:10])"
   ]
  },
  {
   "cell_type": "code",
   "execution_count": 34,
   "metadata": {},
   "outputs": [],
   "source": [
    "# a = differ_date[0:2]\n",
    "# a.append('babo')"
   ]
  },
  {
   "cell_type": "code",
   "execution_count": 35,
   "metadata": {},
   "outputs": [],
   "source": [
    "# differ_date"
   ]
  },
  {
   "cell_type": "code",
   "execution_count": 36,
   "metadata": {},
   "outputs": [
    {
     "data": {
      "text/plain": [
       "(288, 501)"
      ]
     },
     "execution_count": 36,
     "metadata": {},
     "output_type": "execute_result"
    }
   ],
   "source": [
    "data_filter_freq.shape"
   ]
  },
  {
   "cell_type": "code",
   "execution_count": null,
   "metadata": {},
   "outputs": [],
   "source": []
  },
  {
   "cell_type": "code",
   "execution_count": 37,
   "metadata": {},
   "outputs": [],
   "source": [
    "########### 안되는 이유: 컬럼 갯수가 계속해서 줄어 들기 때문에 idx가 줄어든 갯수를 넘어가면 out of index bound 에러가 난다.\n",
    "# for idx in range(data_filter_freq.shape[1]):\n",
    "#     print(idx)\n",
    "#     tag = data_filter_freq.iloc[:,idx]    \n",
    "#     tag_name = tag.name\n",
    "#     print(tag_name)\n",
    "#     #print(data_filter_freq.columns)\n",
    "#     if tag_name == './sf'or tag_name.find('/sw')>=0 or tag_name.find('/sn')>=0:\n",
    "#         #del data_filter_freq.iloc[:,idx]\n",
    "#         data_filter_freq.drop(columns=tag_name,inplace=True,axis=1)"
   ]
  },
  {
   "cell_type": "code",
   "execution_count": 38,
   "metadata": {
    "scrolled": true
   },
   "outputs": [],
   "source": [
    "#필요 없다고 생각되는 태그 제거\n",
    "\n",
    "delete_column_list = []\n",
    "for idx in range(data_filter_freq.shape[1]):\n",
    "    \n",
    "    tag = data_filter_freq.iloc[:,idx]    \n",
    "    tag_name = tag.name    \n",
    "    \n",
    "    if tag_name == './sf'or tag_name.find('/sw')>=0 or tag_name.find('/sn')>=0:\n",
    "        delete_column_list.append(tag_name)\n",
    "        \n",
    "data_filter_freq.drop(columns=delete_column_list,inplace=True,axis=1)\n",
    "    \n",
    "    \n",
    "    \n",
    "    \n",
    "    \n",
    "    \n",
    "\n"
   ]
  },
  {
   "cell_type": "code",
   "execution_count": 39,
   "metadata": {},
   "outputs": [
    {
     "name": "stderr",
     "output_type": "stream",
     "text": [
      "C:\\ProgramData\\Anaconda3\\lib\\site-packages\\pandas\\core\\indexing.py:1472: FutureWarning: \n",
      "Passing list-likes to .loc or [] with any missing label will raise\n",
      "KeyError in the future, you can use .reindex() as an alternative.\n",
      "\n",
      "See the documentation here:\n",
      "https://pandas.pydata.org/pandas-docs/stable/indexing.html#deprecate-loc-reindex-listlike\n",
      "  return self._getitem_tuple(key)\n"
     ]
    }
   ],
   "source": [
    "differ_date = sorted(list(set(data_filter_freq.index).difference(set(earning_data.index))))\n",
    "#print(differ_date)\n",
    "i = 0\n",
    "for idx in range(len(differ_date)-1):\n",
    "    #print(element)\n",
    "    # 10 11 17 idx = 1\n",
    "    if (differ_date[idx+1]-differ_date[idx]).days > 1:      \n",
    "        #print(differ_date[i],differ_date[idx+1],data_filter_freq.loc[differ_date[i:idx+1],:].sum())\n",
    "        # 휴일 or 주말이 끼면 그 날을 포함해서 다음 날에 반영한다.\n",
    "        # 휴일 다음날 \n",
    "        append_idx = differ_date[idx]+relativedelta(days=1)\n",
    "        sum_list = differ_date[i:idx+1]\n",
    "        sum_list.append(append_idx)\n",
    "        data_filter_freq.loc[append_idx,:] = data_filter_freq.loc[sum_list,:].sum()//len(sum_list)\n",
    "        data_filter_freq.drop(index = differ_date[i:idx+1],inplace=True)\n",
    "        #del data_filter_freq.loc[differ_date[i:idx+1],:]\n",
    "        #print(sum_list,'append_idx:',append_idx)\n",
    "        i = idx+1"
   ]
  },
  {
   "cell_type": "code",
   "execution_count": 40,
   "metadata": {},
   "outputs": [
    {
     "name": "stdout",
     "output_type": "stream",
     "text": [
      "247 358\n"
     ]
    }
   ],
   "source": [
    "print(len(data_filter_freq),len(earning_data))"
   ]
  },
  {
   "cell_type": "code",
   "execution_count": 41,
   "metadata": {},
   "outputs": [],
   "source": [
    "differ_date1 = sorted(list(set(data_filter_freq.index).difference(set(earning_data.index))))"
   ]
  },
  {
   "cell_type": "code",
   "execution_count": 42,
   "metadata": {},
   "outputs": [
    {
     "data": {
      "text/plain": [
       "[Timestamp('2017-07-23 00:00:00'),\n",
       " Timestamp('2017-08-06 00:00:00'),\n",
       " Timestamp('2017-08-13 00:00:00'),\n",
       " Timestamp('2017-08-20 00:00:00'),\n",
       " Timestamp('2017-08-27 00:00:00'),\n",
       " Timestamp('2017-09-10 00:00:00'),\n",
       " Timestamp('2017-09-17 00:00:00'),\n",
       " Timestamp('2017-09-24 00:00:00'),\n",
       " Timestamp('2017-10-03 00:00:00'),\n",
       " Timestamp('2017-10-15 00:00:00'),\n",
       " Timestamp('2017-10-29 00:00:00'),\n",
       " Timestamp('2017-11-05 00:00:00'),\n",
       " Timestamp('2017-11-19 00:00:00'),\n",
       " Timestamp('2017-12-24 00:00:00'),\n",
       " Timestamp('2017-12-30 00:00:00'),\n",
       " Timestamp('2018-01-14 00:00:00'),\n",
       " Timestamp('2018-01-21 00:00:00'),\n",
       " Timestamp('2018-02-18 00:00:00'),\n",
       " Timestamp('2018-03-04 00:00:00'),\n",
       " Timestamp('2018-03-25 00:00:00'),\n",
       " Timestamp('2018-04-01 00:00:00'),\n",
       " Timestamp('2018-04-22 00:00:00'),\n",
       " Timestamp('2018-05-07 00:00:00'),\n",
       " Timestamp('2018-06-24 00:00:00'),\n",
       " Timestamp('2018-07-08 00:00:00'),\n",
       " Timestamp('2018-08-19 00:00:00'),\n",
       " Timestamp('2018-08-26 00:00:00'),\n",
       " Timestamp('2018-09-25 00:00:00'),\n",
       " Timestamp('2018-10-14 00:00:00'),\n",
       " Timestamp('2018-10-28 00:00:00'),\n",
       " Timestamp('2018-11-18 00:00:00'),\n",
       " Timestamp('2018-11-24 00:00:00'),\n",
       " Timestamp('2018-11-25 00:00:00')]"
      ]
     },
     "execution_count": 42,
     "metadata": {},
     "output_type": "execute_result"
    }
   ],
   "source": [
    "differ_date1"
   ]
  },
  {
   "cell_type": "code",
   "execution_count": 43,
   "metadata": {},
   "outputs": [],
   "source": [
    "data_filter_freq.drop(differ_date1,inplace=True,axis=0)"
   ]
  },
  {
   "cell_type": "code",
   "execution_count": 44,
   "metadata": {},
   "outputs": [],
   "source": [
    "differ_date2 = sorted(list(set(earning_data.index).difference(set(data_filter_freq.index))))"
   ]
  },
  {
   "cell_type": "code",
   "execution_count": 45,
   "metadata": {},
   "outputs": [
    {
     "data": {
      "text/plain": [
       "[Timestamp('2017-06-14 00:00:00'),\n",
       " Timestamp('2017-06-15 00:00:00'),\n",
       " Timestamp('2017-06-20 00:00:00'),\n",
       " Timestamp('2017-06-21 00:00:00'),\n",
       " Timestamp('2017-06-22 00:00:00'),\n",
       " Timestamp('2017-06-26 00:00:00'),\n",
       " Timestamp('2017-06-27 00:00:00'),\n",
       " Timestamp('2017-07-05 00:00:00'),\n",
       " Timestamp('2017-07-06 00:00:00'),\n",
       " Timestamp('2017-07-07 00:00:00'),\n",
       " Timestamp('2017-07-10 00:00:00'),\n",
       " Timestamp('2017-07-11 00:00:00'),\n",
       " Timestamp('2017-07-14 00:00:00'),\n",
       " Timestamp('2017-07-25 00:00:00'),\n",
       " Timestamp('2017-07-26 00:00:00'),\n",
       " Timestamp('2017-07-28 00:00:00'),\n",
       " Timestamp('2017-07-31 00:00:00'),\n",
       " Timestamp('2017-08-01 00:00:00'),\n",
       " Timestamp('2017-08-07 00:00:00'),\n",
       " Timestamp('2017-08-10 00:00:00'),\n",
       " Timestamp('2017-08-14 00:00:00'),\n",
       " Timestamp('2017-08-16 00:00:00'),\n",
       " Timestamp('2017-08-17 00:00:00'),\n",
       " Timestamp('2017-08-18 00:00:00'),\n",
       " Timestamp('2017-08-21 00:00:00'),\n",
       " Timestamp('2017-08-23 00:00:00'),\n",
       " Timestamp('2017-08-24 00:00:00'),\n",
       " Timestamp('2017-08-25 00:00:00'),\n",
       " Timestamp('2017-08-28 00:00:00'),\n",
       " Timestamp('2017-08-29 00:00:00'),\n",
       " Timestamp('2017-08-31 00:00:00'),\n",
       " Timestamp('2017-09-05 00:00:00'),\n",
       " Timestamp('2017-09-08 00:00:00'),\n",
       " Timestamp('2017-09-11 00:00:00'),\n",
       " Timestamp('2017-09-12 00:00:00'),\n",
       " Timestamp('2017-09-13 00:00:00'),\n",
       " Timestamp('2017-09-14 00:00:00'),\n",
       " Timestamp('2017-09-18 00:00:00'),\n",
       " Timestamp('2017-09-20 00:00:00'),\n",
       " Timestamp('2017-09-21 00:00:00'),\n",
       " Timestamp('2017-09-22 00:00:00'),\n",
       " Timestamp('2017-09-25 00:00:00'),\n",
       " Timestamp('2017-09-26 00:00:00'),\n",
       " Timestamp('2017-09-29 00:00:00'),\n",
       " Timestamp('2017-10-10 00:00:00'),\n",
       " Timestamp('2017-10-11 00:00:00'),\n",
       " Timestamp('2017-10-12 00:00:00'),\n",
       " Timestamp('2017-10-16 00:00:00'),\n",
       " Timestamp('2017-10-19 00:00:00'),\n",
       " Timestamp('2017-10-20 00:00:00'),\n",
       " Timestamp('2017-10-23 00:00:00'),\n",
       " Timestamp('2017-10-24 00:00:00'),\n",
       " Timestamp('2017-10-25 00:00:00'),\n",
       " Timestamp('2017-10-26 00:00:00'),\n",
       " Timestamp('2017-10-30 00:00:00'),\n",
       " Timestamp('2017-10-31 00:00:00'),\n",
       " Timestamp('2017-11-01 00:00:00'),\n",
       " Timestamp('2017-11-06 00:00:00'),\n",
       " Timestamp('2017-11-07 00:00:00'),\n",
       " Timestamp('2017-11-09 00:00:00'),\n",
       " Timestamp('2017-11-13 00:00:00'),\n",
       " Timestamp('2017-11-14 00:00:00'),\n",
       " Timestamp('2017-11-15 00:00:00'),\n",
       " Timestamp('2017-11-16 00:00:00'),\n",
       " Timestamp('2017-11-17 00:00:00'),\n",
       " Timestamp('2017-11-20 00:00:00'),\n",
       " Timestamp('2017-11-21 00:00:00'),\n",
       " Timestamp('2017-11-23 00:00:00'),\n",
       " Timestamp('2017-11-24 00:00:00'),\n",
       " Timestamp('2017-11-28 00:00:00'),\n",
       " Timestamp('2017-11-29 00:00:00'),\n",
       " Timestamp('2017-11-30 00:00:00'),\n",
       " Timestamp('2017-12-06 00:00:00'),\n",
       " Timestamp('2017-12-07 00:00:00'),\n",
       " Timestamp('2017-12-11 00:00:00'),\n",
       " Timestamp('2017-12-13 00:00:00'),\n",
       " Timestamp('2017-12-14 00:00:00'),\n",
       " Timestamp('2017-12-15 00:00:00'),\n",
       " Timestamp('2017-12-19 00:00:00'),\n",
       " Timestamp('2018-01-02 00:00:00'),\n",
       " Timestamp('2018-01-03 00:00:00'),\n",
       " Timestamp('2018-01-10 00:00:00'),\n",
       " Timestamp('2018-01-11 00:00:00'),\n",
       " Timestamp('2018-01-12 00:00:00'),\n",
       " Timestamp('2018-01-22 00:00:00'),\n",
       " Timestamp('2018-01-24 00:00:00'),\n",
       " Timestamp('2018-01-25 00:00:00'),\n",
       " Timestamp('2018-01-26 00:00:00'),\n",
       " Timestamp('2018-02-05 00:00:00'),\n",
       " Timestamp('2018-02-20 00:00:00'),\n",
       " Timestamp('2018-02-21 00:00:00'),\n",
       " Timestamp('2018-02-27 00:00:00'),\n",
       " Timestamp('2018-03-06 00:00:00'),\n",
       " Timestamp('2018-03-08 00:00:00'),\n",
       " Timestamp('2018-03-09 00:00:00'),\n",
       " Timestamp('2018-03-26 00:00:00'),\n",
       " Timestamp('2018-03-28 00:00:00'),\n",
       " Timestamp('2018-03-29 00:00:00'),\n",
       " Timestamp('2018-04-02 00:00:00'),\n",
       " Timestamp('2018-04-03 00:00:00'),\n",
       " Timestamp('2018-04-23 00:00:00'),\n",
       " Timestamp('2018-05-02 00:00:00'),\n",
       " Timestamp('2018-06-01 00:00:00'),\n",
       " Timestamp('2018-06-14 00:00:00'),\n",
       " Timestamp('2018-06-18 00:00:00'),\n",
       " Timestamp('2018-06-19 00:00:00'),\n",
       " Timestamp('2018-06-20 00:00:00'),\n",
       " Timestamp('2018-06-21 00:00:00'),\n",
       " Timestamp('2018-06-25 00:00:00'),\n",
       " Timestamp('2018-06-27 00:00:00'),\n",
       " Timestamp('2018-07-09 00:00:00'),\n",
       " Timestamp('2018-07-12 00:00:00'),\n",
       " Timestamp('2018-07-16 00:00:00'),\n",
       " Timestamp('2018-07-17 00:00:00'),\n",
       " Timestamp('2018-07-18 00:00:00'),\n",
       " Timestamp('2018-07-20 00:00:00'),\n",
       " Timestamp('2018-07-24 00:00:00'),\n",
       " Timestamp('2018-07-31 00:00:00'),\n",
       " Timestamp('2018-08-01 00:00:00'),\n",
       " Timestamp('2018-08-02 00:00:00'),\n",
       " Timestamp('2018-08-06 00:00:00'),\n",
       " Timestamp('2018-08-08 00:00:00'),\n",
       " Timestamp('2018-08-09 00:00:00'),\n",
       " Timestamp('2018-08-10 00:00:00'),\n",
       " Timestamp('2018-08-14 00:00:00'),\n",
       " Timestamp('2018-08-16 00:00:00'),\n",
       " Timestamp('2018-08-17 00:00:00'),\n",
       " Timestamp('2018-08-20 00:00:00'),\n",
       " Timestamp('2018-08-21 00:00:00'),\n",
       " Timestamp('2018-08-22 00:00:00'),\n",
       " Timestamp('2018-08-23 00:00:00'),\n",
       " Timestamp('2018-08-28 00:00:00'),\n",
       " Timestamp('2018-08-31 00:00:00'),\n",
       " Timestamp('2018-09-11 00:00:00'),\n",
       " Timestamp('2018-09-17 00:00:00'),\n",
       " Timestamp('2018-09-18 00:00:00'),\n",
       " Timestamp('2018-09-27 00:00:00'),\n",
       " Timestamp('2018-10-02 00:00:00'),\n",
       " Timestamp('2018-10-17 00:00:00'),\n",
       " Timestamp('2018-10-18 00:00:00'),\n",
       " Timestamp('2018-11-09 00:00:00'),\n",
       " Timestamp('2018-11-19 00:00:00'),\n",
       " Timestamp('2018-11-21 00:00:00'),\n",
       " Timestamp('2018-11-26 00:00:00')]"
      ]
     },
     "execution_count": 45,
     "metadata": {},
     "output_type": "execute_result"
    }
   ],
   "source": [
    "differ_date2"
   ]
  },
  {
   "cell_type": "code",
   "execution_count": 46,
   "metadata": {},
   "outputs": [],
   "source": [
    "earning_data.drop(differ_date2, inplace=True, axis=0)"
   ]
  },
  {
   "cell_type": "code",
   "execution_count": 47,
   "metadata": {},
   "outputs": [
    {
     "name": "stdout",
     "output_type": "stream",
     "text": [
      "214 214\n"
     ]
    }
   ],
   "source": [
    "print(len(data_filter_freq),len(earning_data))"
   ]
  },
  {
   "cell_type": "code",
   "execution_count": 48,
   "metadata": {},
   "outputs": [
    {
     "data": {
      "text/plain": [
       "214"
      ]
     },
     "execution_count": 48,
     "metadata": {},
     "output_type": "execute_result"
    }
   ],
   "source": [
    "data_filter_freq.shape[0]"
   ]
  },
  {
   "cell_type": "code",
   "execution_count": 49,
   "metadata": {},
   "outputs": [
    {
     "data": {
      "text/html": [
       "<div>\n",
       "<style scoped>\n",
       "    .dataframe tbody tr th:only-of-type {\n",
       "        vertical-align: middle;\n",
       "    }\n",
       "\n",
       "    .dataframe tbody tr th {\n",
       "        vertical-align: top;\n",
       "    }\n",
       "\n",
       "    .dataframe thead th {\n",
       "        text-align: right;\n",
       "    }\n",
       "</style>\n",
       "<table border=\"1\" class=\"dataframe\">\n",
       "  <thead>\n",
       "    <tr style=\"text-align: right;\">\n",
       "      <th></th>\n",
       "      <th>!!/sf</th>\n",
       "      <th>!/sf</th>\n",
       "      <th>........................./se</th>\n",
       "      <th>......................../se</th>\n",
       "      <th>......................./se</th>\n",
       "      <th>....................../se</th>\n",
       "      <th>...................../se</th>\n",
       "      <th>..................../se</th>\n",
       "      <th>.................../se</th>\n",
       "      <th>................../se</th>\n",
       "      <th>...</th>\n",
       "      <th>홀딩/nng</th>\n",
       "      <th>홀딩스/nng</th>\n",
       "      <th>확보/nng</th>\n",
       "      <th>확인/nng</th>\n",
       "      <th>환율/nng</th>\n",
       "      <th>회사/nng</th>\n",
       "      <th>회장/nng</th>\n",
       "      <th>후/nng</th>\n",
       "      <th>휴맥/nng</th>\n",
       "      <th>힘/nng</th>\n",
       "    </tr>\n",
       "    <tr>\n",
       "      <th>date</th>\n",
       "      <th></th>\n",
       "      <th></th>\n",
       "      <th></th>\n",
       "      <th></th>\n",
       "      <th></th>\n",
       "      <th></th>\n",
       "      <th></th>\n",
       "      <th></th>\n",
       "      <th></th>\n",
       "      <th></th>\n",
       "      <th></th>\n",
       "      <th></th>\n",
       "      <th></th>\n",
       "      <th></th>\n",
       "      <th></th>\n",
       "      <th></th>\n",
       "      <th></th>\n",
       "      <th></th>\n",
       "      <th></th>\n",
       "      <th></th>\n",
       "      <th></th>\n",
       "    </tr>\n",
       "  </thead>\n",
       "  <tbody>\n",
       "    <tr>\n",
       "      <th>2017-06-08</th>\n",
       "      <td>0.0</td>\n",
       "      <td>0.0</td>\n",
       "      <td>0.0</td>\n",
       "      <td>0.0</td>\n",
       "      <td>0.0</td>\n",
       "      <td>0.0</td>\n",
       "      <td>0.0</td>\n",
       "      <td>0.0</td>\n",
       "      <td>0.0</td>\n",
       "      <td>0.0</td>\n",
       "      <td>...</td>\n",
       "      <td>0.0</td>\n",
       "      <td>0.0</td>\n",
       "      <td>0.0</td>\n",
       "      <td>0.0</td>\n",
       "      <td>0.0</td>\n",
       "      <td>0.0</td>\n",
       "      <td>0.0</td>\n",
       "      <td>0.0</td>\n",
       "      <td>0.0</td>\n",
       "      <td>0.0</td>\n",
       "    </tr>\n",
       "    <tr>\n",
       "      <th>2017-06-09</th>\n",
       "      <td>0.0</td>\n",
       "      <td>0.0</td>\n",
       "      <td>0.0</td>\n",
       "      <td>0.0</td>\n",
       "      <td>0.0</td>\n",
       "      <td>0.0</td>\n",
       "      <td>0.0</td>\n",
       "      <td>0.0</td>\n",
       "      <td>0.0</td>\n",
       "      <td>0.0</td>\n",
       "      <td>...</td>\n",
       "      <td>0.0</td>\n",
       "      <td>0.0</td>\n",
       "      <td>0.0</td>\n",
       "      <td>0.0</td>\n",
       "      <td>0.0</td>\n",
       "      <td>0.0</td>\n",
       "      <td>0.0</td>\n",
       "      <td>0.0</td>\n",
       "      <td>0.0</td>\n",
       "      <td>0.0</td>\n",
       "    </tr>\n",
       "    <tr>\n",
       "      <th>2017-06-13</th>\n",
       "      <td>0.0</td>\n",
       "      <td>0.0</td>\n",
       "      <td>0.0</td>\n",
       "      <td>0.0</td>\n",
       "      <td>0.0</td>\n",
       "      <td>0.0</td>\n",
       "      <td>0.0</td>\n",
       "      <td>0.0</td>\n",
       "      <td>0.0</td>\n",
       "      <td>0.0</td>\n",
       "      <td>...</td>\n",
       "      <td>0.0</td>\n",
       "      <td>0.0</td>\n",
       "      <td>0.0</td>\n",
       "      <td>0.0</td>\n",
       "      <td>0.0</td>\n",
       "      <td>0.0</td>\n",
       "      <td>0.0</td>\n",
       "      <td>0.0</td>\n",
       "      <td>0.0</td>\n",
       "      <td>0.0</td>\n",
       "    </tr>\n",
       "    <tr>\n",
       "      <th>2017-06-16</th>\n",
       "      <td>0.0</td>\n",
       "      <td>0.0</td>\n",
       "      <td>0.0</td>\n",
       "      <td>0.0</td>\n",
       "      <td>0.0</td>\n",
       "      <td>0.0</td>\n",
       "      <td>0.0</td>\n",
       "      <td>0.0</td>\n",
       "      <td>0.0</td>\n",
       "      <td>0.0</td>\n",
       "      <td>...</td>\n",
       "      <td>0.0</td>\n",
       "      <td>0.0</td>\n",
       "      <td>0.0</td>\n",
       "      <td>0.0</td>\n",
       "      <td>0.0</td>\n",
       "      <td>0.0</td>\n",
       "      <td>0.0</td>\n",
       "      <td>1.0</td>\n",
       "      <td>0.0</td>\n",
       "      <td>0.0</td>\n",
       "    </tr>\n",
       "    <tr>\n",
       "      <th>2017-06-23</th>\n",
       "      <td>0.0</td>\n",
       "      <td>0.0</td>\n",
       "      <td>0.0</td>\n",
       "      <td>0.0</td>\n",
       "      <td>0.0</td>\n",
       "      <td>0.0</td>\n",
       "      <td>0.0</td>\n",
       "      <td>0.0</td>\n",
       "      <td>0.0</td>\n",
       "      <td>0.0</td>\n",
       "      <td>...</td>\n",
       "      <td>0.0</td>\n",
       "      <td>0.0</td>\n",
       "      <td>0.0</td>\n",
       "      <td>0.0</td>\n",
       "      <td>0.0</td>\n",
       "      <td>0.0</td>\n",
       "      <td>0.0</td>\n",
       "      <td>0.0</td>\n",
       "      <td>0.0</td>\n",
       "      <td>0.0</td>\n",
       "    </tr>\n",
       "    <tr>\n",
       "      <th>2017-06-30</th>\n",
       "      <td>-0.0</td>\n",
       "      <td>0.0</td>\n",
       "      <td>-0.0</td>\n",
       "      <td>-0.0</td>\n",
       "      <td>-0.0</td>\n",
       "      <td>-0.0</td>\n",
       "      <td>-0.0</td>\n",
       "      <td>-0.0</td>\n",
       "      <td>-0.0</td>\n",
       "      <td>-0.0</td>\n",
       "      <td>...</td>\n",
       "      <td>-0.0</td>\n",
       "      <td>-0.0</td>\n",
       "      <td>-0.0</td>\n",
       "      <td>-0.0</td>\n",
       "      <td>-0.0</td>\n",
       "      <td>-0.0</td>\n",
       "      <td>-0.0</td>\n",
       "      <td>-0.0</td>\n",
       "      <td>-0.0</td>\n",
       "      <td>-0.0</td>\n",
       "    </tr>\n",
       "    <tr>\n",
       "      <th>2017-07-04</th>\n",
       "      <td>0.0</td>\n",
       "      <td>0.0</td>\n",
       "      <td>0.0</td>\n",
       "      <td>0.0</td>\n",
       "      <td>0.0</td>\n",
       "      <td>0.0</td>\n",
       "      <td>0.0</td>\n",
       "      <td>0.0</td>\n",
       "      <td>0.0</td>\n",
       "      <td>0.0</td>\n",
       "      <td>...</td>\n",
       "      <td>0.0</td>\n",
       "      <td>0.0</td>\n",
       "      <td>0.0</td>\n",
       "      <td>0.0</td>\n",
       "      <td>0.0</td>\n",
       "      <td>0.0</td>\n",
       "      <td>0.0</td>\n",
       "      <td>0.0</td>\n",
       "      <td>0.0</td>\n",
       "      <td>0.0</td>\n",
       "    </tr>\n",
       "    <tr>\n",
       "      <th>2017-07-12</th>\n",
       "      <td>0.0</td>\n",
       "      <td>0.0</td>\n",
       "      <td>0.0</td>\n",
       "      <td>0.0</td>\n",
       "      <td>0.0</td>\n",
       "      <td>0.0</td>\n",
       "      <td>0.0</td>\n",
       "      <td>0.0</td>\n",
       "      <td>0.0</td>\n",
       "      <td>0.0</td>\n",
       "      <td>...</td>\n",
       "      <td>0.0</td>\n",
       "      <td>0.0</td>\n",
       "      <td>0.0</td>\n",
       "      <td>0.0</td>\n",
       "      <td>0.0</td>\n",
       "      <td>0.0</td>\n",
       "      <td>0.0</td>\n",
       "      <td>0.0</td>\n",
       "      <td>0.0</td>\n",
       "      <td>0.0</td>\n",
       "    </tr>\n",
       "    <tr>\n",
       "      <th>2017-07-13</th>\n",
       "      <td>0.0</td>\n",
       "      <td>1.0</td>\n",
       "      <td>0.0</td>\n",
       "      <td>0.0</td>\n",
       "      <td>0.0</td>\n",
       "      <td>0.0</td>\n",
       "      <td>0.0</td>\n",
       "      <td>0.0</td>\n",
       "      <td>0.0</td>\n",
       "      <td>0.0</td>\n",
       "      <td>...</td>\n",
       "      <td>0.0</td>\n",
       "      <td>0.0</td>\n",
       "      <td>0.0</td>\n",
       "      <td>0.0</td>\n",
       "      <td>0.0</td>\n",
       "      <td>0.0</td>\n",
       "      <td>0.0</td>\n",
       "      <td>0.0</td>\n",
       "      <td>0.0</td>\n",
       "      <td>0.0</td>\n",
       "    </tr>\n",
       "    <tr>\n",
       "      <th>2017-07-18</th>\n",
       "      <td>0.0</td>\n",
       "      <td>0.0</td>\n",
       "      <td>0.0</td>\n",
       "      <td>0.0</td>\n",
       "      <td>0.0</td>\n",
       "      <td>0.0</td>\n",
       "      <td>0.0</td>\n",
       "      <td>0.0</td>\n",
       "      <td>0.0</td>\n",
       "      <td>0.0</td>\n",
       "      <td>...</td>\n",
       "      <td>0.0</td>\n",
       "      <td>0.0</td>\n",
       "      <td>0.0</td>\n",
       "      <td>0.0</td>\n",
       "      <td>0.0</td>\n",
       "      <td>0.0</td>\n",
       "      <td>0.0</td>\n",
       "      <td>0.0</td>\n",
       "      <td>0.0</td>\n",
       "      <td>0.0</td>\n",
       "    </tr>\n",
       "    <tr>\n",
       "      <th>2017-07-19</th>\n",
       "      <td>0.0</td>\n",
       "      <td>3.0</td>\n",
       "      <td>0.0</td>\n",
       "      <td>0.0</td>\n",
       "      <td>0.0</td>\n",
       "      <td>0.0</td>\n",
       "      <td>0.0</td>\n",
       "      <td>0.0</td>\n",
       "      <td>0.0</td>\n",
       "      <td>0.0</td>\n",
       "      <td>...</td>\n",
       "      <td>0.0</td>\n",
       "      <td>0.0</td>\n",
       "      <td>0.0</td>\n",
       "      <td>0.0</td>\n",
       "      <td>0.0</td>\n",
       "      <td>0.0</td>\n",
       "      <td>0.0</td>\n",
       "      <td>0.0</td>\n",
       "      <td>0.0</td>\n",
       "      <td>0.0</td>\n",
       "    </tr>\n",
       "    <tr>\n",
       "      <th>2017-07-20</th>\n",
       "      <td>0.0</td>\n",
       "      <td>0.0</td>\n",
       "      <td>0.0</td>\n",
       "      <td>0.0</td>\n",
       "      <td>0.0</td>\n",
       "      <td>0.0</td>\n",
       "      <td>0.0</td>\n",
       "      <td>0.0</td>\n",
       "      <td>0.0</td>\n",
       "      <td>0.0</td>\n",
       "      <td>...</td>\n",
       "      <td>0.0</td>\n",
       "      <td>0.0</td>\n",
       "      <td>0.0</td>\n",
       "      <td>1.0</td>\n",
       "      <td>0.0</td>\n",
       "      <td>2.0</td>\n",
       "      <td>0.0</td>\n",
       "      <td>0.0</td>\n",
       "      <td>0.0</td>\n",
       "      <td>0.0</td>\n",
       "    </tr>\n",
       "    <tr>\n",
       "      <th>2017-07-21</th>\n",
       "      <td>0.0</td>\n",
       "      <td>0.0</td>\n",
       "      <td>0.0</td>\n",
       "      <td>0.0</td>\n",
       "      <td>0.0</td>\n",
       "      <td>0.0</td>\n",
       "      <td>0.0</td>\n",
       "      <td>0.0</td>\n",
       "      <td>0.0</td>\n",
       "      <td>0.0</td>\n",
       "      <td>...</td>\n",
       "      <td>0.0</td>\n",
       "      <td>0.0</td>\n",
       "      <td>0.0</td>\n",
       "      <td>0.0</td>\n",
       "      <td>0.0</td>\n",
       "      <td>1.0</td>\n",
       "      <td>0.0</td>\n",
       "      <td>0.0</td>\n",
       "      <td>0.0</td>\n",
       "      <td>0.0</td>\n",
       "    </tr>\n",
       "    <tr>\n",
       "      <th>2017-07-24</th>\n",
       "      <td>0.0</td>\n",
       "      <td>1.0</td>\n",
       "      <td>0.0</td>\n",
       "      <td>0.0</td>\n",
       "      <td>0.0</td>\n",
       "      <td>0.0</td>\n",
       "      <td>0.0</td>\n",
       "      <td>0.0</td>\n",
       "      <td>0.0</td>\n",
       "      <td>0.0</td>\n",
       "      <td>...</td>\n",
       "      <td>0.0</td>\n",
       "      <td>0.0</td>\n",
       "      <td>0.0</td>\n",
       "      <td>0.0</td>\n",
       "      <td>0.0</td>\n",
       "      <td>0.0</td>\n",
       "      <td>0.0</td>\n",
       "      <td>0.0</td>\n",
       "      <td>0.0</td>\n",
       "      <td>0.0</td>\n",
       "    </tr>\n",
       "    <tr>\n",
       "      <th>2017-07-27</th>\n",
       "      <td>0.0</td>\n",
       "      <td>0.0</td>\n",
       "      <td>0.0</td>\n",
       "      <td>0.0</td>\n",
       "      <td>0.0</td>\n",
       "      <td>0.0</td>\n",
       "      <td>0.0</td>\n",
       "      <td>0.0</td>\n",
       "      <td>0.0</td>\n",
       "      <td>0.0</td>\n",
       "      <td>...</td>\n",
       "      <td>0.0</td>\n",
       "      <td>0.0</td>\n",
       "      <td>0.0</td>\n",
       "      <td>0.0</td>\n",
       "      <td>0.0</td>\n",
       "      <td>0.0</td>\n",
       "      <td>0.0</td>\n",
       "      <td>0.0</td>\n",
       "      <td>0.0</td>\n",
       "      <td>0.0</td>\n",
       "    </tr>\n",
       "    <tr>\n",
       "      <th>2017-08-02</th>\n",
       "      <td>0.0</td>\n",
       "      <td>2.0</td>\n",
       "      <td>0.0</td>\n",
       "      <td>0.0</td>\n",
       "      <td>0.0</td>\n",
       "      <td>0.0</td>\n",
       "      <td>0.0</td>\n",
       "      <td>0.0</td>\n",
       "      <td>0.0</td>\n",
       "      <td>0.0</td>\n",
       "      <td>...</td>\n",
       "      <td>0.0</td>\n",
       "      <td>0.0</td>\n",
       "      <td>0.0</td>\n",
       "      <td>0.0</td>\n",
       "      <td>0.0</td>\n",
       "      <td>0.0</td>\n",
       "      <td>0.0</td>\n",
       "      <td>0.0</td>\n",
       "      <td>0.0</td>\n",
       "      <td>0.0</td>\n",
       "    </tr>\n",
       "    <tr>\n",
       "      <th>2017-08-03</th>\n",
       "      <td>0.0</td>\n",
       "      <td>0.0</td>\n",
       "      <td>0.0</td>\n",
       "      <td>0.0</td>\n",
       "      <td>0.0</td>\n",
       "      <td>0.0</td>\n",
       "      <td>0.0</td>\n",
       "      <td>0.0</td>\n",
       "      <td>0.0</td>\n",
       "      <td>0.0</td>\n",
       "      <td>...</td>\n",
       "      <td>0.0</td>\n",
       "      <td>0.0</td>\n",
       "      <td>0.0</td>\n",
       "      <td>0.0</td>\n",
       "      <td>0.0</td>\n",
       "      <td>0.0</td>\n",
       "      <td>0.0</td>\n",
       "      <td>0.0</td>\n",
       "      <td>0.0</td>\n",
       "      <td>0.0</td>\n",
       "    </tr>\n",
       "    <tr>\n",
       "      <th>2017-08-04</th>\n",
       "      <td>0.0</td>\n",
       "      <td>0.0</td>\n",
       "      <td>0.0</td>\n",
       "      <td>0.0</td>\n",
       "      <td>0.0</td>\n",
       "      <td>0.0</td>\n",
       "      <td>0.0</td>\n",
       "      <td>0.0</td>\n",
       "      <td>0.0</td>\n",
       "      <td>0.0</td>\n",
       "      <td>...</td>\n",
       "      <td>0.0</td>\n",
       "      <td>0.0</td>\n",
       "      <td>0.0</td>\n",
       "      <td>0.0</td>\n",
       "      <td>0.0</td>\n",
       "      <td>0.0</td>\n",
       "      <td>0.0</td>\n",
       "      <td>0.0</td>\n",
       "      <td>0.0</td>\n",
       "      <td>0.0</td>\n",
       "    </tr>\n",
       "    <tr>\n",
       "      <th>2017-08-08</th>\n",
       "      <td>0.0</td>\n",
       "      <td>0.0</td>\n",
       "      <td>0.0</td>\n",
       "      <td>0.0</td>\n",
       "      <td>0.0</td>\n",
       "      <td>0.0</td>\n",
       "      <td>0.0</td>\n",
       "      <td>0.0</td>\n",
       "      <td>0.0</td>\n",
       "      <td>0.0</td>\n",
       "      <td>...</td>\n",
       "      <td>0.0</td>\n",
       "      <td>0.0</td>\n",
       "      <td>0.0</td>\n",
       "      <td>0.0</td>\n",
       "      <td>0.0</td>\n",
       "      <td>0.0</td>\n",
       "      <td>0.0</td>\n",
       "      <td>0.0</td>\n",
       "      <td>0.0</td>\n",
       "      <td>0.0</td>\n",
       "    </tr>\n",
       "    <tr>\n",
       "      <th>2017-08-09</th>\n",
       "      <td>0.0</td>\n",
       "      <td>0.0</td>\n",
       "      <td>0.0</td>\n",
       "      <td>0.0</td>\n",
       "      <td>0.0</td>\n",
       "      <td>0.0</td>\n",
       "      <td>0.0</td>\n",
       "      <td>0.0</td>\n",
       "      <td>0.0</td>\n",
       "      <td>0.0</td>\n",
       "      <td>...</td>\n",
       "      <td>0.0</td>\n",
       "      <td>0.0</td>\n",
       "      <td>0.0</td>\n",
       "      <td>0.0</td>\n",
       "      <td>0.0</td>\n",
       "      <td>0.0</td>\n",
       "      <td>0.0</td>\n",
       "      <td>0.0</td>\n",
       "      <td>0.0</td>\n",
       "      <td>0.0</td>\n",
       "    </tr>\n",
       "    <tr>\n",
       "      <th>2017-08-11</th>\n",
       "      <td>0.0</td>\n",
       "      <td>1.0</td>\n",
       "      <td>0.0</td>\n",
       "      <td>0.0</td>\n",
       "      <td>0.0</td>\n",
       "      <td>0.0</td>\n",
       "      <td>0.0</td>\n",
       "      <td>0.0</td>\n",
       "      <td>0.0</td>\n",
       "      <td>0.0</td>\n",
       "      <td>...</td>\n",
       "      <td>0.0</td>\n",
       "      <td>0.0</td>\n",
       "      <td>0.0</td>\n",
       "      <td>0.0</td>\n",
       "      <td>0.0</td>\n",
       "      <td>0.0</td>\n",
       "      <td>0.0</td>\n",
       "      <td>0.0</td>\n",
       "      <td>0.0</td>\n",
       "      <td>0.0</td>\n",
       "    </tr>\n",
       "    <tr>\n",
       "      <th>2017-08-22</th>\n",
       "      <td>0.0</td>\n",
       "      <td>0.0</td>\n",
       "      <td>0.0</td>\n",
       "      <td>0.0</td>\n",
       "      <td>0.0</td>\n",
       "      <td>0.0</td>\n",
       "      <td>0.0</td>\n",
       "      <td>0.0</td>\n",
       "      <td>0.0</td>\n",
       "      <td>0.0</td>\n",
       "      <td>...</td>\n",
       "      <td>0.0</td>\n",
       "      <td>0.0</td>\n",
       "      <td>0.0</td>\n",
       "      <td>0.0</td>\n",
       "      <td>0.0</td>\n",
       "      <td>0.0</td>\n",
       "      <td>0.0</td>\n",
       "      <td>0.0</td>\n",
       "      <td>0.0</td>\n",
       "      <td>0.0</td>\n",
       "    </tr>\n",
       "    <tr>\n",
       "      <th>2017-08-30</th>\n",
       "      <td>0.0</td>\n",
       "      <td>0.0</td>\n",
       "      <td>0.0</td>\n",
       "      <td>0.0</td>\n",
       "      <td>0.0</td>\n",
       "      <td>0.0</td>\n",
       "      <td>0.0</td>\n",
       "      <td>0.0</td>\n",
       "      <td>0.0</td>\n",
       "      <td>0.0</td>\n",
       "      <td>...</td>\n",
       "      <td>0.0</td>\n",
       "      <td>0.0</td>\n",
       "      <td>0.0</td>\n",
       "      <td>0.0</td>\n",
       "      <td>0.0</td>\n",
       "      <td>0.0</td>\n",
       "      <td>0.0</td>\n",
       "      <td>0.0</td>\n",
       "      <td>0.0</td>\n",
       "      <td>0.0</td>\n",
       "    </tr>\n",
       "    <tr>\n",
       "      <th>2017-09-01</th>\n",
       "      <td>0.0</td>\n",
       "      <td>0.0</td>\n",
       "      <td>0.0</td>\n",
       "      <td>0.0</td>\n",
       "      <td>0.0</td>\n",
       "      <td>0.0</td>\n",
       "      <td>0.0</td>\n",
       "      <td>0.0</td>\n",
       "      <td>0.0</td>\n",
       "      <td>0.0</td>\n",
       "      <td>...</td>\n",
       "      <td>0.0</td>\n",
       "      <td>0.0</td>\n",
       "      <td>0.0</td>\n",
       "      <td>0.0</td>\n",
       "      <td>0.0</td>\n",
       "      <td>0.0</td>\n",
       "      <td>0.0</td>\n",
       "      <td>0.0</td>\n",
       "      <td>0.0</td>\n",
       "      <td>0.0</td>\n",
       "    </tr>\n",
       "    <tr>\n",
       "      <th>2017-09-06</th>\n",
       "      <td>0.0</td>\n",
       "      <td>0.0</td>\n",
       "      <td>0.0</td>\n",
       "      <td>0.0</td>\n",
       "      <td>0.0</td>\n",
       "      <td>0.0</td>\n",
       "      <td>0.0</td>\n",
       "      <td>0.0</td>\n",
       "      <td>0.0</td>\n",
       "      <td>0.0</td>\n",
       "      <td>...</td>\n",
       "      <td>0.0</td>\n",
       "      <td>0.0</td>\n",
       "      <td>0.0</td>\n",
       "      <td>0.0</td>\n",
       "      <td>0.0</td>\n",
       "      <td>1.0</td>\n",
       "      <td>0.0</td>\n",
       "      <td>0.0</td>\n",
       "      <td>0.0</td>\n",
       "      <td>0.0</td>\n",
       "    </tr>\n",
       "    <tr>\n",
       "      <th>2017-09-07</th>\n",
       "      <td>0.0</td>\n",
       "      <td>0.0</td>\n",
       "      <td>0.0</td>\n",
       "      <td>0.0</td>\n",
       "      <td>0.0</td>\n",
       "      <td>0.0</td>\n",
       "      <td>0.0</td>\n",
       "      <td>0.0</td>\n",
       "      <td>0.0</td>\n",
       "      <td>0.0</td>\n",
       "      <td>...</td>\n",
       "      <td>0.0</td>\n",
       "      <td>0.0</td>\n",
       "      <td>0.0</td>\n",
       "      <td>0.0</td>\n",
       "      <td>0.0</td>\n",
       "      <td>0.0</td>\n",
       "      <td>0.0</td>\n",
       "      <td>0.0</td>\n",
       "      <td>0.0</td>\n",
       "      <td>0.0</td>\n",
       "    </tr>\n",
       "    <tr>\n",
       "      <th>2017-09-15</th>\n",
       "      <td>0.0</td>\n",
       "      <td>0.0</td>\n",
       "      <td>0.0</td>\n",
       "      <td>0.0</td>\n",
       "      <td>0.0</td>\n",
       "      <td>0.0</td>\n",
       "      <td>0.0</td>\n",
       "      <td>0.0</td>\n",
       "      <td>0.0</td>\n",
       "      <td>0.0</td>\n",
       "      <td>...</td>\n",
       "      <td>0.0</td>\n",
       "      <td>0.0</td>\n",
       "      <td>0.0</td>\n",
       "      <td>0.0</td>\n",
       "      <td>0.0</td>\n",
       "      <td>0.0</td>\n",
       "      <td>0.0</td>\n",
       "      <td>0.0</td>\n",
       "      <td>0.0</td>\n",
       "      <td>0.0</td>\n",
       "    </tr>\n",
       "    <tr>\n",
       "      <th>2017-09-19</th>\n",
       "      <td>0.0</td>\n",
       "      <td>0.0</td>\n",
       "      <td>0.0</td>\n",
       "      <td>0.0</td>\n",
       "      <td>0.0</td>\n",
       "      <td>0.0</td>\n",
       "      <td>0.0</td>\n",
       "      <td>0.0</td>\n",
       "      <td>0.0</td>\n",
       "      <td>0.0</td>\n",
       "      <td>...</td>\n",
       "      <td>0.0</td>\n",
       "      <td>0.0</td>\n",
       "      <td>0.0</td>\n",
       "      <td>0.0</td>\n",
       "      <td>0.0</td>\n",
       "      <td>0.0</td>\n",
       "      <td>0.0</td>\n",
       "      <td>0.0</td>\n",
       "      <td>0.0</td>\n",
       "      <td>0.0</td>\n",
       "    </tr>\n",
       "    <tr>\n",
       "      <th>2017-09-27</th>\n",
       "      <td>0.0</td>\n",
       "      <td>0.0</td>\n",
       "      <td>0.0</td>\n",
       "      <td>0.0</td>\n",
       "      <td>0.0</td>\n",
       "      <td>0.0</td>\n",
       "      <td>0.0</td>\n",
       "      <td>0.0</td>\n",
       "      <td>0.0</td>\n",
       "      <td>0.0</td>\n",
       "      <td>...</td>\n",
       "      <td>0.0</td>\n",
       "      <td>0.0</td>\n",
       "      <td>0.0</td>\n",
       "      <td>0.0</td>\n",
       "      <td>0.0</td>\n",
       "      <td>0.0</td>\n",
       "      <td>0.0</td>\n",
       "      <td>0.0</td>\n",
       "      <td>0.0</td>\n",
       "      <td>0.0</td>\n",
       "    </tr>\n",
       "    <tr>\n",
       "      <th>2017-09-28</th>\n",
       "      <td>0.0</td>\n",
       "      <td>1.0</td>\n",
       "      <td>0.0</td>\n",
       "      <td>0.0</td>\n",
       "      <td>0.0</td>\n",
       "      <td>0.0</td>\n",
       "      <td>0.0</td>\n",
       "      <td>0.0</td>\n",
       "      <td>0.0</td>\n",
       "      <td>0.0</td>\n",
       "      <td>...</td>\n",
       "      <td>0.0</td>\n",
       "      <td>0.0</td>\n",
       "      <td>0.0</td>\n",
       "      <td>0.0</td>\n",
       "      <td>0.0</td>\n",
       "      <td>0.0</td>\n",
       "      <td>0.0</td>\n",
       "      <td>0.0</td>\n",
       "      <td>0.0</td>\n",
       "      <td>0.0</td>\n",
       "    </tr>\n",
       "    <tr>\n",
       "      <th>...</th>\n",
       "      <td>...</td>\n",
       "      <td>...</td>\n",
       "      <td>...</td>\n",
       "      <td>...</td>\n",
       "      <td>...</td>\n",
       "      <td>...</td>\n",
       "      <td>...</td>\n",
       "      <td>...</td>\n",
       "      <td>...</td>\n",
       "      <td>...</td>\n",
       "      <td>...</td>\n",
       "      <td>...</td>\n",
       "      <td>...</td>\n",
       "      <td>...</td>\n",
       "      <td>...</td>\n",
       "      <td>...</td>\n",
       "      <td>...</td>\n",
       "      <td>...</td>\n",
       "      <td>...</td>\n",
       "      <td>...</td>\n",
       "      <td>...</td>\n",
       "    </tr>\n",
       "    <tr>\n",
       "      <th>2018-07-25</th>\n",
       "      <td>0.0</td>\n",
       "      <td>0.0</td>\n",
       "      <td>0.0</td>\n",
       "      <td>0.0</td>\n",
       "      <td>0.0</td>\n",
       "      <td>0.0</td>\n",
       "      <td>0.0</td>\n",
       "      <td>0.0</td>\n",
       "      <td>0.0</td>\n",
       "      <td>0.0</td>\n",
       "      <td>...</td>\n",
       "      <td>0.0</td>\n",
       "      <td>0.0</td>\n",
       "      <td>0.0</td>\n",
       "      <td>0.0</td>\n",
       "      <td>0.0</td>\n",
       "      <td>0.0</td>\n",
       "      <td>0.0</td>\n",
       "      <td>0.0</td>\n",
       "      <td>0.0</td>\n",
       "      <td>0.0</td>\n",
       "    </tr>\n",
       "    <tr>\n",
       "      <th>2018-07-26</th>\n",
       "      <td>0.0</td>\n",
       "      <td>0.0</td>\n",
       "      <td>0.0</td>\n",
       "      <td>0.0</td>\n",
       "      <td>0.0</td>\n",
       "      <td>0.0</td>\n",
       "      <td>0.0</td>\n",
       "      <td>0.0</td>\n",
       "      <td>0.0</td>\n",
       "      <td>0.0</td>\n",
       "      <td>...</td>\n",
       "      <td>0.0</td>\n",
       "      <td>0.0</td>\n",
       "      <td>0.0</td>\n",
       "      <td>0.0</td>\n",
       "      <td>0.0</td>\n",
       "      <td>0.0</td>\n",
       "      <td>0.0</td>\n",
       "      <td>0.0</td>\n",
       "      <td>0.0</td>\n",
       "      <td>0.0</td>\n",
       "    </tr>\n",
       "    <tr>\n",
       "      <th>2018-07-27</th>\n",
       "      <td>0.0</td>\n",
       "      <td>0.0</td>\n",
       "      <td>0.0</td>\n",
       "      <td>0.0</td>\n",
       "      <td>0.0</td>\n",
       "      <td>0.0</td>\n",
       "      <td>0.0</td>\n",
       "      <td>0.0</td>\n",
       "      <td>0.0</td>\n",
       "      <td>0.0</td>\n",
       "      <td>...</td>\n",
       "      <td>0.0</td>\n",
       "      <td>0.0</td>\n",
       "      <td>0.0</td>\n",
       "      <td>0.0</td>\n",
       "      <td>0.0</td>\n",
       "      <td>0.0</td>\n",
       "      <td>0.0</td>\n",
       "      <td>0.0</td>\n",
       "      <td>0.0</td>\n",
       "      <td>0.0</td>\n",
       "    </tr>\n",
       "    <tr>\n",
       "      <th>2018-08-03</th>\n",
       "      <td>0.0</td>\n",
       "      <td>0.0</td>\n",
       "      <td>0.0</td>\n",
       "      <td>0.0</td>\n",
       "      <td>0.0</td>\n",
       "      <td>0.0</td>\n",
       "      <td>0.0</td>\n",
       "      <td>0.0</td>\n",
       "      <td>0.0</td>\n",
       "      <td>0.0</td>\n",
       "      <td>...</td>\n",
       "      <td>0.0</td>\n",
       "      <td>0.0</td>\n",
       "      <td>0.0</td>\n",
       "      <td>0.0</td>\n",
       "      <td>0.0</td>\n",
       "      <td>0.0</td>\n",
       "      <td>0.0</td>\n",
       "      <td>0.0</td>\n",
       "      <td>0.0</td>\n",
       "      <td>0.0</td>\n",
       "    </tr>\n",
       "    <tr>\n",
       "      <th>2018-08-07</th>\n",
       "      <td>0.0</td>\n",
       "      <td>0.0</td>\n",
       "      <td>0.0</td>\n",
       "      <td>0.0</td>\n",
       "      <td>0.0</td>\n",
       "      <td>0.0</td>\n",
       "      <td>0.0</td>\n",
       "      <td>0.0</td>\n",
       "      <td>0.0</td>\n",
       "      <td>0.0</td>\n",
       "      <td>...</td>\n",
       "      <td>0.0</td>\n",
       "      <td>0.0</td>\n",
       "      <td>0.0</td>\n",
       "      <td>1.0</td>\n",
       "      <td>0.0</td>\n",
       "      <td>0.0</td>\n",
       "      <td>0.0</td>\n",
       "      <td>0.0</td>\n",
       "      <td>0.0</td>\n",
       "      <td>0.0</td>\n",
       "    </tr>\n",
       "    <tr>\n",
       "      <th>2018-08-13</th>\n",
       "      <td>0.0</td>\n",
       "      <td>0.0</td>\n",
       "      <td>0.0</td>\n",
       "      <td>0.0</td>\n",
       "      <td>0.0</td>\n",
       "      <td>0.0</td>\n",
       "      <td>0.0</td>\n",
       "      <td>0.0</td>\n",
       "      <td>0.0</td>\n",
       "      <td>0.0</td>\n",
       "      <td>...</td>\n",
       "      <td>0.0</td>\n",
       "      <td>0.0</td>\n",
       "      <td>0.0</td>\n",
       "      <td>0.0</td>\n",
       "      <td>0.0</td>\n",
       "      <td>0.0</td>\n",
       "      <td>0.0</td>\n",
       "      <td>0.0</td>\n",
       "      <td>0.0</td>\n",
       "      <td>0.0</td>\n",
       "    </tr>\n",
       "    <tr>\n",
       "      <th>2018-08-24</th>\n",
       "      <td>0.0</td>\n",
       "      <td>0.0</td>\n",
       "      <td>0.0</td>\n",
       "      <td>0.0</td>\n",
       "      <td>0.0</td>\n",
       "      <td>0.0</td>\n",
       "      <td>0.0</td>\n",
       "      <td>0.0</td>\n",
       "      <td>0.0</td>\n",
       "      <td>0.0</td>\n",
       "      <td>...</td>\n",
       "      <td>0.0</td>\n",
       "      <td>0.0</td>\n",
       "      <td>0.0</td>\n",
       "      <td>0.0</td>\n",
       "      <td>0.0</td>\n",
       "      <td>0.0</td>\n",
       "      <td>0.0</td>\n",
       "      <td>1.0</td>\n",
       "      <td>0.0</td>\n",
       "      <td>0.0</td>\n",
       "    </tr>\n",
       "    <tr>\n",
       "      <th>2018-08-27</th>\n",
       "      <td>1.0</td>\n",
       "      <td>2.0</td>\n",
       "      <td>0.0</td>\n",
       "      <td>0.0</td>\n",
       "      <td>0.0</td>\n",
       "      <td>0.0</td>\n",
       "      <td>0.0</td>\n",
       "      <td>0.0</td>\n",
       "      <td>0.0</td>\n",
       "      <td>0.0</td>\n",
       "      <td>...</td>\n",
       "      <td>0.0</td>\n",
       "      <td>0.0</td>\n",
       "      <td>0.0</td>\n",
       "      <td>0.0</td>\n",
       "      <td>0.0</td>\n",
       "      <td>0.0</td>\n",
       "      <td>0.0</td>\n",
       "      <td>0.0</td>\n",
       "      <td>0.0</td>\n",
       "      <td>0.0</td>\n",
       "    </tr>\n",
       "    <tr>\n",
       "      <th>2018-08-29</th>\n",
       "      <td>0.0</td>\n",
       "      <td>0.0</td>\n",
       "      <td>0.0</td>\n",
       "      <td>0.0</td>\n",
       "      <td>0.0</td>\n",
       "      <td>0.0</td>\n",
       "      <td>0.0</td>\n",
       "      <td>0.0</td>\n",
       "      <td>0.0</td>\n",
       "      <td>0.0</td>\n",
       "      <td>...</td>\n",
       "      <td>0.0</td>\n",
       "      <td>0.0</td>\n",
       "      <td>0.0</td>\n",
       "      <td>0.0</td>\n",
       "      <td>0.0</td>\n",
       "      <td>0.0</td>\n",
       "      <td>0.0</td>\n",
       "      <td>0.0</td>\n",
       "      <td>0.0</td>\n",
       "      <td>0.0</td>\n",
       "    </tr>\n",
       "    <tr>\n",
       "      <th>2018-08-30</th>\n",
       "      <td>0.0</td>\n",
       "      <td>0.0</td>\n",
       "      <td>0.0</td>\n",
       "      <td>0.0</td>\n",
       "      <td>0.0</td>\n",
       "      <td>0.0</td>\n",
       "      <td>0.0</td>\n",
       "      <td>0.0</td>\n",
       "      <td>0.0</td>\n",
       "      <td>0.0</td>\n",
       "      <td>...</td>\n",
       "      <td>0.0</td>\n",
       "      <td>0.0</td>\n",
       "      <td>0.0</td>\n",
       "      <td>0.0</td>\n",
       "      <td>0.0</td>\n",
       "      <td>0.0</td>\n",
       "      <td>0.0</td>\n",
       "      <td>0.0</td>\n",
       "      <td>0.0</td>\n",
       "      <td>0.0</td>\n",
       "    </tr>\n",
       "    <tr>\n",
       "      <th>2018-09-03</th>\n",
       "      <td>0.0</td>\n",
       "      <td>0.0</td>\n",
       "      <td>0.0</td>\n",
       "      <td>0.0</td>\n",
       "      <td>0.0</td>\n",
       "      <td>0.0</td>\n",
       "      <td>0.0</td>\n",
       "      <td>0.0</td>\n",
       "      <td>0.0</td>\n",
       "      <td>0.0</td>\n",
       "      <td>...</td>\n",
       "      <td>0.0</td>\n",
       "      <td>0.0</td>\n",
       "      <td>0.0</td>\n",
       "      <td>0.0</td>\n",
       "      <td>0.0</td>\n",
       "      <td>1.0</td>\n",
       "      <td>0.0</td>\n",
       "      <td>0.0</td>\n",
       "      <td>0.0</td>\n",
       "      <td>0.0</td>\n",
       "    </tr>\n",
       "    <tr>\n",
       "      <th>2018-09-04</th>\n",
       "      <td>0.0</td>\n",
       "      <td>1.0</td>\n",
       "      <td>0.0</td>\n",
       "      <td>0.0</td>\n",
       "      <td>0.0</td>\n",
       "      <td>0.0</td>\n",
       "      <td>0.0</td>\n",
       "      <td>0.0</td>\n",
       "      <td>0.0</td>\n",
       "      <td>0.0</td>\n",
       "      <td>...</td>\n",
       "      <td>0.0</td>\n",
       "      <td>0.0</td>\n",
       "      <td>0.0</td>\n",
       "      <td>0.0</td>\n",
       "      <td>0.0</td>\n",
       "      <td>1.0</td>\n",
       "      <td>1.0</td>\n",
       "      <td>0.0</td>\n",
       "      <td>0.0</td>\n",
       "      <td>0.0</td>\n",
       "    </tr>\n",
       "    <tr>\n",
       "      <th>2018-09-05</th>\n",
       "      <td>0.0</td>\n",
       "      <td>0.0</td>\n",
       "      <td>0.0</td>\n",
       "      <td>0.0</td>\n",
       "      <td>0.0</td>\n",
       "      <td>0.0</td>\n",
       "      <td>0.0</td>\n",
       "      <td>0.0</td>\n",
       "      <td>0.0</td>\n",
       "      <td>0.0</td>\n",
       "      <td>...</td>\n",
       "      <td>0.0</td>\n",
       "      <td>0.0</td>\n",
       "      <td>0.0</td>\n",
       "      <td>0.0</td>\n",
       "      <td>0.0</td>\n",
       "      <td>0.0</td>\n",
       "      <td>0.0</td>\n",
       "      <td>0.0</td>\n",
       "      <td>0.0</td>\n",
       "      <td>0.0</td>\n",
       "    </tr>\n",
       "    <tr>\n",
       "      <th>2018-09-06</th>\n",
       "      <td>0.0</td>\n",
       "      <td>0.0</td>\n",
       "      <td>0.0</td>\n",
       "      <td>0.0</td>\n",
       "      <td>0.0</td>\n",
       "      <td>0.0</td>\n",
       "      <td>0.0</td>\n",
       "      <td>0.0</td>\n",
       "      <td>0.0</td>\n",
       "      <td>0.0</td>\n",
       "      <td>...</td>\n",
       "      <td>0.0</td>\n",
       "      <td>0.0</td>\n",
       "      <td>0.0</td>\n",
       "      <td>0.0</td>\n",
       "      <td>0.0</td>\n",
       "      <td>0.0</td>\n",
       "      <td>0.0</td>\n",
       "      <td>0.0</td>\n",
       "      <td>0.0</td>\n",
       "      <td>0.0</td>\n",
       "    </tr>\n",
       "    <tr>\n",
       "      <th>2018-09-07</th>\n",
       "      <td>0.0</td>\n",
       "      <td>0.0</td>\n",
       "      <td>0.0</td>\n",
       "      <td>0.0</td>\n",
       "      <td>0.0</td>\n",
       "      <td>0.0</td>\n",
       "      <td>0.0</td>\n",
       "      <td>0.0</td>\n",
       "      <td>0.0</td>\n",
       "      <td>0.0</td>\n",
       "      <td>...</td>\n",
       "      <td>0.0</td>\n",
       "      <td>0.0</td>\n",
       "      <td>0.0</td>\n",
       "      <td>0.0</td>\n",
       "      <td>0.0</td>\n",
       "      <td>0.0</td>\n",
       "      <td>0.0</td>\n",
       "      <td>0.0</td>\n",
       "      <td>0.0</td>\n",
       "      <td>0.0</td>\n",
       "    </tr>\n",
       "    <tr>\n",
       "      <th>2018-09-10</th>\n",
       "      <td>-0.0</td>\n",
       "      <td>0.0</td>\n",
       "      <td>-0.0</td>\n",
       "      <td>-0.0</td>\n",
       "      <td>-0.0</td>\n",
       "      <td>-0.0</td>\n",
       "      <td>-0.0</td>\n",
       "      <td>-0.0</td>\n",
       "      <td>-0.0</td>\n",
       "      <td>-0.0</td>\n",
       "      <td>...</td>\n",
       "      <td>-0.0</td>\n",
       "      <td>-0.0</td>\n",
       "      <td>-0.0</td>\n",
       "      <td>-0.0</td>\n",
       "      <td>-0.0</td>\n",
       "      <td>0.0</td>\n",
       "      <td>-0.0</td>\n",
       "      <td>-0.0</td>\n",
       "      <td>-0.0</td>\n",
       "      <td>0.0</td>\n",
       "    </tr>\n",
       "    <tr>\n",
       "      <th>2018-09-12</th>\n",
       "      <td>0.0</td>\n",
       "      <td>1.0</td>\n",
       "      <td>0.0</td>\n",
       "      <td>0.0</td>\n",
       "      <td>0.0</td>\n",
       "      <td>0.0</td>\n",
       "      <td>0.0</td>\n",
       "      <td>0.0</td>\n",
       "      <td>0.0</td>\n",
       "      <td>0.0</td>\n",
       "      <td>...</td>\n",
       "      <td>0.0</td>\n",
       "      <td>0.0</td>\n",
       "      <td>0.0</td>\n",
       "      <td>0.0</td>\n",
       "      <td>0.0</td>\n",
       "      <td>0.0</td>\n",
       "      <td>0.0</td>\n",
       "      <td>0.0</td>\n",
       "      <td>0.0</td>\n",
       "      <td>3.0</td>\n",
       "    </tr>\n",
       "    <tr>\n",
       "      <th>2018-09-13</th>\n",
       "      <td>0.0</td>\n",
       "      <td>0.0</td>\n",
       "      <td>0.0</td>\n",
       "      <td>0.0</td>\n",
       "      <td>0.0</td>\n",
       "      <td>0.0</td>\n",
       "      <td>0.0</td>\n",
       "      <td>0.0</td>\n",
       "      <td>0.0</td>\n",
       "      <td>0.0</td>\n",
       "      <td>...</td>\n",
       "      <td>0.0</td>\n",
       "      <td>0.0</td>\n",
       "      <td>0.0</td>\n",
       "      <td>0.0</td>\n",
       "      <td>0.0</td>\n",
       "      <td>0.0</td>\n",
       "      <td>0.0</td>\n",
       "      <td>0.0</td>\n",
       "      <td>0.0</td>\n",
       "      <td>0.0</td>\n",
       "    </tr>\n",
       "    <tr>\n",
       "      <th>2018-09-14</th>\n",
       "      <td>0.0</td>\n",
       "      <td>1.0</td>\n",
       "      <td>0.0</td>\n",
       "      <td>0.0</td>\n",
       "      <td>0.0</td>\n",
       "      <td>0.0</td>\n",
       "      <td>0.0</td>\n",
       "      <td>0.0</td>\n",
       "      <td>0.0</td>\n",
       "      <td>0.0</td>\n",
       "      <td>...</td>\n",
       "      <td>0.0</td>\n",
       "      <td>0.0</td>\n",
       "      <td>0.0</td>\n",
       "      <td>0.0</td>\n",
       "      <td>0.0</td>\n",
       "      <td>0.0</td>\n",
       "      <td>0.0</td>\n",
       "      <td>0.0</td>\n",
       "      <td>0.0</td>\n",
       "      <td>0.0</td>\n",
       "    </tr>\n",
       "    <tr>\n",
       "      <th>2018-09-19</th>\n",
       "      <td>0.0</td>\n",
       "      <td>1.0</td>\n",
       "      <td>0.0</td>\n",
       "      <td>0.0</td>\n",
       "      <td>0.0</td>\n",
       "      <td>0.0</td>\n",
       "      <td>0.0</td>\n",
       "      <td>0.0</td>\n",
       "      <td>0.0</td>\n",
       "      <td>0.0</td>\n",
       "      <td>...</td>\n",
       "      <td>0.0</td>\n",
       "      <td>0.0</td>\n",
       "      <td>0.0</td>\n",
       "      <td>0.0</td>\n",
       "      <td>0.0</td>\n",
       "      <td>0.0</td>\n",
       "      <td>0.0</td>\n",
       "      <td>1.0</td>\n",
       "      <td>0.0</td>\n",
       "      <td>0.0</td>\n",
       "    </tr>\n",
       "    <tr>\n",
       "      <th>2018-09-20</th>\n",
       "      <td>1.0</td>\n",
       "      <td>9.0</td>\n",
       "      <td>0.0</td>\n",
       "      <td>0.0</td>\n",
       "      <td>0.0</td>\n",
       "      <td>0.0</td>\n",
       "      <td>0.0</td>\n",
       "      <td>0.0</td>\n",
       "      <td>0.0</td>\n",
       "      <td>0.0</td>\n",
       "      <td>...</td>\n",
       "      <td>0.0</td>\n",
       "      <td>0.0</td>\n",
       "      <td>1.0</td>\n",
       "      <td>0.0</td>\n",
       "      <td>0.0</td>\n",
       "      <td>1.0</td>\n",
       "      <td>0.0</td>\n",
       "      <td>1.0</td>\n",
       "      <td>0.0</td>\n",
       "      <td>1.0</td>\n",
       "    </tr>\n",
       "    <tr>\n",
       "      <th>2018-09-21</th>\n",
       "      <td>0.0</td>\n",
       "      <td>0.0</td>\n",
       "      <td>0.0</td>\n",
       "      <td>0.0</td>\n",
       "      <td>0.0</td>\n",
       "      <td>0.0</td>\n",
       "      <td>0.0</td>\n",
       "      <td>0.0</td>\n",
       "      <td>0.0</td>\n",
       "      <td>0.0</td>\n",
       "      <td>...</td>\n",
       "      <td>0.0</td>\n",
       "      <td>0.0</td>\n",
       "      <td>1.0</td>\n",
       "      <td>1.0</td>\n",
       "      <td>0.0</td>\n",
       "      <td>0.0</td>\n",
       "      <td>0.0</td>\n",
       "      <td>7.0</td>\n",
       "      <td>0.0</td>\n",
       "      <td>0.0</td>\n",
       "    </tr>\n",
       "    <tr>\n",
       "      <th>2018-09-28</th>\n",
       "      <td>0.0</td>\n",
       "      <td>0.0</td>\n",
       "      <td>0.0</td>\n",
       "      <td>0.0</td>\n",
       "      <td>0.0</td>\n",
       "      <td>0.0</td>\n",
       "      <td>0.0</td>\n",
       "      <td>0.0</td>\n",
       "      <td>0.0</td>\n",
       "      <td>0.0</td>\n",
       "      <td>...</td>\n",
       "      <td>0.0</td>\n",
       "      <td>0.0</td>\n",
       "      <td>0.0</td>\n",
       "      <td>0.0</td>\n",
       "      <td>0.0</td>\n",
       "      <td>0.0</td>\n",
       "      <td>0.0</td>\n",
       "      <td>0.0</td>\n",
       "      <td>0.0</td>\n",
       "      <td>0.0</td>\n",
       "    </tr>\n",
       "    <tr>\n",
       "      <th>2018-10-04</th>\n",
       "      <td>-0.0</td>\n",
       "      <td>0.0</td>\n",
       "      <td>-0.0</td>\n",
       "      <td>-0.0</td>\n",
       "      <td>-0.0</td>\n",
       "      <td>-0.0</td>\n",
       "      <td>-0.0</td>\n",
       "      <td>-0.0</td>\n",
       "      <td>-0.0</td>\n",
       "      <td>-0.0</td>\n",
       "      <td>...</td>\n",
       "      <td>-0.0</td>\n",
       "      <td>-0.0</td>\n",
       "      <td>-0.0</td>\n",
       "      <td>-0.0</td>\n",
       "      <td>-0.0</td>\n",
       "      <td>0.0</td>\n",
       "      <td>-0.0</td>\n",
       "      <td>-0.0</td>\n",
       "      <td>-0.0</td>\n",
       "      <td>-0.0</td>\n",
       "    </tr>\n",
       "    <tr>\n",
       "      <th>2018-10-05</th>\n",
       "      <td>0.0</td>\n",
       "      <td>0.0</td>\n",
       "      <td>0.0</td>\n",
       "      <td>0.0</td>\n",
       "      <td>0.0</td>\n",
       "      <td>0.0</td>\n",
       "      <td>0.0</td>\n",
       "      <td>0.0</td>\n",
       "      <td>0.0</td>\n",
       "      <td>0.0</td>\n",
       "      <td>...</td>\n",
       "      <td>0.0</td>\n",
       "      <td>0.0</td>\n",
       "      <td>0.0</td>\n",
       "      <td>0.0</td>\n",
       "      <td>0.0</td>\n",
       "      <td>0.0</td>\n",
       "      <td>0.0</td>\n",
       "      <td>0.0</td>\n",
       "      <td>0.0</td>\n",
       "      <td>0.0</td>\n",
       "    </tr>\n",
       "    <tr>\n",
       "      <th>2018-10-08</th>\n",
       "      <td>-0.0</td>\n",
       "      <td>1.0</td>\n",
       "      <td>-0.0</td>\n",
       "      <td>-0.0</td>\n",
       "      <td>-0.0</td>\n",
       "      <td>-0.0</td>\n",
       "      <td>-0.0</td>\n",
       "      <td>-0.0</td>\n",
       "      <td>-0.0</td>\n",
       "      <td>-0.0</td>\n",
       "      <td>...</td>\n",
       "      <td>-0.0</td>\n",
       "      <td>-0.0</td>\n",
       "      <td>-0.0</td>\n",
       "      <td>-0.0</td>\n",
       "      <td>-0.0</td>\n",
       "      <td>-0.0</td>\n",
       "      <td>-0.0</td>\n",
       "      <td>0.0</td>\n",
       "      <td>-0.0</td>\n",
       "      <td>0.0</td>\n",
       "    </tr>\n",
       "    <tr>\n",
       "      <th>2018-10-10</th>\n",
       "      <td>0.0</td>\n",
       "      <td>4.0</td>\n",
       "      <td>0.0</td>\n",
       "      <td>0.0</td>\n",
       "      <td>0.0</td>\n",
       "      <td>0.0</td>\n",
       "      <td>0.0</td>\n",
       "      <td>0.0</td>\n",
       "      <td>0.0</td>\n",
       "      <td>0.0</td>\n",
       "      <td>...</td>\n",
       "      <td>0.0</td>\n",
       "      <td>0.0</td>\n",
       "      <td>0.0</td>\n",
       "      <td>0.0</td>\n",
       "      <td>0.0</td>\n",
       "      <td>0.0</td>\n",
       "      <td>0.0</td>\n",
       "      <td>3.0</td>\n",
       "      <td>0.0</td>\n",
       "      <td>3.0</td>\n",
       "    </tr>\n",
       "    <tr>\n",
       "      <th>2018-10-11</th>\n",
       "      <td>0.0</td>\n",
       "      <td>0.0</td>\n",
       "      <td>0.0</td>\n",
       "      <td>0.0</td>\n",
       "      <td>0.0</td>\n",
       "      <td>0.0</td>\n",
       "      <td>0.0</td>\n",
       "      <td>0.0</td>\n",
       "      <td>0.0</td>\n",
       "      <td>0.0</td>\n",
       "      <td>...</td>\n",
       "      <td>0.0</td>\n",
       "      <td>0.0</td>\n",
       "      <td>0.0</td>\n",
       "      <td>0.0</td>\n",
       "      <td>0.0</td>\n",
       "      <td>0.0</td>\n",
       "      <td>0.0</td>\n",
       "      <td>0.0</td>\n",
       "      <td>0.0</td>\n",
       "      <td>0.0</td>\n",
       "    </tr>\n",
       "    <tr>\n",
       "      <th>2018-10-12</th>\n",
       "      <td>0.0</td>\n",
       "      <td>0.0</td>\n",
       "      <td>0.0</td>\n",
       "      <td>0.0</td>\n",
       "      <td>0.0</td>\n",
       "      <td>0.0</td>\n",
       "      <td>0.0</td>\n",
       "      <td>0.0</td>\n",
       "      <td>0.0</td>\n",
       "      <td>0.0</td>\n",
       "      <td>...</td>\n",
       "      <td>0.0</td>\n",
       "      <td>0.0</td>\n",
       "      <td>0.0</td>\n",
       "      <td>0.0</td>\n",
       "      <td>0.0</td>\n",
       "      <td>0.0</td>\n",
       "      <td>0.0</td>\n",
       "      <td>0.0</td>\n",
       "      <td>0.0</td>\n",
       "      <td>2.0</td>\n",
       "    </tr>\n",
       "    <tr>\n",
       "      <th>2018-10-15</th>\n",
       "      <td>2.0</td>\n",
       "      <td>4.0</td>\n",
       "      <td>0.0</td>\n",
       "      <td>0.0</td>\n",
       "      <td>0.0</td>\n",
       "      <td>0.0</td>\n",
       "      <td>0.0</td>\n",
       "      <td>0.0</td>\n",
       "      <td>0.0</td>\n",
       "      <td>0.0</td>\n",
       "      <td>...</td>\n",
       "      <td>0.0</td>\n",
       "      <td>0.0</td>\n",
       "      <td>0.0</td>\n",
       "      <td>0.0</td>\n",
       "      <td>0.0</td>\n",
       "      <td>0.0</td>\n",
       "      <td>0.0</td>\n",
       "      <td>1.0</td>\n",
       "      <td>0.0</td>\n",
       "      <td>0.0</td>\n",
       "    </tr>\n",
       "  </tbody>\n",
       "</table>\n",
       "<p>171 rows × 468 columns</p>\n",
       "</div>"
      ],
      "text/plain": [
       "            !!/sf  !/sf  ........................./se  \\\n",
       "date                                                    \n",
       "2017-06-08    0.0   0.0                           0.0   \n",
       "2017-06-09    0.0   0.0                           0.0   \n",
       "2017-06-13    0.0   0.0                           0.0   \n",
       "2017-06-16    0.0   0.0                           0.0   \n",
       "2017-06-23    0.0   0.0                           0.0   \n",
       "2017-06-30   -0.0   0.0                          -0.0   \n",
       "2017-07-04    0.0   0.0                           0.0   \n",
       "2017-07-12    0.0   0.0                           0.0   \n",
       "2017-07-13    0.0   1.0                           0.0   \n",
       "2017-07-18    0.0   0.0                           0.0   \n",
       "2017-07-19    0.0   3.0                           0.0   \n",
       "2017-07-20    0.0   0.0                           0.0   \n",
       "2017-07-21    0.0   0.0                           0.0   \n",
       "2017-07-24    0.0   1.0                           0.0   \n",
       "2017-07-27    0.0   0.0                           0.0   \n",
       "2017-08-02    0.0   2.0                           0.0   \n",
       "2017-08-03    0.0   0.0                           0.0   \n",
       "2017-08-04    0.0   0.0                           0.0   \n",
       "2017-08-08    0.0   0.0                           0.0   \n",
       "2017-08-09    0.0   0.0                           0.0   \n",
       "2017-08-11    0.0   1.0                           0.0   \n",
       "2017-08-22    0.0   0.0                           0.0   \n",
       "2017-08-30    0.0   0.0                           0.0   \n",
       "2017-09-01    0.0   0.0                           0.0   \n",
       "2017-09-06    0.0   0.0                           0.0   \n",
       "2017-09-07    0.0   0.0                           0.0   \n",
       "2017-09-15    0.0   0.0                           0.0   \n",
       "2017-09-19    0.0   0.0                           0.0   \n",
       "2017-09-27    0.0   0.0                           0.0   \n",
       "2017-09-28    0.0   1.0                           0.0   \n",
       "...           ...   ...                           ...   \n",
       "2018-07-25    0.0   0.0                           0.0   \n",
       "2018-07-26    0.0   0.0                           0.0   \n",
       "2018-07-27    0.0   0.0                           0.0   \n",
       "2018-08-03    0.0   0.0                           0.0   \n",
       "2018-08-07    0.0   0.0                           0.0   \n",
       "2018-08-13    0.0   0.0                           0.0   \n",
       "2018-08-24    0.0   0.0                           0.0   \n",
       "2018-08-27    1.0   2.0                           0.0   \n",
       "2018-08-29    0.0   0.0                           0.0   \n",
       "2018-08-30    0.0   0.0                           0.0   \n",
       "2018-09-03    0.0   0.0                           0.0   \n",
       "2018-09-04    0.0   1.0                           0.0   \n",
       "2018-09-05    0.0   0.0                           0.0   \n",
       "2018-09-06    0.0   0.0                           0.0   \n",
       "2018-09-07    0.0   0.0                           0.0   \n",
       "2018-09-10   -0.0   0.0                          -0.0   \n",
       "2018-09-12    0.0   1.0                           0.0   \n",
       "2018-09-13    0.0   0.0                           0.0   \n",
       "2018-09-14    0.0   1.0                           0.0   \n",
       "2018-09-19    0.0   1.0                           0.0   \n",
       "2018-09-20    1.0   9.0                           0.0   \n",
       "2018-09-21    0.0   0.0                           0.0   \n",
       "2018-09-28    0.0   0.0                           0.0   \n",
       "2018-10-04   -0.0   0.0                          -0.0   \n",
       "2018-10-05    0.0   0.0                           0.0   \n",
       "2018-10-08   -0.0   1.0                          -0.0   \n",
       "2018-10-10    0.0   4.0                           0.0   \n",
       "2018-10-11    0.0   0.0                           0.0   \n",
       "2018-10-12    0.0   0.0                           0.0   \n",
       "2018-10-15    2.0   4.0                           0.0   \n",
       "\n",
       "            ......................../se  ......................./se  \\\n",
       "date                                                                  \n",
       "2017-06-08                          0.0                         0.0   \n",
       "2017-06-09                          0.0                         0.0   \n",
       "2017-06-13                          0.0                         0.0   \n",
       "2017-06-16                          0.0                         0.0   \n",
       "2017-06-23                          0.0                         0.0   \n",
       "2017-06-30                         -0.0                        -0.0   \n",
       "2017-07-04                          0.0                         0.0   \n",
       "2017-07-12                          0.0                         0.0   \n",
       "2017-07-13                          0.0                         0.0   \n",
       "2017-07-18                          0.0                         0.0   \n",
       "2017-07-19                          0.0                         0.0   \n",
       "2017-07-20                          0.0                         0.0   \n",
       "2017-07-21                          0.0                         0.0   \n",
       "2017-07-24                          0.0                         0.0   \n",
       "2017-07-27                          0.0                         0.0   \n",
       "2017-08-02                          0.0                         0.0   \n",
       "2017-08-03                          0.0                         0.0   \n",
       "2017-08-04                          0.0                         0.0   \n",
       "2017-08-08                          0.0                         0.0   \n",
       "2017-08-09                          0.0                         0.0   \n",
       "2017-08-11                          0.0                         0.0   \n",
       "2017-08-22                          0.0                         0.0   \n",
       "2017-08-30                          0.0                         0.0   \n",
       "2017-09-01                          0.0                         0.0   \n",
       "2017-09-06                          0.0                         0.0   \n",
       "2017-09-07                          0.0                         0.0   \n",
       "2017-09-15                          0.0                         0.0   \n",
       "2017-09-19                          0.0                         0.0   \n",
       "2017-09-27                          0.0                         0.0   \n",
       "2017-09-28                          0.0                         0.0   \n",
       "...                                 ...                         ...   \n",
       "2018-07-25                          0.0                         0.0   \n",
       "2018-07-26                          0.0                         0.0   \n",
       "2018-07-27                          0.0                         0.0   \n",
       "2018-08-03                          0.0                         0.0   \n",
       "2018-08-07                          0.0                         0.0   \n",
       "2018-08-13                          0.0                         0.0   \n",
       "2018-08-24                          0.0                         0.0   \n",
       "2018-08-27                          0.0                         0.0   \n",
       "2018-08-29                          0.0                         0.0   \n",
       "2018-08-30                          0.0                         0.0   \n",
       "2018-09-03                          0.0                         0.0   \n",
       "2018-09-04                          0.0                         0.0   \n",
       "2018-09-05                          0.0                         0.0   \n",
       "2018-09-06                          0.0                         0.0   \n",
       "2018-09-07                          0.0                         0.0   \n",
       "2018-09-10                         -0.0                        -0.0   \n",
       "2018-09-12                          0.0                         0.0   \n",
       "2018-09-13                          0.0                         0.0   \n",
       "2018-09-14                          0.0                         0.0   \n",
       "2018-09-19                          0.0                         0.0   \n",
       "2018-09-20                          0.0                         0.0   \n",
       "2018-09-21                          0.0                         0.0   \n",
       "2018-09-28                          0.0                         0.0   \n",
       "2018-10-04                         -0.0                        -0.0   \n",
       "2018-10-05                          0.0                         0.0   \n",
       "2018-10-08                         -0.0                        -0.0   \n",
       "2018-10-10                          0.0                         0.0   \n",
       "2018-10-11                          0.0                         0.0   \n",
       "2018-10-12                          0.0                         0.0   \n",
       "2018-10-15                          0.0                         0.0   \n",
       "\n",
       "            ....................../se  ...................../se  \\\n",
       "date                                                              \n",
       "2017-06-08                        0.0                       0.0   \n",
       "2017-06-09                        0.0                       0.0   \n",
       "2017-06-13                        0.0                       0.0   \n",
       "2017-06-16                        0.0                       0.0   \n",
       "2017-06-23                        0.0                       0.0   \n",
       "2017-06-30                       -0.0                      -0.0   \n",
       "2017-07-04                        0.0                       0.0   \n",
       "2017-07-12                        0.0                       0.0   \n",
       "2017-07-13                        0.0                       0.0   \n",
       "2017-07-18                        0.0                       0.0   \n",
       "2017-07-19                        0.0                       0.0   \n",
       "2017-07-20                        0.0                       0.0   \n",
       "2017-07-21                        0.0                       0.0   \n",
       "2017-07-24                        0.0                       0.0   \n",
       "2017-07-27                        0.0                       0.0   \n",
       "2017-08-02                        0.0                       0.0   \n",
       "2017-08-03                        0.0                       0.0   \n",
       "2017-08-04                        0.0                       0.0   \n",
       "2017-08-08                        0.0                       0.0   \n",
       "2017-08-09                        0.0                       0.0   \n",
       "2017-08-11                        0.0                       0.0   \n",
       "2017-08-22                        0.0                       0.0   \n",
       "2017-08-30                        0.0                       0.0   \n",
       "2017-09-01                        0.0                       0.0   \n",
       "2017-09-06                        0.0                       0.0   \n",
       "2017-09-07                        0.0                       0.0   \n",
       "2017-09-15                        0.0                       0.0   \n",
       "2017-09-19                        0.0                       0.0   \n",
       "2017-09-27                        0.0                       0.0   \n",
       "2017-09-28                        0.0                       0.0   \n",
       "...                               ...                       ...   \n",
       "2018-07-25                        0.0                       0.0   \n",
       "2018-07-26                        0.0                       0.0   \n",
       "2018-07-27                        0.0                       0.0   \n",
       "2018-08-03                        0.0                       0.0   \n",
       "2018-08-07                        0.0                       0.0   \n",
       "2018-08-13                        0.0                       0.0   \n",
       "2018-08-24                        0.0                       0.0   \n",
       "2018-08-27                        0.0                       0.0   \n",
       "2018-08-29                        0.0                       0.0   \n",
       "2018-08-30                        0.0                       0.0   \n",
       "2018-09-03                        0.0                       0.0   \n",
       "2018-09-04                        0.0                       0.0   \n",
       "2018-09-05                        0.0                       0.0   \n",
       "2018-09-06                        0.0                       0.0   \n",
       "2018-09-07                        0.0                       0.0   \n",
       "2018-09-10                       -0.0                      -0.0   \n",
       "2018-09-12                        0.0                       0.0   \n",
       "2018-09-13                        0.0                       0.0   \n",
       "2018-09-14                        0.0                       0.0   \n",
       "2018-09-19                        0.0                       0.0   \n",
       "2018-09-20                        0.0                       0.0   \n",
       "2018-09-21                        0.0                       0.0   \n",
       "2018-09-28                        0.0                       0.0   \n",
       "2018-10-04                       -0.0                      -0.0   \n",
       "2018-10-05                        0.0                       0.0   \n",
       "2018-10-08                       -0.0                      -0.0   \n",
       "2018-10-10                        0.0                       0.0   \n",
       "2018-10-11                        0.0                       0.0   \n",
       "2018-10-12                        0.0                       0.0   \n",
       "2018-10-15                        0.0                       0.0   \n",
       "\n",
       "            ..................../se  .................../se  \\\n",
       "date                                                          \n",
       "2017-06-08                      0.0                     0.0   \n",
       "2017-06-09                      0.0                     0.0   \n",
       "2017-06-13                      0.0                     0.0   \n",
       "2017-06-16                      0.0                     0.0   \n",
       "2017-06-23                      0.0                     0.0   \n",
       "2017-06-30                     -0.0                    -0.0   \n",
       "2017-07-04                      0.0                     0.0   \n",
       "2017-07-12                      0.0                     0.0   \n",
       "2017-07-13                      0.0                     0.0   \n",
       "2017-07-18                      0.0                     0.0   \n",
       "2017-07-19                      0.0                     0.0   \n",
       "2017-07-20                      0.0                     0.0   \n",
       "2017-07-21                      0.0                     0.0   \n",
       "2017-07-24                      0.0                     0.0   \n",
       "2017-07-27                      0.0                     0.0   \n",
       "2017-08-02                      0.0                     0.0   \n",
       "2017-08-03                      0.0                     0.0   \n",
       "2017-08-04                      0.0                     0.0   \n",
       "2017-08-08                      0.0                     0.0   \n",
       "2017-08-09                      0.0                     0.0   \n",
       "2017-08-11                      0.0                     0.0   \n",
       "2017-08-22                      0.0                     0.0   \n",
       "2017-08-30                      0.0                     0.0   \n",
       "2017-09-01                      0.0                     0.0   \n",
       "2017-09-06                      0.0                     0.0   \n",
       "2017-09-07                      0.0                     0.0   \n",
       "2017-09-15                      0.0                     0.0   \n",
       "2017-09-19                      0.0                     0.0   \n",
       "2017-09-27                      0.0                     0.0   \n",
       "2017-09-28                      0.0                     0.0   \n",
       "...                             ...                     ...   \n",
       "2018-07-25                      0.0                     0.0   \n",
       "2018-07-26                      0.0                     0.0   \n",
       "2018-07-27                      0.0                     0.0   \n",
       "2018-08-03                      0.0                     0.0   \n",
       "2018-08-07                      0.0                     0.0   \n",
       "2018-08-13                      0.0                     0.0   \n",
       "2018-08-24                      0.0                     0.0   \n",
       "2018-08-27                      0.0                     0.0   \n",
       "2018-08-29                      0.0                     0.0   \n",
       "2018-08-30                      0.0                     0.0   \n",
       "2018-09-03                      0.0                     0.0   \n",
       "2018-09-04                      0.0                     0.0   \n",
       "2018-09-05                      0.0                     0.0   \n",
       "2018-09-06                      0.0                     0.0   \n",
       "2018-09-07                      0.0                     0.0   \n",
       "2018-09-10                     -0.0                    -0.0   \n",
       "2018-09-12                      0.0                     0.0   \n",
       "2018-09-13                      0.0                     0.0   \n",
       "2018-09-14                      0.0                     0.0   \n",
       "2018-09-19                      0.0                     0.0   \n",
       "2018-09-20                      0.0                     0.0   \n",
       "2018-09-21                      0.0                     0.0   \n",
       "2018-09-28                      0.0                     0.0   \n",
       "2018-10-04                     -0.0                    -0.0   \n",
       "2018-10-05                      0.0                     0.0   \n",
       "2018-10-08                     -0.0                    -0.0   \n",
       "2018-10-10                      0.0                     0.0   \n",
       "2018-10-11                      0.0                     0.0   \n",
       "2018-10-12                      0.0                     0.0   \n",
       "2018-10-15                      0.0                     0.0   \n",
       "\n",
       "            ................../se  ...    홀딩/nng  홀딩스/nng  확보/nng  확인/nng  \\\n",
       "date                               ...                                      \n",
       "2017-06-08                    0.0  ...       0.0      0.0     0.0     0.0   \n",
       "2017-06-09                    0.0  ...       0.0      0.0     0.0     0.0   \n",
       "2017-06-13                    0.0  ...       0.0      0.0     0.0     0.0   \n",
       "2017-06-16                    0.0  ...       0.0      0.0     0.0     0.0   \n",
       "2017-06-23                    0.0  ...       0.0      0.0     0.0     0.0   \n",
       "2017-06-30                   -0.0  ...      -0.0     -0.0    -0.0    -0.0   \n",
       "2017-07-04                    0.0  ...       0.0      0.0     0.0     0.0   \n",
       "2017-07-12                    0.0  ...       0.0      0.0     0.0     0.0   \n",
       "2017-07-13                    0.0  ...       0.0      0.0     0.0     0.0   \n",
       "2017-07-18                    0.0  ...       0.0      0.0     0.0     0.0   \n",
       "2017-07-19                    0.0  ...       0.0      0.0     0.0     0.0   \n",
       "2017-07-20                    0.0  ...       0.0      0.0     0.0     1.0   \n",
       "2017-07-21                    0.0  ...       0.0      0.0     0.0     0.0   \n",
       "2017-07-24                    0.0  ...       0.0      0.0     0.0     0.0   \n",
       "2017-07-27                    0.0  ...       0.0      0.0     0.0     0.0   \n",
       "2017-08-02                    0.0  ...       0.0      0.0     0.0     0.0   \n",
       "2017-08-03                    0.0  ...       0.0      0.0     0.0     0.0   \n",
       "2017-08-04                    0.0  ...       0.0      0.0     0.0     0.0   \n",
       "2017-08-08                    0.0  ...       0.0      0.0     0.0     0.0   \n",
       "2017-08-09                    0.0  ...       0.0      0.0     0.0     0.0   \n",
       "2017-08-11                    0.0  ...       0.0      0.0     0.0     0.0   \n",
       "2017-08-22                    0.0  ...       0.0      0.0     0.0     0.0   \n",
       "2017-08-30                    0.0  ...       0.0      0.0     0.0     0.0   \n",
       "2017-09-01                    0.0  ...       0.0      0.0     0.0     0.0   \n",
       "2017-09-06                    0.0  ...       0.0      0.0     0.0     0.0   \n",
       "2017-09-07                    0.0  ...       0.0      0.0     0.0     0.0   \n",
       "2017-09-15                    0.0  ...       0.0      0.0     0.0     0.0   \n",
       "2017-09-19                    0.0  ...       0.0      0.0     0.0     0.0   \n",
       "2017-09-27                    0.0  ...       0.0      0.0     0.0     0.0   \n",
       "2017-09-28                    0.0  ...       0.0      0.0     0.0     0.0   \n",
       "...                           ...  ...       ...      ...     ...     ...   \n",
       "2018-07-25                    0.0  ...       0.0      0.0     0.0     0.0   \n",
       "2018-07-26                    0.0  ...       0.0      0.0     0.0     0.0   \n",
       "2018-07-27                    0.0  ...       0.0      0.0     0.0     0.0   \n",
       "2018-08-03                    0.0  ...       0.0      0.0     0.0     0.0   \n",
       "2018-08-07                    0.0  ...       0.0      0.0     0.0     1.0   \n",
       "2018-08-13                    0.0  ...       0.0      0.0     0.0     0.0   \n",
       "2018-08-24                    0.0  ...       0.0      0.0     0.0     0.0   \n",
       "2018-08-27                    0.0  ...       0.0      0.0     0.0     0.0   \n",
       "2018-08-29                    0.0  ...       0.0      0.0     0.0     0.0   \n",
       "2018-08-30                    0.0  ...       0.0      0.0     0.0     0.0   \n",
       "2018-09-03                    0.0  ...       0.0      0.0     0.0     0.0   \n",
       "2018-09-04                    0.0  ...       0.0      0.0     0.0     0.0   \n",
       "2018-09-05                    0.0  ...       0.0      0.0     0.0     0.0   \n",
       "2018-09-06                    0.0  ...       0.0      0.0     0.0     0.0   \n",
       "2018-09-07                    0.0  ...       0.0      0.0     0.0     0.0   \n",
       "2018-09-10                   -0.0  ...      -0.0     -0.0    -0.0    -0.0   \n",
       "2018-09-12                    0.0  ...       0.0      0.0     0.0     0.0   \n",
       "2018-09-13                    0.0  ...       0.0      0.0     0.0     0.0   \n",
       "2018-09-14                    0.0  ...       0.0      0.0     0.0     0.0   \n",
       "2018-09-19                    0.0  ...       0.0      0.0     0.0     0.0   \n",
       "2018-09-20                    0.0  ...       0.0      0.0     1.0     0.0   \n",
       "2018-09-21                    0.0  ...       0.0      0.0     1.0     1.0   \n",
       "2018-09-28                    0.0  ...       0.0      0.0     0.0     0.0   \n",
       "2018-10-04                   -0.0  ...      -0.0     -0.0    -0.0    -0.0   \n",
       "2018-10-05                    0.0  ...       0.0      0.0     0.0     0.0   \n",
       "2018-10-08                   -0.0  ...      -0.0     -0.0    -0.0    -0.0   \n",
       "2018-10-10                    0.0  ...       0.0      0.0     0.0     0.0   \n",
       "2018-10-11                    0.0  ...       0.0      0.0     0.0     0.0   \n",
       "2018-10-12                    0.0  ...       0.0      0.0     0.0     0.0   \n",
       "2018-10-15                    0.0  ...       0.0      0.0     0.0     0.0   \n",
       "\n",
       "            환율/nng  회사/nng  회장/nng  후/nng  휴맥/nng  힘/nng  \n",
       "date                                                      \n",
       "2017-06-08     0.0     0.0     0.0    0.0     0.0    0.0  \n",
       "2017-06-09     0.0     0.0     0.0    0.0     0.0    0.0  \n",
       "2017-06-13     0.0     0.0     0.0    0.0     0.0    0.0  \n",
       "2017-06-16     0.0     0.0     0.0    1.0     0.0    0.0  \n",
       "2017-06-23     0.0     0.0     0.0    0.0     0.0    0.0  \n",
       "2017-06-30    -0.0    -0.0    -0.0   -0.0    -0.0   -0.0  \n",
       "2017-07-04     0.0     0.0     0.0    0.0     0.0    0.0  \n",
       "2017-07-12     0.0     0.0     0.0    0.0     0.0    0.0  \n",
       "2017-07-13     0.0     0.0     0.0    0.0     0.0    0.0  \n",
       "2017-07-18     0.0     0.0     0.0    0.0     0.0    0.0  \n",
       "2017-07-19     0.0     0.0     0.0    0.0     0.0    0.0  \n",
       "2017-07-20     0.0     2.0     0.0    0.0     0.0    0.0  \n",
       "2017-07-21     0.0     1.0     0.0    0.0     0.0    0.0  \n",
       "2017-07-24     0.0     0.0     0.0    0.0     0.0    0.0  \n",
       "2017-07-27     0.0     0.0     0.0    0.0     0.0    0.0  \n",
       "2017-08-02     0.0     0.0     0.0    0.0     0.0    0.0  \n",
       "2017-08-03     0.0     0.0     0.0    0.0     0.0    0.0  \n",
       "2017-08-04     0.0     0.0     0.0    0.0     0.0    0.0  \n",
       "2017-08-08     0.0     0.0     0.0    0.0     0.0    0.0  \n",
       "2017-08-09     0.0     0.0     0.0    0.0     0.0    0.0  \n",
       "2017-08-11     0.0     0.0     0.0    0.0     0.0    0.0  \n",
       "2017-08-22     0.0     0.0     0.0    0.0     0.0    0.0  \n",
       "2017-08-30     0.0     0.0     0.0    0.0     0.0    0.0  \n",
       "2017-09-01     0.0     0.0     0.0    0.0     0.0    0.0  \n",
       "2017-09-06     0.0     1.0     0.0    0.0     0.0    0.0  \n",
       "2017-09-07     0.0     0.0     0.0    0.0     0.0    0.0  \n",
       "2017-09-15     0.0     0.0     0.0    0.0     0.0    0.0  \n",
       "2017-09-19     0.0     0.0     0.0    0.0     0.0    0.0  \n",
       "2017-09-27     0.0     0.0     0.0    0.0     0.0    0.0  \n",
       "2017-09-28     0.0     0.0     0.0    0.0     0.0    0.0  \n",
       "...            ...     ...     ...    ...     ...    ...  \n",
       "2018-07-25     0.0     0.0     0.0    0.0     0.0    0.0  \n",
       "2018-07-26     0.0     0.0     0.0    0.0     0.0    0.0  \n",
       "2018-07-27     0.0     0.0     0.0    0.0     0.0    0.0  \n",
       "2018-08-03     0.0     0.0     0.0    0.0     0.0    0.0  \n",
       "2018-08-07     0.0     0.0     0.0    0.0     0.0    0.0  \n",
       "2018-08-13     0.0     0.0     0.0    0.0     0.0    0.0  \n",
       "2018-08-24     0.0     0.0     0.0    1.0     0.0    0.0  \n",
       "2018-08-27     0.0     0.0     0.0    0.0     0.0    0.0  \n",
       "2018-08-29     0.0     0.0     0.0    0.0     0.0    0.0  \n",
       "2018-08-30     0.0     0.0     0.0    0.0     0.0    0.0  \n",
       "2018-09-03     0.0     1.0     0.0    0.0     0.0    0.0  \n",
       "2018-09-04     0.0     1.0     1.0    0.0     0.0    0.0  \n",
       "2018-09-05     0.0     0.0     0.0    0.0     0.0    0.0  \n",
       "2018-09-06     0.0     0.0     0.0    0.0     0.0    0.0  \n",
       "2018-09-07     0.0     0.0     0.0    0.0     0.0    0.0  \n",
       "2018-09-10    -0.0     0.0    -0.0   -0.0    -0.0    0.0  \n",
       "2018-09-12     0.0     0.0     0.0    0.0     0.0    3.0  \n",
       "2018-09-13     0.0     0.0     0.0    0.0     0.0    0.0  \n",
       "2018-09-14     0.0     0.0     0.0    0.0     0.0    0.0  \n",
       "2018-09-19     0.0     0.0     0.0    1.0     0.0    0.0  \n",
       "2018-09-20     0.0     1.0     0.0    1.0     0.0    1.0  \n",
       "2018-09-21     0.0     0.0     0.0    7.0     0.0    0.0  \n",
       "2018-09-28     0.0     0.0     0.0    0.0     0.0    0.0  \n",
       "2018-10-04    -0.0     0.0    -0.0   -0.0    -0.0   -0.0  \n",
       "2018-10-05     0.0     0.0     0.0    0.0     0.0    0.0  \n",
       "2018-10-08    -0.0    -0.0    -0.0    0.0    -0.0    0.0  \n",
       "2018-10-10     0.0     0.0     0.0    3.0     0.0    3.0  \n",
       "2018-10-11     0.0     0.0     0.0    0.0     0.0    0.0  \n",
       "2018-10-12     0.0     0.0     0.0    0.0     0.0    2.0  \n",
       "2018-10-15     0.0     0.0     0.0    1.0     0.0    0.0  \n",
       "\n",
       "[171 rows x 468 columns]"
      ]
     },
     "execution_count": 49,
     "metadata": {},
     "output_type": "execute_result"
    }
   ],
   "source": [
    "data_filter_freq.iloc[:int(data_filter_freq.shape[0]*0.8),:]"
   ]
  },
  {
   "cell_type": "markdown",
   "metadata": {},
   "source": [
    "### 감성 사전을 크게 두가지로 만들 것이다.\n",
    "1. 분모를 해당 형태소 빈도 \n",
    "2. 분모를 긍정글의 갯수/ 부정글의 갯수"
   ]
  },
  {
   "cell_type": "markdown",
   "metadata": {},
   "source": [
    "1. 분모를 해당 형태소 빈도"
   ]
  },
  {
   "cell_type": "code",
   "execution_count": 50,
   "metadata": {},
   "outputs": [],
   "source": [
    "split_size = 0.33"
   ]
  },
  {
   "cell_type": "code",
   "execution_count": 51,
   "metadata": {},
   "outputs": [],
   "source": [
    "data_filter_freq_copy = data_filter_freq.iloc[:int(data_filter_freq.shape[0]*(1-split_size)),:]\n",
    "plus_dataframe1 = pd.DataFrame(columns=data_filter_freq_copy.columns)\n",
    "minus_dataframe1 = pd.DataFrame(columns=data_filter_freq_copy.columns)\n",
    "plus_dict1 = pd.Series([])\n",
    "minus_dict1 = pd.Series([])"
   ]
  },
  {
   "cell_type": "code",
   "execution_count": 52,
   "metadata": {},
   "outputs": [],
   "source": [
    "idx = 0\n",
    "for idx in range(data_filter_freq_copy.shape[0]):    \n",
    "    #print(idx)\n",
    "    if earning_data.iloc[idx]==1:\n",
    "        #print('data_filter_freq_copy.iloc[idx,:]* 1:',data_filter_freq_copy.iloc[idx,:]* 1)\n",
    "        plus_dataframe1= plus_dataframe1.append(data_filter_freq_copy.iloc[idx,:]* 1)           \n",
    "    elif earning_data.iloc[idx]==0:\n",
    "        minus_dataframe1 = minus_dataframe1.append(data_filter_freq_copy.iloc[idx,:]* -1)\n",
    "    idx+=1"
   ]
  },
  {
   "cell_type": "code",
   "execution_count": null,
   "metadata": {},
   "outputs": [],
   "source": []
  },
  {
   "cell_type": "code",
   "execution_count": null,
   "metadata": {},
   "outputs": [],
   "source": []
  },
  {
   "cell_type": "code",
   "execution_count": 53,
   "metadata": {},
   "outputs": [
    {
     "name": "stderr",
     "output_type": "stream",
     "text": [
      "C:\\ProgramData\\Anaconda3\\lib\\site-packages\\ipykernel_launcher.py:4: RuntimeWarning: invalid value encountered in double_scalars\n",
      "  after removing the cwd from sys.path.\n"
     ]
    }
   ],
   "source": [
    "sum_plus1 = plus_dataframe1.sum(axis=0)\n",
    "sum_filter_freq = data_filter_freq_copy.sum(axis=0)\n",
    "for idx in range(len(sum_plus1)):\n",
    "    plus_dict1 = plus_dict1.append(pd.Series(sum_plus1[idx]/sum_filter_freq[idx],index=[sum_plus1.index[idx]]))    "
   ]
  },
  {
   "cell_type": "code",
   "execution_count": 54,
   "metadata": {},
   "outputs": [
    {
     "data": {
      "text/plain": [
       "m/sl            1.000000\n",
       "자료/nng          1.000000\n",
       "펀드/nng          1.000000\n",
       "정부/nng          1.000000\n",
       "증시/nng          1.000000\n",
       "전쟁/nng          1.000000\n",
       "바로/mag          1.000000\n",
       "전/nng           1.000000\n",
       "내용/nng          1.000000\n",
       "관심/nng          1.000000\n",
       "재산/nng          1.000000\n",
       "수수료/nng         1.000000\n",
       "발생/nng          1.000000\n",
       "답변/nng          1.000000\n",
       "함께/mag          1.000000\n",
       "급락/nng          0.933333\n",
       "사/nng           0.909091\n",
       "금융/nng          0.900000\n",
       "확보/nng          0.896552\n",
       "식/nng           0.875000\n",
       "개인/nng          0.875000\n",
       "자금/nng          0.866667\n",
       "넘/vv            0.866667\n",
       "불/xpn           0.866667\n",
       "읽/vv            0.857143\n",
       "곳/nng           0.846154\n",
       "듯/nnb           0.818182\n",
       "통하/vv           0.818182\n",
       "cj/sl           0.815789\n",
       "합병/nng          0.809524\n",
       "                  ...   \n",
       "정수기/nng         0.185185\n",
       "ㅋ/ic            0.181818\n",
       "해외/nng          0.166667\n",
       "외인/nng          0.166667\n",
       "다음/nng          0.000000\n",
       "연금/nng          0.000000\n",
       "go/sl           0.000000\n",
       "시스템/nng         0.000000\n",
       "금지/nng          0.000000\n",
       "청원/nng          0.000000\n",
       "president/sl    0.000000\n",
       "www/sl          0.000000\n",
       "개선/nng          0.000000\n",
       "청/nng           0.000000\n",
       "미국/nnp          0.000000\n",
       "com/sl          0.000000\n",
       "petitions/sl    0.000000\n",
       "v/sl                 NaN\n",
       "기금/nng               NaN\n",
       "대여/nng               NaN\n",
       "대차/nng               NaN\n",
       "대통령/nng              NaN\n",
       "동의/nng               NaN\n",
       "빌리/vv                NaN\n",
       "연대/nng               NaN\n",
       "운용/nng               NaN\n",
       "원/nnp                NaN\n",
       "전화/nng               NaN\n",
       "청와대/nnp              NaN\n",
       "환율/nng               NaN\n",
       "Length: 468, dtype: float64"
      ]
     },
     "execution_count": 54,
     "metadata": {},
     "output_type": "execute_result"
    }
   ],
   "source": [
    "plus_dict1.sort_values(ascending=False)"
   ]
  },
  {
   "cell_type": "code",
   "execution_count": 55,
   "metadata": {},
   "outputs": [
    {
     "name": "stderr",
     "output_type": "stream",
     "text": [
      "C:\\ProgramData\\Anaconda3\\lib\\site-packages\\ipykernel_launcher.py:4: RuntimeWarning: invalid value encountered in double_scalars\n",
      "  after removing the cwd from sys.path.\n"
     ]
    }
   ],
   "source": [
    "sum_minus1 = minus_dataframe1.sum(axis=0)\n",
    "sum_filter_freq = data_filter_freq_copy.sum(axis=0)\n",
    "for idx in range(len(sum_minus1)):\n",
    "    minus_dict1 = minus_dict1.append(pd.Series(sum_minus1[idx]/sum_filter_freq[idx],index=[sum_minus1.index[idx]]))"
   ]
  },
  {
   "cell_type": "code",
   "execution_count": 56,
   "metadata": {},
   "outputs": [
    {
     "data": {
      "text/plain": [
       "petitions/sl   -1.000000\n",
       "com/sl         -1.000000\n",
       "미국/nnp         -1.000000\n",
       "청/nng          -1.000000\n",
       "개선/nng         -1.000000\n",
       "www/sl         -1.000000\n",
       "president/sl   -1.000000\n",
       "청원/nng         -1.000000\n",
       "금지/nng         -1.000000\n",
       "시스템/nng        -1.000000\n",
       "go/sl          -1.000000\n",
       "연금/nng         -1.000000\n",
       "다음/nng         -1.000000\n",
       "외인/nng         -0.833333\n",
       "해외/nng         -0.833333\n",
       "ㅋ/ic           -0.818182\n",
       "정수기/nng        -0.814815\n",
       "대/xpn          -0.800000\n",
       "http/sl        -0.750000\n",
       "https/sl       -0.750000\n",
       "ㅋ/mag          -0.733333\n",
       "그러/vv          -0.727273\n",
       "공매/nng         -0.714286\n",
       "위기/nng         -0.700000\n",
       "어찌/mag         -0.700000\n",
       "실적/nng         -0.678571\n",
       "하루/nng         -0.666667\n",
       "공매도/nng        -0.666667\n",
       "내일/nng         -0.666667\n",
       "분기/nng         -0.666667\n",
       "                  ...   \n",
       "사/nng          -0.090909\n",
       "급락/nng         -0.066667\n",
       "함께/mag          0.000000\n",
       "답변/nng          0.000000\n",
       "발생/nng          0.000000\n",
       "수수료/nng         0.000000\n",
       "재산/nng          0.000000\n",
       "관심/nng          0.000000\n",
       "내용/nng          0.000000\n",
       "전/nng           0.000000\n",
       "바로/mag          0.000000\n",
       "전쟁/nng          0.000000\n",
       "증시/nng          0.000000\n",
       "정부/nng          0.000000\n",
       "펀드/nng          0.000000\n",
       "자료/nng          0.000000\n",
       "m/sl            0.000000\n",
       "v/sl                 NaN\n",
       "기금/nng               NaN\n",
       "대여/nng               NaN\n",
       "대차/nng               NaN\n",
       "대통령/nng              NaN\n",
       "동의/nng               NaN\n",
       "빌리/vv                NaN\n",
       "연대/nng               NaN\n",
       "운용/nng               NaN\n",
       "원/nnp                NaN\n",
       "전화/nng               NaN\n",
       "청와대/nnp              NaN\n",
       "환율/nng               NaN\n",
       "Length: 468, dtype: float64"
      ]
     },
     "execution_count": 56,
     "metadata": {},
     "output_type": "execute_result"
    }
   ],
   "source": [
    "minus_dict1.sort_values(ascending=True)"
   ]
  },
  {
   "cell_type": "code",
   "execution_count": 57,
   "metadata": {},
   "outputs": [],
   "source": [
    "sentimental_score1 = (plus_dict1.sort_values(ascending=False)+ minus_dict1.sort_values(ascending=False)).sort_values(ascending=False)"
   ]
  },
  {
   "cell_type": "code",
   "execution_count": 58,
   "metadata": {},
   "outputs": [
    {
     "data": {
      "text/plain": [
       "m/sl            1.000000\n",
       "전/nng           1.000000\n",
       "함께/mag          1.000000\n",
       "답변/nng          1.000000\n",
       "발생/nng          1.000000\n",
       "재산/nng          1.000000\n",
       "관심/nng          1.000000\n",
       "내용/nng          1.000000\n",
       "수수료/nng         1.000000\n",
       "바로/mag          1.000000\n",
       "전쟁/nng          1.000000\n",
       "증시/nng          1.000000\n",
       "정부/nng          1.000000\n",
       "펀드/nng          1.000000\n",
       "자료/nng          1.000000\n",
       "급락/nng          0.866667\n",
       "사/nng           0.818182\n",
       "금융/nng          0.800000\n",
       "확보/nng          0.793103\n",
       "식/nng           0.750000\n",
       "개인/nng          0.750000\n",
       "자금/nng          0.733333\n",
       "넘/vv            0.733333\n",
       "불/xpn           0.733333\n",
       "읽/vv            0.714286\n",
       "곳/nng           0.692308\n",
       "듯/nnb           0.636364\n",
       "통하/vv           0.636364\n",
       "cj/sl           0.631579\n",
       "합병/nng          0.619048\n",
       "                  ...   \n",
       "정수기/nng        -0.629630\n",
       "ㅋ/ic           -0.636364\n",
       "외인/nng         -0.666667\n",
       "해외/nng         -0.666667\n",
       "개선/nng         -1.000000\n",
       "www/sl         -1.000000\n",
       "청원/nng         -1.000000\n",
       "청/nng          -1.000000\n",
       "미국/nnp         -1.000000\n",
       "president/sl   -1.000000\n",
       "com/sl         -1.000000\n",
       "금지/nng         -1.000000\n",
       "시스템/nng        -1.000000\n",
       "go/sl          -1.000000\n",
       "연금/nng         -1.000000\n",
       "다음/nng         -1.000000\n",
       "petitions/sl   -1.000000\n",
       "v/sl                 NaN\n",
       "기금/nng               NaN\n",
       "대여/nng               NaN\n",
       "대차/nng               NaN\n",
       "대통령/nng              NaN\n",
       "동의/nng               NaN\n",
       "빌리/vv                NaN\n",
       "연대/nng               NaN\n",
       "운용/nng               NaN\n",
       "원/nnp                NaN\n",
       "전화/nng               NaN\n",
       "청와대/nnp              NaN\n",
       "환율/nng               NaN\n",
       "Length: 468, dtype: float64"
      ]
     },
     "execution_count": 58,
     "metadata": {},
     "output_type": "execute_result"
    }
   ],
   "source": [
    "sentimental_score1"
   ]
  },
  {
   "cell_type": "markdown",
   "metadata": {},
   "source": [
    "2. 분모를 긍정글의 갯수/ 부정글의 갯수"
   ]
  },
  {
   "cell_type": "code",
   "execution_count": 59,
   "metadata": {},
   "outputs": [],
   "source": [
    "data_filter_freq_copy = data_filter_freq\n",
    "plus_dataframe2 = pd.DataFrame(columns=data_filter_freq_copy.columns)\n",
    "minus_dataframe2 = pd.DataFrame(columns=data_filter_freq_copy.columns)"
   ]
  },
  {
   "cell_type": "code",
   "execution_count": 60,
   "metadata": {},
   "outputs": [],
   "source": [
    "data_filter_freq_copy = data_filter_freq\n",
    "plus_dataframe2 = pd.DataFrame(columns=data_filter_freq_copy.columns)\n",
    "minus_dataframe2 = pd.DataFrame(columns=data_filter_freq_copy.columns)"
   ]
  },
  {
   "cell_type": "code",
   "execution_count": 61,
   "metadata": {},
   "outputs": [],
   "source": [
    "idx = 0\n",
    "for idx in range(data_filter_freq.shape[0]):    \n",
    "    #print(idx)\n",
    "    if earning_data.iloc[idx]==1:\n",
    "        #print('data_filter_freq_copy.iloc[idx,:]* 1:',data_filter_freq_copy.iloc[idx,:]* 1)\n",
    "        plus_dataframe2= plus_dataframe1.append(data_filter_freq_copy.iloc[idx,:]* 1)   \n",
    "        \n",
    "    elif earning_data.iloc[idx]==0:\n",
    "        minus_dataframe2 = minus_dataframe1.append(data_filter_freq_copy.iloc[idx,:]* -1)\n",
    "    idx+=1"
   ]
  },
  {
   "cell_type": "code",
   "execution_count": 62,
   "metadata": {},
   "outputs": [],
   "source": [
    "minus_dict2=minus_dataframe2.mean(axis=0).sort_values(ascending=False)"
   ]
  },
  {
   "cell_type": "code",
   "execution_count": 63,
   "metadata": {},
   "outputs": [],
   "source": [
    "plus_dict2=plus_dataframe2.mean(axis=0).sort_values(ascending=False)"
   ]
  },
  {
   "cell_type": "code",
   "execution_count": 64,
   "metadata": {},
   "outputs": [],
   "source": [
    "sentimental_score2 = (plus_dataframe2.mean(axis=0).sort_values(ascending=False)+ minus_dataframe2.mean(axis=0).sort_values(ascending=False))"
   ]
  },
  {
   "cell_type": "code",
   "execution_count": 65,
   "metadata": {},
   "outputs": [
    {
     "data": {
      "text/plain": [
       "!!/sf                           0.015117\n",
       "!/sf                           -0.133946\n",
       "........................./se   -0.089170\n",
       "......................../se    -0.035783\n",
       "......................./se     -0.040184\n",
       "....................../se      -0.018752\n",
       "...................../se       -0.016648\n",
       "..................../se         0.013395\n",
       ".................../se          0.015691\n",
       "................../se           0.013586\n",
       "................./se           -0.015882\n",
       "................/se            -0.022197\n",
       ".............../se              0.159013\n",
       "............../se               0.098546\n",
       "............./se                0.345580\n",
       "............/se                 0.270570\n",
       ".........../se                  0.543628\n",
       "........../se                   0.391695\n",
       "........./se                    0.069843\n",
       "......../se                     0.028894\n",
       "......./se                      0.152889\n",
       "....../se                       0.129162\n",
       "...../se                        0.203980\n",
       "..../se                         0.342901\n",
       ".../se                          0.216801\n",
       "../se                           0.075584\n",
       "../sf                          -0.121125\n",
       "./se                           -0.058936\n",
       "?/sf                           -0.030808\n",
       "cj/sl                           0.292958\n",
       "                                  ...   \n",
       "팔/vv                           -0.139878\n",
       "펀드/nng                          0.102564\n",
       "평가/nng                          0.089935\n",
       "포트폴리오/nng                      -0.038079\n",
       "폭락/nng                         -0.053196\n",
       "폭탄/nng                         -0.070034\n",
       "피/nng                           0.130501\n",
       "피하/vv                           0.117681\n",
       "필요/nng                         -0.029468\n",
       "하/vv                           -0.251435\n",
       "하락/nng                         -0.264064\n",
       "하루/nng                         -0.051091\n",
       "한/mm                           -0.023153\n",
       "한국/nnp                          0.036357\n",
       "함께/mag                          0.051282\n",
       "합병/nng                          0.158247\n",
       "해외/nng                         -0.061806\n",
       "현금/nng                          0.113662\n",
       "현재/mag                          0.021431\n",
       "혹시/mag                          0.045159\n",
       "홀딩/nng                          0.070800\n",
       "홀딩스/nng                         0.075010\n",
       "확보/nng                          0.288557\n",
       "확인/nng                          0.049560\n",
       "환율/nng                          0.000000\n",
       "회사/nng                          0.114045\n",
       "회장/nng                          0.556257\n",
       "후/nng                          -0.016456\n",
       "휴맥/nng                         -0.038079\n",
       "힘/nng                          -0.021240\n",
       "Length: 468, dtype: float64"
      ]
     },
     "execution_count": 65,
     "metadata": {},
     "output_type": "execute_result"
    }
   ],
   "source": [
    "sentimental_score2"
   ]
  },
  {
   "cell_type": "code",
   "execution_count": null,
   "metadata": {},
   "outputs": [],
   "source": []
  },
  {
   "cell_type": "code",
   "execution_count": 66,
   "metadata": {},
   "outputs": [],
   "source": [
    "# dictionary 초기화\n",
    "model_result = Counter()\n",
    "train_result= Counter()\n",
    "test_result = Counter()\n",
    "confusion_matrix_result = Counter()\n",
    "auc_result = Counter()\n",
    "\n",
    "y = np.array(earning_data_ori)\n",
    "#y = np.array(earning_data)\n",
    "#y = np.array([labeling(label) for label in earning_data])\n",
    "\n"
   ]
  },
  {
   "cell_type": "code",
   "execution_count": null,
   "metadata": {},
   "outputs": [],
   "source": []
  },
  {
   "cell_type": "code",
   "execution_count": 67,
   "metadata": {},
   "outputs": [],
   "source": [
    "y_dict = {'상승':[(sum(y)/len(y))], '하락':[(1-sum(y)/len(y))]}"
   ]
  },
  {
   "cell_type": "code",
   "execution_count": 68,
   "metadata": {},
   "outputs": [
    {
     "data": {
      "text/plain": [
       "{'상승': [0.5373831775700935], '하락': [0.46261682242990654]}"
      ]
     },
     "execution_count": 68,
     "metadata": {},
     "output_type": "execute_result"
    }
   ],
   "source": [
    "y_dict"
   ]
  },
  {
   "cell_type": "code",
   "execution_count": null,
   "metadata": {},
   "outputs": [],
   "source": []
  },
  {
   "cell_type": "code",
   "execution_count": 69,
   "metadata": {},
   "outputs": [
    {
     "data": {
      "text/plain": [
       "<BarContainer object of 2 artists>"
      ]
     },
     "execution_count": 69,
     "metadata": {},
     "output_type": "execute_result"
    },
    {
     "data": {
      "image/png": "[encoded data removed]",
      "text/plain": [
       "<Figure size 432x288 with 1 Axes>"
      ]
     },
     "metadata": {
      "needs_background": "light"
     },
     "output_type": "display_data"
    }
   ],
   "source": [
    "#pd.DataFrame.from_dict(y_dict)\n",
    "plt.bar(['상승','하락'],[(sum(y)/len(y)),(1-sum(y)/len(y))])\n"
   ]
  },
  {
   "cell_type": "code",
   "execution_count": null,
   "metadata": {},
   "outputs": [],
   "source": []
  },
  {
   "cell_type": "code",
   "execution_count": 70,
   "metadata": {},
   "outputs": [],
   "source": [
    "# 점수를 계산한다. \n",
    "X_train_raw, X_test_raw,y_train,y_test= train_test_split(data_filter_freq,y, test_size=split_size, shuffle=False)\n",
    "#X_train_index, X_test_index = train_test_split(earning_data_ori,test_size=0.33, shuffle=False)"
   ]
  },
  {
   "cell_type": "code",
   "execution_count": 71,
   "metadata": {},
   "outputs": [],
   "source": [
    "data_filter_column_freq = data_filter_freq.sum(axis=0)"
   ]
  },
  {
   "cell_type": "code",
   "execution_count": 72,
   "metadata": {},
   "outputs": [],
   "source": [
    "#X_train.shape"
   ]
  },
  {
   "cell_type": "code",
   "execution_count": 73,
   "metadata": {},
   "outputs": [
    {
     "data": {
      "text/plain": [
       "[0.5352112676056338, 0.46478873239436624]"
      ]
     },
     "execution_count": 73,
     "metadata": {},
     "output_type": "execute_result"
    }
   ],
   "source": [
    "[(sum(y_test)/len(y_test)),(1-sum(y_test)/len(y_test))]"
   ]
  },
  {
   "cell_type": "code",
   "execution_count": 74,
   "metadata": {},
   "outputs": [
    {
     "data": {
      "text/plain": [
       "[0.5384615384615384, 0.46153846153846156]"
      ]
     },
     "execution_count": 74,
     "metadata": {},
     "output_type": "execute_result"
    }
   ],
   "source": [
    "[(sum(y_train)/len(y_train)),(1-sum(y_train)/len(y_train))]"
   ]
  },
  {
   "cell_type": "markdown",
   "metadata": {},
   "source": [
    "# 점수를 하나로만"
   ]
  },
  {
   "cell_type": "code",
   "execution_count": 75,
   "metadata": {},
   "outputs": [],
   "source": [
    "# if X_train_raw.iloc[0,:].sum() == 0:\n",
    "#     result = 0\n",
    "#X_train_raw.iloc[0,:] != 0\n",
    "#값이 존재하는 형태소 추출\n",
    "X_train = pd.Series()\n",
    "for train_idx in range(X_train_raw.shape[0]):\n",
    "    #해당번째 열 추출\n",
    "    train_iloc = X_train_raw.iloc[train_idx,:]\n",
    "    #값이존재하는 형태소 추출\n",
    "    select_pos = train_iloc.index[train_iloc != 0]\n",
    "    # 그 형태소의 인덱스\n",
    "    select_idx=[]\n",
    "    for pos_idx, pos_element in enumerate(select_pos):\n",
    "        for column_idx,column_element in enumerate(X_train_raw.columns):\n",
    "            if column_element == pos_element:\n",
    "                select_idx.append(column_idx)\n",
    "    # 빈도\n",
    "    select_series = X_train_raw.iloc[train_idx,select_idx]    \n",
    "    #(점수 * 빈도)총합/ 빈도 \n",
    "    \n",
    "    X_train[train_iloc.name]=(sentimental_score1[select_pos] * select_series).mean()\n",
    "X_train.fillna(0,inplace=True)\n",
    "\n",
    "\n",
    "\n",
    "#X_train_raw.iloc[0,:]\n",
    "\n",
    "\n",
    "#X_train_raw.loc[:,select_pos]\n",
    "    \n",
    "    \n",
    "#X_train_raw.iloc[0,X_train_raw.iloc[0,:].index[X_train_raw.iloc[0,:] != 0]]\n",
    "#X_train_raw.iloc[0,:] != 0\n",
    "#X_train_raw.iloc[0,X_train_raw.iloc[0,:] != 0]\n",
    "#/X_train_raw.iloc[0,:].sum()\n",
    "# row 마다 감성사전에서 점수를 계산한다 \n",
    "\n"
   ]
  },
  {
   "cell_type": "markdown",
   "metadata": {},
   "source": [
    "# 긍정부정 나눠서"
   ]
  },
  {
   "cell_type": "code",
   "execution_count": 76,
   "metadata": {},
   "outputs": [],
   "source": [
    "#train 부정 전처리 함수\n",
    "def train_pos_neg_processing(X_train_raw):\n",
    "    X_train = pd.DataFrame(columns=['긍정','부정'])\n",
    "    for train_idx in range(X_train_raw.shape[0]):\n",
    "        #해당번째 열 추출\n",
    "        train_iloc = X_train_raw.iloc[train_idx,:]\n",
    "        #값이존재하는 형태소 추출\n",
    "        select_pos = train_iloc.index[train_iloc != 0]\n",
    "        # 그 형태소의 인덱스\n",
    "        select_idx=[]\n",
    "        for pos_idx, pos_element in enumerate(select_pos):\n",
    "            for column_idx,column_element in enumerate(X_train_raw.columns):\n",
    "                if column_element == pos_element:\n",
    "                    select_idx.append(column_idx)\n",
    "        # 빈도\n",
    "        select_series = X_train_raw.iloc[train_idx,select_idx]    \n",
    "        #(점수 * 빈도)총합/ 빈도 \n",
    "\n",
    "\n",
    "        #plus_dict의 해당 형태소 점수를 뽑아오는 것이 목표이다.\n",
    "        #indexing하면 error뜨고 \n",
    "        #plus_dict에 해당 형태소가 존재하면\n",
    "\n",
    "    #     print(select_pos)\n",
    "    #     print(plus_dict[select_pos].dtype)\n",
    "\n",
    "        plus_pos = []\n",
    "        for value in select_pos:\n",
    "            for element in plus_dict1.index:\n",
    "                if value == element:\n",
    "                    plus_pos.append(element)\n",
    "        plus_idx = []            \n",
    "        for pos_idx, pos_element in enumerate(plus_pos):\n",
    "            for column_idx,column_element in enumerate(X_train_raw.columns):\n",
    "                if column_element == pos_element:\n",
    "                    plus_idx.append(column_idx)\n",
    "\n",
    "        minus_pos = []\n",
    "        for value in select_pos:\n",
    "            for element in minus_dict1.index:\n",
    "                if value == element:\n",
    "                    minus_pos.append(element)\n",
    "\n",
    "        minus_idx = []            \n",
    "        for pos_idx, pos_element in enumerate(minus_pos):\n",
    "            for column_idx,column_element in enumerate(X_train_raw.columns):\n",
    "                if column_element == pos_element:\n",
    "                    minus_idx.append(column_idx)\n",
    "\n",
    "\n",
    "        pos_freq = X_train_raw.iloc[train_idx,plus_idx]\n",
    "        pos_freq_sum = pos_freq.sum()  \n",
    "        pos_score_dot_freq = np.dot(plus_dict1[plus_pos],X_train_raw.iloc[train_idx,plus_idx])\n",
    "        minus_freq_sum = X_train_raw.iloc[train_idx,minus_idx].sum()\n",
    "        minus_score_dot_freq = np.dot(minus_dict1[minus_pos],X_train_raw.iloc[train_idx,minus_idx])    \n",
    "        X_train = X_train.append(pd.DataFrame([[pos_score_dot_freq/pos_freq_sum,(minus_score_dot_freq/minus_freq_sum)*(-1)]],columns=X_train.columns,index=[pos_freq.name]))    \n",
    "    X_train.fillna(0,inplace=True)\n",
    "    return X_train\n",
    "\n"
   ]
  },
  {
   "cell_type": "code",
   "execution_count": 77,
   "metadata": {},
   "outputs": [],
   "source": [
    "# X_train = pd.DataFrame(columns=['긍정','부정'])\n",
    "# for train_idx in range(X_train_raw.shape[0]):\n",
    "#     #해당번째 열 추출\n",
    "#     train_iloc = X_train_raw.iloc[train_idx,:]\n",
    "#     #값이존재하는 형태소 추출\n",
    "#     select_pos = train_iloc.index[train_iloc != 0]\n",
    "#     # 그 형태소의 인덱스\n",
    "#     select_idx=[]\n",
    "#     for pos_idx, pos_element in enumerate(select_pos):\n",
    "#         for column_idx,column_element in enumerate(X_train_raw.columns):\n",
    "#             if column_element == pos_element:\n",
    "#                 select_idx.append(column_idx)\n",
    "#     # 빈도\n",
    "#     select_series = X_train_raw.iloc[train_idx,select_idx]    \n",
    "#     #(점수 * 빈도)총합/ 빈도 \n",
    "    \n",
    "    \n",
    "#     #plus_dict의 해당 형태소 점수를 뽑아오는 것이 목표이다.\n",
    "#     #indexing하면 error뜨고 \n",
    "#     #plus_dict에 해당 형태소가 존재하면\n",
    "    \n",
    "# #     print(select_pos)\n",
    "# #     print(plus_dict[select_pos].dtype)\n",
    "    \n",
    "#     plus_pos = []\n",
    "#     for value in select_pos:\n",
    "#         for element in plus_dict1.index:\n",
    "#             if value == element:\n",
    "#                 plus_pos.append(element)\n",
    "#     plus_idx = []            \n",
    "#     for pos_idx, pos_element in enumerate(plus_pos):\n",
    "#         for column_idx,column_element in enumerate(X_train_raw.columns):\n",
    "#             if column_element == pos_element:\n",
    "#                 plus_idx.append(column_idx)\n",
    "                \n",
    "#     minus_pos = []\n",
    "#     for value in select_pos:\n",
    "#         for element in minus_dict1.index:\n",
    "#             if value == element:\n",
    "#                 minus_pos.append(element)\n",
    "                \n",
    "#     minus_idx = []            \n",
    "#     for pos_idx, pos_element in enumerate(minus_pos):\n",
    "#         for column_idx,column_element in enumerate(X_train_raw.columns):\n",
    "#             if column_element == pos_element:\n",
    "#                 minus_idx.append(column_idx)\n",
    "    \n",
    "                \n",
    "# #     print('plus_pos,minus_pos',plus_pos,minus_pos)\n",
    "# #     print('plus_idx,minus_idx',plus_idx,minus_idx)\n",
    "#     # t시점의 형태소 빈도 * 그 형태소의 점수 /해당 시점의 형태소의 합\n",
    "#     # 긍정\n",
    "#     # 각 시점의 각 형태소 갯수\n",
    "#     #print(X_train_raw.iloc[train_idx,plus_idx])\n",
    "#     # 각 시점의 형태소 합 \n",
    "#     pos_freq = X_train_raw.iloc[train_idx,plus_idx]\n",
    "#     pos_freq_sum = pos_freq.sum()\n",
    "#     #print(pos_freq_sum)\n",
    "#     pos_score_dot_freq = np.dot(plus_dict1[plus_pos],X_train_raw.iloc[train_idx,plus_idx])\n",
    "#     #print(pos_score_dot_freq)\n",
    "    \n",
    "#     #print(X_train_raw.iloc[train_idx,plus_idx])\n",
    "#     # 각 시점의 형태소 합 \n",
    "#     minus_freq_sum = X_train_raw.iloc[train_idx,minus_idx].sum()\n",
    "#     #print(minus_freq_sum)\n",
    "#     minus_score_dot_freq = np.dot(minus_dict1[minus_pos],X_train_raw.iloc[train_idx,minus_idx])\n",
    "#     #print(minus_score_dot_freq)\n",
    "#     #print(plus_dict1[plus_pos] * X_train_raw.iloc[train_idx,plus_idx]/data_filter_column_freq[plus_pos])\n",
    "#     #print(pd.DataFrame([[pos_score_dot_freq/pos_freq_sum,minus_score_dot_freq/minus_freq_sum]],columns=X_train.columns,index=[pos_freq.name]))\n",
    "#     X_train = X_train.append(pd.DataFrame([[pos_score_dot_freq/pos_freq_sum,minus_score_dot_freq/minus_freq_sum]],columns=X_train.columns,index=[pos_freq.name]))\n",
    "#     #X_train['부정'].append(minus_dict1[minus_pos] * X_train_raw.iloc[train_idx,minus_idx]/data_filter_column_freq[minus_pos])           \n",
    "    \n",
    "    \n",
    "    \n",
    "    \n",
    "#     #minus_dict에 해당 형태소가 존재하면    \n",
    "    \n",
    "#     #X_train[train_iloc.name,]=(sentimental_score1[select_pos] * select_series).mean()\n",
    "    \n",
    "    \n",
    "# X_train.fillna(0,inplace=True)\n",
    "\n"
   ]
  },
  {
   "cell_type": "code",
   "execution_count": 78,
   "metadata": {},
   "outputs": [
    {
     "data": {
      "text/plain": [
       "2017-06-08    0.150000\n",
       "2017-06-09    0.119581\n",
       "2017-06-13    0.228484\n",
       "2017-06-16    0.099645\n",
       "2017-06-23    0.000000\n",
       "2017-06-30    0.000000\n",
       "2017-07-04    0.000000\n",
       "2017-07-12   -0.027279\n",
       "2017-07-13    0.105950\n",
       "2017-07-18    0.018441\n",
       "2017-07-19    0.110972\n",
       "2017-07-20    0.113920\n",
       "2017-07-21    0.270703\n",
       "2017-07-24    0.140524\n",
       "2017-07-27    0.527896\n",
       "2017-08-02    0.237239\n",
       "2017-08-03    0.130956\n",
       "2017-08-04    0.161855\n",
       "2017-08-08   -0.024414\n",
       "2017-08-09    0.000000\n",
       "2017-08-11    0.102669\n",
       "2017-08-22    0.371373\n",
       "2017-08-30    0.191057\n",
       "2017-09-01    0.171471\n",
       "2017-09-06    0.380492\n",
       "2017-09-07    0.179712\n",
       "2017-09-15    0.166667\n",
       "2017-09-19    0.285046\n",
       "2017-09-27    0.000000\n",
       "2017-09-28    0.172454\n",
       "                ...   \n",
       "2018-05-14    0.447537\n",
       "2018-05-15    1.045664\n",
       "2018-05-16    0.145313\n",
       "2018-05-17    0.200239\n",
       "2018-05-18    1.318618\n",
       "2018-05-21    0.635222\n",
       "2018-05-23    0.316793\n",
       "2018-05-24    0.489773\n",
       "2018-05-25    0.071806\n",
       "2018-05-28    0.302766\n",
       "2018-05-29    0.549963\n",
       "2018-05-30    0.207325\n",
       "2018-05-31    0.580172\n",
       "2018-06-05    0.108014\n",
       "2018-06-08    0.080409\n",
       "2018-06-12    0.317705\n",
       "2018-06-15    0.055556\n",
       "2018-06-22    0.158980\n",
       "2018-06-26    0.000000\n",
       "2018-06-28   -0.088889\n",
       "2018-07-03    0.185410\n",
       "2018-07-04    0.166048\n",
       "2018-07-05    0.588162\n",
       "2018-07-06    0.052587\n",
       "2018-07-10   -0.044082\n",
       "2018-07-11    0.031048\n",
       "2018-07-13    0.123515\n",
       "2018-07-19    0.243974\n",
       "2018-07-25    0.164840\n",
       "2018-07-26   -0.080302\n",
       "Length: 143, dtype: float64"
      ]
     },
     "execution_count": 78,
     "metadata": {},
     "output_type": "execute_result"
    }
   ],
   "source": [
    "X_train"
   ]
  },
  {
   "cell_type": "code",
   "execution_count": 79,
   "metadata": {},
   "outputs": [
    {
     "name": "stderr",
     "output_type": "stream",
     "text": [
      "C:\\ProgramData\\Anaconda3\\lib\\site-packages\\ipykernel_launcher.py:56: RuntimeWarning: invalid value encountered in double_scalars\n"
     ]
    }
   ],
   "source": [
    "X_train = train_pos_neg_processing(X_train_raw)\n",
    "X_test = train_pos_neg_processing(X_test_raw)"
   ]
  },
  {
   "cell_type": "code",
   "execution_count": null,
   "metadata": {},
   "outputs": [],
   "source": []
  },
  {
   "cell_type": "code",
   "execution_count": 80,
   "metadata": {},
   "outputs": [
    {
     "data": {
      "text/plain": [
       "(143, 2)"
      ]
     },
     "execution_count": 80,
     "metadata": {},
     "output_type": "execute_result"
    }
   ],
   "source": [
    "X_train.shape"
   ]
  },
  {
   "cell_type": "code",
   "execution_count": 81,
   "metadata": {},
   "outputs": [
    {
     "data": {
      "text/plain": [
       "(143,)"
      ]
     },
     "execution_count": 81,
     "metadata": {},
     "output_type": "execute_result"
    }
   ],
   "source": [
    "y_train.shape"
   ]
  },
  {
   "cell_type": "code",
   "execution_count": null,
   "metadata": {},
   "outputs": [],
   "source": []
  },
  {
   "cell_type": "code",
   "execution_count": 510,
   "metadata": {},
   "outputs": [
    {
     "name": "stdout",
     "output_type": "stream",
     "text": [
      "X_train_shape: (143, 2)\n"
     ]
    },
    {
     "name": "stderr",
     "output_type": "stream",
     "text": [
      "C:\\ProgramData\\Anaconda3\\lib\\site-packages\\sklearn\\svm\\base.py:196: FutureWarning: The default value of gamma will change from 'auto' to 'scale' in version 0.22 to account better for unscaled features. Set gamma explicitly to 'auto' or 'scale' to avoid this warning.\n",
      "  \"avoid this warning.\", FutureWarning)\n",
      "C:\\ProgramData\\Anaconda3\\lib\\site-packages\\sklearn\\ensemble\\forest.py:246: FutureWarning: The default value of n_estimators will change from 10 in version 0.20 to 100 in 0.22.\n",
      "  \"10 in version 0.20 to 100 in 0.22.\", FutureWarning)\n",
      "C:\\ProgramData\\Anaconda3\\lib\\site-packages\\sklearn\\ensemble\\forest.py:246: FutureWarning: The default value of n_estimators will change from 10 in version 0.20 to 100 in 0.22.\n",
      "  \"10 in version 0.20 to 100 in 0.22.\", FutureWarning)\n",
      "C:\\ProgramData\\Anaconda3\\lib\\site-packages\\sklearn\\linear_model\\logistic.py:433: FutureWarning: Default solver will be changed to 'lbfgs' in 0.22. Specify a solver to silence this warning.\n",
      "  FutureWarning)\n",
      "C:\\ProgramData\\Anaconda3\\lib\\site-packages\\sklearn\\neural_network\\multilayer_perceptron.py:562: ConvergenceWarning: Stochastic Optimizer: Maximum iterations (200) reached and the optimization hasn't converged yet.\n",
      "  % self.max_iter, ConvergenceWarning)\n"
     ]
    }
   ],
   "source": [
    "model_result = Counter()\n",
    "train_result= Counter()\n",
    "test_result = Counter()\n",
    "confusion_matrix_result = Counter()\n",
    "auc_result = Counter()\n",
    "precision_score_result=Counter()\n",
    "lenx=X_train.shape\n",
    "# if lenx[0]<=10 or lenx[1]<=2:\n",
    "#     continue\n",
    "classifiers = []\n",
    "classifiers_not = []\n",
    "random_state = [4000]\n",
    "\n",
    "\n",
    "\n",
    "# gsRFC = (RFC,rf_param_grid, cv=kfold, scoring=\"accuracy\", n_jobs= 4, verbose = 1)\n",
    "Cs = [0.0001, 0.001, 0.01, 0.1, 1, 10, 100]\n",
    "gammas = [0.001, 0.01, 0.1, 1]\n",
    "kernel = ['linear', 'rbf', 'sigmoid']#'precomputed','poly'\n",
    "nfolds=5\n",
    "criterion = [\"gini\", 'entropy']\n",
    "#grid_search = (SVC(), param_grid_svc, cv=nfolds)\n",
    "n_estimators = [500,1000,2000]\n",
    "learning_rate = [0.01]\n",
    "max_depth = [3, 5, 10, 15 ,20]\n",
    "solver = ['newton-cg', 'lbfgs', 'liblinear', 'sag', 'saga']\n",
    "scoring = 'accuracy'\n",
    "n_jobs= -1\n",
    "penalty= ['l2']\n",
    "max_features = [2]\n",
    "\n",
    "\n",
    "#gsExtC = (ExtraTreesClassifier, ex_param_grid, cv=nfold, scoring=\"auc\")\n",
    "\n",
    "print('X_train_shape:',X_train.shape)\n",
    "classifiers.append(SVC(random_state=4000))\n",
    "classifiers.append(RandomForestClassifier(random_state=4000))\n",
    "classifiers.append(ExtraTreesClassifier(random_state=4000))\n",
    "classifiers.append(GradientBoostingClassifier(random_state=4000))\n",
    "\n",
    "classifiers.append(KNeighborsClassifier())\n",
    "classifiers.append(LogisticRegression(penalty='l2',random_state=4000))\n",
    "\n",
    "classifiers.append(XGBClassifier(random_state=4000))\n",
    "classifiers.append(LinearSVC(random_state=4000))\n",
    "classifiers.append(MLPClassifier(random_state=4000))\n",
    "\n",
    "\n",
    "\n",
    "\n",
    "\n",
    "\n",
    "\n",
    "\n",
    "\n",
    "#classifiers.append(XGBClassifier())\n",
    "test_accuracy_list = []\n",
    "train_accuracy_list= [] \n",
    "model_accuracy_list= []\n",
    "confusion_matrix_list = []\n",
    "precision_score_list = []\n",
    "auc_list = []\n",
    "for models in classifiers:\n",
    "    #print(models)\n",
    "    models.fit(X_train,y_train)\n",
    "    \n",
    "    model_str = str(models).split('(')[0]\n",
    "    \n",
    "    pre = models.predict(X_test)\n",
    "    \n",
    "    tmp_dict1 = {}\n",
    "    tmp_dict1[model_str] = models.score(X_test,y_test)\n",
    "    test_accuracy_list.append(tmp_dict1)\n",
    "    \n",
    "    tmp_dict2 = {}\n",
    "    tmp_dict2[model_str] = models.score(X_train,y_train)\n",
    "    train_accuracy_list.append(tmp_dict2)\n",
    "    \n",
    "    tmp_dict3 = {}\n",
    "    tmp_dict3[model_str] = metrics.accuracy_score(y_test, pre)\n",
    "    model_accuracy_list.append(tmp_dict3)\n",
    "    \n",
    "    # 전역변수로, 지역변수 문제라 생각한다.\n",
    "    tmp_dict4 = {}\n",
    "    tmp_dict4[model_str] = confusion_matrix(y_test,pre)\n",
    "    confusion_matrix_list.append(tmp_dict4)\n",
    "    \n",
    "    \n",
    "    tmp_dict5 ={}\n",
    "    tmp_dict5[model_str] = metrics.precision_score(y_test,pre)\n",
    "    precision_score_list.append(tmp_dict5)\n",
    "    #confusion_matrix_list.append(confusion_matrix(y_test,pre))\n",
    "for models in classifiers_not:\n",
    "    \n",
    "    models.fit(X_train,y_train)\n",
    "    \n",
    "    model_str = str(models).split('(')[0]\n",
    "    pre = models.predict(X_test)\n",
    "    \n",
    "    \n",
    "    tmp_dict1 = {}\n",
    "    tmp_dict1[model_str] = models.score(X_test,y_test)\n",
    "    test_accuracy_list.append(tmp_dict1)\n",
    "    \n",
    "    tmp_dict2 = {}\n",
    "    tmp_dict2[model_str] = models.score(X_train,y_train)\n",
    "    train_accuracy_list.append(tmp_dict2)\n",
    "    \n",
    "    tmp_dict3 = {}\n",
    "    tmp_dict3[model_str] = metrics.accuracy_score(y_test, pre)\n",
    "    model_accuracy_list.append(tmp_dict3)\n",
    "    \n",
    "    # 전역변수로, 지역변수 문제라 생각한다.\n",
    "    tmp_dict4 = {}\n",
    "    tmp_dict4[model_str] = confusion_matrix(y_test,pre)\n",
    "    confusion_matrix_list.append(tmp_dict4)\n",
    "    \n",
    "    tmp_dict5 ={}\n",
    "    tmp_dict5[model_str] = metrics.precision_score(y_test,pre)\n",
    "    precision_score_list.append(tmp_dict5)\n",
    "    \n",
    "    #confusion_matrix_list.append(confusion_matrix(y_test,pre))    \n",
    "\n",
    "    \n",
    "train_result[stock_code] = train_accuracy_list\n",
    "test_result[stock_code] = test_accuracy_list\n",
    "model_result[stock_code] = model_accuracy_list\n",
    "confusion_matrix_result[stock_code] = confusion_matrix_list\n",
    "precision_score_result[stock_code]=precision_score_list\n",
    "\n"
   ]
  },
  {
   "cell_type": "code",
   "execution_count": 511,
   "metadata": {},
   "outputs": [],
   "source": [
    "model_list=['SVC',\n",
    "'RandomForest',\n",
    "'ExtraTrees',\n",
    "'GradientBoosting',\n",
    "'Kneighbors',\n",
    "'Logistic',\n",
    "'XGBoost',\n",
    "'LinearSVC',\n",
    "'MLP']"
   ]
  },
  {
   "cell_type": "code",
   "execution_count": 512,
   "metadata": {},
   "outputs": [],
   "source": [
    "# for idx,element in enumerate(model_list):    \n",
    "#     tmp_dict = {}\n",
    "#     tmp_dict[element] = confusion_matrix_result[stock_code][idx]['GridSearchCV']\n",
    "#     confusion_matrix_result[stock_code][idx] = tmp_dict\n",
    "# print(confusion_matrix_result)\n",
    "# for idx,element in enumerate(model_list):    \n",
    "#     tmp_dict = {}\n",
    "#     tmp_dict[element] = model_result[stock_code][idx]['GridSearchCV']\n",
    "#     model_result[stock_code][idx] = tmp_dict\n",
    "# print(model_result)\n",
    "# for idx,element in enumerate(model_list):    \n",
    "#     tmp_dict = {}\n",
    "#     tmp_dict[element] = train_result[stock_code][idx]['GridSearchCV']\n",
    "#     train_result[stock_code][idx] = tmp_dict\n",
    "# print(train_result)\n",
    "# for idx,element in enumerate(model_list):    \n",
    "#     tmp_dict = {}\n",
    "#     tmp_dict[element] = test_result[stock_code][idx]['GridSearchCV']\n",
    "#     test_result[stock_code][idx] = tmp_dict\n",
    "# print(test_result)\n",
    "# for idx,element in enumerate(model_list):    \n",
    "#     tmp_dict = {}\n",
    "#     tmp_dict[element] = precision_score_result[stock_code][idx]['GridSearchCV']\n",
    "#     precision_score_result[stock_code][idx] = tmp_dict\n",
    "# print(precision_score_result)     \n",
    "# for idx,element in enumerate(model_list):    \n",
    "#     tmp_dict = {}\n",
    "#     tmp_dict[element] = precision_train_result[stock_code][idx]['GridSearchCV']\n",
    "#     precision_train_result[stock_code][idx] = tmp_dict\n",
    "# print(precision_score_result)   "
   ]
  },
  {
   "cell_type": "code",
   "execution_count": 513,
   "metadata": {},
   "outputs": [
    {
     "name": "stdout",
     "output_type": "stream",
     "text": [
      "RandomForest\n"
     ]
    }
   ],
   "source": [
    "a = {'RandomForestClassifier':1}\n",
    "for element in a.keys():\n",
    "    print(element[:element.find('Classifier')])"
   ]
  },
  {
   "cell_type": "code",
   "execution_count": 514,
   "metadata": {},
   "outputs": [
    {
     "data": {
      "text/plain": [
       "[{'SVC': 0.5384615384615384},\n",
       " {'RandomForestClassifier': 0.9090909090909091},\n",
       " {'ExtraTreesClassifier': 0.965034965034965},\n",
       " {'GradientBoostingClassifier': 0.9300699300699301},\n",
       " {'KNeighborsClassifier': 0.7342657342657343},\n",
       " {'LogisticRegression': 0.5524475524475524},\n",
       " {'XGBClassifier': 0.7832167832167832},\n",
       " {'LinearSVC': 0.6433566433566433},\n",
       " {'MLPClassifier': 0.6083916083916084}]"
      ]
     },
     "execution_count": 514,
     "metadata": {},
     "output_type": "execute_result"
    }
   ],
   "source": [
    "train_accuracy_list"
   ]
  },
  {
   "cell_type": "code",
   "execution_count": 515,
   "metadata": {},
   "outputs": [],
   "source": [
    "for element in train_accuracy_list:\n",
    "    for key in element.keys():\n",
    "        if key.find('RandomForestClassifier')>=0:\n",
    "            element['RF'] = element[key]\n",
    "            del element[key]\n",
    "        if key.find('ExtraTreesClassifier')>=0:        \n",
    "            element['ET'] = element[key]\n",
    "            del element[key]\n",
    "        if key.find('GradientBoostingClassifier')>=0:        \n",
    "            element['GB'] = element[key]\n",
    "            del element[key]\n",
    "        if key.find('KNeighborsClassifier')>=0:        \n",
    "            element['KNN'] = element[key]\n",
    "            del element[key]\n",
    "        if key.find('LogisticRegression')>=0:        \n",
    "            element['LR'] = element[key]\n",
    "            del element[key]\n",
    "        if key.find('XGBClassifier')>=0:        \n",
    "            element['XGB'] = element[key]\n",
    "            del element[key]\n",
    "        if key.find('LinearSVC')>=0:        \n",
    "            element['LSVC'] = element[key]\n",
    "            del element[key]        \n",
    "        if key.find('MLPClassifier')>=0:        \n",
    "            element['MLP'] = element[key]\n",
    "            del element[key]\n",
    "        if key.find('LinearDiscriminantAnalysis')>=0:        \n",
    "            element['LDA'] = element[key]\n",
    "            del element[key]\n",
    "        if key.find('GaussianNB')>=0:        \n",
    "            element['GNB'] = element[key]\n",
    "            del element[key]\n",
    "        if key.find('MultinomialNB')>=0:        \n",
    "            element['MNB'] = element[key]\n",
    "            del element[key]\n",
    "        if key.find('BernoulliNB')>=0:        \n",
    "            element['BNB'] = element[key]\n",
    "            del element[key]"
   ]
  },
  {
   "cell_type": "code",
   "execution_count": 516,
   "metadata": {},
   "outputs": [
    {
     "data": {
      "text/plain": [
       "[{'SVC': 0.5384615384615384},\n",
       " {'RF': 0.9090909090909091},\n",
       " {'ET': 0.965034965034965},\n",
       " {'GB': 0.9300699300699301},\n",
       " {'KNN': 0.7342657342657343},\n",
       " {'LR': 0.5524475524475524},\n",
       " {'XGB': 0.7832167832167832},\n",
       " {'LSVC': 0.6433566433566433},\n",
       " {'MLP': 0.6083916083916084}]"
      ]
     },
     "execution_count": 516,
     "metadata": {},
     "output_type": "execute_result"
    }
   ],
   "source": [
    "train_accuracy_list"
   ]
  },
  {
   "cell_type": "code",
   "execution_count": 517,
   "metadata": {},
   "outputs": [],
   "source": [
    "train_dict=Counter()\n",
    "for element in train_accuracy_list:\n",
    "    train_dict.update(element)\n",
    "\n",
    "train_keys=sorted(train_dict,key=lambda x:train_dict[x],reverse=True)\n",
    "train_values=sorted(train_dict.values(),reverse=True)"
   ]
  },
  {
   "cell_type": "code",
   "execution_count": null,
   "metadata": {},
   "outputs": [],
   "source": []
  },
  {
   "cell_type": "code",
   "execution_count": 518,
   "metadata": {
    "scrolled": true
   },
   "outputs": [
    {
     "data": {
      "text/plain": [
       "{'SVC': (0.86, 0.3712, 0.33999999999999997),\n",
       " 'RF': (0.86, 0.7178666666666667, 0.33999999999999997),\n",
       " 'ET': (0.6554666666666664, 0.86, 0.33999999999999997),\n",
       " 'GB': (0.33999999999999997, 0.86, 0.3712),\n",
       " 'KNN': (0.33999999999999997, 0.86, 0.7178666666666667),\n",
       " 'LR': (0.33999999999999997, 0.6554666666666664, 0.86),\n",
       " 'XGB': (0.3712, 0.33999999999999997, 0.86),\n",
       " 'LSVC': (0.7178666666666661, 0.33999999999999997, 0.86),\n",
       " 'MLP': (0.86, 0.33999999999999997, 0.6554666666666664)}"
      ]
     },
     "execution_count": 518,
     "metadata": {},
     "output_type": "execute_result"
    }
   ],
   "source": [
    "color_dict= dict(zip(train_dict.keys(),sns.color_palette(\"hls\", len(classifiers)+len(classifiers_not))))\n",
    "color_dict"
   ]
  },
  {
   "cell_type": "code",
   "execution_count": 519,
   "metadata": {},
   "outputs": [
    {
     "data": {
      "text/plain": [
       "['ET', 'GB', 'RF', 'XGB', 'KNN', 'LSVC', 'MLP', 'LR', 'SVC']"
      ]
     },
     "execution_count": 519,
     "metadata": {},
     "output_type": "execute_result"
    }
   ],
   "source": [
    "train_keys"
   ]
  },
  {
   "cell_type": "code",
   "execution_count": 520,
   "metadata": {},
   "outputs": [],
   "source": [
    "train_legend = ['ExtraTree','GradientBoost','RandomForest','XGBoost','KNN','LinearSVC','MLP','LogisticRegression','SVC']"
   ]
  },
  {
   "cell_type": "code",
   "execution_count": 521,
   "metadata": {},
   "outputs": [
    {
     "data": {
      "text/plain": [
       "<matplotlib.axes._subplots.AxesSubplot at 0x1d163c3f358>"
      ]
     },
     "execution_count": 521,
     "metadata": {},
     "output_type": "execute_result"
    },
    {
     "data": {
      "image/png": "[encoded data removed]",
      "text/plain": [
       "<Figure size 720x576 with 1 Axes>"
      ]
     },
     "metadata": {
      "needs_background": "light"
     },
     "output_type": "display_data"
    }
   ],
   "source": [
    "plt.figure(figsize=(10,8))\n",
    "plt.title('Accuracy(Train)',fontsize = 20)\n",
    "plt.xticks(rotation=45,fontsize=15)\n",
    "plt.ylim((0.5,1))\n",
    "\n",
    "ax = sns.barplot(train_keys,train_values,palette=[color_dict[key] for key in train_keys],hue=train_legend)\n",
    "plt.setp(ax.get_legend().get_texts(), fontsize='18')\n",
    "sns.barplot(train_keys,train_values,palette=[color_dict[key] for key in train_keys]) # 그래프가 바뀌어도 분류기에 대한 색깔이 변치 않기위해"
   ]
  },
  {
   "cell_type": "code",
   "execution_count": 522,
   "metadata": {},
   "outputs": [],
   "source": [
    "for element in test_accuracy_list:\n",
    "    for key in element.keys():\n",
    "        if key.find('RandomForestClassifier')>=0:\n",
    "            element['RF'] = element[key]\n",
    "            del element[key]\n",
    "        if key.find('ExtraTreesClassifier')>=0:        \n",
    "            element['ET'] = element[key]\n",
    "            del element[key]\n",
    "        if key.find('GradientBoostingClassifier')>=0:        \n",
    "            element['GB'] = element[key]\n",
    "            del element[key]\n",
    "        if key.find('KNeighborsClassifier')>=0:        \n",
    "            element['KNN'] = element[key]\n",
    "            del element[key]\n",
    "        if key.find('LogisticRegression')>=0:        \n",
    "            element['LR'] = element[key]\n",
    "            del element[key]\n",
    "        if key.find('XGBClassifier')>=0:        \n",
    "            element['XGB'] = element[key]\n",
    "            del element[key]\n",
    "        if key.find('LinearSVC')>=0:        \n",
    "            element['LSVC'] = element[key]\n",
    "            del element[key]        \n",
    "        if key.find('MLPClassifier')>=0:        \n",
    "            element['MLP'] = element[key]\n",
    "            del element[key]\n",
    "        if key.find('LinearDiscriminantAnalysis')>=0:        \n",
    "            element['LDA'] = element[key]\n",
    "            del element[key]\n",
    "        if key.find('GaussianNB')>=0:        \n",
    "            element['GNB'] = element[key]\n",
    "            del element[key]\n",
    "        if key.find('MultinomialNB')>=0:        \n",
    "            element['MNB'] = element[key]\n",
    "            del element[key]\n",
    "        if key.find('BernoulliNB')>=0:        \n",
    "            element['BNB'] = element[key]\n",
    "            del element[key]"
   ]
  },
  {
   "cell_type": "code",
   "execution_count": 523,
   "metadata": {},
   "outputs": [
    {
     "data": {
      "text/plain": [
       "<matplotlib.axes._subplots.AxesSubplot at 0x1d166bc02b0>"
      ]
     },
     "execution_count": 523,
     "metadata": {},
     "output_type": "execute_result"
    },
    {
     "data": {
      "image/png": "[encoded data removed]",
      "text/plain": [
       "<Figure size 720x576 with 1 Axes>"
      ]
     },
     "metadata": {
      "needs_background": "light"
     },
     "output_type": "display_data"
    }
   ],
   "source": [
    "test_dict=Counter()\n",
    "for element in test_accuracy_list:\n",
    "    test_dict.update(element)\n",
    "test_keys=sorted(test_dict.keys(),key=lambda x:test_dict[x],reverse=True)\n",
    "test_values=sorted(test_dict.values(),reverse=True)\n",
    "plt.figure(figsize=(10,8))\n",
    "plt.title('Accuracy(Test)',fontsize=20)\n",
    "plt.xticks(rotation=45,fontsize=15)\n",
    "plt.ylim((0.475,0.65))\n",
    "sns.barplot(test_keys,test_values,palette=[color_dict[key] for key in test_keys])#lsvc mlp gnb/ bnb"
   ]
  },
  {
   "cell_type": "code",
   "execution_count": null,
   "metadata": {},
   "outputs": [],
   "source": []
  },
  {
   "cell_type": "code",
   "execution_count": null,
   "metadata": {},
   "outputs": [],
   "source": []
  },
  {
   "cell_type": "code",
   "execution_count": null,
   "metadata": {},
   "outputs": [],
   "source": []
  },
  {
   "cell_type": "code",
   "execution_count": 524,
   "metadata": {},
   "outputs": [
    {
     "data": {
      "text/plain": [
       "<matplotlib.axes._subplots.AxesSubplot at 0x1d1675914e0>"
      ]
     },
     "execution_count": 524,
     "metadata": {},
     "output_type": "execute_result"
    },
    {
     "data": {
      "image/png": "[encoded data removed]",
      "text/plain": [
       "<Figure size 720x576 with 1 Axes>"
      ]
     },
     "metadata": {
      "needs_background": "light"
     },
     "output_type": "display_data"
    }
   ],
   "source": [
    "train_test1 = train_dict - test_dict\n",
    "train_test2 =  test_dict - train_dict\n",
    "train_test1.update(train_test2)\n",
    "train_test_dict = train_test1\n",
    "test_keys=sorted(train_test_dict.keys(),key=lambda x:train_test_dict[x],reverse=True)\n",
    "test_values=sorted(train_test_dict.values(),reverse=True)\n",
    "plt.figure(figsize=(10,8))\n",
    "plt.title('Difference(Train,Test)',fontsize=20)\n",
    "plt.xticks(rotation=45,fontsize=15)\n",
    "plt.ylim((0,0.45))\n",
    "\n",
    "sns.barplot(test_keys,test_values,palette=[color_dict[key] for key in test_keys])#gb et rf xgb knn"
   ]
  },
  {
   "cell_type": "code",
   "execution_count": 311,
   "metadata": {},
   "outputs": [],
   "source": [
    "for element in precision_score_list:\n",
    "    for key in element.keys():\n",
    "        if key.find('RandomForestClassifier')>=0:\n",
    "            element['RF'] = element[key]\n",
    "            del element[key]\n",
    "        if key.find('ExtraTreesClassifier')>=0:        \n",
    "            element['ET'] = element[key]\n",
    "            del element[key]\n",
    "        if key.find('GradientBoostingClassifier')>=0:        \n",
    "            element['GB'] = element[key]\n",
    "            del element[key]\n",
    "        if key.find('KNeighborsClassifier')>=0:        \n",
    "            element['KNN'] = element[key]\n",
    "            del element[key]\n",
    "        if key.find('LogisticRegression')>=0:        \n",
    "            element['LR'] = element[key]\n",
    "            del element[key]\n",
    "        if key.find('XGBClassifier')>=0:        \n",
    "            element['XGB'] = element[key]\n",
    "            del element[key]\n",
    "        if key.find('LinearSVC')>=0:        \n",
    "            element['LSVC'] = element[key]\n",
    "            del element[key]        \n",
    "        if key.find('MLPClassifier')>=0:        \n",
    "            element['MLP'] = element[key]\n",
    "            del element[key]\n",
    "        if key.find('LinearDiscriminantAnalysis')>=0:        \n",
    "            element['LDA'] = element[key]\n",
    "            del element[key]\n",
    "        if key.find('GaussianNB')>=0:        \n",
    "            element['GNB'] = element[key]\n",
    "            del element[key]\n",
    "        if key.find('MultinomialNB')>=0:        \n",
    "            element['MNB'] = element[key]\n",
    "            del element[key]\n",
    "        if key.find('BernoulliNB')>=0:        \n",
    "            element['BNB'] = element[key]\n",
    "            del element[key]"
   ]
  },
  {
   "cell_type": "code",
   "execution_count": 312,
   "metadata": {},
   "outputs": [
    {
     "data": {
      "text/plain": [
       "<matplotlib.axes._subplots.AxesSubplot at 0x1d161cdbd68>"
      ]
     },
     "execution_count": 312,
     "metadata": {},
     "output_type": "execute_result"
    },
    {
     "data": {
      "image/png": "[encoded data removed]",
      "text/plain": [
       "<Figure size 720x576 with 1 Axes>"
      ]
     },
     "metadata": {
      "needs_background": "light"
     },
     "output_type": "display_data"
    }
   ],
   "source": [
    "precision_score_dict={}\n",
    "for element in precision_score_list:\n",
    "    precision_score_dict.update(element)\n",
    "precision_score_keys=sorted(precision_score_dict.keys(),key=lambda x:precision_score_dict[x],reverse=True)\n",
    "precision_score_values=sorted(precision_score_dict.values(),reverse=True)\n",
    "plt.figure(figsize=(10,8))\n",
    "plt.title('Precision(Test)',fontsize=20)\n",
    "plt.xticks(rotation=45,fontsize=15)\n",
    "plt.ylim((0.5,0.75))\n",
    "sns.barplot(precision_score_keys,precision_score_values,palette=[color_dict[key] for key in precision_score_keys])"
   ]
  },
  {
   "cell_type": "code",
   "execution_count": 313,
   "metadata": {},
   "outputs": [
    {
     "data": {
      "text/plain": [
       "Counter({'SVC': 0.5384615384615384,\n",
       "         'RF': 0.9090909090909091,\n",
       "         'ET': 0.965034965034965,\n",
       "         'GB': 0.9300699300699301,\n",
       "         'KNN': 0.7342657342657343,\n",
       "         'LR': 0.5524475524475524,\n",
       "         'XGB': 0.7832167832167832,\n",
       "         'LSVC': 0.6433566433566433,\n",
       "         'MLP': 0.6083916083916084})"
      ]
     },
     "execution_count": 313,
     "metadata": {},
     "output_type": "execute_result"
    }
   ],
   "source": [
    "train_dict"
   ]
  },
  {
   "cell_type": "code",
   "execution_count": 314,
   "metadata": {},
   "outputs": [
    {
     "data": {
      "text/plain": [
       "Counter({'SVC': 0.5352112676056338,\n",
       "         'RF': 0.5633802816901409,\n",
       "         'ET': 0.5774647887323944,\n",
       "         'GB': 0.49295774647887325,\n",
       "         'KNN': 0.5774647887323944,\n",
       "         'LR': 0.5352112676056338,\n",
       "         'XGB': 0.5492957746478874,\n",
       "         'LSVC': 0.6338028169014085,\n",
       "         'MLP': 0.6338028169014085})"
      ]
     },
     "execution_count": 314,
     "metadata": {},
     "output_type": "execute_result"
    }
   ],
   "source": [
    "test_dict"
   ]
  },
  {
   "cell_type": "code",
   "execution_count": null,
   "metadata": {},
   "outputs": [],
   "source": []
  },
  {
   "cell_type": "code",
   "execution_count": 315,
   "metadata": {},
   "outputs": [
    {
     "data": {
      "text/plain": [
       "{'SVC': 0.5352112676056338,\n",
       " 'RF': 0.6842105263157895,\n",
       " 'ET': 0.7222222222222222,\n",
       " 'GB': 0.5185185185185185,\n",
       " 'KNN': 0.6818181818181818,\n",
       " 'LR': 0.5352112676056338,\n",
       " 'XGB': 0.6363636363636364,\n",
       " 'LSVC': 0.7,\n",
       " 'MLP': 0.6875}"
      ]
     },
     "execution_count": 315,
     "metadata": {},
     "output_type": "execute_result"
    }
   ],
   "source": [
    "precision_score_dict"
   ]
  },
  {
   "cell_type": "code",
   "execution_count": 316,
   "metadata": {},
   "outputs": [],
   "source": [
    "from sklearn.model_selection import TimeSeriesSplit\n",
    "from collections import Counter"
   ]
  },
  {
   "cell_type": "code",
   "execution_count": null,
   "metadata": {},
   "outputs": [],
   "source": []
  },
  {
   "cell_type": "markdown",
   "metadata": {},
   "source": [
    "### scaling 이전 start"
   ]
  },
  {
   "cell_type": "markdown",
   "metadata": {},
   "source": [
    "# 상위모델 선정O"
   ]
  },
  {
   "cell_type": "code",
   "execution_count": 535,
   "metadata": {
    "scrolled": true
   },
   "outputs": [
    {
     "name": "stdout",
     "output_type": "stream",
     "text": [
      "X_train_shape: (143, 2)\n",
      "GridSearchCV : {'criterion': 'gini', 'max_depth': 3, 'max_features': 2, 'n_estimators': 500, 'random_state': 4000}\n",
      "GridSearchCV : {'bootstrap': True, 'criterion': 'gini', 'max_depth': 10, 'max_features': 2, 'n_estimators': 1000, 'random_state': 4000}\n",
      "GridSearchCV : {'learning_rate': 0.01, 'loss': 'deviance', 'max_depth': 3, 'max_features': 0.3, 'min_samples_leaf': 200, 'n_estimators': 500, 'random_state': 4000}\n",
      "GridSearchCV : {'gamma': 0.3, 'learning_rate': 0.001, 'n_estimators': 500, 'random_state': 4000, 'subsample': 0.9}\n",
      "GridSearchCV : {'n_neighbors': 5}\n",
      "LogisticRegression : LogisticRegression(C=1.0, class_weight=None, dual=False, fit_intercept=True,\n",
      "          intercept_scaling=1, max_iter=100, multi_class='warn',\n",
      "          n_jobs=None, penalty='l2', random_state=4000, solver='warn',\n",
      "          tol=0.0001, verbose=0, warm_start=False)\n",
      "LinearSVC : LinearSVC(C=1.0, class_weight=None, dual=True, fit_intercept=True,\n",
      "     intercept_scaling=1, loss='squared_hinge', max_iter=1000,\n",
      "     multi_class='ovr', penalty='l2', random_state=4000, tol=0.0001,\n",
      "     verbose=0)\n",
      "MLPClassifier : MLPClassifier(activation='relu', alpha=0.0001, batch_size='auto', beta_1=0.9,\n",
      "       beta_2=0.999, early_stopping=False, epsilon=1e-08,\n",
      "       hidden_layer_sizes=(100,), learning_rate='constant',\n",
      "       learning_rate_init=0.001, max_iter=200, momentum=0.9,\n",
      "       n_iter_no_change=10, nesterovs_momentum=True, power_t=0.5,\n",
      "       random_state=4000, shuffle=True, solver='adam', tol=0.0001,\n",
      "       validation_fraction=0.1, verbose=False, warm_start=False)\n",
      "SVC : SVC(C=1.0, cache_size=200, class_weight=None, coef0=0.0,\n",
      "  decision_function_shape='ovr', degree=3, gamma='auto_deprecated',\n",
      "  kernel='rbf', max_iter=-1, probability=False, random_state=4000,\n",
      "  shrinking=True, tol=0.001, verbose=False)\n"
     ]
    },
    {
     "name": "stderr",
     "output_type": "stream",
     "text": [
      "C:\\ProgramData\\Anaconda3\\lib\\site-packages\\sklearn\\linear_model\\logistic.py:433: FutureWarning: Default solver will be changed to 'lbfgs' in 0.22. Specify a solver to silence this warning.\n",
      "  FutureWarning)\n",
      "C:\\ProgramData\\Anaconda3\\lib\\site-packages\\sklearn\\neural_network\\multilayer_perceptron.py:562: ConvergenceWarning: Stochastic Optimizer: Maximum iterations (200) reached and the optimization hasn't converged yet.\n",
      "  % self.max_iter, ConvergenceWarning)\n",
      "C:\\ProgramData\\Anaconda3\\lib\\site-packages\\sklearn\\svm\\base.py:196: FutureWarning: The default value of gamma will change from 'auto' to 'scale' in version 0.22 to account better for unscaled features. Set gamma explicitly to 'auto' or 'scale' to avoid this warning.\n",
      "  \"avoid this warning.\", FutureWarning)\n"
     ]
    }
   ],
   "source": [
    "model_result = Counter()\n",
    "train_result= Counter()\n",
    "test_result = Counter()\n",
    "confusion_matrix_result = Counter()\n",
    "auc_result = Counter()\n",
    "precision_score_result=Counter()\n",
    "precision_train_result = Counter()\n",
    "lenx=X_train.shape\n",
    "# if lenx[0]<=10 or lenx[1]<=2:\n",
    "#     continue\n",
    "classifiers = []\n",
    "classifiers_not = []\n",
    "random_state = [4000]\n",
    "\n",
    "\n",
    "\n",
    "# gsRFC = GridSearchCV(RFC,param_grid = rf_param_grid, cv=kfold, scoring=\"accuracy\", n_jobs= 4, verbose = 1)\n",
    "Cs = [0.0001, 0.001, 0.01, 0.1, 1, 10, 100]\n",
    "gammas = [0.001, 0.01, 0.1, 1]\n",
    "kernel = ['linear', 'rbf', 'sigmoid']#'precomputed','poly'\n",
    "#nfolds=5\n",
    "nfolds=TimeSeriesSplit(n_splits=6)\n",
    "criterion = [\"gini\", 'entropy']\n",
    "#grid_search = GridSearchCV(SVC(), param_grid_svc, cv=nfolds)\n",
    "n_estimators = [500,1000,2000,5000]\n",
    "learning_rate = [0.01,0.001]\n",
    "max_depth = [3, 5, 10, 15 ,20]\n",
    "solver = ['newton-cg', 'lbfgs', 'liblinear', 'sag', 'saga']\n",
    "scoring = 'accuracy'\n",
    "n_jobs= -1\n",
    "penalty= ['l2']\n",
    "max_features = [2]\n",
    "linearscv_param_grid = {'C':Cs, 'penalty':penalty, 'random_state':random_state }\n",
    "\n",
    "svc_param_grid = {'C': Cs, 'gamma' : gammas,'kernel':kernel, 'random_state':random_state }\n",
    "\n",
    "ex_param_grid = {\"max_depth\": [3, 5, 10,15,20],\n",
    "              \"max_features\": max_features,\n",
    "              \"bootstrap\": [False,True],\n",
    "              \"n_estimators\" :n_estimators,\n",
    "              \"criterion\": criterion, 'random_state':random_state }\n",
    "\n",
    "\n",
    "gb_param_grid = {'loss' : [\"deviance\",'exponential'],\n",
    "              'n_estimators' : n_estimators,\n",
    "              'learning_rate': learning_rate,\n",
    "              'max_depth': max_depth,\n",
    "              'min_samples_leaf': [200,400,600],\n",
    "              'max_features': [0.3, 0.1], 'random_state':random_state  \n",
    "              }\n",
    "\n",
    "rf_param_grid = {\"max_depth\": [3,4,5,10,15,20],\n",
    "              \"max_features\": max_features,\n",
    "              \"n_estimators\" :n_estimators,\n",
    "              \"criterion\": criterion, 'random_state':random_state }\n",
    "\n",
    "logistic_param_grid = {\n",
    "    'C': Cs                                   \n",
    "              }\n",
    "\n",
    "lda_param_grid = {'solver' : [\"svd\",'lsqr','eigen'],\n",
    "              'shrinkage ' : ['auto'], 'random_state':random_state \n",
    "              }\n",
    "\n",
    "kneighbor_param_grid = {'n_neighbors':list(range(1,23))}\n",
    "\n",
    "xgboost_param_grid ={\n",
    "    'gamma':[i/10.0 for i in range(0,10)],\n",
    "     'subsample':[i/100.0 for i in range(75,100,5)],     \n",
    "    #'reg_alpha':[1e-5, 1e-2, 0.1, 1, 100,1000],\n",
    "    'n_estimators':n_estimators, 'random_state':random_state,\n",
    "    'learning_rate' :learning_rate\n",
    "}\n",
    "\n",
    "mlp_param_grid = {\n",
    "    'hidden_layer_sizes': [(50,50,50), (50,100,50), (100,)],\n",
    "    'activation': ['logistic', 'tanh', 'relu'],\n",
    "    'solver': ['sgd', 'adam'],\n",
    "    'alpha': [0.0001, 0.05,0.1,1,10,100],\n",
    "    'learning_rate': ['constant','adaptive'],\n",
    "    'max_iter':[1000,2000,5000,10000], 'random_state':random_state \n",
    "}\n",
    "\n",
    "\n",
    "#gsExtC = GridSearchCV(ExtraTreesClassifier, param_grid = ex_param_grid, cv=nfold, scoring=\"auc\")\n",
    "\n",
    "print('X_train_shape:',X_train.shape)\n",
    "#gb et rf xgb knn\n",
    "classifiers.append(GridSearchCV(RandomForestClassifier(),param_grid = rf_param_grid, cv=nfolds, scoring=scoring, n_jobs=-1))\n",
    "classifiers.append(GridSearchCV(ExtraTreesClassifier(), param_grid = ex_param_grid, cv=nfolds, scoring=scoring, n_jobs=-1))\n",
    "classifiers.append(GridSearchCV(GradientBoostingClassifier(),param_grid = gb_param_grid, cv=nfolds, scoring=scoring, n_jobs=-1))\n",
    "classifiers.append(GridSearchCV(XGBClassifier(),param_grid=xgboost_param_grid,cv=nfolds, scoring=scoring, n_jobs=-1))\n",
    "#classifiers.append(GridSearchCV(SVC(), svc_param_grid, cv=nfolds,n_jobs=-1))\n",
    "classifiers.append(GridSearchCV(KNeighborsClassifier(),param_grid=kneighbor_param_grid,cv=nfolds, scoring=scoring, n_jobs=-1))\n",
    "\n",
    "#classifiers.append(GridSearchCV(MLPClassifier(),mlp_param_grid,cv=nfolds, scoring=scoring, n_jobs=-1))\n",
    "classifiers_not.append(LogisticRegression(penalty='l2',random_state=4000))\n",
    "classifiers_not.append(LinearSVC(random_state=4000))\n",
    "classifiers_not.append(MLPClassifier(random_state=4000))\n",
    "classifiers_not.append(SVC(random_state=4000))\n",
    "                   \n",
    "\n",
    "#lsvc mlp gnb/ bnb\n",
    "\n",
    "\n",
    "#classifiers.append(XGBClassifier())\n",
    "test_accuracy_list = []\n",
    "train_accuracy_list= [] \n",
    "model_accuracy_list= []\n",
    "confusion_matrix_list = []\n",
    "precision_score_list = []\n",
    "precision_train_list = []\n",
    "auc_list = []\n",
    "for models in classifiers:\n",
    "    #print(models)\n",
    "    models.fit(X_train,y_train)\n",
    "    \n",
    "    model_str = str(models).split('(')[0]\n",
    "    print(model_str,':',models.best_params_)\n",
    "    pre = models.predict(X_test)\n",
    "    \n",
    "    tmp_dict1 = {}\n",
    "    tmp_dict1[model_str] = models.score(X_test,y_test)\n",
    "    test_accuracy_list.append(tmp_dict1)\n",
    "    \n",
    "    tmp_dict2 = {}\n",
    "    tmp_dict2[model_str] = models.score(X_train,y_train)\n",
    "    train_accuracy_list.append(tmp_dict2)\n",
    "    \n",
    "    tmp_dict3 = {}\n",
    "    tmp_dict3[model_str] = metrics.accuracy_score(y_test, pre)\n",
    "    model_accuracy_list.append(tmp_dict3)\n",
    "    \n",
    "    # 전역변수로, 지역변수 문제라 생각한다.\n",
    "    tmp_dict4 = {}\n",
    "    tmp_dict4[model_str] = confusion_matrix(y_test,pre)\n",
    "    confusion_matrix_list.append(tmp_dict4)\n",
    "    \n",
    "    tmp_dict5 ={}\n",
    "    tmp_dict5[model_str] = metrics.precision_score(y_test,pre)\n",
    "    precision_score_list.append(tmp_dict5)\n",
    "    #confusion_matrix_list.append(confusion_matrix(y_test,pre))    \n",
    "    #confusion_matrix_list.append(confusion_matrix(y_test,pre))  \n",
    "for models in classifiers_not:\n",
    "    \n",
    "    models.fit(X_train,y_train)\n",
    "    \n",
    "    model_str = str(models).split('(')[0]\n",
    "    print(model_str,':',models)\n",
    "    pre = models.predict(X_test)\n",
    "    \n",
    "    tmp_dict1 = {}\n",
    "    tmp_dict1[model_str] = models.score(X_test,y_test)\n",
    "    test_accuracy_list.append(tmp_dict1)\n",
    "    \n",
    "    tmp_dict2 = {}\n",
    "    tmp_dict2[model_str] = models.score(X_train,y_train)\n",
    "    train_accuracy_list.append(tmp_dict2)\n",
    "    \n",
    "    tmp_dict3 = {}\n",
    "    tmp_dict3[model_str] = metrics.accuracy_score(y_test, pre)\n",
    "    model_accuracy_list.append(tmp_dict3)\n",
    "    \n",
    "    # 전역변수로, 지역변수 문제라 생각한다.\n",
    "    tmp_dict4 = {}\n",
    "    tmp_dict4[model_str] = confusion_matrix(y_test,pre)\n",
    "    confusion_matrix_list.append(tmp_dict4)\n",
    "    \n",
    "    tmp_dict5 ={}\n",
    "    tmp_dict5[model_str] = metrics.precision_score(y_test,pre)\n",
    "    precision_score_list.append(tmp_dict5)\n",
    "\n",
    "    \n",
    "train_result[stock_code] = train_accuracy_list\n",
    "test_result[stock_code] = test_accuracy_list\n",
    "model_result[stock_code] = model_accuracy_list\n",
    "confusion_matrix_result[stock_code] = confusion_matrix_list\n",
    "precision_score_result[stock_code]=precision_score_list\n",
    "precision_train_result[stock_code]=precision_train_list\n",
    "\n"
   ]
  },
  {
   "cell_type": "code",
   "execution_count": null,
   "metadata": {},
   "outputs": [],
   "source": []
  },
  {
   "cell_type": "code",
   "execution_count": 536,
   "metadata": {},
   "outputs": [],
   "source": [
    "# model_result = Counter()\n",
    "# train_result= Counter()\n",
    "# test_result = Counter()\n",
    "# confusion_matrix_result = Counter()\n",
    "# auc_result = Counter()\n",
    "# precision_score_result=Counter()\n",
    "# precision_train_result = Counter()\n",
    "# lenx=X_train.shape\n",
    "# # if lenx[0]<=10 or lenx[1]<=2:\n",
    "# #     continue\n",
    "# classifiers = []\n",
    "# classifiers_not = []\n",
    "# random_state = [4000]\n",
    "\n",
    "\n",
    "\n",
    "# # gsRFC = GridSearchCV(RFC,param_grid = rf_param_grid, cv=kfold, scoring=\"accuracy\", n_jobs= 4, verbose = 1)\n",
    "# Cs = [0.0001, 0.001, 0.01, 0.1, 1, 10, 100]\n",
    "# gammas = [0.001, 0.01, 0.1, 1]\n",
    "# kernel = ['linear', 'rbf', 'sigmoid']#'precomputed','poly'\n",
    "# #nfolds=5\n",
    "# nfolds=TimeSeriesSplit(n_splits=5)\n",
    "# criterion = [\"gini\", 'entropy']\n",
    "# #grid_search = GridSearchCV(SVC(), param_grid_svc, cv=nfolds)\n",
    "# n_estimators = [500,1000,2000]\n",
    "# learning_rate = [0.01]\n",
    "# max_depth = [3, 5, 10, 15 ,20]\n",
    "# solver = ['newton-cg', 'lbfgs', 'liblinear', 'sag', 'saga']\n",
    "# scoring = 'accuracy'\n",
    "# n_jobs= -1\n",
    "# penalty= ['l2']\n",
    "# max_features = [2]\n",
    "# linearscv_param_grid = {'C':Cs, 'penalty':penalty, 'random_state':random_state }\n",
    "\n",
    "# svc_param_grid = {'C': Cs, 'gamma' : gammas,'kernel':kernel, 'random_state':random_state }\n",
    "\n",
    "# ex_param_grid = {\"max_depth\": [3, 5, 10,15,20],\n",
    "#               \"max_features\": max_features,\n",
    "#               \"bootstrap\": [False,True],\n",
    "#               \"n_estimators\" :n_estimators,\n",
    "#               \"criterion\": criterion, 'random_state':random_state }\n",
    "\n",
    "\n",
    "# gb_param_grid = {'loss' : [\"deviance\",'exponential'],\n",
    "#               'n_estimators' : n_estimators,\n",
    "#               'learning_rate': learning_rate,\n",
    "#               'max_depth': max_depth,\n",
    "#               'min_samples_leaf': [200,400,600],\n",
    "#               'max_features': [0.3, 0.1], 'random_state':random_state  \n",
    "#               }\n",
    "\n",
    "# rf_param_grid = {\"max_depth\": [3,4,5,10,15,20],\n",
    "#               \"max_features\": max_features,\n",
    "#               \"n_estimators\" :n_estimators,\n",
    "#               \"criterion\": criterion, 'random_state':random_state }\n",
    "\n",
    "# logistic_param_grid = {\n",
    "#     'C': Cs                                   \n",
    "#               }\n",
    "\n",
    "# lda_param_grid = {'solver' : [\"svd\",'lsqr','eigen'],\n",
    "#               'shrinkage ' : ['auto'], 'random_state':random_state \n",
    "#               }\n",
    "\n",
    "# kneighbor_param_grid = {'n_neighbors':list(range(1,31))}\n",
    "\n",
    "# xgboost_param_grid ={\n",
    "#     'gamma':[i/10.0 for i in range(0,10)],\n",
    "#      'subsample':[i/100.0 for i in range(75,100,5)],     \n",
    "#     #'reg_alpha':[1e-5, 1e-2, 0.1, 1, 100,1000],\n",
    "#     'n_estimators':n_estimators, 'random_state':random_state,\n",
    "#     'learning_rate' :learning_rate\n",
    "# }\n",
    "\n",
    "# mlp_param_grid = {\n",
    "#     'hidden_layer_sizes': [(50,50,50), (50,100,50), (100,)],\n",
    "#     'activation': ['logistic', 'tanh', 'relu'],\n",
    "#     'solver': ['sgd', 'adam'],\n",
    "#     'alpha': [0.0001, 0.05,0.1,1,10,100],\n",
    "#     'learning_rate': ['constant','adaptive'],\n",
    "#     'max_iter':[1000,2000,5000,10000], 'random_state':random_state \n",
    "# }\n",
    "\n",
    "\n",
    "# #gsExtC = GridSearchCV(ExtraTreesClassifier, param_grid = ex_param_grid, cv=nfold, scoring=\"auc\")\n",
    "\n",
    "# print('X_train_shape:',X_train.shape)\n",
    "# #gb et rf xgb\n",
    "# classifiers.append(GridSearchCV(RandomForestClassifier(),param_grid = rf_param_grid, cv=nfolds, scoring=scoring, n_jobs=-1))\n",
    "# classifiers.append(GridSearchCV(ExtraTreesClassifier(), param_grid = ex_param_grid, cv=nfolds, scoring=scoring, n_jobs=-1))\n",
    "# #classifiers.append(GridSearchCV(GradientBoostingClassifier(),param_grid = gb_param_grid, cv=nfolds, scoring=scoring, n_jobs=-1))\n",
    "# classifiers.append(GridSearchCV(XGBClassifier(),param_grid=xgboost_param_grid,cv=nfolds, scoring=scoring, n_jobs=-1))\n",
    "\n",
    "# #classifiers_not.append(LinearSVC(random_state=4000))\n",
    "# #classifiers_not.append(MLPClassifier(random_state=4000))\n",
    "\n",
    "\n",
    "# #lsvc mlp gnb/ bnb\n",
    "\n",
    "\n",
    "# #classifiers.append(XGBClassifier())\n",
    "# test_accuracy_list = []\n",
    "# train_accuracy_list= [] \n",
    "# model_accuracy_list= []\n",
    "# confusion_matrix_list = []\n",
    "# precision_score_list = []\n",
    "# precision_train_list = []\n",
    "# auc_list = []\n",
    "# for models in classifiers:\n",
    "#     #print(models)\n",
    "#     models.fit(X_train,y_train)\n",
    "    \n",
    "#     model_str = str(models).split('(')[0]\n",
    "#     print(model_str,':',models.best_params_)\n",
    "#     pre = models.predict(X_test)\n",
    "    \n",
    "#     tmp_dict1 = {}\n",
    "#     tmp_dict1[model_str] = models.score(X_test,y_test)\n",
    "#     test_accuracy_list.append(tmp_dict1)\n",
    "    \n",
    "#     tmp_dict2 = {}\n",
    "#     tmp_dict2[model_str] = models.score(X_train,y_train)\n",
    "#     train_accuracy_list.append(tmp_dict2)\n",
    "    \n",
    "#     tmp_dict3 = {}\n",
    "#     tmp_dict3[model_str] = metrics.accuracy_score(y_test, pre)\n",
    "#     model_accuracy_list.append(tmp_dict3)\n",
    "    \n",
    "#     # 전역변수로, 지역변수 문제라 생각한다.\n",
    "#     tmp_dict4 = {}\n",
    "#     tmp_dict4[model_str] = confusion_matrix(y_test,pre)\n",
    "#     confusion_matrix_list.append(tmp_dict4)\n",
    "    \n",
    "#     tmp_dict5 ={}\n",
    "#     tmp_dict5[model_str] = metrics.precision_score(y_test,pre)\n",
    "#     precision_score_list.append(tmp_dict5)\n",
    "#     #confusion_matrix_list.append(confusion_matrix(y_test,pre))    \n",
    "#     #confusion_matrix_list.append(confusion_matrix(y_test,pre))  \n",
    "# for models in classifiers_not:\n",
    "    \n",
    "#     models.fit(X_train,y_train)\n",
    "    \n",
    "#     model_str = str(models).split('(')[0]\n",
    "#     print(model_str,':',models)\n",
    "#     pre = models.predict(X_test)\n",
    "    \n",
    "#     tmp_dict1 = {}\n",
    "#     tmp_dict1[model_str] = models.score(X_test,y_test)\n",
    "#     test_accuracy_list.append(tmp_dict1)\n",
    "    \n",
    "#     tmp_dict2 = {}\n",
    "#     tmp_dict2[model_str] = models.score(X_train,y_train)\n",
    "#     train_accuracy_list.append(tmp_dict2)\n",
    "    \n",
    "#     tmp_dict3 = {}\n",
    "#     tmp_dict3[model_str] = metrics.accuracy_score(y_test, pre)\n",
    "#     model_accuracy_list.append(tmp_dict3)\n",
    "    \n",
    "#     # 전역변수로, 지역변수 문제라 생각한다.\n",
    "#     tmp_dict4 = {}\n",
    "#     tmp_dict4[model_str] = confusion_matrix(y_test,pre)\n",
    "#     confusion_matrix_list.append(tmp_dict4)\n",
    "    \n",
    "#     tmp_dict5 ={}\n",
    "#     tmp_dict5[model_str] = metrics.precision_score(y_test,pre)\n",
    "#     precision_score_list.append(tmp_dict5)\n",
    "\n",
    "    \n",
    "# train_result[stock_code] = train_accuracy_list\n",
    "# test_result[stock_code] = test_accuracy_list\n",
    "# model_result[stock_code] = model_accuracy_list\n",
    "# confusion_matrix_result[stock_code] = confusion_matrix_list\n",
    "# precision_score_result[stock_code]=precision_score_list\n",
    "# precision_train_result[stock_code]=precision_train_list\n",
    "\n"
   ]
  },
  {
   "cell_type": "code",
   "execution_count": 537,
   "metadata": {},
   "outputs": [
    {
     "data": {
      "text/plain": [
       "Counter({'021240': [{'GridSearchCV': 0.7412587412587412},\n",
       "          {'GridSearchCV': 0.9300699300699301},\n",
       "          {'GridSearchCV': 0.5384615384615384},\n",
       "          {'GridSearchCV': 0.7342657342657343},\n",
       "          {'GridSearchCV': 0.7342657342657343},\n",
       "          {'LogisticRegression': 0.5524475524475524},\n",
       "          {'LinearSVC': 0.6433566433566433},\n",
       "          {'MLPClassifier': 0.6083916083916084},\n",
       "          {'SVC': 0.5384615384615384}]})"
      ]
     },
     "execution_count": 537,
     "metadata": {},
     "output_type": "execute_result"
    }
   ],
   "source": [
    "train_result"
   ]
  },
  {
   "cell_type": "code",
   "execution_count": 538,
   "metadata": {},
   "outputs": [
    {
     "data": {
      "text/plain": [
       "Counter({'021240': [{'GridSearchCV': 0.5633802816901409},\n",
       "          {'GridSearchCV': 0.5915492957746479},\n",
       "          {'GridSearchCV': 0.5352112676056338},\n",
       "          {'GridSearchCV': 0.5633802816901409},\n",
       "          {'GridSearchCV': 0.5774647887323944},\n",
       "          {'LogisticRegression': 0.5352112676056338},\n",
       "          {'LinearSVC': 0.6338028169014085},\n",
       "          {'MLPClassifier': 0.6338028169014085},\n",
       "          {'SVC': 0.5352112676056338}]})"
      ]
     },
     "execution_count": 538,
     "metadata": {},
     "output_type": "execute_result"
    }
   ],
   "source": [
    "model_result"
   ]
  },
  {
   "cell_type": "code",
   "execution_count": 539,
   "metadata": {},
   "outputs": [],
   "source": [
    "model_list=[\n",
    "'RandomForestClassifier',\n",
    "'ExtraTreesClassifier',\n",
    "'GradientBoostingClassifier',\n",
    "'XGBClassifier',\n",
    "'KNN'\n",
    "]"
   ]
  },
  {
   "cell_type": "code",
   "execution_count": null,
   "metadata": {},
   "outputs": [],
   "source": []
  },
  {
   "cell_type": "code",
   "execution_count": 540,
   "metadata": {},
   "outputs": [
    {
     "name": "stdout",
     "output_type": "stream",
     "text": [
      "Counter({'021240': [{'RandomForestClassifier': 0.5633802816901409}, {'ExtraTreesClassifier': 0.5915492957746479}, {'GradientBoostingClassifier': 0.5352112676056338}, {'XGBClassifier': 0.5633802816901409}, {'KNN': 0.5774647887323944}, {'LogisticRegression': 0.5352112676056338}, {'LinearSVC': 0.6338028169014085}, {'MLPClassifier': 0.6338028169014085}, {'SVC': 0.5352112676056338}]})\n",
      "Counter({'021240': [{'RandomForestClassifier': 0.7412587412587412}, {'ExtraTreesClassifier': 0.9300699300699301}, {'GradientBoostingClassifier': 0.5384615384615384}, {'XGBClassifier': 0.7342657342657343}, {'KNN': 0.7342657342657343}, {'LogisticRegression': 0.5524475524475524}, {'LinearSVC': 0.6433566433566433}, {'MLPClassifier': 0.6083916083916084}, {'SVC': 0.5384615384615384}]})\n",
      "Counter({'021240': [{'RandomForestClassifier': 0.5633802816901409}, {'ExtraTreesClassifier': 0.5915492957746479}, {'GradientBoostingClassifier': 0.5352112676056338}, {'XGBClassifier': 0.5633802816901409}, {'KNN': 0.5774647887323944}, {'LogisticRegression': 0.5352112676056338}, {'LinearSVC': 0.6338028169014085}, {'MLPClassifier': 0.6338028169014085}, {'SVC': 0.5352112676056338}]})\n",
      "Counter({'021240': [{'RandomForestClassifier': 0.6842105263157895}, {'ExtraTreesClassifier': 0.7142857142857143}, {'GradientBoostingClassifier': 0.5352112676056338}, {'XGBClassifier': 0.6842105263157895}, {'KNN': 0.6818181818181818}, {'LogisticRegression': 0.5352112676056338}, {'LinearSVC': 0.7}, {'MLPClassifier': 0.6875}, {'SVC': 0.5352112676056338}]})\n"
     ]
    }
   ],
   "source": [
    "for idx,element in enumerate(model_list):    \n",
    "    tmp_dict = {}\n",
    "    tmp_dict[element] = model_result[stock_code][idx]['GridSearchCV']\n",
    "    model_result[stock_code][idx] = tmp_dict\n",
    "print(model_result)\n",
    "for idx,element in enumerate(model_list):    \n",
    "    tmp_dict = {}\n",
    "    tmp_dict[element] = train_result[stock_code][idx]['GridSearchCV']\n",
    "    train_result[stock_code][idx] = tmp_dict\n",
    "print(train_result)\n",
    "for idx,element in enumerate(model_list):    \n",
    "    tmp_dict = {}\n",
    "    tmp_dict[element] = test_result[stock_code][idx]['GridSearchCV']\n",
    "    test_result[stock_code][idx] = tmp_dict\n",
    "print(test_result)\n",
    "for idx,element in enumerate(model_list):    \n",
    "    tmp_dict = {}\n",
    "    tmp_dict[element] = precision_score_result[stock_code][idx]['GridSearchCV']\n",
    "    precision_score_result[stock_code][idx] = tmp_dict\n",
    "print(precision_score_result)     \n"
   ]
  },
  {
   "cell_type": "code",
   "execution_count": 541,
   "metadata": {
    "scrolled": true
   },
   "outputs": [
    {
     "data": {
      "text/plain": [
       "[{'RandomForestClassifier': 0.7412587412587412},\n",
       " {'ExtraTreesClassifier': 0.9300699300699301},\n",
       " {'GradientBoostingClassifier': 0.5384615384615384},\n",
       " {'XGBClassifier': 0.7342657342657343},\n",
       " {'KNN': 0.7342657342657343},\n",
       " {'LogisticRegression': 0.5524475524475524},\n",
       " {'LinearSVC': 0.6433566433566433},\n",
       " {'MLPClassifier': 0.6083916083916084},\n",
       " {'SVC': 0.5384615384615384}]"
      ]
     },
     "execution_count": 541,
     "metadata": {},
     "output_type": "execute_result"
    }
   ],
   "source": [
    "train_accuracy_list"
   ]
  },
  {
   "cell_type": "code",
   "execution_count": 542,
   "metadata": {},
   "outputs": [
    {
     "data": {
      "text/plain": [
       "[{'RandomForestClassifier': 0.5633802816901409},\n",
       " {'ExtraTreesClassifier': 0.5915492957746479},\n",
       " {'GradientBoostingClassifier': 0.5352112676056338},\n",
       " {'XGBClassifier': 0.5633802816901409},\n",
       " {'KNN': 0.5774647887323944},\n",
       " {'LogisticRegression': 0.5352112676056338},\n",
       " {'LinearSVC': 0.6338028169014085},\n",
       " {'MLPClassifier': 0.6338028169014085},\n",
       " {'SVC': 0.5352112676056338}]"
      ]
     },
     "execution_count": 542,
     "metadata": {},
     "output_type": "execute_result"
    }
   ],
   "source": [
    "test_accuracy_list"
   ]
  },
  {
   "cell_type": "code",
   "execution_count": 543,
   "metadata": {},
   "outputs": [
    {
     "data": {
      "text/plain": [
       "{'SVC': (0.86, 0.3712, 0.33999999999999997),\n",
       " 'RF': (0.86, 0.7178666666666667, 0.33999999999999997),\n",
       " 'ET': (0.6554666666666664, 0.86, 0.33999999999999997),\n",
       " 'GB': (0.33999999999999997, 0.86, 0.3712),\n",
       " 'KNN': (0.33999999999999997, 0.86, 0.7178666666666667),\n",
       " 'LR': (0.33999999999999997, 0.6554666666666664, 0.86),\n",
       " 'XGB': (0.3712, 0.33999999999999997, 0.86),\n",
       " 'LSVC': (0.7178666666666661, 0.33999999999999997, 0.86),\n",
       " 'MLP': (0.86, 0.33999999999999997, 0.6554666666666664)}"
      ]
     },
     "execution_count": 543,
     "metadata": {},
     "output_type": "execute_result"
    }
   ],
   "source": [
    "color_dict"
   ]
  },
  {
   "cell_type": "code",
   "execution_count": 566,
   "metadata": {},
   "outputs": [
    {
     "data": {
      "text/plain": [
       "[{'RF': 0.6842105263157895},\n",
       " {'ET': 0.7142857142857143},\n",
       " {'GB': 0.5352112676056338},\n",
       " {'XGB': 0.6842105263157895},\n",
       " {'KNN': 0.6818181818181818},\n",
       " {'LR': 0.5352112676056338},\n",
       " {'LSVC': 0.7},\n",
       " {'MLP': 0.6875},\n",
       " {'SVC': 0.5352112676056338}]"
      ]
     },
     "execution_count": 566,
     "metadata": {},
     "output_type": "execute_result"
    }
   ],
   "source": [
    "precision_score_list"
   ]
  },
  {
   "cell_type": "code",
   "execution_count": 565,
   "metadata": {},
   "outputs": [
    {
     "data": {
      "text/plain": [
       "Counter({'021240': [{'RF': 0.6842105263157895},\n",
       "          {'ET': 0.7142857142857143},\n",
       "          {'GB': 0.5352112676056338},\n",
       "          {'XGB': 0.6842105263157895},\n",
       "          {'KNN': 0.6818181818181818},\n",
       "          {'LR': 0.5352112676056338},\n",
       "          {'LSVC': 0.7},\n",
       "          {'MLP': 0.6875},\n",
       "          {'SVC': 0.5352112676056338}]})"
      ]
     },
     "execution_count": 565,
     "metadata": {},
     "output_type": "execute_result"
    }
   ],
   "source": [
    "precision_score_result"
   ]
  },
  {
   "cell_type": "code",
   "execution_count": 545,
   "metadata": {},
   "outputs": [],
   "source": [
    "for element in train_accuracy_list:\n",
    "    for key in element.keys():\n",
    "        if key.find('RandomForestClassifier')>=0:\n",
    "            element['RF'] = element[key]\n",
    "            del element[key]\n",
    "        if key.find('ExtraTreesClassifier')>=0:        \n",
    "            element['ET'] = element[key]\n",
    "            del element[key]\n",
    "        if key.find('GradientBoostingClassifier')>=0:        \n",
    "            element['GB'] = element[key]\n",
    "            del element[key]\n",
    "        if key.find('KNeighborsClassifier')>=0:        \n",
    "            element['KNN'] = element[key]\n",
    "            del element[key]\n",
    "        if key.find('LogisticRegression')>=0:        \n",
    "            element['LR'] = element[key]\n",
    "            del element[key]\n",
    "        if key.find('XGBClassifier')>=0:        \n",
    "            element['XGB'] = element[key]\n",
    "            del element[key]\n",
    "        if key.find('LinearSVC')>=0:        \n",
    "            element['LSVC'] = element[key]\n",
    "            del element[key]        \n",
    "        if key.find('MLPClassifier')>=0:        \n",
    "            element['MLP'] = element[key]\n",
    "            del element[key]\n",
    "        if key.find('LinearDiscriminantAnalysis')>=0:        \n",
    "            element['LDA'] = element[key]\n",
    "            del element[key]\n",
    "        if key.find('GaussianNB')>=0:        \n",
    "            element['GNB'] = element[key]\n",
    "            del element[key]\n",
    "        if key.find('MultinomialNB')>=0:        \n",
    "            element['MNB'] = element[key]\n",
    "            del element[key]\n",
    "        if key.find('BernoulliNB')>=0:        \n",
    "            element['BNB'] = element[key]\n",
    "            del element[key]\n",
    "        if key.find('SVClassifier')>=0:        \n",
    "            element['SVC'] = element[key]\n",
    "            del element[key]"
   ]
  },
  {
   "cell_type": "code",
   "execution_count": 546,
   "metadata": {},
   "outputs": [
    {
     "data": {
      "text/plain": [
       "[{'RF': 0.7412587412587412},\n",
       " {'ET': 0.9300699300699301},\n",
       " {'GB': 0.5384615384615384},\n",
       " {'XGB': 0.7342657342657343},\n",
       " {'KNN': 0.7342657342657343},\n",
       " {'LR': 0.5524475524475524},\n",
       " {'LSVC': 0.6433566433566433},\n",
       " {'MLP': 0.6083916083916084},\n",
       " {'SVC': 0.5384615384615384}]"
      ]
     },
     "execution_count": 546,
     "metadata": {},
     "output_type": "execute_result"
    }
   ],
   "source": [
    "train_accuracy_list"
   ]
  },
  {
   "cell_type": "code",
   "execution_count": 547,
   "metadata": {},
   "outputs": [
    {
     "data": {
      "text/plain": [
       "[{'RF': 0.7412587412587412},\n",
       " {'ET': 0.9300699300699301},\n",
       " {'GB': 0.5384615384615384},\n",
       " {'XGB': 0.7342657342657343},\n",
       " {'KNN': 0.7342657342657343},\n",
       " {'LR': 0.5524475524475524},\n",
       " {'LSVC': 0.6433566433566433},\n",
       " {'MLP': 0.6083916083916084},\n",
       " {'SVC': 0.5384615384615384}]"
      ]
     },
     "execution_count": 547,
     "metadata": {},
     "output_type": "execute_result"
    }
   ],
   "source": [
    "train_accuracy_list"
   ]
  },
  {
   "cell_type": "code",
   "execution_count": 548,
   "metadata": {},
   "outputs": [
    {
     "data": {
      "text/plain": [
       "Counter({'SVC': 0.5384615384615384,\n",
       "         'RF': 0.9090909090909091,\n",
       "         'ET': 0.965034965034965,\n",
       "         'GB': 0.9300699300699301,\n",
       "         'KNN': 0.7342657342657343,\n",
       "         'LR': 0.5524475524475524,\n",
       "         'XGB': 0.7832167832167832,\n",
       "         'LSVC': 0.6433566433566433,\n",
       "         'MLP': 0.6083916083916084})"
      ]
     },
     "execution_count": 548,
     "metadata": {},
     "output_type": "execute_result"
    }
   ],
   "source": [
    "train_dict"
   ]
  },
  {
   "cell_type": "code",
   "execution_count": 549,
   "metadata": {},
   "outputs": [],
   "source": [
    "train_dict=Counter()\n",
    "for element in train_accuracy_list:\n",
    "    train_dict.update(element)"
   ]
  },
  {
   "cell_type": "code",
   "execution_count": 550,
   "metadata": {},
   "outputs": [],
   "source": [
    "# tmp_color_dict={}\n",
    "# for key in train_dict.keys():\n",
    "#     tmp_color_dict[key] = color_dict[key]\n",
    "# color_dict = tmp_color_dict"
   ]
  },
  {
   "cell_type": "code",
   "execution_count": 551,
   "metadata": {},
   "outputs": [
    {
     "data": {
      "text/plain": [
       "['ET', 'GB', 'RF', 'XGB', 'KNN', 'LSVC', 'MLP', 'LR', 'SVC']"
      ]
     },
     "execution_count": 551,
     "metadata": {},
     "output_type": "execute_result"
    }
   ],
   "source": [
    "train_keys"
   ]
  },
  {
   "cell_type": "code",
   "execution_count": 552,
   "metadata": {},
   "outputs": [
    {
     "data": {
      "text/plain": [
       "<matplotlib.axes._subplots.AxesSubplot at 0x1d167041048>"
      ]
     },
     "execution_count": 552,
     "metadata": {},
     "output_type": "execute_result"
    },
    {
     "data": {
      "image/png": "[encoded data removed]",
      "text/plain": [
       "<Figure size 720x576 with 1 Axes>"
      ]
     },
     "metadata": {
      "needs_background": "light"
     },
     "output_type": "display_data"
    }
   ],
   "source": [
    "train_keys=sorted(train_dict,key=lambda x:train_dict[x],reverse=True)\n",
    "train_values=sorted(train_dict.values(),reverse=True)\n",
    "plt.figure(figsize=(10,8))\n",
    "plt.title('Accuracy(Train)',fontsize = 20)\n",
    "plt.xticks(rotation=45)\n",
    "plt.ylim((0,1))\n",
    "sns.barplot(train_keys,train_values,palette=[color_dict[key] for key in train_keys]) # 그래프가 바뀌어도 분류기에 대한 색깔이 변치 않기위해"
   ]
  },
  {
   "cell_type": "code",
   "execution_count": 553,
   "metadata": {},
   "outputs": [
    {
     "data": {
      "text/plain": [
       "['ET', 'RF', 'XGB', 'KNN', 'LSVC', 'MLP', 'LR', 'GB', 'SVC']"
      ]
     },
     "execution_count": 553,
     "metadata": {},
     "output_type": "execute_result"
    }
   ],
   "source": [
    "train_keys"
   ]
  },
  {
   "cell_type": "code",
   "execution_count": 554,
   "metadata": {},
   "outputs": [
    {
     "data": {
      "text/plain": [
       "[0.9300699300699301,\n",
       " 0.7412587412587412,\n",
       " 0.7342657342657343,\n",
       " 0.7342657342657343,\n",
       " 0.6433566433566433,\n",
       " 0.6083916083916084,\n",
       " 0.5524475524475524,\n",
       " 0.5384615384615384,\n",
       " 0.5384615384615384]"
      ]
     },
     "execution_count": 554,
     "metadata": {},
     "output_type": "execute_result"
    }
   ],
   "source": [
    "train_values"
   ]
  },
  {
   "cell_type": "code",
   "execution_count": 555,
   "metadata": {},
   "outputs": [],
   "source": [
    "for element in test_accuracy_list:\n",
    "    for key in element.keys():\n",
    "        if key.find('RandomForestClassifier')>=0:\n",
    "            element['RF'] = element[key]\n",
    "            del element[key]\n",
    "        if key.find('ExtraTreesClassifier')>=0:        \n",
    "            element['ET'] = element[key]\n",
    "            del element[key]\n",
    "        if key.find('GradientBoostingClassifier')>=0:        \n",
    "            element['GB'] = element[key]\n",
    "            del element[key]\n",
    "        if key.find('KNeighborsClassifier')>=0:        \n",
    "            element['KNN'] = element[key]\n",
    "            del element[key]\n",
    "        if key.find('LogisticRegression')>=0:        \n",
    "            element['LR'] = element[key]\n",
    "            del element[key]\n",
    "        if key.find('XGBClassifier')>=0:        \n",
    "            element['XGB'] = element[key]\n",
    "            del element[key]\n",
    "        if key.find('LinearSVC')>=0:        \n",
    "            element['LSVC'] = element[key]\n",
    "            del element[key]        \n",
    "        if key.find('MLPClassifier')>=0:        \n",
    "            element['MLP'] = element[key]\n",
    "            del element[key]\n",
    "        if key.find('LinearDiscriminantAnalysis')>=0:        \n",
    "            element['LDA'] = element[key]\n",
    "            del element[key]\n",
    "        if key.find('GaussianNB')>=0:        \n",
    "            element['GNB'] = element[key]\n",
    "            del element[key]\n",
    "        if key.find('MultinomialNB')>=0:        \n",
    "            element['MNB'] = element[key]\n",
    "            del element[key]\n",
    "        if key.find('BernoulliNB')>=0:        \n",
    "            element['BNB'] = element[key]\n",
    "            del element[key]\n",
    "        if key.find('SVClassifier')>=0:        \n",
    "            element['SVC'] = element[key]\n",
    "            del element[key]"
   ]
  },
  {
   "cell_type": "code",
   "execution_count": 556,
   "metadata": {},
   "outputs": [],
   "source": [
    "# color_dict= dict(zip(train_dict.keys(),sns.color_palette(\"hls\", len(classifiers)+len(classifiers_not))))\n",
    "# color_dict"
   ]
  },
  {
   "cell_type": "code",
   "execution_count": 576,
   "metadata": {},
   "outputs": [],
   "source": [
    "k = {'a':1}\n",
    "b = str(k.keys())"
   ]
  },
  {
   "cell_type": "code",
   "execution_count": 577,
   "metadata": {},
   "outputs": [
    {
     "data": {
      "text/plain": [
       "\"dict_keys(['a'])\""
      ]
     },
     "execution_count": 577,
     "metadata": {},
     "output_type": "execute_result"
    }
   ],
   "source": [
    "b\n",
    "#Mlp, lr, lsvc, g, svc\n",
    "['MLP','LR','LSVC','GB','SVC']"
   ]
  },
  {
   "cell_type": "code",
   "execution_count": 579,
   "metadata": {},
   "outputs": [
    {
     "data": {
      "text/plain": [
       "[{'RF': 0.5633802816901409},\n",
       " {'ET': 0.5915492957746479},\n",
       " {'GB': 0.5352112676056338},\n",
       " {'XGB': 0.5633802816901409},\n",
       " {'KNN': 0.5774647887323944},\n",
       " {'LR': 0.5352112676056338},\n",
       " {'LSVC': 0.6338028169014085},\n",
       " {'MLP': 0.6338028169014085},\n",
       " {'SVC': 0.5352112676056338}]"
      ]
     },
     "execution_count": 579,
     "metadata": {},
     "output_type": "execute_result"
    }
   ],
   "source": [
    "test_accuracy_list"
   ]
  },
  {
   "cell_type": "code",
   "execution_count": null,
   "metadata": {},
   "outputs": [],
   "source": [
    "\n",
    "        "
   ]
  },
  {
   "cell_type": "code",
   "execution_count": 582,
   "metadata": {},
   "outputs": [],
   "source": [
    "test_dict2 = Counter()\n",
    "for mode in ['MLP','LR','LSVC','GB','SVC']:\n",
    "    test_dict2[mode]=test_dict[mode]"
   ]
  },
  {
   "cell_type": "code",
   "execution_count": 583,
   "metadata": {},
   "outputs": [
    {
     "data": {
      "text/plain": [
       "Counter({'MLP': 0.6338028169014085,\n",
       "         'LR': 0.5352112676056338,\n",
       "         'LSVC': 0.6338028169014085,\n",
       "         'GB': 0.5352112676056338,\n",
       "         'SVC': 0.5352112676056338})"
      ]
     },
     "execution_count": 583,
     "metadata": {},
     "output_type": "execute_result"
    }
   ],
   "source": [
    "test_dict2"
   ]
  },
  {
   "cell_type": "code",
   "execution_count": 580,
   "metadata": {},
   "outputs": [
    {
     "data": {
      "text/plain": [
       "[{'RF': 0.5633802816901409},\n",
       " {'ET': 0.5915492957746479},\n",
       " {'GB': 0.5352112676056338},\n",
       " {'XGB': 0.5633802816901409},\n",
       " {'KNN': 0.5774647887323944},\n",
       " {'LR': 0.5352112676056338},\n",
       " {'LSVC': 0.6338028169014085},\n",
       " {'MLP': 0.6338028169014085},\n",
       " {'SVC': 0.5352112676056338}]"
      ]
     },
     "execution_count": 580,
     "metadata": {},
     "output_type": "execute_result"
    }
   ],
   "source": [
    "test_accuracy_list"
   ]
  },
  {
   "cell_type": "code",
   "execution_count": 585,
   "metadata": {},
   "outputs": [
    {
     "data": {
      "text/plain": [
       "<matplotlib.axes._subplots.AxesSubplot at 0x1d167d1b4a8>"
      ]
     },
     "execution_count": 585,
     "metadata": {},
     "output_type": "execute_result"
    },
    {
     "data": {
      "image/png": "[encoded data removed]",
      "text/plain": [
       "<Figure size 720x576 with 1 Axes>"
      ]
     },
     "metadata": {
      "needs_background": "light"
     },
     "output_type": "display_data"
    }
   ],
   "source": [
    "test_dict=Counter()\n",
    "for element in test_accuracy_list:\n",
    "    test_dict.update(element)\n",
    "test_dict2 = Counter()\n",
    "for mode in ['MLP','LR','LSVC','GB','SVC']:\n",
    "    test_dict2[mode]=test_dict[mode]\n",
    "test_keys=sorted(test_dict2.keys(),key=lambda x:test_dict[x],reverse=True)\n",
    "test_values=sorted(test_dict2.values(),reverse=True)\n",
    "plt.figure(figsize=(10,8))\n",
    "plt.title('Accuracy(Test)',fontsize=20)\n",
    "plt.xticks(rotation=45)\n",
    "plt.ylim((0,0.7))\n",
    "#plt.text(0,test_dict['Extratrees'],round(test_dict['Extratrees'],3),fontsize=20)\n",
    "#plt.text(1,test_dict['Kneighbors'],round(test_dict['Kneighbors'],3),fontsize=20)\n",
    "sns.barplot(test_keys,test_values,palette=[color_dict[key] for key in test_keys])"
   ]
  },
  {
   "cell_type": "code",
   "execution_count": 558,
   "metadata": {},
   "outputs": [
    {
     "data": {
      "text/plain": [
       "Counter({'SVC': 0.00325027085590468,\n",
       "         'RF': 0.3457106274007682,\n",
       "         'ET': 0.3875701763025706,\n",
       "         'GB': 0.43711218359105686,\n",
       "         'KNN': 0.1568009455333399,\n",
       "         'LR': 0.017236284841918637,\n",
       "         'XGB': 0.23392100856889586,\n",
       "         'LSVC': 0.009553826455234837,\n",
       "         'MLP': 0.025411208509800054})"
      ]
     },
     "execution_count": 558,
     "metadata": {},
     "output_type": "execute_result"
    }
   ],
   "source": [
    "train_test1"
   ]
  },
  {
   "cell_type": "code",
   "execution_count": 559,
   "metadata": {},
   "outputs": [
    {
     "data": {
      "text/plain": [
       "{'SVC': (0.86, 0.3712, 0.33999999999999997),\n",
       " 'RF': (0.86, 0.7178666666666667, 0.33999999999999997),\n",
       " 'ET': (0.6554666666666664, 0.86, 0.33999999999999997),\n",
       " 'GB': (0.33999999999999997, 0.86, 0.3712),\n",
       " 'KNN': (0.33999999999999997, 0.86, 0.7178666666666667),\n",
       " 'LR': (0.33999999999999997, 0.6554666666666664, 0.86),\n",
       " 'XGB': (0.3712, 0.33999999999999997, 0.86),\n",
       " 'LSVC': (0.7178666666666661, 0.33999999999999997, 0.86),\n",
       " 'MLP': (0.86, 0.33999999999999997, 0.6554666666666664)}"
      ]
     },
     "execution_count": 559,
     "metadata": {},
     "output_type": "execute_result"
    }
   ],
   "source": [
    "color_dict"
   ]
  },
  {
   "cell_type": "code",
   "execution_count": null,
   "metadata": {},
   "outputs": [],
   "source": []
  },
  {
   "cell_type": "code",
   "execution_count": 586,
   "metadata": {},
   "outputs": [
    {
     "data": {
      "text/plain": [
       "<matplotlib.axes._subplots.AxesSubplot at 0x1d1670c41d0>"
      ]
     },
     "execution_count": 586,
     "metadata": {},
     "output_type": "execute_result"
    },
    {
     "data": {
      "image/png": "[encoded data removed]",
      "text/plain": [
       "<Figure size 720x576 with 1 Axes>"
      ]
     },
     "metadata": {
      "needs_background": "light"
     },
     "output_type": "display_data"
    }
   ],
   "source": [
    "train_test1 = train_dict - test_dict\n",
    "train_test2 =  test_dict - train_dict\n",
    "train_test1.update(train_test2)\n",
    "train_test_dict = train_test1\n",
    "train_test_dict2=Counter()\n",
    "for mode in ['MLP','LR','LSVC','GB','SVC']:\n",
    "    train_test_dict2[mode]=train_test_dict[mode]\n",
    "train_test_keys=sorted(train_test_dict2.keys(),key=lambda x:train_test_dict[x],reverse=True)\n",
    "train_test_values=sorted(train_test_dict2.values(),reverse=True)\n",
    "plt.figure(figsize=(10,8))\n",
    "plt.title('Difference(Train,Test)',fontsize=20)\n",
    "plt.xticks(rotation=45,fontsize=15)\n",
    "plt.ylim((0,0.45))\n",
    "\n",
    "sns.barplot(train_test_keys,train_test_values,palette=[color_dict[key] for key in train_test_keys])#gb et rf xgb"
   ]
  },
  {
   "cell_type": "code",
   "execution_count": 561,
   "metadata": {},
   "outputs": [],
   "source": [
    "for element in precision_score_list:\n",
    "    for key in element.keys():\n",
    "        if key.find('RandomForestClassifier')>=0:\n",
    "            element['RF'] = element[key]\n",
    "            del element[key]\n",
    "        if key.find('ExtraTreesClassifier')>=0:        \n",
    "            element['ET'] = element[key]\n",
    "            del element[key]\n",
    "        if key.find('GradientBoostingClassifier')>=0:        \n",
    "            element['GB'] = element[key]\n",
    "            del element[key]\n",
    "        if key.find('KNeighborsClassifier')>=0:        \n",
    "            element['KNN'] = element[key]\n",
    "            del element[key]\n",
    "        if key.find('LogisticRegression')>=0:        \n",
    "            element['LR'] = element[key]\n",
    "            del element[key]\n",
    "        if key.find('XGBClassifier')>=0:        \n",
    "            element['XGB'] = element[key]\n",
    "            del element[key]\n",
    "        if key.find('LinearSVC')>=0:        \n",
    "            element['LSVC'] = element[key]\n",
    "            del element[key]        \n",
    "        if key.find('MLPClassifier')>=0:        \n",
    "            element['MLP'] = element[key]\n",
    "            del element[key]\n",
    "        if key.find('LinearDiscriminantAnalysis')>=0:        \n",
    "            element['LDA'] = element[key]\n",
    "            del element[key]\n",
    "        if key.find('GaussianNB')>=0:        \n",
    "            element['GNB'] = element[key]\n",
    "            del element[key]\n",
    "        if key.find('MultinomialNB')>=0:        \n",
    "            element['MNB'] = element[key]\n",
    "            del element[key]\n",
    "        if key.find('BernoulliNB')>=0:        \n",
    "            element['BNB'] = element[key]\n",
    "            del element[key]\n",
    "        if key.find('SVClassifier')>=0:        \n",
    "            element['SVC'] = element[key]\n",
    "            del element[key]"
   ]
  },
  {
   "cell_type": "code",
   "execution_count": null,
   "metadata": {},
   "outputs": [],
   "source": [
    "precision_score_list"
   ]
  },
  {
   "cell_type": "code",
   "execution_count": 590,
   "metadata": {},
   "outputs": [],
   "source": [
    "precision_legend =['LSVC','MLP','LR','GB','SVC']"
   ]
  },
  {
   "cell_type": "code",
   "execution_count": 594,
   "metadata": {},
   "outputs": [
    {
     "data": {
      "text/plain": [
       "<matplotlib.axes._subplots.AxesSubplot at 0x1d168bc8160>"
      ]
     },
     "execution_count": 594,
     "metadata": {},
     "output_type": "execute_result"
    },
    {
     "data": {
      "image/png": "[encoded data removed]",
      "text/plain": [
       "<Figure size 720x576 with 1 Axes>"
      ]
     },
     "metadata": {
      "needs_background": "light"
     },
     "output_type": "display_data"
    }
   ],
   "source": [
    "precision_score_dict={}\n",
    "#model_list2 = ['MLP', 'LR', lsvc, g, svc]\n",
    "for element in precision_score_list:\n",
    "    \n",
    "    precision_score_dict.update(element)\n",
    "precision_score_dict2=Counter()\n",
    "for mode in ['MLP','LR','LSVC','GB','SVC']:\n",
    "    precision_score_dict2[mode]=precision_score_dict[mode]\n",
    "precision_score_keys=sorted(precision_score_dict2.keys(),key=lambda x:precision_score_dict[x],reverse=True)\n",
    "precision_score_values=sorted(precision_score_dict2.values(),reverse=True)\n",
    "plt.figure(figsize=(10,8))\n",
    "plt.title('Precision(Test)',fontsize=20)\n",
    "plt.xticks(rotation=45)\n",
    "plt.ylim((0,0.8))\n",
    "#plt.text(1,precision_score_dict['Extratrees'],round(precision_score_dict['Extratrees'],3),fontsize=20)\n",
    "#plt.text(0,precision_score_dict['Kneighbors'],round(precision_score_dict['Kneighbors'],3),fontsize=20)\n",
    "#ax =sns.barplot(precision_score_keys,precision_score_values,palette=[color_dict[key] for key in precision_score_keys],hue=precision_legend)\n",
    "#plt.setp(ax.get_legend().get_texts(), fontsize='18')\n",
    "sns.barplot(precision_score_keys,precision_score_values,palette=[color_dict[key] for key in precision_score_keys])"
   ]
  },
  {
   "cell_type": "code",
   "execution_count": 563,
   "metadata": {},
   "outputs": [
    {
     "data": {
      "text/plain": [
       "Counter({'RF': 0.7412587412587412,\n",
       "         'ET': 0.9300699300699301,\n",
       "         'GB': 0.5384615384615384,\n",
       "         'XGB': 0.7342657342657343,\n",
       "         'KNN': 0.7342657342657343,\n",
       "         'LR': 0.5524475524475524,\n",
       "         'LSVC': 0.6433566433566433,\n",
       "         'MLP': 0.6083916083916084,\n",
       "         'SVC': 0.5384615384615384})"
      ]
     },
     "execution_count": 563,
     "metadata": {},
     "output_type": "execute_result"
    }
   ],
   "source": [
    "train_dict"
   ]
  },
  {
   "cell_type": "code",
   "execution_count": 564,
   "metadata": {},
   "outputs": [
    {
     "data": {
      "text/plain": [
       "Counter({'RF': 0.5633802816901409,\n",
       "         'ET': 0.5915492957746479,\n",
       "         'GB': 0.5352112676056338,\n",
       "         'XGB': 0.5633802816901409,\n",
       "         'KNN': 0.5774647887323944,\n",
       "         'LR': 0.5352112676056338,\n",
       "         'LSVC': 0.6338028169014085,\n",
       "         'MLP': 0.6338028169014085,\n",
       "         'SVC': 0.5352112676056338})"
      ]
     },
     "execution_count": 564,
     "metadata": {},
     "output_type": "execute_result"
    }
   ],
   "source": [
    "test_dict"
   ]
  },
  {
   "cell_type": "code",
   "execution_count": null,
   "metadata": {},
   "outputs": [],
   "source": [
    "\n"
   ]
  },
  {
   "cell_type": "code",
   "execution_count": 506,
   "metadata": {},
   "outputs": [],
   "source": [
    "# half_tt1 = train_dict-test_dict\n",
    "# half_tt2 = test_dict - train_dict\n",
    "# half_tt1.update(half_tt2)\n",
    "# train_test_dict = half_tt1\n",
    "# test_keys=sorted(train_test_dict.keys(),key=lambda x:train_test_dict[x],reverse=True)\n",
    "# test_values=sorted(train_test_dict.values(),reverse=True)\n",
    "# plt.figure(figsize=(10,8))\n",
    "# plt.title('Difference(Train,Test)',fontsize=20)\n",
    "# plt.xticks(rotation=45)\n",
    "# sns.barplot(test_keys,test_values,palette=[color_dict[key] for key in test_keys])"
   ]
  },
  {
   "cell_type": "markdown",
   "metadata": {},
   "source": [
    "### scaling 이전 end"
   ]
  },
  {
   "cell_type": "code",
   "execution_count": 531,
   "metadata": {},
   "outputs": [
    {
     "name": "stdout",
     "output_type": "stream",
     "text": [
      "X_train_shape: (143, 2)\n",
      "GridSearchCV : {'criterion': 'gini', 'max_depth': 3, 'max_features': 2, 'n_estimators': 3, 'random_state': 4000}\n",
      "GridSearchCV : {'bootstrap': True, 'criterion': 'entropy', 'max_depth': 5, 'max_features': 2, 'n_estimators': 3, 'random_state': 4000}\n",
      "GridSearchCV : {'gamma': 0.6, 'learning_rate': 0.001, 'n_estimators': 5, 'random_state': 4000, 'subsample': 0.85}\n"
     ]
    }
   ],
   "source": [
    "model_result = Counter()\n",
    "train_result= Counter()\n",
    "test_result = Counter()\n",
    "confusion_matrix_result = Counter()\n",
    "auc_result = Counter()\n",
    "precision_score_result=Counter()\n",
    "precision_train_result = Counter()\n",
    "lenx=X_train.shape\n",
    "# if lenx[0]<=10 or lenx[1]<=2:\n",
    "#     continue\n",
    "classifiers = []\n",
    "classifiers_not = []\n",
    "random_state = [4000]\n",
    "\n",
    "\n",
    "\n",
    "# gsRFC = GridSearchCV(RFC,param_grid = rf_param_grid, cv=kfold, scoring=\"accuracy\", n_jobs= 4, verbose = 1)\n",
    "Cs = [0.0001, 0.001, 0.01, 0.1, 1, 10, 100]\n",
    "gammas = [0.001, 0.01, 0.1, 1]\n",
    "kernel = ['linear', 'rbf', 'sigmoid']#'precomputed','poly'\n",
    "#nfolds=5\n",
    "nfolds=TimeSeriesSplit(n_splits=5)\n",
    "criterion = [\"gini\", 'entropy']\n",
    "#grid_search = GridSearchCV(SVC(), param_grid_svc, cv=nfolds)\n",
    "n_estimators = [1,3,5,10,50,100,200,500,1000]\n",
    "learning_rate = [0.01,0.001]\n",
    "max_depth = [3, 5, 10, 15 ,20]\n",
    "solver = ['newton-cg', 'lbfgs', 'liblinear', 'sag', 'saga']\n",
    "scoring = 'accuracy'\n",
    "n_jobs= -1\n",
    "penalty= ['l2']\n",
    "max_features = [2]\n",
    "linearscv_param_grid = {'C':Cs, 'penalty':penalty, 'random_state':random_state }\n",
    "\n",
    "\n",
    "ex_param_grid = {\"max_depth\": [3, 5, 10,15,20],\n",
    "              \"max_features\": max_features,\n",
    "              \"bootstrap\": [False,True],\n",
    "              \"n_estimators\" :n_estimators,\n",
    "              \"criterion\": criterion, 'random_state':random_state }\n",
    "\n",
    "\n",
    "\n",
    "\n",
    "rf_param_grid = {\"max_depth\": [3,4,5,10,15,20],\n",
    "              \"max_features\": max_features,\n",
    "              \"n_estimators\" :n_estimators,\n",
    "              \"criterion\": criterion, 'random_state':random_state }\n",
    "\n",
    "\n",
    "xgboost_param_grid ={\n",
    "    'gamma':[i/10.0 for i in range(0,10)],\n",
    "     'subsample':[i/100.0 for i in range(75,100,5)],     \n",
    "    #'reg_alpha':[1e-5, 1e-2, 0.1, 1, 100,1000],\n",
    "    'n_estimators':n_estimators, 'random_state':random_state,\n",
    "    'learning_rate' :learning_rate\n",
    "}\n",
    "\n",
    "\n",
    "\n",
    "#gsExtC = GridSearchCV(ExtraTreesClassifier, param_grid = ex_param_grid, cv=nfold, scoring=\"auc\")\n",
    "\n",
    "print('X_train_shape:',X_train.shape)\n",
    "#gb et rf xgb knn\n",
    "classifiers.append(GridSearchCV(RandomForestClassifier(),param_grid = rf_param_grid, cv=nfolds, scoring=scoring, n_jobs=-1))\n",
    "classifiers.append(GridSearchCV(ExtraTreesClassifier(), param_grid = ex_param_grid, cv=nfolds, scoring=scoring, n_jobs=-1))\n",
    "\n",
    "classifiers.append(GridSearchCV(XGBClassifier(),param_grid=xgboost_param_grid,cv=nfolds, scoring=scoring, n_jobs=-1))\n",
    "#classifiers.append(GridSearchCV(SVC(), svc_param_grid, cv=nfolds,n_jobs=-1))\n",
    "#classifiers.append(GridSearchCV(KNeighborsClassifier(),param_grid=kneighbor_param_grid,cv=nfolds, scoring=scoring, n_jobs=-1))\n",
    "#classifiers.append(GridSearchCV(MLPClassifier(),mlp_param_grid,cv=nfolds, scoring=scoring, n_jobs=-1))\n",
    "#classifiers_not.append(LinearSVC(random_state=4000))\n",
    "#classifiers_not.append(MLPClassifier(random_state=4000))\n",
    "#classifiers_not.append(SVC(random_state=4000))\n",
    "                   \n",
    "\n",
    "#lsvc mlp gnb/ bnb\n",
    "\n",
    "\n",
    "#classifiers.append(XGBClassifier())\n",
    "test_accuracy_list = []\n",
    "train_accuracy_list= [] \n",
    "model_accuracy_list= []\n",
    "confusion_matrix_list = []\n",
    "precision_score_list = []\n",
    "precision_train_list = []\n",
    "auc_list = []\n",
    "for models in classifiers:\n",
    "    #print(models)\n",
    "    models.fit(X_train,y_train)\n",
    "    \n",
    "    model_str = str(models).split('(')[0]\n",
    "    print(model_str,':',models.best_params_)\n",
    "    pre = models.predict(X_test)\n",
    "    \n",
    "    tmp_dict1 = {}\n",
    "    tmp_dict1[model_str] = models.score(X_test,y_test)\n",
    "    test_accuracy_list.append(tmp_dict1)\n",
    "    \n",
    "    tmp_dict2 = {}\n",
    "    tmp_dict2[model_str] = models.score(X_train,y_train)\n",
    "    train_accuracy_list.append(tmp_dict2)\n",
    "    \n",
    "    tmp_dict3 = {}\n",
    "    tmp_dict3[model_str] = metrics.accuracy_score(y_test, pre)\n",
    "    model_accuracy_list.append(tmp_dict3)\n",
    "    \n",
    "    # 전역변수로, 지역변수 문제라 생각한다.\n",
    "    tmp_dict4 = {}\n",
    "    tmp_dict4[model_str] = confusion_matrix(y_test,pre)\n",
    "    confusion_matrix_list.append(tmp_dict4)\n",
    "    \n",
    "    tmp_dict5 ={}\n",
    "    tmp_dict5[model_str] = metrics.precision_score(y_test,pre)\n",
    "    precision_score_list.append(tmp_dict5)\n",
    "    #confusion_matrix_list.append(confusion_matrix(y_test,pre))    \n",
    "    #confusion_matrix_list.append(confusion_matrix(y_test,pre))  \n",
    "\n",
    "\n",
    "    \n",
    "train_result[stock_code] = train_accuracy_list\n",
    "test_result[stock_code] = test_accuracy_list\n",
    "model_result[stock_code] = model_accuracy_list\n",
    "confusion_matrix_result[stock_code] = confusion_matrix_list\n",
    "precision_score_result[stock_code]=precision_score_list\n",
    "precision_train_result[stock_code]=precision_train_list\n",
    "\n"
   ]
  },
  {
   "cell_type": "code",
   "execution_count": 532,
   "metadata": {},
   "outputs": [
    {
     "data": {
      "text/plain": [
       "Counter({'021240': [{'GridSearchCV': 0.7132867132867133},\n",
       "          {'GridSearchCV': 0.6993006993006993},\n",
       "          {'GridSearchCV': 0.7272727272727273}]})"
      ]
     },
     "execution_count": 532,
     "metadata": {},
     "output_type": "execute_result"
    }
   ],
   "source": [
    "train_result"
   ]
  },
  {
   "cell_type": "code",
   "execution_count": 533,
   "metadata": {},
   "outputs": [
    {
     "data": {
      "text/plain": [
       "Counter({'021240': [{'GridSearchCV': 0.5070422535211268},\n",
       "          {'GridSearchCV': 0.5211267605633803},\n",
       "          {'GridSearchCV': 0.5915492957746479}]})"
      ]
     },
     "execution_count": 533,
     "metadata": {},
     "output_type": "execute_result"
    }
   ],
   "source": [
    "test_result"
   ]
  },
  {
   "cell_type": "code",
   "execution_count": 534,
   "metadata": {},
   "outputs": [
    {
     "data": {
      "text/plain": [
       "Counter({'021240': [{'GridSearchCV': 0.6},\n",
       "          {'GridSearchCV': 0.6111111111111112},\n",
       "          {'GridSearchCV': 0.576271186440678}]})"
      ]
     },
     "execution_count": 534,
     "metadata": {},
     "output_type": "execute_result"
    }
   ],
   "source": [
    "precision_score_result"
   ]
  },
  {
   "cell_type": "code",
   "execution_count": null,
   "metadata": {},
   "outputs": [],
   "source": [
    "X_train_shape: (143, 2)\n",
    "RandomForest : {'criterion': 'gini', 'max_depth': 3, 'max_features': 2, 'n_estimators': 500, 'random_state': 4000}\n",
    "ExtraTree : {'bootstrap': True, 'criterion': 'gini', 'max_depth': 10, 'max_features': 2, 'n_estimators': 1000, 'random_state': 4000}\n",
    "GradientBoosting : {'learning_rate': 0.01, 'loss': 'deviance', 'max_depth': 3, 'max_features': 0.3, 'min_samples_leaf': 200, 'n_estimators': 500, 'random_state': 4000}\n",
    "XGBoost : {'gamma': 0.3, 'learning_rate': 0.001, 'n_estimators': 500, 'random_state': 4000, 'subsample': 0.9}\n",
    "GridSearchCV : {'n_neighbors': 5}\n",
    "LinearSVC : LinearSVC(C=1.0, class_weight=None, dual=True, fit_intercept=True,\n",
    "     intercept_scaling=1, loss='squared_hinge', max_iter=1000,\n",
    "     multi_class='ovr', penalty='l2', random_state=4000, tol=0.0001,\n",
    "     verbose=0)\n",
    "MLPClassifier : MLPClassifier(activation='relu', alpha=0.0001, batch_size='auto', beta_1=0.9,\n",
    "       beta_2=0.999, early_stopping=False, epsilon=1e-08,\n",
    "       hidden_layer_sizes=(100,), learning_rate='constant',\n",
    "       learning_rate_init=0.001, max_iter=200, momentum=0.9,\n",
    "       n_iter_no_change=10, nesterovs_momentum=True, power_t=0.5,\n",
    "       random_state=4000, shuffle=True, solver='adam', tol=0.0001,\n",
    "       validation_fraction=0.1, verbose=False, warm_start=False)\n",
    "SVC : SVC(C=1.0, cache_size=200, class_weight=None, coef0=0.0,\n",
    "  decision_function_shape='ovr', degree=3, gamma='auto_deprecated',\n",
    "  kernel='rbf', max_iter=-1, probability=False, random_state=4000,\n",
    "  shrinking=True, tol=0.001, verbose=False)"
   ]
  },
  {
   "cell_type": "code",
   "execution_count": null,
   "metadata": {},
   "outputs": [],
   "source": [
    "model_result = Counter()\n",
    "train_result= Counter()\n",
    "test_result = Counter()\n",
    "confusion_matrix_result = Counter()\n",
    "auc_result = Counter()\n",
    "precision_score_result=Counter()\n",
    "precision_train_result = Counter()\n",
    "lenx=X_train.shape\n",
    "# if lenx[0]<=10 or lenx[1]<=2:\n",
    "#     continue\n",
    "classifiers = []\n",
    "classifiers_not = []\n",
    "random_state = [4000]\n",
    "\n",
    "\n",
    "\n",
    "# gsRFC = GridSearchCV(RFC,param_grid = rf_param_grid, cv=kfold, scoring=\"accuracy\", n_jobs= 4, verbose = 1)\n",
    "Cs = [0.0001, 0.001, 0.01, 0.1, 1, 10, 100]\n",
    "gammas = [0.001, 0.01, 0.1, 1]\n",
    "kernel = ['linear', 'rbf', 'sigmoid']#'precomputed','poly'\n",
    "#nfolds=5\n",
    "nfolds=TimeSeriesSplit(n_splits=5)\n",
    "criterion = [\"gini\", 'entropy']\n",
    "#grid_search = GridSearchCV(SVC(), param_grid_svc, cv=nfolds)\n",
    "n_estimators = [1,3,5,10,50,100,200,500,1000]\n",
    "learning_rate = [0.01,0.001]\n",
    "max_depth = [3, 5, 10, 15 ,20]\n",
    "solver = ['newton-cg', 'lbfgs', 'liblinear', 'sag', 'saga']\n",
    "scoring = 'accuracy'\n",
    "n_jobs= -1\n",
    "penalty= ['l2']\n",
    "max_features = [2]\n",
    "linearscv_param_grid = {'C':Cs, 'penalty':penalty, 'random_state':random_state }\n",
    "\n",
    "\n",
    "ex_param_grid = {\"max_depth\": [3, 5, 10,15,20],\n",
    "              \"max_features\": max_features,\n",
    "              \"bootstrap\": [False,True],\n",
    "              \"n_estimators\" :n_estimators,\n",
    "              \"criterion\": criterion, 'random_state':random_state }\n",
    "\n",
    "\n",
    "\n",
    "\n",
    "rf_param_grid = {\"max_depth\": [3,4,5,10,15,20],\n",
    "              \"max_features\": max_features,\n",
    "              \"n_estimators\" :n_estimators,\n",
    "              \"criterion\": criterion, 'random_state':random_state }\n",
    "\n",
    "\n",
    "xgboost_param_grid ={\n",
    "    'gamma':[i/10.0 for i in range(0,10)],\n",
    "     'subsample':[i/100.0 for i in range(75,100,5)],     \n",
    "    #'reg_alpha':[1e-5, 1e-2, 0.1, 1, 100,1000],\n",
    "    'n_estimators':n_estimators, 'random_state':random_state,\n",
    "    'learning_rate' :learning_rate\n",
    "}\n",
    "\n",
    "\n",
    "\n",
    "#gsExtC = GridSearchCV(ExtraTreesClassifier, param_grid = ex_param_grid, cv=nfold, scoring=\"auc\")\n",
    "\n",
    "print('X_train_shape:',X_train.shape)\n",
    "#gb et rf xgb knn\n",
    "classifiers.append(GridSearchCV(RandomForestClassifier(),param_grid = rf_param_grid, cv=nfolds, scoring=scoring, n_jobs=-1))\n",
    "classifiers.append(GridSearchCV(ExtraTreesClassifier(), param_grid = ex_param_grid, cv=nfolds, scoring=scoring, n_jobs=-1))\n",
    "\n",
    "classifiers.append(GridSearchCV(XGBClassifier(),param_grid=xgboost_param_grid,cv=nfolds, scoring=scoring, n_jobs=-1))\n",
    "#classifiers.append(GridSearchCV(SVC(), svc_param_grid, cv=nfolds,n_jobs=-1))\n",
    "#classifiers.append(GridSearchCV(KNeighborsClassifier(),param_grid=kneighbor_param_grid,cv=nfolds, scoring=scoring, n_jobs=-1))\n",
    "#classifiers.append(GridSearchCV(MLPClassifier(),mlp_param_grid,cv=nfolds, scoring=scoring, n_jobs=-1))\n",
    "#classifiers_not.append(LinearSVC(random_state=4000))\n",
    "#classifiers_not.append(MLPClassifier(random_state=4000))\n",
    "#classifiers_not.append(SVC(random_state=4000))\n",
    "                   \n",
    "\n",
    "#lsvc mlp gnb/ bnb\n",
    "\n",
    "\n",
    "#classifiers.append(XGBClassifier())\n",
    "test_accuracy_list = []\n",
    "train_accuracy_list= [] \n",
    "model_accuracy_list= []\n",
    "confusion_matrix_list = []\n",
    "precision_score_list = []\n",
    "precision_train_list = []\n",
    "auc_list = []\n",
    "for models in classifiers:\n",
    "    #print(models)\n",
    "    models.fit(X_train,y_train)\n",
    "    \n",
    "    model_str = str(models).split('(')[0]\n",
    "    print(model_str,':',models.best_params_)\n",
    "    pre = models.predict(X_test)\n",
    "    \n",
    "    tmp_dict1 = {}\n",
    "    tmp_dict1[model_str] = models.score(X_test,y_test)\n",
    "    test_accuracy_list.append(tmp_dict1)\n",
    "    \n",
    "    tmp_dict2 = {}\n",
    "    tmp_dict2[model_str] = models.score(X_train,y_train)\n",
    "    train_accuracy_list.append(tmp_dict2)\n",
    "    \n",
    "    tmp_dict3 = {}\n",
    "    tmp_dict3[model_str] = metrics.accuracy_score(y_test, pre)\n",
    "    model_accuracy_list.append(tmp_dict3)\n",
    "    \n",
    "    # 전역변수로, 지역변수 문제라 생각한다.\n",
    "    tmp_dict4 = {}\n",
    "    tmp_dict4[model_str] = confusion_matrix(y_test,pre)\n",
    "    confusion_matrix_list.append(tmp_dict4)\n",
    "    \n",
    "    tmp_dict5 ={}\n",
    "    tmp_dict5[model_str] = metrics.precision_score(y_test,pre)\n",
    "    precision_score_list.append(tmp_dict5)\n",
    "    #confusion_matrix_list.append(confusion_matrix(y_test,pre))    \n",
    "    #confusion_matrix_list.append(confusion_matrix(y_test,pre))  \n",
    "\n",
    "\n",
    "    \n",
    "train_result[stock_code] = train_accuracy_list\n",
    "test_result[stock_code] = test_accuracy_list\n",
    "model_result[stock_code] = model_accuracy_list\n",
    "confusion_matrix_result[stock_code] = confusion_matrix_list\n",
    "precision_score_result[stock_code]=precision_score_list\n",
    "precision_train_result[stock_code]=precision_train_list\n",
    "\n"
   ]
  }
 ],
 "metadata": {
  "kernelspec": {
   "display_name": "Python 3",
   "language": "python",
   "name": "python3"
  },
  "language_info": {
   "codemirror_mode": {
    "name": "ipython",
    "version": 3
   },
   "file_extension": ".py",
   "mimetype": "text/x-python",
   "name": "python",
   "nbconvert_exporter": "python",
   "pygments_lexer": "ipython3",
   "version": "3.7.1"
  }
 },
 "nbformat": 4,
 "nbformat_minor": 2
}
